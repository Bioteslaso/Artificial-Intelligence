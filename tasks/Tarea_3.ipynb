{
 "cells": [
  {
   "cell_type": "markdown",
   "metadata": {
    "colab_type": "text",
    "id": "j70k3hBUGE_q"
   },
   "source": [
    "# TAREA 3"
   ]
  },
  {
   "cell_type": "code",
   "execution_count": 0,
   "metadata": {
    "colab": {},
    "colab_type": "code",
    "collapsed": true,
    "id": "Nw6nQY73GE_t"
   },
   "outputs": [],
   "source": [
    "import pandas as pd\n",
    "from sklearn.model_selection import train_test_split\n",
    "from sklearn.preprocessing import StandardScaler\n",
    "import matplotlib.pyplot as plt\n"
   ]
  },
  {
   "cell_type": "markdown",
   "metadata": {
    "colab_type": "text",
    "id": "nNS-Uem8GE_w"
   },
   "source": [
    "Cargamos la base de datos preprocesada"
   ]
  },
  {
   "cell_type": "code",
   "execution_count": 2,
   "metadata": {
    "colab": {
     "base_uri": "https://localhost:8080/",
     "height": 74,
     "resources": {
      "http://localhost:8080/nbextensions/google.colab/files.js": {
       "data": "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",
       "headers": [
        [
         "content-type",
         "application/javascript"
        ]
       ],
       "ok": true,
       "status": 200,
       "status_text": ""
      }
     }
    },
    "colab_type": "code",
    "id": "WwFLMsYtGIV7",
    "outputId": "fc8a9eb3-d83c-4eb9-d834-b45c5ce1e54a"
   },
   "outputs": [
    {
     "data": {
      "text/html": [
       "\n",
       "     <input type=\"file\" id=\"files-829ed6f7-0a1e-411a-8b0f-55a9e4e26398\" name=\"files[]\" multiple disabled />\n",
       "     <output id=\"result-829ed6f7-0a1e-411a-8b0f-55a9e4e26398\">\n",
       "      Upload widget is only available when the cell has been executed in the\n",
       "      current browser session. Please rerun this cell to enable.\n",
       "      </output>\n",
       "      <script src=\"/nbextensions/google.colab/files.js\"></script> "
      ],
      "text/plain": [
       "<IPython.core.display.HTML object>"
      ]
     },
     "metadata": {
      "tags": []
     },
     "output_type": "display_data"
    },
    {
     "name": "stdout",
     "output_type": "stream",
     "text": [
      "Saving BaseDatos_Mod.csv to BaseDatos_Mod.csv\n"
     ]
    }
   ],
   "source": [
    "from google.colab import files\n",
    "uploaded=files.upload()"
   ]
  },
  {
   "cell_type": "code",
   "execution_count": 3,
   "metadata": {
    "colab": {
     "base_uri": "https://localhost:8080/",
     "height": 68
    },
    "colab_type": "code",
    "id": "gGqIxvN2GE_y",
    "outputId": "517a578c-55bc-4d37-bae0-b27c8a01d2d7"
   },
   "outputs": [
    {
     "data": {
      "text/plain": [
       "Index(['Unnamed: 0', 'Age', 'Gender', 'TB', 'DB', 'Alkphos', 'Sgpt', 'Sgot',\n",
       "       'TP', 'ALB', 'AG', 'Class'],\n",
       "      dtype='object')"
      ]
     },
     "execution_count": 3,
     "metadata": {
      "tags": []
     },
     "output_type": "execute_result"
    }
   ],
   "source": [
    "df= pd.read_csv(\"BaseDatos_Mod.csv\")   #he cambiado el nombre del csv, tengo que cambiarlo de vuelta (GEMA)\n",
    "df.columns"
   ]
  },
  {
   "cell_type": "markdown",
   "metadata": {
    "colab_type": "text",
    "id": "4DWzxBMPGE_1"
   },
   "source": [
    "Definimos las variables"
   ]
  },
  {
   "cell_type": "code",
   "execution_count": 0,
   "metadata": {
    "colab": {},
    "colab_type": "code",
    "collapsed": true,
    "id": "57kfnz-IGE_2"
   },
   "outputs": [],
   "source": [
    "#variable independiente -> explicativas \n",
    "x = df[['Age', 'Gender', 'TB', 'DB', 'Alkphos', 'Sgpt','Sgot', 'TP','ALB','Class']].values\n",
    "variables_aux=df[['Age', 'Gender', 'TB', 'DB', 'Alkphos', 'Sgpt','Sgot', 'TP','ALB','Class']]\n",
    "#variable dependiente -> variable respuesta\n",
    "y = df[['AG']].values"
   ]
  },
  {
   "cell_type": "markdown",
   "metadata": {
    "colab_type": "text",
    "id": "F4anv_BRGE_5"
   },
   "source": [
    "Dividimos las variables en los subconjuntos test y train"
   ]
  },
  {
   "cell_type": "code",
   "execution_count": 0,
   "metadata": {
    "colab": {},
    "colab_type": "code",
    "collapsed": true,
    "id": "LIIR22_GGE_6"
   },
   "outputs": [],
   "source": [
    "X_train, X_test, y_train, y_test = train_test_split(x, y, test_size=0.3, random_state = 1)"
   ]
  },
  {
   "cell_type": "markdown",
   "metadata": {
    "colab_type": "text",
    "id": "fMdSkfZQGE_9"
   },
   "source": [
    "Normalizamos"
   ]
  },
  {
   "cell_type": "code",
   "execution_count": 0,
   "metadata": {
    "colab": {},
    "colab_type": "code",
    "collapsed": true,
    "id": "JeO23-InGE_9"
   },
   "outputs": [],
   "source": [
    "escalar=StandardScaler()\n",
    "X_train_normalizado= escalar.fit_transform(X_train)\n",
    "X_test_normalizado= escalar.transform(X_test)"
   ]
  },
  {
   "cell_type": "markdown",
   "metadata": {
    "colab_type": "text",
    "id": "2NMPybkAGFAB"
   },
   "source": [
    "### Modelo de regresión "
   ]
  },
  {
   "cell_type": "code",
   "execution_count": 33,
   "metadata": {
    "colab": {
     "base_uri": "https://localhost:8080/",
     "height": 255
    },
    "colab_type": "code",
    "id": "uHSZosNeGFAC",
    "outputId": "e280ac5d-e8eb-4252-85b6-193c05ee7727"
   },
   "outputs": [
    {
     "name": "stdout",
     "output_type": "stream",
     "text": [
      "The coefficient for Age is -0.013225543208682205\n",
      "The coefficient for Gender is 0.007118639332012955\n",
      "The coefficient for TB is 0.0182120287358293\n",
      "The coefficient for DB is -0.01371837223325555\n",
      "The coefficient for Alkphos is -0.026784604634708945\n",
      "The coefficient for Sgpt is -0.005386427217785129\n",
      "The coefficient for Sgot is -0.002134234447439336\n",
      "The coefficient for TP is -0.19639950824906696\n",
      "The coefficient for ALB is 0.3576749826106423\n",
      "The coefficient for Class is -0.011910274306912355\n",
      "Independent term: \n",
      " [0.94198226]\n",
      "Mean squared error: 0.01\n",
      "Variance score: 0.84\n"
     ]
    }
   ],
   "source": [
    "from sklearn import linear_model\n",
    "from sklearn.linear_model import LogisticRegression\n",
    "from sklearn.metrics import mean_squared_error, r2_score\n",
    "\n",
    "model = linear_model.LinearRegression()\n",
    "model = model.fit(X_train_normalizado, y_train)\n",
    "y_pred = model.predict(X_test_normalizado)\n",
    "reg_error=mean_squared_error(y_test, y_pred)\n",
    "reg_r2= r2_score(y_test, y_pred)\n",
    "#Interpretar \n",
    "for idx, col_name in enumerate(variables_aux.columns):\n",
    "    print(\"The coefficient for {} is {}\".format(col_name, model.coef_[0][idx]))\n",
    "# Este es el valor donde corta el eje Y (en X=0)\n",
    "print('Independent term: \\n', model.intercept_)#Buscar en los apuntes\n",
    "# Error Cuadrado Medio\n",
    "print(\"Mean squared error: %.2f\" % mean_squared_error(y_test, y_pred))\n",
    "# Puntaje de Varianza. El mejor puntaje es un 1.0\n",
    "print('Variance score: %.2f' % r2_score(y_test, y_pred))#coeficiente de correlacion"
   ]
  },
  {
   "cell_type": "code",
   "execution_count": 0,
   "metadata": {
    "colab": {},
    "colab_type": "code",
    "collapsed": true,
    "id": "WhoNeO5EGqhw"
   },
   "outputs": [],
   "source": [
    "from sklearn.model_selection import cross_val_score\n",
    "reg_error_val=cross_val_score(model, X_train_normalizado, y_train, cv=3, scoring='neg_mean_squared_error').mean()\n",
    "reg_r2_val=cross_val_score(model, X_train_normalizado, y_train, cv=3, scoring='r2').mean()"
   ]
  },
  {
   "cell_type": "markdown",
   "metadata": {
    "colab_type": "text",
    "id": "NpoChiE1GFAE"
   },
   "source": [
    "Cambiamos en número de variables explicativas: eliminamos ALB y TP (son las que mas relacione lineal tienen con la variable dependiente)"
   ]
  },
  {
   "cell_type": "code",
   "execution_count": 0,
   "metadata": {
    "colab": {},
    "colab_type": "code",
    "collapsed": true,
    "id": "EYnz_i7oGFAF"
   },
   "outputs": [],
   "source": [
    "#variable independiente -> explicativas \n",
    "x = df[['Age', 'Gender', 'TB', 'DB', 'Alkphos', 'Sgpt','Sgot','Class']].values\n",
    "variables_aux=df[['Age', 'Gender', 'TB', 'DB', 'Alkphos', 'Sgpt','Sgot','Class']]\n",
    "#variable dependiente -> variable respuesta\n",
    "y = df[['AG']].values\n",
    "\n",
    "X_train, X_test, y_train, y_test = train_test_split(x, y, test_size=0.3, random_state = 1)\n",
    "\n",
    "X_train_normalizado= escalar.fit_transform(X_train)\n",
    "X_test_normalizado= escalar.transform(X_test)"
   ]
  },
  {
   "cell_type": "code",
   "execution_count": 36,
   "metadata": {
    "colab": {
     "base_uri": "https://localhost:8080/",
     "height": 221
    },
    "colab_type": "code",
    "id": "Zc0JnsZpGFAH",
    "outputId": "ae79e5a6-d197-4b95-c4ce-804bbdb3bf08"
   },
   "outputs": [
    {
     "name": "stdout",
     "output_type": "stream",
     "text": [
      "The coefficient for Age is -0.05052153085271341\n",
      "The coefficient for Gender is -0.0012106258432789258\n",
      "The coefficient for TB is 0.008763245564515715\n",
      "The coefficient for DB is -0.053100749515295906\n",
      "The coefficient for Alkphos is -0.060938630935454985\n",
      "The coefficient for Sgpt is 0.017568540713960096\n",
      "The coefficient for Sgot is -0.024198301392156032\n",
      "The coefficient for Class is 0.01955102901030529\n",
      "Independent term: \n",
      " [0.94198226]\n",
      "Mean squared error: 0.07\n",
      "Variance score: 0.17\n"
     ]
    }
   ],
   "source": [
    "model = linear_model.LinearRegression()\n",
    "model = model.fit(X_train_normalizado, y_train)\n",
    "y_pred = model.predict(X_test_normalizado)\n",
    "\n",
    "#Interpretar \n",
    "for idx, col_name in enumerate(variables_aux.columns):\n",
    "    print(\"The coefficient for {} is {}\".format(col_name, model.coef_[0][idx]))\n",
    "# Este es el valor donde corta el eje Y (en X=0)\n",
    "print('Independent term: \\n', model.intercept_)#Buscar en los apuntes\n",
    "# Error Cuadrado Medio\n",
    "print(\"Mean squared error: %.2f\" % mean_squared_error(y_test, y_pred))\n",
    "# Puntaje de Varianza. El mejor puntaje es un 1.0\n",
    "print('Variance score: %.2f' % r2_score(y_test, y_pred))#coeficiente de determinación"
   ]
  },
  {
   "cell_type": "markdown",
   "metadata": {
    "colab_type": "text",
    "id": "95960-sEGFAJ"
   },
   "source": [
    "Cambiamos en número de variables explicativas, eliminamos las que menos correlacióón lineal tienen con la salida: \n",
    "\n",
    "*   \n",
    "*   \n",
    "\n"
   ]
  },
  {
   "cell_type": "code",
   "execution_count": 0,
   "metadata": {
    "colab": {},
    "colab_type": "code",
    "collapsed": true,
    "id": "w8ze9RjpGFAK"
   },
   "outputs": [],
   "source": [
    "#variable independiente -> explicativas \n",
    "x = df[['Age', 'DB', 'Alkphos', 'TP','ALB']].values\n",
    "variables_aux=df[['Age', 'DB', 'Alkphos', 'TP','ALB']]\n",
    "#variable dependiente -> variable respuesta\n",
    "y = df[['AG']].values\n",
    "\n",
    "X_train, X_test, y_train, y_test = train_test_split(x, y, test_size=0.3, random_state = 1)\n",
    "\n",
    "X_train_normalizado= escalar.fit_transform(X_train)\n",
    "#X_test_normalizado= escalar.transform(X_test)"
   ]
  },
  {
   "cell_type": "code",
   "execution_count": 12,
   "metadata": {
    "colab": {
     "base_uri": "https://localhost:8080/",
     "height": 170
    },
    "colab_type": "code",
    "id": "S8lZRE-bGFAM",
    "outputId": "77a7ab33-8ef1-455e-81f3-511d6d425b1d"
   },
   "outputs": [
    {
     "name": "stdout",
     "output_type": "stream",
     "text": [
      "The coefficient for Age is -0.011566785198619523\n",
      "The coefficient for DB is 0.005255636628029803\n",
      "The coefficient for Alkphos is -0.026481066966478773\n",
      "The coefficient for TP is -0.19424157574304132\n",
      "The coefficient for ALB is 0.3547118955603662\n",
      "Independent term: \n",
      " [0.94198226]\n",
      "Mean squared error: 57.77\n",
      "Variance score: -649.36\n"
     ]
    }
   ],
   "source": [
    "model = linear_model.LinearRegression()\n",
    "model = model.fit(X_train_normalizado, y_train)\n",
    "y_pred = model.predict(X_test)\n",
    "\n",
    "#Interpretar \n",
    "for idx, col_name in enumerate(variables_aux.columns):\n",
    "    print(\"The coefficient for {} is {}\".format(col_name, model.coef_[0][idx]))\n",
    "# Este es el valor donde corta el eje Y (en X=0)\n",
    "print('Independent term: \\n', model.intercept_)#Buscar en los apuntes\n",
    "# Error Cuadrado Medio\n",
    "print(\"Mean squared error: %.2f\" % mean_squared_error(y_test, y_pred))\n",
    "# Puntaje de Varianza. El mejor puntaje es un 1.0\n",
    "print('Variance score: %.2f' % r2_score(y_test, y_pred))#coeficiente de correlacion"
   ]
  },
  {
   "cell_type": "markdown",
   "metadata": {
    "colab_type": "text",
    "id": "GnjN9nWIGFAO"
   },
   "source": [
    "### K-nearest neighbors\n"
   ]
  },
  {
   "cell_type": "code",
   "execution_count": 0,
   "metadata": {
    "colab": {},
    "colab_type": "code",
    "collapsed": true,
    "id": "vwi84AkrGFAP"
   },
   "outputs": [],
   "source": [
    "#variable independiente -> explicativas \n",
    "x = df[['Age', 'Gender', 'TB', 'DB', 'Alkphos', 'Sgpt','Sgot', 'TP','ALB','Class']].values\n",
    "variables_aux=df[['Age', 'Gender', 'TB', 'DB', 'Alkphos', 'Sgpt','Sgot', 'TP','ALB','Class']]\n",
    "#variable dependiente -> variable respuesta\n",
    "y = df[['AG']].values\n",
    "\n",
    "X_train, X_test, y_train, y_test = train_test_split(x, y, test_size=0.3, random_state = 1)\n",
    "\n",
    "X_train_normalizado= escalar.fit_transform(X_train)\n",
    "#X_test_normalizado= escalar.transform(X_test)"
   ]
  },
  {
   "cell_type": "markdown",
   "metadata": {
    "colab_type": "text",
    "id": "YJ6pq76HGFAS"
   },
   "source": [
    "Diseñamos el modelo"
   ]
  },
  {
   "cell_type": "code",
   "execution_count": 0,
   "metadata": {
    "colab": {},
    "colab_type": "code",
    "collapsed": true,
    "id": "PS4oL-pgGFAS"
   },
   "outputs": [],
   "source": [
    "from sklearn.model_selection import cross_val_score\n",
    "from sklearn.neighbors import KNeighborsRegressor\n",
    "from sklearn import metrics\n",
    "\n",
    "k_values=list(range(1,31,2))\n",
    "k_scores = []\n",
    "for k in k_values:\n",
    "    knn = KNeighborsRegressor(n_neighbors=k)\n",
    "    scores = cross_val_score(knn, X_train_normalizado, y_train, cv=3, scoring= metrics.make_scorer(metrics.mean_squared_error))\n",
    "    k_scores.append(scores.mean())"
   ]
  },
  {
   "cell_type": "code",
   "execution_count": 15,
   "metadata": {
    "colab": {
     "base_uri": "https://localhost:8080/",
     "height": 296
    },
    "colab_type": "code",
    "id": "P5QZb5eUGFAU",
    "outputId": "1cf2a52b-b828-40cc-9c8f-65b55f1258b8"
   },
   "outputs": [
    {
     "data": {
      "text/plain": [
       "Text(0, 0.5, 'Cross-validated mean_squared_error')"
      ]
     },
     "execution_count": 15,
     "metadata": {
      "tags": []
     },
     "output_type": "execute_result"
    },
    {
     "data": {
      "image/png": "[encoded data removed]",
      "text/plain": [
       "<Figure size 432x288 with 1 Axes>"
      ]
     },
     "metadata": {
      "tags": []
     },
     "output_type": "display_data"
    }
   ],
   "source": [
    "plt.plot(k_values, k_scores)\n",
    "plt.xlabel('Value of K for KNN')\n",
    "plt.ylabel('Cross-validated mean_squared_error')"
   ]
  },
  {
   "cell_type": "code",
   "execution_count": 16,
   "metadata": {
    "colab": {
     "base_uri": "https://localhost:8080/",
     "height": 51
    },
    "colab_type": "code",
    "id": "0aPrbjLoGFAX",
    "outputId": "a8f6b6e6-f3cf-4343-edf7-fc0011e37950"
   },
   "outputs": [
    {
     "name": "stdout",
     "output_type": "stream",
     "text": [
      "valor de k = 13\n",
      "score con k= 13 : 0.04564662876421654\n"
     ]
    }
   ],
   "source": [
    "best_K_value=k_values[k_scores.index(min(k_scores))]\n",
    "print('valor de k =',best_K_value)\n",
    "print('score con k=',best_K_value,':', min(k_scores))"
   ]
  },
  {
   "cell_type": "markdown",
   "metadata": {
    "colab_type": "text",
    "id": "kL1bxWGyGFAZ"
   },
   "source": [
    "Entrenamos al modelo"
   ]
  },
  {
   "cell_type": "code",
   "execution_count": 17,
   "metadata": {
    "colab": {
     "base_uri": "https://localhost:8080/",
     "height": 51
    },
    "colab_type": "code",
    "id": "_XJ4nMLLGFAZ",
    "outputId": "18ab4a68-3412-406a-d72e-7e208fd57755"
   },
   "outputs": [
    {
     "name": "stdout",
     "output_type": "stream",
     "text": [
      "Mean squared error: 0.04\n",
      "Variance score: 0.53\n"
     ]
    }
   ],
   "source": [
    "model = KNeighborsRegressor(n_neighbors=best_K_value)\n",
    "model = model.fit(X_train_normalizado, y_train)\n",
    "y_pred = model.predict(X_train_normalizado)\n",
    "knn_error=mean_squared_error(y_train, y_pred)\n",
    "knn_r2=r2_score(y_train, y_pred)\n",
    "\n",
    "print(\"Mean squared error: %.2f\" % mean_squared_error(y_train, y_pred))\n",
    "# Puntaje de Varianza. El mejor puntaje es un 1.0\n",
    "print('Variance score: %.2f' % r2_score(y_train, y_pred))#coeficiente de correlacion"
   ]
  },
  {
   "cell_type": "markdown",
   "metadata": {
    "colab_type": "text",
    "id": "jSIlSpzgGFAc"
   },
   "source": [
    "##### Curvas de aprendizaje"
   ]
  },
  {
   "cell_type": "code",
   "execution_count": 18,
   "metadata": {
    "colab": {
     "base_uri": "https://localhost:8080/",
     "height": 531
    },
    "colab_type": "code",
    "id": "g6TOC05gGFAc",
    "outputId": "b9a4fce6-0fd3-494c-b50e-37eb713e27f3"
   },
   "outputs": [
    {
     "name": "stdout",
     "output_type": "stream",
     "text": [
      "15 15 15\n"
     ]
    },
    {
     "data": {
      "text/plain": [
       "Text(0, 0.5, 'Mean squared error')"
      ]
     },
     "execution_count": 18,
     "metadata": {
      "tags": []
     },
     "output_type": "execute_result"
    },
    {
     "data": {
      "image/png": "[encoded data removed]",
      "text/plain": [
       "<Figure size 864x576 with 1 Axes>"
      ]
     },
     "metadata": {
      "tags": []
     },
     "output_type": "display_data"
    }
   ],
   "source": [
    "scores_train=[]\n",
    "k_scores = []\n",
    "\n",
    "\n",
    "for k in k_values:\n",
    "    knn = KNeighborsRegressor(n_neighbors=k)\n",
    "    knn.fit(X_train_normalizado, y_train) \n",
    "    y_pred = knn.predict(X_train_normalizado)\n",
    "    scores_train.append(metrics.mean_squared_error(y_train, y_pred))\n",
    "    #scores_train.append(knn.score(X_train_normalizado,y_train))\n",
    "    scores = cross_val_score(knn, X_train_normalizado, y_train, cv=3, scoring= metrics.make_scorer(metrics.mean_squared_error))\n",
    "    k_scores.append(scores.mean())\n",
    "print(len(scores_train),len(k_scores),len(k_values))\n",
    "plt.figure(figsize=(12,8))\n",
    "plt.plot(k_values, k_scores, marker='o', label='cross-validation')\n",
    "plt.plot(k_values, scores_train, marker='x', label='train')\n",
    "plt.legend(loc='upper right')\n",
    "plt.xlabel('Value of K')\n",
    "plt.ylabel('Mean squared error')"
   ]
  },
  {
   "cell_type": "code",
   "execution_count": 0,
   "metadata": {
    "colab": {},
    "colab_type": "code",
    "collapsed": true,
    "id": "L5YbiGivHogn"
   },
   "outputs": [],
   "source": [
    "knn_error_val=cross_val_score(model, X_train_normalizado, y_train, cv=3, scoring='neg_mean_squared_error').mean()\n",
    "knn_r2_val=cross_val_score(model, X_train_normalizado, y_train, cv=3, scoring='r2').mean()"
   ]
  },
  {
   "cell_type": "markdown",
   "metadata": {
    "colab_type": "text",
    "id": "xYgneCtcGFAf"
   },
   "source": [
    "### Árbol de regresión"
   ]
  },
  {
   "cell_type": "markdown",
   "metadata": {
    "colab_type": "text",
    "id": "ZTGETd9AGFAf"
   },
   "source": [
    "Diseñamos el modelo"
   ]
  },
  {
   "cell_type": "code",
   "execution_count": 0,
   "metadata": {
    "colab": {},
    "colab_type": "code",
    "collapsed": true,
    "id": "CkitSB6_GFAh"
   },
   "outputs": [],
   "source": [
    "from sklearn import tree\n",
    "from sklearn.tree import DecisionTreeRegressor\n",
    "\n",
    "cv = 5 # Numero deseado de \"folds\" que haremos\n",
    "k_scores = []\n",
    "depth_range = range(1, 30)\n",
    "\n",
    "for depth in depth_range:\n",
    "    tree = DecisionTreeRegressor(max_depth = depth,)\n",
    "    scores = cross_val_score(tree, X_train, y_train, cv=3, scoring=metrics.make_scorer(metrics.mean_squared_error))\n",
    "    k_scores.append(scores.mean())"
   ]
  },
  {
   "cell_type": "code",
   "execution_count": 21,
   "metadata": {
    "colab": {
     "base_uri": "https://localhost:8080/",
     "height": 296
    },
    "colab_type": "code",
    "id": "wLBMlMiQGFAn",
    "outputId": "825789a4-4a0e-4b6a-bfdb-48b382e23dca"
   },
   "outputs": [
    {
     "data": {
      "text/plain": [
       "Text(0, 0.5, 'Cross-validated mean_squared_error')"
      ]
     },
     "execution_count": 21,
     "metadata": {
      "tags": []
     },
     "output_type": "execute_result"
    },
    {
     "data": {
      "image/png": "[encoded data removed]",
      "text/plain": [
       "<Figure size 432x288 with 1 Axes>"
      ]
     },
     "metadata": {
      "tags": []
     },
     "output_type": "display_data"
    }
   ],
   "source": [
    "plt.plot(depth_range, k_scores)\n",
    "plt.xlabel('Value of depth')\n",
    "plt.ylabel('Cross-validated mean_squared_error')"
   ]
  },
  {
   "cell_type": "code",
   "execution_count": 22,
   "metadata": {
    "colab": {
     "base_uri": "https://localhost:8080/",
     "height": 51
    },
    "colab_type": "code",
    "id": "0j-RWxjnGFAq",
    "outputId": "c810f31f-3082-4f41-acba-4af7f362114f"
   },
   "outputs": [
    {
     "name": "stdout",
     "output_type": "stream",
     "text": [
      "Valor de Depth: 2\n",
      "score con depth= 2 : 0.04107505247293169\n"
     ]
    }
   ],
   "source": [
    "best_depth_value=depth_range[k_scores.index(min(k_scores))]\n",
    "print('Valor de Depth:',best_depth_value)\n",
    "print('score con depth=',best_depth_value,':', min(k_scores))"
   ]
  },
  {
   "cell_type": "markdown",
   "metadata": {
    "colab_type": "text",
    "id": "QEE-XSnQGFAs"
   },
   "source": [
    "Entrenamos al modelo"
   ]
  },
  {
   "cell_type": "code",
   "execution_count": 23,
   "metadata": {
    "colab": {
     "base_uri": "https://localhost:8080/",
     "height": 51
    },
    "colab_type": "code",
    "id": "dP4H420pGFAt",
    "outputId": "84a7d468-8f1c-4e73-f927-5c429783c7e9"
   },
   "outputs": [
    {
     "name": "stdout",
     "output_type": "stream",
     "text": [
      "Mean squared error: 0.04\n",
      "Variance score: 0.55\n"
     ]
    }
   ],
   "source": [
    "model = DecisionTreeRegressor(max_depth=best_depth_value)\n",
    "model = model.fit(X_train, y_train)\n",
    "y_pred = model.predict(X_train)\n",
    "tree_error=mean_squared_error(y_train, y_pred)\n",
    "tree_r2=r2_score(y_train, y_pred)\n",
    "print(\"Mean squared error: %.2f\" % mean_squared_error(y_train, y_pred))\n",
    "print('Variance score: %.2f' % r2_score(y_train, y_pred))"
   ]
  },
  {
   "cell_type": "markdown",
   "metadata": {
    "colab_type": "text",
    "id": "ZCIFVvVrGFAw"
   },
   "source": [
    "#### Visualización"
   ]
  },
  {
   "cell_type": "code",
   "execution_count": 24,
   "metadata": {
    "colab": {
     "base_uri": "https://localhost:8080/",
     "height": 367
    },
    "colab_type": "code",
    "id": "3fSXMjLMGFAx",
    "outputId": "49f94402-8ce8-48f8-8a63-75f82f5f691f"
   },
   "outputs": [
    {
     "data": {
      "text/plain": [
       "[Text(167.4, 181.2, 'X[8] <= 3.35\\nmse = 0.08\\nsamples = 408\\nvalue = 0.942'),\n",
       " Text(83.7, 108.72, 'X[8] <= 2.35\\nmse = 0.047\\nsamples = 248\\nvalue = 0.799'),\n",
       " Text(41.85, 36.23999999999998, 'mse = 0.052\\nsamples = 67\\nvalue = 0.621'),\n",
       " Text(125.55000000000001, 36.23999999999998, 'mse = 0.029\\nsamples = 181\\nvalue = 0.864'),\n",
       " Text(251.10000000000002, 108.72, 'X[8] <= 4.25\\nmse = 0.05\\nsamples = 160\\nvalue = 1.164'),\n",
       " Text(209.25, 36.23999999999998, 'mse = 0.034\\nsamples = 130\\nvalue = 1.112'),\n",
       " Text(292.95, 36.23999999999998, 'mse = 0.052\\nsamples = 30\\nvalue = 1.391')]"
      ]
     },
     "execution_count": 24,
     "metadata": {
      "tags": []
     },
     "output_type": "execute_result"
    },
    {
     "data": {
      "image/png": "[encoded data removed]",
      "text/plain": [
       "<Figure size 432x288 with 1 Axes>"
      ]
     },
     "metadata": {
      "tags": []
     },
     "output_type": "display_data"
    }
   ],
   "source": [
    "from sklearn import tree\n",
    "tree.plot_tree(model)"
   ]
  },
  {
   "cell_type": "markdown",
   "metadata": {
    "colab_type": "text",
    "id": "4MaDpA1wGFA0"
   },
   "source": [
    "##### Curvas de aprendizaje"
   ]
  },
  {
   "cell_type": "code",
   "execution_count": 25,
   "metadata": {
    "colab": {
     "base_uri": "https://localhost:8080/",
     "height": 531
    },
    "colab_type": "code",
    "id": "4zSSENwjGFA1",
    "outputId": "5d3f4164-5fcf-4c8f-a9fb-73b65db49074"
   },
   "outputs": [
    {
     "name": "stdout",
     "output_type": "stream",
     "text": [
      "29 29 29\n"
     ]
    },
    {
     "data": {
      "text/plain": [
       "Text(0, 0.5, 'mean_squared_error')"
      ]
     },
     "execution_count": 25,
     "metadata": {
      "tags": []
     },
     "output_type": "execute_result"
    },
    {
     "data": {
      "image/png": "[encoded data removed]",
      "text/plain": [
       "<Figure size 864x576 with 1 Axes>"
      ]
     },
     "metadata": {
      "tags": []
     },
     "output_type": "display_data"
    }
   ],
   "source": [
    "#Curvas de aprendizaje\n",
    "\n",
    "scores_train=[]\n",
    "k_scores = []\n",
    "depth_range = range(1, 30)\n",
    "\n",
    "for depth in depth_range:\n",
    "    tree_model = DecisionTreeRegressor(max_depth = depth)\n",
    "    scores = cross_val_score(tree_model, X_train, y_train, cv=3, scoring=metrics.make_scorer(metrics.mean_squared_error))\n",
    "    tree_model.fit(X_train,y_train)\n",
    "    y_pred = tree_model.predict(X_train)\n",
    "    #scores_train.append(tree.score(X_train,y_train))\n",
    "    scores_train.append(metrics.mean_squared_error(y_train, y_pred))\n",
    "    k_scores.append(scores.mean())\n",
    "\n",
    "print(len(scores_train),len(k_scores),len(depth_range))\n",
    "plt.figure(figsize=(12,8))\n",
    "plt.plot(depth_range , k_scores, marker='o', label='cross-validation')\n",
    "plt.plot(depth_range , scores_train, marker='*', label='train')\n",
    "plt.xlabel('Value of depth')\n",
    "plt.ylabel('mean_squared_error')"
   ]
  },
  {
   "cell_type": "code",
   "execution_count": 0,
   "metadata": {
    "colab": {},
    "colab_type": "code",
    "collapsed": true,
    "id": "uQGXphWqHy6r"
   },
   "outputs": [],
   "source": [
    "tree_error_val=cross_val_score(model, X_train_normalizado, y_train, cv=3, scoring='neg_mean_squared_error').mean()\n",
    "tree_r2_val=cross_val_score(model, X_train_normalizado, y_train, cv=3, scoring='r2').mean()"
   ]
  },
  {
   "cell_type": "markdown",
   "metadata": {
    "colab_type": "text",
    "id": "aszy5EYbGFA3"
   },
   "source": [
    "### Comparación de resultados"
   ]
  },
  {
   "cell_type": "code",
   "execution_count": 27,
   "metadata": {
    "colab": {
     "base_uri": "https://localhost:8080/",
     "height": 153
    },
    "colab_type": "code",
    "id": "VjkZx5HjGFA3",
    "outputId": "cb54e9ea-4df1-4cb6-b0d3-f03cc8229c79"
   },
   "outputs": [
    {
     "name": "stdout",
     "output_type": "stream",
     "text": [
      "                | Mean squared error    | d     |\n",
      "----------------|-----------------------|--------------------|\n",
      "Regression      | 66.46965777203202  | -747.2502332673776 |\n",
      "----------------|-----------------------|--------------------|\n",
      "K-NN            | 0.03771532277822593   | 0.5264653523043452 |\n",
      "----------------|-----------------------|--------------------|\n",
      "Regression Tree | 0.036005127832347786   | 0.5479377009820778 |\n",
      "----------------|-----------------------|--------------------|\n"
     ]
    }
   ],
   "source": [
    "print('               ','|', 'Mean squared error','   |','d','    |')\n",
    "print('----------------|-----------------------|--------------------|')\n",
    "print('Regression     ','|', reg_error,' |',reg_r2,'|')\n",
    "print('----------------|-----------------------|--------------------|')\n",
    "print('K-NN           ','|',knn_error,'  |',knn_r2,'|')\n",
    "print('----------------|-----------------------|--------------------|')\n",
    "print('Regression Tree','|', tree_error,'  |',tree_r2,'|')\n",
    "print('----------------|-----------------------|--------------------|')"
   ]
  },
  {
   "cell_type": "markdown",
   "metadata": {
    "colab_type": "text",
    "id": "79RKeZbEGFA5"
   },
   "source": [
    "El mejor modelo es: **Regresión lineal**, porque su error es el mas bajo y el coeficiente de determinación es el más alto"
   ]
  },
  {
   "cell_type": "code",
   "execution_count": 0,
   "metadata": {
    "colab": {},
    "colab_type": "code",
    "collapsed": true,
    "id": "HlkSk0aaIRjH"
   },
   "outputs": [],
   "source": [
    "from tabulate import tabulate"
   ]
  },
  {
   "cell_type": "code",
   "execution_count": 37,
   "metadata": {
    "colab": {
     "base_uri": "https://localhost:8080/",
     "height": 136
    },
    "colab_type": "code",
    "id": "hCj7mh_SGFA6",
    "outputId": "68af1a93-6d97-49e7-a2dd-df41728bdf11"
   },
   "outputs": [
    {
     "name": "stdout",
     "output_type": "stream",
     "text": [
      "╒═══════════════════════╤══════════════╤═══════════╤═══════════════════╕\n",
      "│ Validación            │   Regression │      K-NN │   Regression Tree │\n",
      "╞═══════════════════════╪══════════════╪═══════════╪═══════════════════╡\n",
      "│ Mean squared error    │    0.0191394 │ 0.0456466 │         0.0410751 │\n",
      "├───────────────────────┼──────────────┼───────────┼───────────────────┤\n",
      "│ Determined coeficient │    0.760265  │ 0.425685  │         0.48363   │\n",
      "╘═══════════════════════╧══════════════╧═══════════╧═══════════════════╛\n"
     ]
    }
   ],
   "source": [
    "#validacion\n",
    "resultados = [['Validación', 'Regression','K-NN','Regression Tree'],\n",
    "         ['Mean squared error', (-1)*reg_error_val, (-1)*knn_error_val, (-1)*tree_error_val],\n",
    "         ['Determined coeficient', reg_r2_val, knn_r2_val, tree_r2_val]]\n",
    "print(tabulate(resultados, headers='firstrow', tablefmt='fancy_grid'))"
   ]
  },
  {
   "cell_type": "code",
   "execution_count": 38,
   "metadata": {
    "colab": {
     "base_uri": "https://localhost:8080/",
     "height": 136
    },
    "colab_type": "code",
    "id": "u4cctAkQILTr",
    "outputId": "89e8bd48-0d5a-4426-f628-00ddf7a158ca"
   },
   "outputs": [
    {
     "name": "stdout",
     "output_type": "stream",
     "text": [
      "╒═══════════════════════╤══════════════╤═══════════╤═══════════════════╕\n",
      "│ Test                  │   Regression │      K-NN │   Regression Tree │\n",
      "╞═══════════════════════╪══════════════╪═══════════╪═══════════════════╡\n",
      "│ Mean squared error    │    0.0138942 │ 0.0377153 │         0.0360051 │\n",
      "├───────────────────────┼──────────────┼───────────┼───────────────────┤\n",
      "│ Determined coeficient │    0.843593  │ 0.526465  │         0.547938  │\n",
      "╘═══════════════════════╧══════════════╧═══════════╧═══════════════════╛\n"
     ]
    }
   ],
   "source": [
    "#test\n",
    "resultados = [['Test', 'Regression','K-NN','Regression Tree'],\n",
    "         ['Mean squared error', reg_error, knn_error, tree_error],\n",
    "         ['Determined coeficient', reg_r2, knn_r2, tree_r2]]\n",
    "print(tabulate(resultados, headers='firstrow', tablefmt='fancy_grid'))"
   ]
  },
  {
   "cell_type": "code",
   "execution_count": 0,
   "metadata": {
    "colab": {},
    "colab_type": "code",
    "collapsed": true,
    "id": "JTuQvsR4IMF_"
   },
   "outputs": [],
   "source": []
  }
 ],
 "metadata": {
  "colab": {
   "collapsed_sections": [],
   "name": "Copia de Tarea 3.ipynb",
   "provenance": []
  },
  "kernelspec": {
   "display_name": "Python 3",
   "language": "python",
   "name": "python3"
  },
  "language_info": {
   "codemirror_mode": {
    "name": "ipython",
    "version": 3
   },
   "file_extension": ".py",
   "mimetype": "text/x-python",
   "name": "python",
   "nbconvert_exporter": "python",
   "pygments_lexer": "ipython3",
   "version": "3.8.2"
  }
 },
 "nbformat": 4,
 "nbformat_minor": 1
}
