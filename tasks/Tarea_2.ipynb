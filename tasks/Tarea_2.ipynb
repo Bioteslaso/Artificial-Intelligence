{
 "cells": [
  {
   "cell_type": "markdown",
   "metadata": {
    "colab_type": "text",
    "id": "NPYOODMSgQ1M"
   },
   "source": [
    "## TAREA 2"
   ]
  },
  {
   "cell_type": "code",
   "execution_count": 0,
   "metadata": {
    "colab": {},
    "colab_type": "code",
    "collapsed": true,
    "id": "u_y6y6itgQ1O"
   },
   "outputs": [],
   "source": [
    "import numpy as np\n",
    "import scipy.stats as ss\n",
    "import matplotlib.pyplot as plt\n",
    "import pandas as pd\n",
    "import seaborn as sns\n",
    "from sklearn.model_selection import train_test_split\n",
    "from sklearn import datasets\n",
    "from sklearn import svm\n",
    "from sklearn.model_selection import cross_val_score"
   ]
  },
  {
   "cell_type": "code",
   "execution_count": 7,
   "metadata": {
    "colab": {
     "base_uri": "https://localhost:8080/",
     "height": 74,
     "resources": {
      "http://localhost:8080/nbextensions/google.colab/files.js": {
       "data": "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",
       "headers": [
        [
         "content-type",
         "application/javascript"
        ]
       ],
       "ok": true,
       "status": 200,
       "status_text": ""
      }
     }
    },
    "colab_type": "code",
    "id": "moeo0UI19K_J",
    "outputId": "bee0aac7-c6f4-40e4-e7e5-864774078ffd"
   },
   "outputs": [
    {
     "data": {
      "text/html": [
       "\n",
       "     <input type=\"file\" id=\"files-a6f048bc-0d8d-4a71-be28-3b8d7b2fdb8e\" name=\"files[]\" multiple disabled />\n",
       "     <output id=\"result-a6f048bc-0d8d-4a71-be28-3b8d7b2fdb8e\">\n",
       "      Upload widget is only available when the cell has been executed in the\n",
       "      current browser session. Please rerun this cell to enable.\n",
       "      </output>\n",
       "      <script src=\"/nbextensions/google.colab/files.js\"></script> "
      ],
      "text/plain": [
       "<IPython.core.display.HTML object>"
      ]
     },
     "metadata": {
      "tags": []
     },
     "output_type": "display_data"
    },
    {
     "name": "stdout",
     "output_type": "stream",
     "text": [
      "Saving BaseDatos_Mod.csv to BaseDatos_Mod.csv\n"
     ]
    }
   ],
   "source": [
    "'''\n",
    "from google.colab import files\n",
    "uploaded=files.upload()\n",
    "'''"
   ]
  },
  {
   "cell_type": "code",
   "execution_count": 8,
   "metadata": {
    "colab": {
     "base_uri": "https://localhost:8080/",
     "height": 204
    },
    "colab_type": "code",
    "id": "mh_BZ1b7gQ1Q",
    "outputId": "b77f97f7-6c17-4a0c-8d92-3a53335d880c"
   },
   "outputs": [
    {
     "data": {
      "text/html": [
       "<div>\n",
       "<style scoped>\n",
       "    .dataframe tbody tr th:only-of-type {\n",
       "        vertical-align: middle;\n",
       "    }\n",
       "\n",
       "    .dataframe tbody tr th {\n",
       "        vertical-align: top;\n",
       "    }\n",
       "\n",
       "    .dataframe thead th {\n",
       "        text-align: right;\n",
       "    }\n",
       "</style>\n",
       "<table border=\"1\" class=\"dataframe\">\n",
       "  <thead>\n",
       "    <tr style=\"text-align: right;\">\n",
       "      <th></th>\n",
       "      <th>Age</th>\n",
       "      <th>Gender</th>\n",
       "      <th>TB</th>\n",
       "      <th>DB</th>\n",
       "      <th>Alkphos</th>\n",
       "      <th>Sgpt</th>\n",
       "      <th>Sgot</th>\n",
       "      <th>TP</th>\n",
       "      <th>ALB</th>\n",
       "      <th>AG</th>\n",
       "      <th>Class</th>\n",
       "    </tr>\n",
       "  </thead>\n",
       "  <tbody>\n",
       "    <tr>\n",
       "      <th>0</th>\n",
       "      <td>65</td>\n",
       "      <td>0</td>\n",
       "      <td>0.7</td>\n",
       "      <td>0.1</td>\n",
       "      <td>187.0</td>\n",
       "      <td>16.0</td>\n",
       "      <td>18.0</td>\n",
       "      <td>6.8</td>\n",
       "      <td>3.3</td>\n",
       "      <td>0.90</td>\n",
       "      <td>1</td>\n",
       "    </tr>\n",
       "    <tr>\n",
       "      <th>1</th>\n",
       "      <td>62</td>\n",
       "      <td>1</td>\n",
       "      <td>10.9</td>\n",
       "      <td>5.5</td>\n",
       "      <td>699.0</td>\n",
       "      <td>64.0</td>\n",
       "      <td>100.0</td>\n",
       "      <td>7.5</td>\n",
       "      <td>3.2</td>\n",
       "      <td>0.74</td>\n",
       "      <td>1</td>\n",
       "    </tr>\n",
       "    <tr>\n",
       "      <th>2</th>\n",
       "      <td>62</td>\n",
       "      <td>1</td>\n",
       "      <td>7.3</td>\n",
       "      <td>4.1</td>\n",
       "      <td>490.0</td>\n",
       "      <td>60.0</td>\n",
       "      <td>68.0</td>\n",
       "      <td>7.0</td>\n",
       "      <td>3.3</td>\n",
       "      <td>0.89</td>\n",
       "      <td>1</td>\n",
       "    </tr>\n",
       "    <tr>\n",
       "      <th>3</th>\n",
       "      <td>58</td>\n",
       "      <td>1</td>\n",
       "      <td>1.0</td>\n",
       "      <td>0.4</td>\n",
       "      <td>182.0</td>\n",
       "      <td>14.0</td>\n",
       "      <td>20.0</td>\n",
       "      <td>6.8</td>\n",
       "      <td>3.4</td>\n",
       "      <td>1.00</td>\n",
       "      <td>1</td>\n",
       "    </tr>\n",
       "    <tr>\n",
       "      <th>4</th>\n",
       "      <td>72</td>\n",
       "      <td>1</td>\n",
       "      <td>3.9</td>\n",
       "      <td>2.0</td>\n",
       "      <td>195.0</td>\n",
       "      <td>27.0</td>\n",
       "      <td>59.0</td>\n",
       "      <td>7.3</td>\n",
       "      <td>2.4</td>\n",
       "      <td>0.40</td>\n",
       "      <td>1</td>\n",
       "    </tr>\n",
       "  </tbody>\n",
       "</table>\n",
       "</div>"
      ],
      "text/plain": [
       "   Age  Gender    TB   DB  Alkphos  Sgpt   Sgot   TP  ALB    AG  Class\n",
       "0   65       0   0.7  0.1    187.0  16.0   18.0  6.8  3.3  0.90      1\n",
       "1   62       1  10.9  5.5    699.0  64.0  100.0  7.5  3.2  0.74      1\n",
       "2   62       1   7.3  4.1    490.0  60.0   68.0  7.0  3.3  0.89      1\n",
       "3   58       1   1.0  0.4    182.0  14.0   20.0  6.8  3.4  1.00      1\n",
       "4   72       1   3.9  2.0    195.0  27.0   59.0  7.3  2.4  0.40      1"
      ]
     },
     "execution_count": 8,
     "metadata": {
      "tags": []
     },
     "output_type": "execute_result"
    }
   ],
   "source": [
    "#base de datos sin outliers\n",
    "df= pd.read_csv(\"BaseDatos_Mod.csv\")\n",
    "df=df.drop(['Unnamed: 0'], axis=1)\n",
    "df.head()"
   ]
  },
  {
   "cell_type": "code",
   "execution_count": 9,
   "metadata": {
    "colab": {
     "base_uri": "https://localhost:8080/",
     "height": 34
    },
    "colab_type": "code",
    "id": "GI52bqBPgQ1V",
    "outputId": "49987ace-7a2d-459a-dd74-dee49389a944"
   },
   "outputs": [
    {
     "data": {
      "text/plain": [
       "((583, 8), (583,))"
      ]
     },
     "execution_count": 9,
     "metadata": {
      "tags": []
     },
     "output_type": "execute_result"
    }
   ],
   "source": [
    "df_data=df.iloc[:,[0,1,2,3,4,5,6,7]]\n",
    "target=df['Class']\n",
    "df_data.shape, target.shape"
   ]
  },
  {
   "cell_type": "code",
   "execution_count": 10,
   "metadata": {
    "colab": {
     "base_uri": "https://localhost:8080/",
     "height": 451
    },
    "colab_type": "code",
    "id": "O5fLPXXQgQ1Y",
    "outputId": "d44a0253-dedb-417e-c9e4-50b842c28a99"
   },
   "outputs": [
    {
     "data": {
      "text/plain": [
       "array([[<matplotlib.axes._subplots.AxesSubplot object at 0x7f5dac208a20>,\n",
       "        <matplotlib.axes._subplots.AxesSubplot object at 0x7f5dac191f60>,\n",
       "        <matplotlib.axes._subplots.AxesSubplot object at 0x7f5dac14e550>],\n",
       "       [<matplotlib.axes._subplots.AxesSubplot object at 0x7f5dac0fbb00>,\n",
       "        <matplotlib.axes._subplots.AxesSubplot object at 0x7f5dac0b30f0>,\n",
       "        <matplotlib.axes._subplots.AxesSubplot object at 0x7f5dac0616a0>],\n",
       "       [<matplotlib.axes._subplots.AxesSubplot object at 0x7f5dac08ec50>,\n",
       "        <matplotlib.axes._subplots.AxesSubplot object at 0x7f5dac049278>,\n",
       "        <matplotlib.axes._subplots.AxesSubplot object at 0x7f5dac0492b0>]],\n",
       "      dtype=object)"
      ]
     },
     "execution_count": 10,
     "metadata": {
      "tags": []
     },
     "output_type": "execute_result"
    },
    {
     "data": {
      "image/png": "[encoded data removed]",
      "text/plain": [
       "<Figure size 432x288 with 9 Axes>"
      ]
     },
     "metadata": {
      "tags": []
     },
     "output_type": "display_data"
    }
   ],
   "source": [
    "df_data.hist(bins=30,rwidth=0.95)"
   ]
  },
  {
   "cell_type": "code",
   "execution_count": 11,
   "metadata": {
    "colab": {
     "base_uri": "https://localhost:8080/",
     "height": 282
    },
    "colab_type": "code",
    "id": "yQgWaNAkgQ1a",
    "outputId": "b147b521-6a09-4da9-faa1-3feb8fdb5095"
   },
   "outputs": [
    {
     "data": {
      "text/plain": [
       "<matplotlib.axes._subplots.AxesSubplot at 0x7f5dab7ede48>"
      ]
     },
     "execution_count": 11,
     "metadata": {
      "tags": []
     },
     "output_type": "execute_result"
    },
    {
     "data": {
      "image/png": "[encoded data removed]",
      "text/plain": [
       "<Figure size 432x288 with 1 Axes>"
      ]
     },
     "metadata": {
      "tags": []
     },
     "output_type": "display_data"
    }
   ],
   "source": [
    "target.hist()"
   ]
  },
  {
   "cell_type": "code",
   "execution_count": 0,
   "metadata": {
    "colab": {},
    "colab_type": "code",
    "collapsed": true,
    "id": "qaTTmnpRgQ1c"
   },
   "outputs": [],
   "source": [
    "X_train, X_test, y_train, y_test = train_test_split(df_data, target, test_size=0.2, random_state=0)"
   ]
  },
  {
   "cell_type": "code",
   "execution_count": 0,
   "metadata": {
    "colab": {},
    "colab_type": "code",
    "collapsed": true,
    "id": "oZPAPGn1gQ1e"
   },
   "outputs": [],
   "source": [
    "#FUNCION resultados"
   ]
  },
  {
   "cell_type": "code",
   "execution_count": 0,
   "metadata": {
    "colab": {},
    "colab_type": "code",
    "collapsed": true,
    "id": "vORsYoi9gQ1g"
   },
   "outputs": [],
   "source": [
    "def resultados(matriz_cnf):\n",
    "    sens= matriz_cnf[1,1]/(matriz_cnf[1,1]+matriz_cnf[1,0])\n",
    "    esp=matriz_cnf[0,0]/(matriz_cnf[0,0]+matriz_cnf[0,1])\n",
    "    falsoneg=matriz_cnf[1,0]\n",
    "    print(\"La sensibilidad es: \",sens,\" la especificidad es: \",esp,\" y los falsos negativos son: \", falsoneg)"
   ]
  },
  {
   "cell_type": "code",
   "execution_count": 0,
   "metadata": {
    "colab": {},
    "colab_type": "code",
    "collapsed": true,
    "id": "sypR8XndgQ1i"
   },
   "outputs": [],
   "source": [
    "# Funcion cfm"
   ]
  },
  {
   "cell_type": "code",
   "execution_count": 0,
   "metadata": {
    "colab": {},
    "colab_type": "code",
    "collapsed": true,
    "id": "p3i9qfa9gQ1k"
   },
   "outputs": [],
   "source": [
    "def matriz_confusion(cnf):\n",
    "    class_names=[0,1] # name  of classes\n",
    "    fig, ax = plt.subplots()\n",
    "    tick_marks = np.arange(len(class_names))\n",
    "    plt.xticks(tick_marks, class_names)\n",
    "    plt.yticks(tick_marks, class_names)\n",
    "    # create heatmap\n",
    "    sns.heatmap(pd.DataFrame(cnf), annot=True, cmap=\"YlGnBu\" ,fmt='g')\n",
    "    ax.xaxis.set_label_position(\"top\")\n",
    "    plt.tight_layout()\n",
    "    plt.title('Confusion matrix', y=1.1)\n",
    "    plt.ylabel('Actual label')\n",
    "    plt.xlabel('Predicted label')"
   ]
  },
  {
   "cell_type": "markdown",
   "metadata": {
    "colab_type": "text",
    "id": "F9csebydgQ1n"
   },
   "source": [
    "### BALANCEAR"
   ]
  },
  {
   "cell_type": "code",
   "execution_count": 17,
   "metadata": {
    "colab": {
     "base_uri": "https://localhost:8080/",
     "height": 207
    },
    "colab_type": "code",
    "id": "XtZC4BuEgQ1n",
    "outputId": "c978ce09-b73d-4c43-e125-a2e817e44d0f"
   },
   "outputs": [
    {
     "name": "stderr",
     "output_type": "stream",
     "text": [
      "/usr/local/lib/python3.6/dist-packages/sklearn/externals/six.py:31: FutureWarning: The module is deprecated in version 0.21 and will be removed in version 0.23 since we've dropped support for Python 2.7. Please rely on the official version of six (https://pypi.org/project/six/).\n",
      "  \"(https://pypi.org/project/six/).\", FutureWarning)\n",
      "/usr/local/lib/python3.6/dist-packages/sklearn/utils/deprecation.py:144: FutureWarning: The sklearn.neighbors.base module is  deprecated in version 0.22 and will be removed in version 0.24. The corresponding classes / functions should instead be imported from sklearn.neighbors. Anything that cannot be imported from sklearn.neighbors is now part of the private API.\n",
      "  warnings.warn(message, FutureWarning)\n",
      "/usr/local/lib/python3.6/dist-packages/sklearn/utils/deprecation.py:87: FutureWarning: Function safe_indexing is deprecated; safe_indexing is deprecated in version 0.22 and will be removed in version 0.24.\n",
      "  warnings.warn(msg, category=FutureWarning)\n",
      "/usr/local/lib/python3.6/dist-packages/sklearn/utils/deprecation.py:87: FutureWarning: Function safe_indexing is deprecated; safe_indexing is deprecated in version 0.22 and will be removed in version 0.24.\n",
      "  warnings.warn(msg, category=FutureWarning)\n",
      "/usr/local/lib/python3.6/dist-packages/sklearn/utils/deprecation.py:87: FutureWarning: Function safe_indexing is deprecated; safe_indexing is deprecated in version 0.22 and will be removed in version 0.24.\n",
      "  warnings.warn(msg, category=FutureWarning)\n"
     ]
    }
   ],
   "source": [
    "from imblearn.under_sampling import NearMiss\n",
    "\n",
    "desbal = NearMiss(ratio=1, n_neighbors=3, version=2, random_state=2)\n",
    "\n",
    "X_train_res, y_train_res = desbal.fit_sample(X_train, y_train)\n"
   ]
  },
  {
   "cell_type": "code",
   "execution_count": 18,
   "metadata": {
    "colab": {
     "base_uri": "https://localhost:8080/",
     "height": 51
    },
    "colab_type": "code",
    "id": "IQ0VXv-2gQ1p",
    "outputId": "3c11d06a-5d40-4ae3-bce4-e2a961fbf1c4"
   },
   "outputs": [
    {
     "name": "stdout",
     "output_type": "stream",
     "text": [
      "256\n",
      "128\n"
     ]
    }
   ],
   "source": [
    "print(len(y_train_res))\n",
    "n=0\n",
    "for i in y_train_res:\n",
    "    if i==1:\n",
    "        n=n+1\n",
    "print(n)"
   ]
  },
  {
   "cell_type": "markdown",
   "metadata": {
    "colab_type": "text",
    "id": "dbFD1W09gQ1r"
   },
   "source": [
    "### ESTANDARIZAR"
   ]
  },
  {
   "cell_type": "code",
   "execution_count": 0,
   "metadata": {
    "colab": {},
    "colab_type": "code",
    "collapsed": true,
    "id": "Yn8hhD07gQ1s"
   },
   "outputs": [],
   "source": [
    "from sklearn.preprocessing import StandardScaler\n",
    "\n",
    "escalar=StandardScaler()\n",
    "X_train_normalizado= escalar.fit_transform(X_train)\n",
    "X_test_normalizado= escalar.transform(X_test)"
   ]
  },
  {
   "cell_type": "markdown",
   "metadata": {
    "colab_type": "text",
    "id": "u0Tem-gFgQ1w"
   },
   "source": [
    "## REGRESION LOGISTICA"
   ]
  },
  {
   "cell_type": "code",
   "execution_count": 105,
   "metadata": {
    "colab": {
     "base_uri": "https://localhost:8080/",
     "height": 153
    },
    "colab_type": "code",
    "id": "GOwJsyNTgQ1x",
    "outputId": "85a3a918-0525-4755-8557-fa11c4a66037"
   },
   "outputs": [
    {
     "name": "stderr",
     "output_type": "stream",
     "text": [
      "/usr/local/lib/python3.6/dist-packages/sklearn/linear_model/_logistic.py:940: ConvergenceWarning: lbfgs failed to converge (status=1):\n",
      "STOP: TOTAL NO. of ITERATIONS REACHED LIMIT.\n",
      "\n",
      "Increase the number of iterations (max_iter) or scale the data as shown in:\n",
      "    https://scikit-learn.org/stable/modules/preprocessing.html\n",
      "Please also refer to the documentation for alternative solver options:\n",
      "    https://scikit-learn.org/stable/modules/linear_model.html#logistic-regression\n",
      "  extra_warning_msg=_LOGISTIC_SOLVER_CONVERGENCE_MSG)\n"
     ]
    }
   ],
   "source": [
    "from sklearn.linear_model import LogisticRegression\n",
    "\n",
    "logreg= LogisticRegression()\n",
    "logreg.fit(X_train,y_train)\n",
    "y_pred_log_nor=logreg.predict(X_test_normalizado)"
   ]
  },
  {
   "cell_type": "code",
   "execution_count": 0,
   "metadata": {
    "colab": {},
    "colab_type": "code",
    "collapsed": true,
    "id": "CishQYRlA6vw"
   },
   "outputs": [],
   "source": []
  },
  {
   "cell_type": "code",
   "execution_count": 106,
   "metadata": {
    "colab": {
     "base_uri": "https://localhost:8080/",
     "height": 68
    },
    "colab_type": "code",
    "id": "bsKdILfegQ1z",
    "outputId": "cdf03d67-750d-4e1c-d5ea-9358b594066a"
   },
   "outputs": [
    {
     "name": "stdout",
     "output_type": "stream",
     "text": [
      "Accuracy normalizando: 0.4358974358974359\n",
      "[[12 66]\n",
      " [ 0 39]]\n"
     ]
    }
   ],
   "source": [
    "from sklearn import metrics\n",
    "\n",
    "cnf_matrix_nor = metrics.confusion_matrix(y_test, y_pred_log_nor)\n",
    "print(\"Accuracy normalizando:\",metrics.accuracy_score(y_test,y_pred_log_nor))\n",
    "print(cnf_matrix_nor)"
   ]
  },
  {
   "cell_type": "code",
   "execution_count": 107,
   "metadata": {
    "colab": {
     "base_uri": "https://localhost:8080/",
     "height": 325
    },
    "colab_type": "code",
    "id": "Qu2W2tsegQ11",
    "outputId": "5b951aa8-d01d-400d-be0d-f4e736b97e70"
   },
   "outputs": [
    {
     "data": {
      "image/png": "[encoded data removed]",
      "text/plain": [
       "<Figure size 432x288 with 2 Axes>"
      ]
     },
     "metadata": {
      "tags": []
     },
     "output_type": "display_data"
    }
   ],
   "source": [
    "matriz_confusion(cnf_matrix_nor)"
   ]
  },
  {
   "cell_type": "markdown",
   "metadata": {
    "colab_type": "text",
    "id": "MGgtQtcggQ13"
   },
   "source": [
    "### Resultados"
   ]
  },
  {
   "cell_type": "code",
   "execution_count": 120,
   "metadata": {
    "colab": {
     "base_uri": "https://localhost:8080/",
     "height": 34
    },
    "colab_type": "code",
    "id": "PBI2VgmGgQ14",
    "outputId": "8c6382f1-b5a6-41f0-88c3-4277a77b828f"
   },
   "outputs": [
    {
     "name": "stdout",
     "output_type": "stream",
     "text": [
      "La sensibilidad es:  1.0  la especificidad es:  0.15384615384615385  y los falsos negativos son:  0\n"
     ]
    }
   ],
   "source": [
    "resultados(cnf_matrix_nor)"
   ]
  },
  {
   "cell_type": "markdown",
   "metadata": {
    "colab_type": "text",
    "id": "glpj-5SNgQ16"
   },
   "source": [
    "### DATOS BALANCEADOS"
   ]
  },
  {
   "cell_type": "code",
   "execution_count": 0,
   "metadata": {
    "colab": {},
    "colab_type": "code",
    "collapsed": true,
    "id": "Hl9WTERfgQ17"
   },
   "outputs": [],
   "source": [
    "logreg= LogisticRegression()\n",
    "logreg.fit(X_train_res_nor,y_train_res)\n",
    "y_pred_log=logreg.predict(X_test_normalizado)"
   ]
  },
  {
   "cell_type": "code",
   "execution_count": 0,
   "metadata": {
    "colab": {},
    "colab_type": "code",
    "collapsed": true,
    "id": "JIaEFBDOB5EA"
   },
   "outputs": [],
   "source": [
    "reg_ac_val=cross_val_score(logreg, X_train_res_nor, y_train_res, cv=3, scoring='accuracy').mean()\n",
    "reg_pre_val=cross_val_score(logreg, X_train_res_nor, y_train_res, cv=3, scoring='precision').mean()\n",
    "reg_rec_val=cross_val_score(logreg, X_train_res_nor, y_train_res, cv=3, scoring='recall').mean()"
   ]
  },
  {
   "cell_type": "code",
   "execution_count": 112,
   "metadata": {
    "colab": {
     "base_uri": "https://localhost:8080/",
     "height": 34
    },
    "colab_type": "code",
    "id": "2-MGum0ZgQ2A",
    "outputId": "a82dd599-83a8-4553-baba-be97adf82445"
   },
   "outputs": [
    {
     "name": "stdout",
     "output_type": "stream",
     "text": [
      "Accuracy normalizando: 0.6068376068376068\n"
     ]
    }
   ],
   "source": [
    "reg_ac=metrics.accuracy_score(y_test,y_pred_log)\n",
    "print(\"Accuracy normalizando:\",metrics.accuracy_score(y_test,y_pred_log))"
   ]
  },
  {
   "cell_type": "markdown",
   "metadata": {
    "colab_type": "text",
    "id": "gIhbV4-ggQ2E"
   },
   "source": [
    "#### Matriz de confusión"
   ]
  },
  {
   "cell_type": "code",
   "execution_count": 113,
   "metadata": {
    "colab": {
     "base_uri": "https://localhost:8080/",
     "height": 321
    },
    "colab_type": "code",
    "id": "b1OoiDGrgQ2E",
    "outputId": "4e3b02f0-e42e-42a5-aa8a-a5583794c09b"
   },
   "outputs": [
    {
     "data": {
      "image/png": "[encoded data removed]",
      "text/plain": [
       "<Figure size 432x288 with 2 Axes>"
      ]
     },
     "metadata": {
      "tags": []
     },
     "output_type": "display_data"
    }
   ],
   "source": [
    "cnf_matrix = metrics.confusion_matrix(y_test, y_pred_log)\n",
    "\n",
    "matriz_confusion(cnf_matrix)"
   ]
  },
  {
   "cell_type": "code",
   "execution_count": 118,
   "metadata": {
    "colab": {
     "base_uri": "https://localhost:8080/",
     "height": 34
    },
    "colab_type": "code",
    "id": "sl3piMQ213s0",
    "outputId": "a22446c9-064a-43e8-b9a0-199c1e807372"
   },
   "outputs": [
    {
     "data": {
      "text/plain": [
       "10"
      ]
     },
     "execution_count": 118,
     "metadata": {
      "tags": []
     },
     "output_type": "execute_result"
    }
   ],
   "source": [
    "cnf_matrix[1][0]"
   ]
  },
  {
   "cell_type": "markdown",
   "metadata": {
    "colab_type": "text",
    "id": "R1tdkkq_gQ2H"
   },
   "source": [
    "#### Resultados"
   ]
  },
  {
   "cell_type": "code",
   "execution_count": 121,
   "metadata": {
    "colab": {
     "base_uri": "https://localhost:8080/",
     "height": 34
    },
    "colab_type": "code",
    "id": "3mbKItx8gQ2H",
    "outputId": "c0389c38-f59a-4c7f-8f86-3be650826a9f"
   },
   "outputs": [
    {
     "name": "stdout",
     "output_type": "stream",
     "text": [
      "La sensibilidad es:  0.7435897435897436  la especificidad es:  0.5384615384615384  y los falsos negativos son:  10\n"
     ]
    }
   ],
   "source": [
    "reg_sen = cnf_matrix[1][1]/(cnf_matrix[1][1]+cnf_matrix[1][0])\n",
    "reg_neg = cnf_matrix[1][0]\n",
    "resultados(cnf_matrix)"
   ]
  },
  {
   "cell_type": "markdown",
   "metadata": {
    "colab_type": "text",
    "id": "vzOboiGegQ2J"
   },
   "source": [
    "## K-vecinos"
   ]
  },
  {
   "cell_type": "code",
   "execution_count": 122,
   "metadata": {
    "colab": {
     "base_uri": "https://localhost:8080/",
     "height": 34
    },
    "colab_type": "code",
    "id": "p8t-KEkkgQ2K",
    "outputId": "8030ea7a-9fa1-4cc8-b2d8-caeba876a7b3"
   },
   "outputs": [
    {
     "name": "stdout",
     "output_type": "stream",
     "text": [
      "15 15\n"
     ]
    }
   ],
   "source": [
    "from sklearn.neighbors import KNeighborsClassifier\n",
    "\n",
    "k_values=list(range(1,31,2))\n",
    "k_scores = []\n",
    "for k in k_values:\n",
    "    knn = KNeighborsClassifier(n_neighbors=k)\n",
    "    scores = cross_val_score(knn, X_train, y_train, cv=3, scoring='accuracy')\n",
    "    k_scores.append(scores.mean())\n",
    "print(len(k_values),len(k_scores))"
   ]
  },
  {
   "cell_type": "code",
   "execution_count": 123,
   "metadata": {
    "colab": {
     "base_uri": "https://localhost:8080/",
     "height": 296
    },
    "colab_type": "code",
    "id": "T8HJgGQQgQ2N",
    "outputId": "160bb6d9-b8aa-46d7-98c7-b4ea2c922b3e"
   },
   "outputs": [
    {
     "data": {
      "text/plain": [
       "Text(0, 0.5, 'Cross-validated accuracy')"
      ]
     },
     "execution_count": 123,
     "metadata": {
      "tags": []
     },
     "output_type": "execute_result"
    },
    {
     "data": {
      "image/png": "[encoded data removed]",
      "text/plain": [
       "<Figure size 432x288 with 1 Axes>"
      ]
     },
     "metadata": {
      "tags": []
     },
     "output_type": "display_data"
    }
   ],
   "source": [
    "plt.plot(k_values, k_scores)\n",
    "plt.xlabel('Value of K for KNN')\n",
    "plt.ylabel('Cross-validated accuracy')"
   ]
  },
  {
   "cell_type": "code",
   "execution_count": 124,
   "metadata": {
    "colab": {
     "base_uri": "https://localhost:8080/",
     "height": 51
    },
    "colab_type": "code",
    "id": "NLKh3MzigQ2P",
    "outputId": "d298f823-342f-4f8b-da93-3b92da004ae1"
   },
   "outputs": [
    {
     "name": "stdout",
     "output_type": "stream",
     "text": [
      "valor de k = 29\n",
      "score con k= 29 : 0.7082023711055969\n"
     ]
    }
   ],
   "source": [
    "best_K_value=k_values[k_scores.index(max(k_scores))]\n",
    "print('valor de k =',best_K_value)\n",
    "print('score con k=',best_K_value,':', max(k_scores))"
   ]
  },
  {
   "cell_type": "markdown",
   "metadata": {
    "colab_type": "text",
    "id": "o-DsUKfzgQ2R"
   },
   "source": [
    "Entreno el modelo"
   ]
  },
  {
   "cell_type": "code",
   "execution_count": 125,
   "metadata": {
    "colab": {
     "base_uri": "https://localhost:8080/",
     "height": 34
    },
    "colab_type": "code",
    "id": "OpuUkT0zgQ2R",
    "outputId": "dec14709-bf58-4327-f289-aff10676cb8f"
   },
   "outputs": [
    {
     "name": "stdout",
     "output_type": "stream",
     "text": [
      "Accuracy: 0.6923076923076923\n"
     ]
    }
   ],
   "source": [
    "knn = KNeighborsClassifier(n_neighbors=best_K_value)\n",
    "knn.fit(X_train, y_train) \n",
    "\n",
    "y_pred_knn=knn.predict(X_test)\n",
    "print('Accuracy:',metrics.accuracy_score(y_test,y_pred_knn))#0.7987"
   ]
  },
  {
   "cell_type": "markdown",
   "metadata": {
    "colab_type": "text",
    "id": "-QbsgBQ6gQ2T"
   },
   "source": [
    "#### Matriz confusion"
   ]
  },
  {
   "cell_type": "code",
   "execution_count": 0,
   "metadata": {
    "colab": {},
    "colab_type": "code",
    "collapsed": true,
    "id": "VMV7vU77gQ2U"
   },
   "outputs": [],
   "source": [
    "cnf_matrix_knn=metrics.confusion_matrix(y_test, y_pred_knn)"
   ]
  },
  {
   "cell_type": "code",
   "execution_count": 127,
   "metadata": {
    "colab": {
     "base_uri": "https://localhost:8080/",
     "height": 325
    },
    "colab_type": "code",
    "id": "P7F-TUR_gQ2W",
    "outputId": "0cd24a36-885f-4144-99cd-b57ad5f22bf6"
   },
   "outputs": [
    {
     "data": {
      "image/png": "[encoded data removed]",
      "text/plain": [
       "<Figure size 432x288 with 2 Axes>"
      ]
     },
     "metadata": {
      "tags": []
     },
     "output_type": "display_data"
    }
   ],
   "source": [
    "matriz_confusion(cnf_matrix_knn)"
   ]
  },
  {
   "cell_type": "markdown",
   "metadata": {
    "colab_type": "text",
    "id": "PNO3jIZvgQ2a"
   },
   "source": [
    "### Resultados"
   ]
  },
  {
   "cell_type": "code",
   "execution_count": 128,
   "metadata": {
    "colab": {
     "base_uri": "https://localhost:8080/",
     "height": 34
    },
    "colab_type": "code",
    "id": "DdtnMe6KgQ2a",
    "outputId": "6c5942c4-4307-4ad0-a308-b524e0b86b2a"
   },
   "outputs": [
    {
     "name": "stdout",
     "output_type": "stream",
     "text": [
      "La sensibilidad es:  0.1794871794871795  la especificidad es:  0.9487179487179487  y los falsos negativos son:  32\n"
     ]
    }
   ],
   "source": [
    "resultados(cnf_matrix_knn)"
   ]
  },
  {
   "cell_type": "markdown",
   "metadata": {
    "colab_type": "text",
    "id": "BgDdoVZRgQ2c"
   },
   "source": [
    "#### Curva de Aprendizaje"
   ]
  },
  {
   "cell_type": "code",
   "execution_count": 129,
   "metadata": {
    "colab": {
     "base_uri": "https://localhost:8080/",
     "height": 514
    },
    "colab_type": "code",
    "id": "nqpHwBtOgQ2d",
    "outputId": "9dd1cad9-e8c7-4429-805a-0224535c7265"
   },
   "outputs": [
    {
     "name": "stdout",
     "output_type": "stream",
     "text": [
      "15 15 15\n"
     ]
    },
    {
     "data": {
      "image/png": "[encoded data removed]",
      "text/plain": [
       "<Figure size 864x576 with 1 Axes>"
      ]
     },
     "metadata": {
      "tags": []
     },
     "output_type": "display_data"
    }
   ],
   "source": [
    "scores_train=[]\n",
    "k_scores = []\n",
    "\n",
    "for k in k_values:\n",
    "    knn = KNeighborsClassifier(n_neighbors=k)\n",
    "    knn.fit(X_train, y_train) \n",
    "    scores_train.append(knn.score(X_train,y_train))\n",
    "    scores = cross_val_score(knn, X_train, y_train, cv=3, scoring='accuracy')\n",
    "    k_scores.append(scores.mean())\n",
    "print(len(scores_train),len(k_scores),len(k_values))\n",
    "plt.figure(figsize=(12,8))\n",
    "plt.plot(k_values, k_scores, marker='o', label='cross-validation')\n",
    "plt.plot(k_values, scores_train, marker='*', label='train')\n",
    "plt.xlabel('Value of K')\n",
    "plt.ylabel('Accuracy')\n",
    "knn_ac_val=max(k_scores)"
   ]
  },
  {
   "cell_type": "markdown",
   "metadata": {
    "colab_type": "text",
    "id": "kUDmeMQ_gQ2f"
   },
   "source": [
    "### DATOS BALANCEADOS"
   ]
  },
  {
   "cell_type": "code",
   "execution_count": 130,
   "metadata": {
    "colab": {
     "base_uri": "https://localhost:8080/",
     "height": 34
    },
    "colab_type": "code",
    "id": "Eb-9UfI3gQ2g",
    "outputId": "789caa2b-a616-4cf3-d67e-3682d2c3871e"
   },
   "outputs": [
    {
     "name": "stdout",
     "output_type": "stream",
     "text": [
      "15 15\n"
     ]
    }
   ],
   "source": [
    "k_values=list(range(1,31,2))\n",
    "k_scores = []\n",
    "for k in k_values:\n",
    "    knn = KNeighborsClassifier(n_neighbors=k)\n",
    "    scores = cross_val_score(knn, X_train_res_nor, y_train_res, cv=3, scoring='accuracy')\n",
    "    k_scores.append(scores.mean())\n",
    "print(len(k_values),len(k_scores))"
   ]
  },
  {
   "cell_type": "code",
   "execution_count": 131,
   "metadata": {
    "colab": {
     "base_uri": "https://localhost:8080/",
     "height": 296
    },
    "colab_type": "code",
    "id": "m36GszIAgQ2h",
    "outputId": "aa699066-a58b-4b51-90f2-4b6959cd6891"
   },
   "outputs": [
    {
     "data": {
      "text/plain": [
       "Text(0, 0.5, 'Cross-validated accuracy')"
      ]
     },
     "execution_count": 131,
     "metadata": {
      "tags": []
     },
     "output_type": "execute_result"
    },
    {
     "data": {
      "image/png": "[encoded data removed]",
      "text/plain": [
       "<Figure size 432x288 with 1 Axes>"
      ]
     },
     "metadata": {
      "tags": []
     },
     "output_type": "display_data"
    }
   ],
   "source": [
    "plt.plot(k_values, k_scores)\n",
    "plt.xlabel('Value of K for KNN')\n",
    "plt.ylabel('Cross-validated accuracy')"
   ]
  },
  {
   "cell_type": "code",
   "execution_count": 132,
   "metadata": {
    "colab": {
     "base_uri": "https://localhost:8080/",
     "height": 51
    },
    "colab_type": "code",
    "id": "iqeUTv6rgQ2j",
    "outputId": "910b597f-f1ef-4c13-bb1a-2059b50aa6dc"
   },
   "outputs": [
    {
     "name": "stdout",
     "output_type": "stream",
     "text": [
      "valor de k = 3\n",
      "score con k= 3 : 0.8320565435476516\n"
     ]
    }
   ],
   "source": [
    "best_K_value=k_values[k_scores.index(max(k_scores))]\n",
    "print('valor de k =',best_K_value)\n",
    "print('score con k=',best_K_value,':', max(k_scores))"
   ]
  },
  {
   "cell_type": "code",
   "execution_count": 138,
   "metadata": {
    "colab": {
     "base_uri": "https://localhost:8080/",
     "height": 34
    },
    "colab_type": "code",
    "id": "aKCyK_5rgQ2m",
    "outputId": "2bb8d02a-3dc1-4318-9e12-30b4c25dc476"
   },
   "outputs": [
    {
     "name": "stdout",
     "output_type": "stream",
     "text": [
      "accuracy: 0.7350427350427351\n"
     ]
    }
   ],
   "source": [
    "knn = KNeighborsClassifier(n_neighbors=best_K_value)\n",
    "knn.fit(X_train_res_nor, y_train_res) \n",
    "\n",
    "knn_ac=knn.score(X_test_normalizado, y_test)\n",
    "\n",
    "y_pred=knn.predict(X_test_normalizado)\n",
    "print('accuracy:',knn.score(X_test_normalizado, y_test))#0.6752136752136753"
   ]
  },
  {
   "cell_type": "markdown",
   "metadata": {
    "colab_type": "text",
    "id": "JSQQyBOTgQ2q"
   },
   "source": [
    "#### Matriz de Confusión"
   ]
  },
  {
   "cell_type": "code",
   "execution_count": 139,
   "metadata": {
    "colab": {
     "base_uri": "https://localhost:8080/",
     "height": 325
    },
    "colab_type": "code",
    "id": "ADD0C2Y2gQ2r",
    "outputId": "9560abea-fc8f-465c-a3fa-44b377e8795c"
   },
   "outputs": [
    {
     "data": {
      "image/png": "[encoded data removed]",
      "text/plain": [
       "<Figure size 432x288 with 2 Axes>"
      ]
     },
     "metadata": {
      "tags": []
     },
     "output_type": "display_data"
    }
   ],
   "source": [
    "cnf_matrix=metrics.confusion_matrix(y_test, y_pred)\n",
    "knn_sen = cnf_matrix[1,1]/(cnf_matrix[1,1]+cnf_matrix[1,0])\n",
    "knn_neg = cnf_matrix[1,0]\n",
    "matriz_confusion(cnf_matrix)"
   ]
  },
  {
   "cell_type": "markdown",
   "metadata": {
    "colab_type": "text",
    "id": "54iAVjZ7gQ2t"
   },
   "source": [
    "### Resultados"
   ]
  },
  {
   "cell_type": "code",
   "execution_count": 140,
   "metadata": {
    "colab": {
     "base_uri": "https://localhost:8080/",
     "height": 34
    },
    "colab_type": "code",
    "id": "JHUBEIOZgQ2t",
    "outputId": "f87ea25b-75b0-442a-ed7e-92bb9ac09071"
   },
   "outputs": [
    {
     "name": "stdout",
     "output_type": "stream",
     "text": [
      "La sensibilidad es:  0.8461538461538461  la especificidad es:  0.6794871794871795  y los falsos negativos son:  6\n"
     ]
    }
   ],
   "source": [
    "resultados(cnf_matrix)"
   ]
  },
  {
   "cell_type": "markdown",
   "metadata": {
    "colab_type": "text",
    "id": "TSo2XeMngQ2y"
   },
   "source": [
    "#### Curva de aprendizaje"
   ]
  },
  {
   "cell_type": "code",
   "execution_count": 141,
   "metadata": {
    "colab": {
     "base_uri": "https://localhost:8080/",
     "height": 514
    },
    "colab_type": "code",
    "id": "e1Gb7v_6gQ2y",
    "outputId": "02a0fa2a-920c-42d0-be50-032fb59483a3"
   },
   "outputs": [
    {
     "name": "stdout",
     "output_type": "stream",
     "text": [
      "15 15 15\n"
     ]
    },
    {
     "data": {
      "image/png": "[encoded data removed]",
      "text/plain": [
       "<Figure size 864x576 with 1 Axes>"
      ]
     },
     "metadata": {
      "tags": []
     },
     "output_type": "display_data"
    }
   ],
   "source": [
    "scores_train=[]\n",
    "k_scores = []\n",
    "\n",
    "for k in k_values:\n",
    "    knn = KNeighborsClassifier(n_neighbors=k)\n",
    "    knn.fit(X_train_res_nor, y_train_res) \n",
    "    scores_train.append(knn.score(X_train_res_nor,y_train_res))\n",
    "    scores = cross_val_score(knn, X_train_res_nor, y_train_res, cv=3, scoring='accuracy')\n",
    "    k_scores.append(scores.mean())\n",
    "print(len(scores_train),len(k_scores),len(k_values))\n",
    "plt.figure(figsize=(12,8))\n",
    "plt.plot(k_values, k_scores, marker='*', label='cross-validation')\n",
    "plt.plot(k_values, scores_train, marker='o', label='train')#naranja\n",
    "plt.xlabel('Value of K')\n",
    "plt.ylabel('Accuracy')\n",
    "\n",
    "knn_ac_val=max(k_scores)\n",
    "knn_pre_val=cross_val_score(knn, X_train_res_nor, y_train_res, cv=3, scoring='precision').mean()\n",
    "knn_rec_val=cross_val_score(knn, X_train_res_nor, y_train_res, cv=3, scoring='recall').mean()"
   ]
  },
  {
   "cell_type": "markdown",
   "metadata": {
    "colab_type": "text",
    "id": "BBSjYDy1gQ20"
   },
   "source": [
    "## Árboles de clasificación (decisión)"
   ]
  },
  {
   "cell_type": "code",
   "execution_count": 0,
   "metadata": {
    "colab": {},
    "colab_type": "code",
    "collapsed": true,
    "id": "p_GzX3sPgQ21"
   },
   "outputs": [],
   "source": [
    "from sklearn import tree\n",
    "from sklearn.tree import DecisionTreeClassifier\n",
    "\n",
    "cv = 5 # Numero deseado de \"folds\" que haremos\n",
    "k_scores = []\n",
    "depth_range = range(1, 30)\n",
    "\n",
    "for depth in depth_range:\n",
    "    tree = DecisionTreeClassifier(max_depth = depth)\n",
    "    scores = cross_val_score(tree, X_train, y_train, cv=3, scoring='accuracy')\n",
    "    k_scores.append(scores.mean())"
   ]
  },
  {
   "cell_type": "code",
   "execution_count": 149,
   "metadata": {
    "colab": {
     "base_uri": "https://localhost:8080/",
     "height": 296
    },
    "colab_type": "code",
    "id": "dmmkPAzUgQ24",
    "outputId": "a8c9f79d-e96d-48f9-fa24-20345a075609"
   },
   "outputs": [
    {
     "data": {
      "text/plain": [
       "Text(0, 0.5, 'Cross-validated accuracy')"
      ]
     },
     "execution_count": 149,
     "metadata": {
      "tags": []
     },
     "output_type": "execute_result"
    },
    {
     "data": {
      "image/png": "[encoded data removed]",
      "text/plain": [
       "<Figure size 432x288 with 1 Axes>"
      ]
     },
     "metadata": {
      "tags": []
     },
     "output_type": "display_data"
    }
   ],
   "source": [
    "plt.plot(depth_range, k_scores)\n",
    "plt.xlabel('Value of depth')\n",
    "plt.ylabel('Cross-validated accuracy')"
   ]
  },
  {
   "cell_type": "code",
   "execution_count": 150,
   "metadata": {
    "colab": {
     "base_uri": "https://localhost:8080/",
     "height": 51
    },
    "colab_type": "code",
    "id": "7Uy3EiPtgQ26",
    "outputId": "25209353-4d54-4dd1-9e3a-4436001f64cb"
   },
   "outputs": [
    {
     "name": "stdout",
     "output_type": "stream",
     "text": [
      "Valor de Depth: 4\n",
      "score con depth= 4 : 0.7339123242349048\n"
     ]
    }
   ],
   "source": [
    "best_depth_value=depth_range[k_scores.index(max(k_scores))]\n",
    "print('Valor de Depth:',best_depth_value)\n",
    "print('score con depth=',best_depth_value,':', max(k_scores))"
   ]
  },
  {
   "cell_type": "code",
   "execution_count": 151,
   "metadata": {
    "colab": {
     "base_uri": "https://localhost:8080/",
     "height": 34
    },
    "colab_type": "code",
    "id": "jkwN2_ZpgQ29",
    "outputId": "c55aff28-bf11-462d-de11-3f859af473a3"
   },
   "outputs": [
    {
     "name": "stdout",
     "output_type": "stream",
     "text": [
      "Accuracy : 0.6495726495726496\n"
     ]
    }
   ],
   "source": [
    "tree_model = DecisionTreeClassifier(max_depth =best_depth_value)\n",
    "\n",
    "tree_model.fit(X_train,y_train)\n",
    "\n",
    "y_pred_tree = tree_model.predict(X_test)\n",
    "\n",
    "print('Accuracy :',tree_model.score(X_test, y_test))\n",
    "tree_ac=tree_model.score(X_test, y_test)"
   ]
  },
  {
   "cell_type": "markdown",
   "metadata": {
    "colab_type": "text",
    "id": "XkN8lKQ9gQ2_"
   },
   "source": [
    "#### Matriz confusión"
   ]
  },
  {
   "cell_type": "code",
   "execution_count": 0,
   "metadata": {
    "colab": {},
    "colab_type": "code",
    "collapsed": true,
    "id": "YkzqXtGbgQ2_"
   },
   "outputs": [],
   "source": [
    "cnf_matrix_tree= metrics.confusion_matrix(y_test, y_pred_tree)"
   ]
  },
  {
   "cell_type": "code",
   "execution_count": 153,
   "metadata": {
    "colab": {
     "base_uri": "https://localhost:8080/",
     "height": 325
    },
    "colab_type": "code",
    "id": "JUbC0fQFgQ3B",
    "outputId": "1442cbbb-d5fd-494a-cc59-0eac88d649a8"
   },
   "outputs": [
    {
     "data": {
      "image/png": "[encoded data removed]",
      "text/plain": [
       "<Figure size 432x288 with 2 Axes>"
      ]
     },
     "metadata": {
      "tags": []
     },
     "output_type": "display_data"
    }
   ],
   "source": [
    "matriz_confusion(cnf_matrix_tree)"
   ]
  },
  {
   "cell_type": "markdown",
   "metadata": {
    "colab_type": "text",
    "id": "CSzkZZ6_gQ3G"
   },
   "source": [
    "### Resultados"
   ]
  },
  {
   "cell_type": "code",
   "execution_count": 154,
   "metadata": {
    "colab": {
     "base_uri": "https://localhost:8080/",
     "height": 34
    },
    "colab_type": "code",
    "id": "Ks-bjHqqgQ3G",
    "outputId": "b9406af4-a557-4c3c-8233-aa48321f0877"
   },
   "outputs": [
    {
     "name": "stdout",
     "output_type": "stream",
     "text": [
      "La sensibilidad es:  0.1282051282051282  la especificidad es:  0.9102564102564102  y los falsos negativos son:  34\n"
     ]
    }
   ],
   "source": [
    "resultados(cnf_matrix_tree)"
   ]
  },
  {
   "cell_type": "markdown",
   "metadata": {
    "colab_type": "text",
    "id": "yuzXnZx6gQ3I"
   },
   "source": [
    "#### Visualización"
   ]
  },
  {
   "cell_type": "code",
   "execution_count": 155,
   "metadata": {
    "colab": {
     "base_uri": "https://localhost:8080/",
     "height": 673
    },
    "colab_type": "code",
    "id": "v0-_drRKgQ3J",
    "outputId": "74fa5ec0-4a0a-4e9e-9a2a-f607b2969584"
   },
   "outputs": [
    {
     "data": {
      "text/plain": [
       "[Text(188.32500000000002, 195.696, 'X[2] <= 1.65\\ngini = 0.398\\nsamples = 466\\nvalue = [338, 128]'),\n",
       " Text(111.60000000000001, 152.208, 'X[4] <= 211.5\\ngini = 0.47\\nsamples = 300\\nvalue = [187, 113]'),\n",
       " Text(55.800000000000004, 108.72, 'X[0] <= 21.5\\ngini = 0.498\\nsamples = 190\\nvalue = [101, 89]'),\n",
       " Text(27.900000000000002, 65.232, 'X[7] <= 8.45\\ngini = 0.278\\nsamples = 12\\nvalue = [2, 10]'),\n",
       " Text(13.950000000000001, 21.744, 'gini = 0.165\\nsamples = 11\\nvalue = [1, 10]'),\n",
       " Text(41.85, 21.744, 'gini = 0.0\\nsamples = 1\\nvalue = [1, 0]'),\n",
       " Text(83.7, 65.232, 'X[2] <= 1.25\\ngini = 0.494\\nsamples = 178\\nvalue = [99, 79]'),\n",
       " Text(69.75, 21.744, 'gini = 0.488\\nsamples = 170\\nvalue = [98, 72]'),\n",
       " Text(97.65, 21.744, 'gini = 0.219\\nsamples = 8\\nvalue = [1, 7]'),\n",
       " Text(167.4, 108.72, 'X[0] <= 14.0\\ngini = 0.341\\nsamples = 110\\nvalue = [86, 24]'),\n",
       " Text(139.5, 65.232, 'X[1] <= 0.5\\ngini = 0.42\\nsamples = 10\\nvalue = [3, 7]'),\n",
       " Text(125.55000000000001, 21.744, 'gini = 0.0\\nsamples = 2\\nvalue = [2, 0]'),\n",
       " Text(153.45000000000002, 21.744, 'gini = 0.219\\nsamples = 8\\nvalue = [1, 7]'),\n",
       " Text(195.3, 65.232, 'X[5] <= 12.5\\ngini = 0.282\\nsamples = 100\\nvalue = [83, 17]'),\n",
       " Text(181.35000000000002, 21.744, 'gini = 0.0\\nsamples = 2\\nvalue = [0, 2]'),\n",
       " Text(209.25000000000003, 21.744, 'gini = 0.259\\nsamples = 98\\nvalue = [83, 15]'),\n",
       " Text(265.05, 152.208, 'X[7] <= 3.95\\ngini = 0.164\\nsamples = 166\\nvalue = [151, 15]'),\n",
       " Text(237.15, 108.72, 'X[3] <= 2.0\\ngini = 0.444\\nsamples = 3\\nvalue = [1, 2]'),\n",
       " Text(223.20000000000002, 65.232, 'gini = 0.0\\nsamples = 2\\nvalue = [0, 2]'),\n",
       " Text(251.10000000000002, 65.232, 'gini = 0.0\\nsamples = 1\\nvalue = [1, 0]'),\n",
       " Text(292.95000000000005, 108.72, 'X[5] <= 11.5\\ngini = 0.147\\nsamples = 163\\nvalue = [150, 13]'),\n",
       " Text(279.0, 65.232, 'gini = 0.0\\nsamples = 1\\nvalue = [0, 1]'),\n",
       " Text(306.90000000000003, 65.232, 'X[4] <= 622.0\\ngini = 0.137\\nsamples = 162\\nvalue = [150, 12]'),\n",
       " Text(292.95000000000005, 21.744, 'gini = 0.119\\nsamples = 158\\nvalue = [148, 10]'),\n",
       " Text(320.85, 21.744, 'gini = 0.5\\nsamples = 4\\nvalue = [2, 2]')]"
      ]
     },
     "execution_count": 155,
     "metadata": {
      "tags": []
     },
     "output_type": "execute_result"
    },
    {
     "data": {
      "image/png": "[encoded data removed]",
      "text/plain": [
       "<Figure size 432x288 with 1 Axes>"
      ]
     },
     "metadata": {
      "tags": []
     },
     "output_type": "display_data"
    }
   ],
   "source": [
    "from sklearn import tree\n",
    "tree.plot_tree(tree_model)"
   ]
  },
  {
   "cell_type": "markdown",
   "metadata": {
    "colab_type": "text",
    "id": "1YwwywI0gQ3K"
   },
   "source": [
    "#### Curva de aprendizaje"
   ]
  },
  {
   "cell_type": "code",
   "execution_count": 156,
   "metadata": {
    "colab": {
     "base_uri": "https://localhost:8080/",
     "height": 531
    },
    "colab_type": "code",
    "id": "mWV-PWm1gQ3M",
    "outputId": "4ad2f663-0ea6-4a86-a756-6b0042ce62c9"
   },
   "outputs": [
    {
     "name": "stdout",
     "output_type": "stream",
     "text": [
      "29 29 29\n"
     ]
    },
    {
     "data": {
      "text/plain": [
       "Text(0, 0.5, 'Accuracy')"
      ]
     },
     "execution_count": 156,
     "metadata": {
      "tags": []
     },
     "output_type": "execute_result"
    },
    {
     "data": {
      "image/png": "[encoded data removed]",
      "text/plain": [
       "<Figure size 864x576 with 1 Axes>"
      ]
     },
     "metadata": {
      "tags": []
     },
     "output_type": "display_data"
    }
   ],
   "source": [
    "scores_train=[]\n",
    "k_scores = []\n",
    "depth_range = range(1, 30)\n",
    "\n",
    "for depth in depth_range:\n",
    "    tree = DecisionTreeClassifier(max_depth = depth)\n",
    "    scores = cross_val_score(tree, X_train, y_train, cv=3, scoring='accuracy')\n",
    "    tree.fit(X_train,y_train)\n",
    "    scores_train.append(tree.score(X_train,y_train))\n",
    "    k_scores.append(scores.mean())\n",
    "\n",
    "print(len(scores_train),len(k_scores),len(depth_range))\n",
    "plt.figure(figsize=(12,8))\n",
    "plt.plot(depth_range , k_scores, marker='o', label='cross-validation')\n",
    "plt.plot(depth_range , scores_train, marker='*', label='train')\n",
    "plt.xlabel('Value of depth')\n",
    "plt.ylabel('Accuracy')"
   ]
  },
  {
   "cell_type": "markdown",
   "metadata": {
    "colab_type": "text",
    "id": "rTzEaUgcgQ3P"
   },
   "source": [
    "### Datos Balanceados"
   ]
  },
  {
   "cell_type": "code",
   "execution_count": 0,
   "metadata": {
    "colab": {},
    "colab_type": "code",
    "collapsed": true,
    "id": "aOkcJaxRgQ3Q"
   },
   "outputs": [],
   "source": [
    "cv = 5 # Numero deseado de \"folds\" que haremos\n",
    "k_scores = []\n",
    "depth_range = range(1, 30)\n",
    "\n",
    "for depth in depth_range:\n",
    "    tree = DecisionTreeClassifier(max_depth = depth)\n",
    "    scores = cross_val_score(tree, X_train_res, y_train_res, cv=3, scoring='accuracy')\n",
    "    k_scores.append(scores.mean())"
   ]
  },
  {
   "cell_type": "code",
   "execution_count": 158,
   "metadata": {
    "colab": {
     "base_uri": "https://localhost:8080/",
     "height": 296
    },
    "colab_type": "code",
    "id": "kGVnuvCbgQ3R",
    "outputId": "571ef569-6932-43ce-d7b2-2cf6f7efbc44"
   },
   "outputs": [
    {
     "data": {
      "text/plain": [
       "Text(0, 0.5, 'Cross-validated accuracy')"
      ]
     },
     "execution_count": 158,
     "metadata": {
      "tags": []
     },
     "output_type": "execute_result"
    },
    {
     "data": {
      "image/png": "[encoded data removed]",
      "text/plain": [
       "<Figure size 432x288 with 1 Axes>"
      ]
     },
     "metadata": {
      "tags": []
     },
     "output_type": "display_data"
    }
   ],
   "source": [
    "plt.plot(depth_range, k_scores)\n",
    "plt.xlabel('Value of depth')\n",
    "plt.ylabel('Cross-validated accuracy')"
   ]
  },
  {
   "cell_type": "code",
   "execution_count": 159,
   "metadata": {
    "colab": {
     "base_uri": "https://localhost:8080/",
     "height": 51
    },
    "colab_type": "code",
    "id": "iWEefOyogQ3T",
    "outputId": "46e37203-7399-4299-b96d-b5a7baff6e04"
   },
   "outputs": [
    {
     "name": "stdout",
     "output_type": "stream",
     "text": [
      "Valor de Depth: 1\n",
      "score con depth= 1 : 0.7729594163246695\n"
     ]
    }
   ],
   "source": [
    "best_depth_value=depth_range[k_scores.index(max(k_scores))]\n",
    "print('Valor de Depth:',best_depth_value)\n",
    "print('score con depth=',best_depth_value,':', max(k_scores))"
   ]
  },
  {
   "cell_type": "markdown",
   "metadata": {
    "colab_type": "text",
    "id": "RJLhhPd_gQ3V"
   },
   "source": [
    "Entreno en modelo"
   ]
  },
  {
   "cell_type": "code",
   "execution_count": 160,
   "metadata": {
    "colab": {
     "base_uri": "https://localhost:8080/",
     "height": 34
    },
    "colab_type": "code",
    "id": "4V6jPeALgQ3W",
    "outputId": "a10c84d4-20b7-4dc8-b0e1-8039b6fda298"
   },
   "outputs": [
    {
     "name": "stdout",
     "output_type": "stream",
     "text": [
      "Accuracy: 0.6239316239316239\n"
     ]
    }
   ],
   "source": [
    "tree_model = DecisionTreeClassifier(max_depth =best_depth_value)\n",
    "\n",
    "tree_model.fit(X_train_res,y_train_res)\n",
    "\n",
    "y_pred = tree_model.predict(X_test)\n",
    "tree_ac=tree_model.score(X_test, y_test)\n",
    "\n",
    "print('Accuracy:',tree_model.score(X_test, y_test))"
   ]
  },
  {
   "cell_type": "markdown",
   "metadata": {
    "colab_type": "text",
    "id": "gu_XzaamgQ3X"
   },
   "source": [
    "#### Matriz de confusion"
   ]
  },
  {
   "cell_type": "code",
   "execution_count": 161,
   "metadata": {
    "colab": {
     "base_uri": "https://localhost:8080/",
     "height": 359
    },
    "colab_type": "code",
    "id": "OILWBlgVgQ3Y",
    "outputId": "1abaa2e4-4ae8-4885-c3a2-54c1ba9d4b64"
   },
   "outputs": [
    {
     "name": "stdout",
     "output_type": "stream",
     "text": [
      "[[44 34]\n",
      " [10 29]]\n"
     ]
    },
    {
     "data": {
      "image/png": "[encoded data removed]",
      "text/plain": [
       "<Figure size 432x288 with 2 Axes>"
      ]
     },
     "metadata": {
      "tags": []
     },
     "output_type": "display_data"
    }
   ],
   "source": [
    "cnf_matrix= metrics.confusion_matrix(y_test, y_pred)\n",
    "\n",
    "tree_sen = cnf_matrix[1,1]/(cnf_matrix[1,1]+cnf_matrix[1,0])\n",
    "tree_neg = cnf_matrix[1,0]\n",
    "\n",
    "print(cnf_matrix)\n",
    "\n",
    "matriz_confusion(cnf_matrix)"
   ]
  },
  {
   "cell_type": "markdown",
   "metadata": {
    "colab_type": "text",
    "id": "QXAhGUATgQ3Z"
   },
   "source": [
    "\n",
    "### Resultados"
   ]
  },
  {
   "cell_type": "code",
   "execution_count": 162,
   "metadata": {
    "colab": {
     "base_uri": "https://localhost:8080/",
     "height": 34
    },
    "colab_type": "code",
    "id": "P-WCrsDYgQ3a",
    "outputId": "ab1fadb5-f2e7-43e5-8a2c-51a1bc98259f"
   },
   "outputs": [
    {
     "name": "stdout",
     "output_type": "stream",
     "text": [
      "La sensibilidad es:  0.7435897435897436  la especificidad es:  0.5641025641025641  y los falsos negativos son:  10\n"
     ]
    }
   ],
   "source": [
    "resultados(cnf_matrix)"
   ]
  },
  {
   "cell_type": "markdown",
   "metadata": {
    "colab_type": "text",
    "id": "bX8LSW0AgQ3b"
   },
   "source": [
    "### Visualización"
   ]
  },
  {
   "cell_type": "code",
   "execution_count": 163,
   "metadata": {
    "colab": {
     "base_uri": "https://localhost:8080/",
     "height": 299
    },
    "colab_type": "code",
    "id": "Pik5crzwgQ3b",
    "outputId": "8e78e357-e60a-4b2f-efe3-5b24aa305045"
   },
   "outputs": [
    {
     "data": {
      "text/plain": [
       "[Text(167.4, 163.07999999999998, 'X[4] <= 228.0\\ngini = 0.5\\nsamples = 256\\nvalue = [128, 128]'),\n",
       " Text(83.7, 54.360000000000014, 'gini = 0.0\\nsamples = 102\\nvalue = [0, 102]'),\n",
       " Text(251.10000000000002, 54.360000000000014, 'gini = 0.281\\nsamples = 154\\nvalue = [128, 26]')]"
      ]
     },
     "execution_count": 163,
     "metadata": {
      "tags": []
     },
     "output_type": "execute_result"
    },
    {
     "data": {
      "image/png": "[encoded data removed]",
      "text/plain": [
       "<Figure size 432x288 with 1 Axes>"
      ]
     },
     "metadata": {
      "tags": []
     },
     "output_type": "display_data"
    }
   ],
   "source": [
    "from sklearn import tree\n",
    "tree.plot_tree(tree_model)"
   ]
  },
  {
   "cell_type": "markdown",
   "metadata": {
    "colab_type": "text",
    "id": "7muil2DdgQ3f"
   },
   "source": [
    "### Curvas de Aprendizaje"
   ]
  },
  {
   "cell_type": "code",
   "execution_count": 164,
   "metadata": {
    "colab": {
     "base_uri": "https://localhost:8080/",
     "height": 514
    },
    "colab_type": "code",
    "id": "q-OjpoNMgQ3g",
    "outputId": "fb7eab4b-ce6d-42bf-932d-4f2299b1a45f"
   },
   "outputs": [
    {
     "name": "stdout",
     "output_type": "stream",
     "text": [
      "29 29 29\n"
     ]
    },
    {
     "data": {
      "image/png": "[encoded data removed]",
      "text/plain": [
       "<Figure size 864x576 with 1 Axes>"
      ]
     },
     "metadata": {
      "tags": []
     },
     "output_type": "display_data"
    }
   ],
   "source": [
    "scores_train=[]\n",
    "k_scores = []\n",
    "depth_range = range(1, 30)\n",
    "\n",
    "for depth in depth_range:\n",
    "    tree = DecisionTreeClassifier(max_depth = depth)\n",
    "    scores = cross_val_score(tree, X_train_res, y_train_res, cv=3, scoring='accuracy')\n",
    "    tree.fit(X_train_res,y_train_res)\n",
    "    scores_train.append(tree.score(X_train_res,y_train_res))\n",
    "    k_scores.append(scores.mean())\n",
    "\n",
    "print(len(scores_train),len(k_scores),len(depth_range))\n",
    "plt.figure(figsize=(12,8))\n",
    "plt.plot(depth_range , k_scores, marker='o', label='cross-validation')\n",
    "plt.plot(depth_range , scores_train, marker='*', label='train')\n",
    "plt.xlabel('Value of depth')\n",
    "plt.ylabel('Accuracy')\n",
    "tree_ac_val=max(k_scores)\n",
    "tree_pre_val=cross_val_score(tree_model, X_train_res_nor, y_train_res, cv=3, scoring='precision').mean()\n",
    "tree_rec_val=cross_val_score(tree_model, X_train_res_nor, y_train_res, cv=3, scoring='recall').mean()"
   ]
  },
  {
   "cell_type": "markdown",
   "metadata": {
    "colab_type": "text",
    "id": "RJdcZiYzgQ3h"
   },
   "source": [
    "## Naive Bayes"
   ]
  },
  {
   "cell_type": "code",
   "execution_count": 165,
   "metadata": {
    "colab": {
     "base_uri": "https://localhost:8080/",
     "height": 34
    },
    "colab_type": "code",
    "id": "ednTiy1bgQ3i",
    "outputId": "b32ca146-d35c-4c5a-df99-4e301c48f56f"
   },
   "outputs": [
    {
     "name": "stdout",
     "output_type": "stream",
     "text": [
      "Accuracy: 0.6153846153846154\n"
     ]
    }
   ],
   "source": [
    "#Import Gaussian Naive Bayes model\n",
    "from sklearn.naive_bayes import GaussianNB\n",
    "\n",
    "#Create a Gaussian Classifier\n",
    "gnb = GaussianNB()\n",
    "\n",
    "#Train the model using the training sets\n",
    "gnb.fit(X_train, y_train)\n",
    "\n",
    "#Predict the response for test dataset\n",
    "y_pred_gnb = gnb.predict(X_test)\n",
    "print('Accuracy:', gnb.score(X_test, y_test))\n"
   ]
  },
  {
   "cell_type": "markdown",
   "metadata": {
    "colab_type": "text",
    "id": "5TBXFT0jgQ3l"
   },
   "source": [
    "#### Matriz confusión"
   ]
  },
  {
   "cell_type": "code",
   "execution_count": 166,
   "metadata": {
    "colab": {
     "base_uri": "https://localhost:8080/",
     "height": 51
    },
    "colab_type": "code",
    "id": "TYByilNTgQ3m",
    "outputId": "c126e021-b3db-4023-e1a7-ed5571afa08d"
   },
   "outputs": [
    {
     "name": "stdout",
     "output_type": "stream",
     "text": [
      "[[35 43]\n",
      " [ 2 37]]\n"
     ]
    }
   ],
   "source": [
    "cnf_matrix_gnb= metrics.confusion_matrix(y_test, y_pred_gnb)\n",
    "\n",
    "print(cnf_matrix_gnb)"
   ]
  },
  {
   "cell_type": "code",
   "execution_count": 167,
   "metadata": {
    "colab": {
     "base_uri": "https://localhost:8080/",
     "height": 325
    },
    "colab_type": "code",
    "id": "Hy6QkK0ugQ3p",
    "outputId": "792e0444-d293-49df-c7a9-ebfe19b3c6a7"
   },
   "outputs": [
    {
     "data": {
      "image/png": "[encoded data removed]",
      "text/plain": [
       "<Figure size 432x288 with 2 Axes>"
      ]
     },
     "metadata": {
      "tags": []
     },
     "output_type": "display_data"
    }
   ],
   "source": [
    "matriz_confusion(cnf_matrix_gnb)"
   ]
  },
  {
   "cell_type": "markdown",
   "metadata": {
    "colab_type": "text",
    "id": "DTluVdnsgQ3r"
   },
   "source": [
    "### Resultados"
   ]
  },
  {
   "cell_type": "code",
   "execution_count": 168,
   "metadata": {
    "colab": {
     "base_uri": "https://localhost:8080/",
     "height": 34
    },
    "colab_type": "code",
    "id": "UT0jbtnYgQ3r",
    "outputId": "56e467d7-99de-41e7-a695-fc52ebcaa589"
   },
   "outputs": [
    {
     "name": "stdout",
     "output_type": "stream",
     "text": [
      "La sensibilidad es:  0.9487179487179487  la especificidad es:  0.44871794871794873  y los falsos negativos son:  2\n"
     ]
    }
   ],
   "source": [
    "resultados(cnf_matrix_gnb)"
   ]
  },
  {
   "cell_type": "markdown",
   "metadata": {
    "colab_type": "text",
    "id": "n4ynJ4FtgQ3t"
   },
   "source": [
    "### Datos Balanceados"
   ]
  },
  {
   "cell_type": "code",
   "execution_count": 172,
   "metadata": {
    "colab": {
     "base_uri": "https://localhost:8080/",
     "height": 34
    },
    "colab_type": "code",
    "id": "ub779t_8gQ3u",
    "outputId": "3bac8bf4-8cb5-4016-82c3-28d60b9f5052"
   },
   "outputs": [
    {
     "name": "stdout",
     "output_type": "stream",
     "text": [
      "Accuracy: 0.5897435897435898\n"
     ]
    }
   ],
   "source": [
    "#Import Gaussian Naive Bayes model\n",
    "from sklearn.naive_bayes import GaussianNB\n",
    "\n",
    "#Create a Gaussian Classifier\n",
    "gnb = GaussianNB()\n",
    "\n",
    "#Train the model using the training sets\n",
    "gnb.fit(X_train_res, y_train_res)\n",
    "\n",
    "#Predict the response for test dataset\n",
    "y_pred = gnb.predict(X_test)\n",
    "bay_ac=gnb.score(X_test, y_test)\n",
    "print('Accuracy:', gnb.score(X_test, y_test))"
   ]
  },
  {
   "cell_type": "code",
   "execution_count": 0,
   "metadata": {
    "colab": {},
    "colab_type": "code",
    "collapsed": true,
    "id": "cXJ5An_5DOBE"
   },
   "outputs": [],
   "source": [
    "bay_ac_val=cross_val_score(gnb, X_train_res, y_train_res, cv=3, scoring='accuracy').mean()\n",
    "bay_pre_val=cross_val_score(gnb, X_train_res_nor, y_train_res, cv=3, scoring='precision').mean()\n",
    "bay_rec_val=cross_val_score(gnb, X_train_res_nor, y_train_res, cv=3, scoring='recall').mean()"
   ]
  },
  {
   "cell_type": "markdown",
   "metadata": {
    "colab_type": "text",
    "id": "SiAZr0ZLgQ3y"
   },
   "source": [
    "#### Matriz confusión"
   ]
  },
  {
   "cell_type": "code",
   "execution_count": 174,
   "metadata": {
    "colab": {
     "base_uri": "https://localhost:8080/",
     "height": 325
    },
    "colab_type": "code",
    "id": "Zdx5GxangQ3z",
    "outputId": "deeb3619-969d-4c96-f897-79b245da15fe"
   },
   "outputs": [
    {
     "data": {
      "image/png": "[encoded data removed]",
      "text/plain": [
       "<Figure size 432x288 with 2 Axes>"
      ]
     },
     "metadata": {
      "tags": []
     },
     "output_type": "display_data"
    }
   ],
   "source": [
    "cnf_matrix= metrics.confusion_matrix(y_test, y_pred)\n",
    "bay_sen = cnf_matrix[1,1]/(cnf_matrix[1,1]+cnf_matrix[1,0])\n",
    "bay_neg = cnf_matrix[1,0]\n",
    "matriz_confusion(cnf_matrix)"
   ]
  },
  {
   "cell_type": "markdown",
   "metadata": {
    "colab_type": "text",
    "id": "PP_6Y1TCgQ30"
   },
   "source": [
    "### Resultados"
   ]
  },
  {
   "cell_type": "code",
   "execution_count": 175,
   "metadata": {
    "colab": {
     "base_uri": "https://localhost:8080/",
     "height": 34
    },
    "colab_type": "code",
    "id": "p3EuOlcjgQ31",
    "outputId": "7c7fcab8-96db-4cc1-a941-6ff31a437c1d"
   },
   "outputs": [
    {
     "name": "stdout",
     "output_type": "stream",
     "text": [
      "La sensibilidad es:  0.9487179487179487  la especificidad es:  0.44871794871794873  y los falsos negativos son:  2\n"
     ]
    }
   ],
   "source": [
    "resultados(cnf_matrix_gnb)"
   ]
  },
  {
   "cell_type": "markdown",
   "metadata": {
    "colab_type": "text",
    "id": "Iymf233pgQ32"
   },
   "source": [
    "### Tabla de comparación de modelos"
   ]
  },
  {
   "cell_type": "markdown",
   "metadata": {
    "colab_type": "text",
    "id": "uPfozy3OgQ34"
   },
   "source": [
    "El mejor modelo esta entre k-NN que tiene la mejor accuracy el Naive Bayes que tiene la mejor sensibilidad y el menor numero de falsos negativos"
   ]
  },
  {
   "cell_type": "code",
   "execution_count": 176,
   "metadata": {
    "colab": {
     "base_uri": "https://localhost:8080/",
     "height": 170
    },
    "colab_type": "code",
    "id": "yvfM2qH58yyO",
    "outputId": "23ba65fd-43f2-46d9-8f13-fa856722150d"
   },
   "outputs": [
    {
     "name": "stdout",
     "output_type": "stream",
     "text": [
      "╒══════════════╤══════════════╤══════════╤═════════════════╤═══════════════╕\n",
      "│ Validación   │   Regression │     K-NN │   Decision Tree │   Naive Bayes │\n",
      "╞══════════════╪══════════════╪══════════╪═════════════════╪═══════════════╡\n",
      "│ Accuracy     │     0.793069 │ 0.832057 │        0.772959 │      0.726721 │\n",
      "├──────────────┼──────────────┼──────────┼─────────────────┼───────────────┤\n",
      "│ Sensibilidad │     0.726098 │ 0.686969 │        0.730159 │      0.546881 │\n",
      "├──────────────┼──────────────┼──────────┼─────────────────┼───────────────┤\n",
      "│ Precisión    │     0.839957 │ 0.856057 │        0.741758 │      0.857172 │\n",
      "╘══════════════╧══════════════╧══════════╧═════════════════╧═══════════════╛\n"
     ]
    }
   ],
   "source": [
    "from tabulate import tabulate\n",
    "#validación\n",
    "resultados = [['Validación', 'Regression','K-NN','Decision Tree','Naive Bayes'],\n",
    "         ['Accuracy', reg_ac_val, knn_ac_val, tree_ac_val,bay_ac_val],\n",
    "         ['Sensibilidad', reg_rec_val, knn_rec_val, tree_rec_val,bay_rec_val],\n",
    "         ['Precisión', reg_pre_val, knn_pre_val, tree_pre_val,bay_pre_val]]\n",
    "print(tabulate(resultados, headers='firstrow', tablefmt='fancy_grid'))"
   ]
  },
  {
   "cell_type": "code",
   "execution_count": 177,
   "metadata": {
    "colab": {
     "base_uri": "https://localhost:8080/",
     "height": 170
    },
    "colab_type": "code",
    "id": "TlYUCKsggQ35",
    "outputId": "9a0ace57-7ab9-47cc-f74f-198126fc7c5d"
   },
   "outputs": [
    {
     "name": "stdout",
     "output_type": "stream",
     "text": [
      "╒══════════════════╤══════════════╤══════════╤═════════════════╤═══════════════╕\n",
      "│ Test             │   Regression │     K-NN │   Decision Tree │   Naive Bayes │\n",
      "╞══════════════════╪══════════════╪══════════╪═════════════════╪═══════════════╡\n",
      "│ Accuracy         │     0.606838 │ 0.735043 │        0.623932 │      0.589744 │\n",
      "├──────────────────┼──────────────┼──────────┼─────────────────┼───────────────┤\n",
      "│ Sensibilidad     │     0.74359  │ 0.846154 │        0.74359  │      0.948718 │\n",
      "├──────────────────┼──────────────┼──────────┼─────────────────┼───────────────┤\n",
      "│ Falsos negativos │    10        │ 6        │       10        │      2        │\n",
      "╘══════════════════╧══════════════╧══════════╧═════════════════╧═══════════════╛\n"
     ]
    }
   ],
   "source": [
    "#test\n",
    "from tabulate import tabulate\n",
    "resultados = [['Test', 'Regression','K-NN','Decision Tree','Naive Bayes'],\n",
    "         ['Accuracy', reg_ac, knn_ac, tree_ac,bay_ac],\n",
    "         ['Sensibilidad', reg_sen, knn_sen, tree_sen,bay_sen],\n",
    "         ['Falsos negativos', reg_neg, knn_neg, tree_neg,bay_neg]]\n",
    "print(tabulate(resultados, headers='firstrow', tablefmt='fancy_grid'))"
   ]
  },
  {
   "cell_type": "code",
   "execution_count": 0,
   "metadata": {
    "colab": {},
    "colab_type": "code",
    "collapsed": true,
    "id": "ROqfVscyDipZ"
   },
   "outputs": [],
   "source": []
  }
 ],
 "metadata": {
  "colab": {
   "collapsed_sections": [],
   "name": "tarea 2.ipynb",
   "provenance": []
  },
  "kernelspec": {
   "display_name": "Python 3",
   "language": "python",
   "name": "python3"
  },
  "language_info": {
   "codemirror_mode": {
    "name": "ipython",
    "version": 3
   },
   "file_extension": ".py",
   "mimetype": "text/x-python",
   "name": "python",
   "nbconvert_exporter": "python",
   "pygments_lexer": "ipython3",
   "version": "3.8.2"
  }
 },
 "nbformat": 4,
 "nbformat_minor": 1
}
