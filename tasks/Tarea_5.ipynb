{
 "cells": [
  {
   "cell_type": "markdown",
   "metadata": {
    "colab_type": "text",
    "id": "cjtR27iHyMkU"
   },
   "source": [
    "# Tarea 5"
   ]
  },
  {
   "cell_type": "code",
   "execution_count": 1,
   "metadata": {
    "colab": {},
    "colab_type": "code",
    "collapsed": true,
    "id": "QKYi-MRmyMkV"
   },
   "outputs": [],
   "source": [
    "import pandas as pd\n",
    "import numpy as np\n",
    "\n",
    "from sklearn.model_selection import train_test_split\n",
    "from sklearn.preprocessing import StandardScaler\n",
    "import matplotlib.pyplot as plt\n"
   ]
  },
  {
   "cell_type": "code",
   "execution_count": 2,
   "metadata": {
    "colab": {
     "base_uri": "https://localhost:8080/",
     "height": 74,
     "resources": {
      "http://localhost:8080/nbextensions/google.colab/files.js": {
       "data": "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",
       "headers": [
        [
         "content-type",
         "application/javascript"
        ]
       ],
       "ok": true,
       "status": 200,
       "status_text": ""
      }
     }
    },
    "colab_type": "code",
    "id": "0D0TLM-Zy4D6",
    "outputId": "ab5474d4-5864-48de-eb63-d3895e765eca"
   },
   "outputs": [
    {
     "data": {
      "text/plain": [
       "'from google.colab import files\\nuploaded=files.upload()'"
      ]
     },
     "execution_count": 2,
     "metadata": {},
     "output_type": "execute_result"
    }
   ],
   "source": [
    "'''from google.colab import files\n",
    "uploaded=files.upload()'''"
   ]
  },
  {
   "cell_type": "markdown",
   "metadata": {
    "colab_type": "text",
    "id": "7hcdp0CCyMkY"
   },
   "source": [
    "Cargamos la base de datos preprocesada"
   ]
  },
  {
   "cell_type": "code",
   "execution_count": 4,
   "metadata": {
    "colab": {
     "base_uri": "https://localhost:8080/",
     "height": 68
    },
    "colab_type": "code",
    "id": "J-WhCqsmyMkZ",
    "outputId": "4f060d05-0efe-4932-c5ad-5b9883723d98"
   },
   "outputs": [
    {
     "data": {
      "text/plain": [
       "Index(['Unnamed: 0', 'Age', 'Gender', 'TB', 'DB', 'Alkphos', 'Sgpt', 'Sgot',\n",
       "       'TP', 'ALB', 'AG', 'Class'],\n",
       "      dtype='object')"
      ]
     },
     "execution_count": 4,
     "metadata": {},
     "output_type": "execute_result"
    }
   ],
   "source": [
    "df= pd.read_csv(\"BaseDatos_Mod.csv\")   #he cambiado el nombre del csv, tengo que cambiarlo de vuelta (GEMA)\n",
    "df.columns"
   ]
  },
  {
   "cell_type": "code",
   "execution_count": 0,
   "metadata": {
    "colab": {},
    "colab_type": "code",
    "collapsed": true,
    "id": "CI5sYGmIyMkd"
   },
   "outputs": [],
   "source": [
    "x = df[['Age', 'TB', 'DB', 'Alkphos', 'Sgpt','Sgot', 'TP','ALB','AG']].values\n",
    "variables_aux=df[['Age', 'Gender', 'TB', 'DB', 'Alkphos', 'Sgpt','Sgot', 'TP','ALB','AG']]\n",
    "\n",
    "y = df[['Class']].values"
   ]
  },
  {
   "cell_type": "code",
   "execution_count": 0,
   "metadata": {
    "colab": {},
    "colab_type": "code",
    "collapsed": true,
    "id": "4sA8J3IDGEdN"
   },
   "outputs": [],
   "source": [
    "bi_y=[]\n",
    "for valor in df[['Class']].values:\n",
    "    if valor==1:\n",
    "        bi_y.append(0)\n",
    "    else:\n",
    "        bi_y.append(1)\n"
   ]
  },
  {
   "cell_type": "code",
   "execution_count": 0,
   "metadata": {
    "colab": {},
    "colab_type": "code",
    "collapsed": true,
    "id": "jdIJJkwFyMkf"
   },
   "outputs": [],
   "source": [
    "X_train, X_test, y_train, y_test = train_test_split(x, bi_y, test_size=0.3, random_state = 1)"
   ]
  },
  {
   "cell_type": "markdown",
   "metadata": {
    "colab_type": "text",
    "id": "GDIKXiL7Ea8m"
   },
   "source": [
    "Balancear datos"
   ]
  },
  {
   "cell_type": "code",
   "execution_count": 7,
   "metadata": {
    "colab": {
     "base_uri": "https://localhost:8080/",
     "height": 71
    },
    "colab_type": "code",
    "id": "JbG1UgGWEZx9",
    "outputId": "92461d1c-6617-486f-d963-3824dacfe628"
   },
   "outputs": [
    {
     "name": "stderr",
     "output_type": "stream",
     "text": [
      "/usr/local/lib/python3.6/dist-packages/sklearn/externals/six.py:31: DeprecationWarning: The module is deprecated in version 0.21 and will be removed in version 0.23 since we've dropped support for Python 2.7. Please rely on the official version of six (https://pypi.org/project/six/).\n",
      "  \"(https://pypi.org/project/six/).\", DeprecationWarning)\n"
     ]
    }
   ],
   "source": [
    "from imblearn.under_sampling import NearMiss\n",
    "\n",
    "desbal = NearMiss(ratio=1, n_neighbors=3, version=2, random_state=2)\n",
    "\n",
    "X_train_res, y_train_res = desbal.fit_sample(X_train, y_train)"
   ]
  },
  {
   "cell_type": "code",
   "execution_count": 0,
   "metadata": {
    "colab": {},
    "colab_type": "code",
    "collapsed": true,
    "id": "ThXr5QClEZ6U"
   },
   "outputs": [],
   "source": [
    "X_train,y_train= X_train_res, y_train_res"
   ]
  },
  {
   "cell_type": "markdown",
   "metadata": {
    "colab_type": "text",
    "id": "2e-cOy0_yMkh"
   },
   "source": [
    "Normalizamos"
   ]
  },
  {
   "cell_type": "code",
   "execution_count": 0,
   "metadata": {
    "colab": {},
    "colab_type": "code",
    "collapsed": true,
    "id": "y1XIKLckyMki"
   },
   "outputs": [],
   "source": [
    "escalar=StandardScaler()\n",
    "X_train_normalizado= escalar.fit_transform(X_train)\n",
    "X_test_normalizado= escalar.transform(X_test)"
   ]
  },
  {
   "cell_type": "markdown",
   "metadata": {
    "colab_type": "text",
    "id": "GSvyuoNqgbKF"
   },
   "source": [
    "Funciones "
   ]
  },
  {
   "cell_type": "code",
   "execution_count": 0,
   "metadata": {
    "colab": {},
    "colab_type": "code",
    "collapsed": true,
    "id": "2eMZN4PBgYri"
   },
   "outputs": [],
   "source": [
    "def resultados(matriz_cnf):\n",
    "    sens= matriz_cnf[1,1]/(matriz_cnf[1,1]+matriz_cnf[1,0])\n",
    "    esp=matriz_cnf[0,0]/(matriz_cnf[0,0]+matriz_cnf[0,1])\n",
    "    falsoneg=matriz_cnf[1,0]\n",
    "    return [sens,esp,falsoneg]"
   ]
  },
  {
   "cell_type": "markdown",
   "metadata": {
    "colab_type": "text",
    "id": "FvbmypesyMkk"
   },
   "source": [
    "# 3. Modelo basado en un Perceptrón Multicapa sobre el espacio original"
   ]
  },
  {
   "cell_type": "markdown",
   "metadata": {
    "colab_type": "text",
    "id": "BpYjpOqdyMkl"
   },
   "source": [
    "- El número de neuronas de entrada al MLP: *igual al numero de caracteristicas*\n",
    "- El número de neuronas de salida del MLP: * 2 ya que mi variable salida clasifica en enfermo en sano*\n",
    "- Las funciones de activación consideradas:*ReLU y sigmoide*\n",
    "- El valor de la tasa de aprendizaje utilizada, así como variación (o no) de la misma durante el aprendizaje: *He utilizado una tasa de aprendizaje de 0.01, con un decay de 0.01*\n",
    "- Función de coste a optimizar: *binary_crossentropy, ya que es un problema de clasificación binaria*\n",
    "- Número máximo de épocas. Explique de manera breve y concisa qué es una época, ejemplificando con su caso particular: *Una época se define como, cada iteración de la red por el lote de entradas en la que haya ajuste de variables. En mi caso he elegido máximo 150 épocas, ya que he observado que a partir de esta cantidad de iteraciones mi modelo caía en sobreajuste siempre*\n",
    "- Los valores numéricos que representan el número de neuronas consideradas en la capa oculta. Justifique la consideración de cada uno de los valores indicados (al menos, tres valores: n_hidden_1, n_hidden_2 y n_hidden_3):\n",
    "- Porcentaje de observaciones consideradas al aplicar la técnica “early stopping”:*patiencie de 50 para tener en cuenta 50 iteraciones, sobre el subconjunto de validación que es de 30%*\n",
    "- Tamaño del mini-batch: *32 porque valores muy grandes de mini-batch tienden a degradar la calidad del modelo, es decir, estos modelos tienden a converger en afilados mínimos en el entrenamiento lo que lleva a una mala generalización. A su vez valores muy pequeños de mini-batch, llevan a modelos que convergen en mínimos más aplanados, esto ocurre por el ruido interno en el gradiente de estimación*\n",
    "- Si hace uso o no (y por qué) de aleatorización de las observaciones durante el aprendizaje: *He aleatorizado los pesos iniciales de mi red neuronal, ya que para obtener buenas prestaciones tenemos que romper las posibles simetrías. De esta manera el aprendizaje es más rápido y converge antes.*"
   ]
  },
  {
   "cell_type": "code",
   "execution_count": 11,
   "metadata": {
    "colab": {
     "base_uri": "https://localhost:8080/",
     "height": 80
    },
    "colab_type": "code",
    "id": "KU6x1mKjyMk2",
    "outputId": "fbe35e42-0c53-45c1-d278-176329857642"
   },
   "outputs": [
    {
     "name": "stderr",
     "output_type": "stream",
     "text": [
      "Using TensorFlow backend.\n"
     ]
    },
    {
     "data": {
      "text/html": [
       "<p style=\"color: red;\">\n",
       "The default version of TensorFlow in Colab will soon switch to TensorFlow 2.x.<br>\n",
       "We recommend you <a href=\"https://www.tensorflow.org/guide/migrate\" target=\"_blank\">upgrade</a> now \n",
       "or ensure your notebook will continue to use TensorFlow 1.x via the <code>%tensorflow_version 1.x</code> magic:\n",
       "<a href=\"https://colab.research.google.com/notebooks/tensorflow_version.ipynb\" target=\"_blank\">more info</a>.</p>\n"
      ],
      "text/plain": [
       "<IPython.core.display.HTML object>"
      ]
     },
     "metadata": {
      "tags": []
     },
     "output_type": "display_data"
    }
   ],
   "source": [
    "from keras.models import Sequential\n",
    "from keras.layers import Dense\n",
    "from sklearn.datasets import make_moons\n",
    "from keras.layers import Dense\n",
    "from keras.optimizers import SGD\n",
    "from keras.models import Sequential\n",
    "from keras.callbacks import EarlyStopping\n",
    "from matplotlib import pyplot"
   ]
  },
  {
   "cell_type": "markdown",
   "metadata": {
    "colab_type": "text",
    "id": "eM-d5pFJUiL1"
   },
   "source": [
    "Definimos la red neuronal (3 neuronas en la capa oculta)"
   ]
  },
  {
   "cell_type": "code",
   "execution_count": 12,
   "metadata": {
    "colab": {
     "base_uri": "https://localhost:8080/",
     "height": 258
    },
    "colab_type": "code",
    "id": "MXQYIYLHUeXm",
    "outputId": "8ba7f9cf-3dc6-4ce6-bd42-2e75820125d9"
   },
   "outputs": [
    {
     "name": "stdout",
     "output_type": "stream",
     "text": [
      "WARNING:tensorflow:From /usr/local/lib/python3.6/dist-packages/keras/backend/tensorflow_backend.py:66: The name tf.get_default_graph is deprecated. Please use tf.compat.v1.get_default_graph instead.\n",
      "\n",
      "WARNING:tensorflow:From /usr/local/lib/python3.6/dist-packages/keras/backend/tensorflow_backend.py:541: The name tf.placeholder is deprecated. Please use tf.compat.v1.placeholder instead.\n",
      "\n",
      "WARNING:tensorflow:From /usr/local/lib/python3.6/dist-packages/keras/backend/tensorflow_backend.py:4432: The name tf.random_uniform is deprecated. Please use tf.random.uniform instead.\n",
      "\n",
      "WARNING:tensorflow:From /usr/local/lib/python3.6/dist-packages/keras/optimizers.py:793: The name tf.train.Optimizer is deprecated. Please use tf.compat.v1.train.Optimizer instead.\n",
      "\n",
      "WARNING:tensorflow:From /usr/local/lib/python3.6/dist-packages/keras/backend/tensorflow_backend.py:3657: The name tf.log is deprecated. Please use tf.math.log instead.\n",
      "\n",
      "WARNING:tensorflow:From /usr/local/lib/python3.6/dist-packages/tensorflow_core/python/ops/nn_impl.py:183: where (from tensorflow.python.ops.array_ops) is deprecated and will be removed in a future version.\n",
      "Instructions for updating:\n",
      "Use tf.where in 2.0, which has the same broadcast rule as np.where\n"
     ]
    }
   ],
   "source": [
    "# backpropagation + mini batch + early stopping\n",
    "model3 = Sequential()\n",
    "model3.add(Dense(3, input_dim=9, activation='relu'))\n",
    "model3.add(Dense(1, activation='sigmoid'))\n",
    "sgd = SGD(lr=0.01, momentum=0.9, decay=0.01, nesterov=False)\n",
    "model3.compile(loss='binary_crossentropy', optimizer=sgd, metrics=['accuracy'])"
   ]
  },
  {
   "cell_type": "code",
   "execution_count": 0,
   "metadata": {
    "colab": {},
    "colab_type": "code",
    "collapsed": true,
    "id": "PYmwDk2cUr3o"
   },
   "outputs": [],
   "source": [
    "#early stopping\n",
    "es = EarlyStopping(monitor='val_loss', mode='min', verbose=1, patience=50)"
   ]
  },
  {
   "cell_type": "code",
   "execution_count": 14,
   "metadata": {
    "colab": {
     "base_uri": "https://localhost:8080/",
     "height": 1000
    },
    "colab_type": "code",
    "id": "s2CU0AjjUv6V",
    "outputId": "1f54c782-f2bf-4bc0-9917-8aceca890b16"
   },
   "outputs": [
    {
     "name": "stdout",
     "output_type": "stream",
     "text": [
      "WARNING:tensorflow:From /usr/local/lib/python3.6/dist-packages/keras/backend/tensorflow_backend.py:1033: The name tf.assign_add is deprecated. Please use tf.compat.v1.assign_add instead.\n",
      "\n",
      "WARNING:tensorflow:From /usr/local/lib/python3.6/dist-packages/keras/backend/tensorflow_backend.py:1020: The name tf.assign is deprecated. Please use tf.compat.v1.assign instead.\n",
      "\n",
      "WARNING:tensorflow:From /usr/local/lib/python3.6/dist-packages/keras/backend/tensorflow_backend.py:3005: The name tf.Session is deprecated. Please use tf.compat.v1.Session instead.\n",
      "\n",
      "Train on 163 samples, validate on 71 samples\n",
      "Epoch 1/150\n",
      "WARNING:tensorflow:From /usr/local/lib/python3.6/dist-packages/keras/backend/tensorflow_backend.py:190: The name tf.get_default_session is deprecated. Please use tf.compat.v1.get_default_session instead.\n",
      "\n",
      "WARNING:tensorflow:From /usr/local/lib/python3.6/dist-packages/keras/backend/tensorflow_backend.py:197: The name tf.ConfigProto is deprecated. Please use tf.compat.v1.ConfigProto instead.\n",
      "\n",
      "WARNING:tensorflow:From /usr/local/lib/python3.6/dist-packages/keras/backend/tensorflow_backend.py:207: The name tf.global_variables is deprecated. Please use tf.compat.v1.global_variables instead.\n",
      "\n",
      "WARNING:tensorflow:From /usr/local/lib/python3.6/dist-packages/keras/backend/tensorflow_backend.py:216: The name tf.is_variable_initialized is deprecated. Please use tf.compat.v1.is_variable_initialized instead.\n",
      "\n",
      "WARNING:tensorflow:From /usr/local/lib/python3.6/dist-packages/keras/backend/tensorflow_backend.py:223: The name tf.variables_initializer is deprecated. Please use tf.compat.v1.variables_initializer instead.\n",
      "\n",
      "163/163 [==============================] - 1s 3ms/step - loss: 0.7562 - acc: 0.5583 - val_loss: 0.6571 - val_acc: 0.4930\n",
      "Epoch 2/150\n",
      "163/163 [==============================] - 0s 224us/step - loss: 0.5521 - acc: 0.7853 - val_loss: 0.7737 - val_acc: 0.4225\n",
      "Epoch 3/150\n",
      "163/163 [==============================] - 0s 167us/step - loss: 0.4993 - acc: 0.7975 - val_loss: 0.7726 - val_acc: 0.4789\n",
      "Epoch 4/150\n",
      "163/163 [==============================] - 0s 160us/step - loss: 0.4679 - acc: 0.8221 - val_loss: 0.7421 - val_acc: 0.5493\n",
      "Epoch 5/150\n",
      "163/163 [==============================] - 0s 190us/step - loss: 0.4431 - acc: 0.8221 - val_loss: 0.7513 - val_acc: 0.5352\n",
      "Epoch 6/150\n",
      "163/163 [==============================] - 0s 163us/step - loss: 0.4247 - acc: 0.8528 - val_loss: 0.7063 - val_acc: 0.5915\n",
      "Epoch 7/150\n",
      "163/163 [==============================] - 0s 163us/step - loss: 0.4071 - acc: 0.8589 - val_loss: 0.6980 - val_acc: 0.6056\n",
      "Epoch 8/150\n",
      "163/163 [==============================] - 0s 157us/step - loss: 0.3955 - acc: 0.8589 - val_loss: 0.7083 - val_acc: 0.6056\n",
      "Epoch 9/150\n",
      "163/163 [==============================] - 0s 168us/step - loss: 0.3868 - acc: 0.8650 - val_loss: 0.6991 - val_acc: 0.6479\n",
      "Epoch 10/150\n",
      "163/163 [==============================] - 0s 161us/step - loss: 0.3792 - acc: 0.8589 - val_loss: 0.6974 - val_acc: 0.6620\n",
      "Epoch 11/150\n",
      "163/163 [==============================] - 0s 150us/step - loss: 0.3725 - acc: 0.8712 - val_loss: 0.7131 - val_acc: 0.6479\n",
      "Epoch 12/150\n",
      "163/163 [==============================] - 0s 164us/step - loss: 0.3664 - acc: 0.8650 - val_loss: 0.7206 - val_acc: 0.6761\n",
      "Epoch 13/150\n",
      "163/163 [==============================] - 0s 173us/step - loss: 0.3595 - acc: 0.8773 - val_loss: 0.7172 - val_acc: 0.7042\n",
      "Epoch 14/150\n",
      "163/163 [==============================] - 0s 164us/step - loss: 0.3535 - acc: 0.8773 - val_loss: 0.7121 - val_acc: 0.7042\n",
      "Epoch 15/150\n",
      "163/163 [==============================] - 0s 187us/step - loss: 0.3495 - acc: 0.8773 - val_loss: 0.7195 - val_acc: 0.6901\n",
      "Epoch 16/150\n",
      "163/163 [==============================] - 0s 170us/step - loss: 0.3454 - acc: 0.8773 - val_loss: 0.7089 - val_acc: 0.6901\n",
      "Epoch 17/150\n",
      "163/163 [==============================] - 0s 167us/step - loss: 0.3428 - acc: 0.8834 - val_loss: 0.7015 - val_acc: 0.7042\n",
      "Epoch 18/150\n",
      "163/163 [==============================] - 0s 201us/step - loss: 0.3402 - acc: 0.8834 - val_loss: 0.7012 - val_acc: 0.6901\n",
      "Epoch 19/150\n",
      "163/163 [==============================] - 0s 160us/step - loss: 0.3371 - acc: 0.8957 - val_loss: 0.6992 - val_acc: 0.7042\n",
      "Epoch 20/150\n",
      "163/163 [==============================] - 0s 203us/step - loss: 0.3343 - acc: 0.8957 - val_loss: 0.6843 - val_acc: 0.7042\n",
      "Epoch 21/150\n",
      "163/163 [==============================] - 0s 171us/step - loss: 0.3298 - acc: 0.8957 - val_loss: 0.6834 - val_acc: 0.7183\n",
      "Epoch 22/150\n",
      "163/163 [==============================] - 0s 144us/step - loss: 0.3263 - acc: 0.8957 - val_loss: 0.6849 - val_acc: 0.7183\n",
      "Epoch 23/150\n",
      "163/163 [==============================] - 0s 162us/step - loss: 0.3223 - acc: 0.9018 - val_loss: 0.6810 - val_acc: 0.7183\n",
      "Epoch 24/150\n",
      "163/163 [==============================] - 0s 181us/step - loss: 0.3199 - acc: 0.9018 - val_loss: 0.6734 - val_acc: 0.7606\n",
      "Epoch 25/150\n",
      "163/163 [==============================] - 0s 168us/step - loss: 0.3168 - acc: 0.9018 - val_loss: 0.6718 - val_acc: 0.7746\n",
      "Epoch 26/150\n",
      "163/163 [==============================] - 0s 167us/step - loss: 0.3133 - acc: 0.9018 - val_loss: 0.6763 - val_acc: 0.7746\n",
      "Epoch 27/150\n",
      "163/163 [==============================] - 0s 163us/step - loss: 0.3111 - acc: 0.9018 - val_loss: 0.6735 - val_acc: 0.7746\n",
      "Epoch 28/150\n",
      "163/163 [==============================] - 0s 144us/step - loss: 0.3087 - acc: 0.9018 - val_loss: 0.6746 - val_acc: 0.7746\n",
      "Epoch 29/150\n",
      "163/163 [==============================] - 0s 144us/step - loss: 0.3067 - acc: 0.9018 - val_loss: 0.6748 - val_acc: 0.7746\n",
      "Epoch 30/150\n",
      "163/163 [==============================] - 0s 181us/step - loss: 0.3048 - acc: 0.9018 - val_loss: 0.6714 - val_acc: 0.7746\n",
      "Epoch 31/150\n",
      "163/163 [==============================] - 0s 165us/step - loss: 0.3031 - acc: 0.9018 - val_loss: 0.6695 - val_acc: 0.7746\n",
      "Epoch 32/150\n",
      "163/163 [==============================] - 0s 157us/step - loss: 0.3018 - acc: 0.9018 - val_loss: 0.6718 - val_acc: 0.7746\n",
      "Epoch 33/150\n",
      "163/163 [==============================] - 0s 186us/step - loss: 0.3000 - acc: 0.9018 - val_loss: 0.6692 - val_acc: 0.7746\n",
      "Epoch 34/150\n",
      "163/163 [==============================] - 0s 177us/step - loss: 0.2984 - acc: 0.9018 - val_loss: 0.6670 - val_acc: 0.7746\n",
      "Epoch 35/150\n",
      "163/163 [==============================] - 0s 158us/step - loss: 0.2971 - acc: 0.9018 - val_loss: 0.6658 - val_acc: 0.7746\n",
      "Epoch 36/150\n",
      "163/163 [==============================] - 0s 151us/step - loss: 0.2959 - acc: 0.9018 - val_loss: 0.6620 - val_acc: 0.7746\n",
      "Epoch 37/150\n",
      "163/163 [==============================] - 0s 163us/step - loss: 0.2942 - acc: 0.9018 - val_loss: 0.6628 - val_acc: 0.7746\n",
      "Epoch 38/150\n",
      "163/163 [==============================] - 0s 164us/step - loss: 0.2930 - acc: 0.9018 - val_loss: 0.6617 - val_acc: 0.7746\n",
      "Epoch 39/150\n",
      "163/163 [==============================] - 0s 187us/step - loss: 0.2919 - acc: 0.9018 - val_loss: 0.6676 - val_acc: 0.7746\n",
      "Epoch 40/150\n",
      "163/163 [==============================] - 0s 183us/step - loss: 0.2909 - acc: 0.9018 - val_loss: 0.6679 - val_acc: 0.7746\n",
      "Epoch 41/150\n",
      "163/163 [==============================] - 0s 161us/step - loss: 0.2898 - acc: 0.9018 - val_loss: 0.6681 - val_acc: 0.7746\n",
      "Epoch 42/150\n",
      "163/163 [==============================] - 0s 165us/step - loss: 0.2888 - acc: 0.9018 - val_loss: 0.6641 - val_acc: 0.7746\n",
      "Epoch 43/150\n",
      "163/163 [==============================] - 0s 161us/step - loss: 0.2878 - acc: 0.9018 - val_loss: 0.6617 - val_acc: 0.7746\n",
      "Epoch 44/150\n",
      "163/163 [==============================] - 0s 169us/step - loss: 0.2872 - acc: 0.8957 - val_loss: 0.6558 - val_acc: 0.7887\n",
      "Epoch 45/150\n",
      "163/163 [==============================] - 0s 161us/step - loss: 0.2861 - acc: 0.8957 - val_loss: 0.6546 - val_acc: 0.7746\n",
      "Epoch 46/150\n",
      "163/163 [==============================] - 0s 158us/step - loss: 0.2856 - acc: 0.8957 - val_loss: 0.6544 - val_acc: 0.7746\n",
      "Epoch 47/150\n",
      "163/163 [==============================] - 0s 161us/step - loss: 0.2849 - acc: 0.8957 - val_loss: 0.6564 - val_acc: 0.7887\n",
      "Epoch 48/150\n",
      "163/163 [==============================] - 0s 212us/step - loss: 0.2845 - acc: 0.8957 - val_loss: 0.6544 - val_acc: 0.7887\n",
      "Epoch 49/150\n",
      "163/163 [==============================] - 0s 164us/step - loss: 0.2840 - acc: 0.8957 - val_loss: 0.6561 - val_acc: 0.7887\n",
      "Epoch 50/150\n",
      "163/163 [==============================] - 0s 195us/step - loss: 0.2831 - acc: 0.8957 - val_loss: 0.6538 - val_acc: 0.7887\n",
      "Epoch 51/150\n",
      "163/163 [==============================] - 0s 229us/step - loss: 0.2828 - acc: 0.8957 - val_loss: 0.6519 - val_acc: 0.7887\n",
      "Epoch 52/150\n",
      "163/163 [==============================] - 0s 165us/step - loss: 0.2824 - acc: 0.9018 - val_loss: 0.6568 - val_acc: 0.7887\n",
      "Epoch 53/150\n",
      "163/163 [==============================] - 0s 183us/step - loss: 0.2818 - acc: 0.8957 - val_loss: 0.6547 - val_acc: 0.7887\n",
      "Epoch 54/150\n",
      "163/163 [==============================] - 0s 158us/step - loss: 0.2812 - acc: 0.8957 - val_loss: 0.6544 - val_acc: 0.7887\n",
      "Epoch 55/150\n",
      "163/163 [==============================] - 0s 167us/step - loss: 0.2807 - acc: 0.8957 - val_loss: 0.6529 - val_acc: 0.7887\n",
      "Epoch 56/150\n",
      "163/163 [==============================] - 0s 165us/step - loss: 0.2803 - acc: 0.8957 - val_loss: 0.6519 - val_acc: 0.7887\n",
      "Epoch 57/150\n",
      "163/163 [==============================] - 0s 168us/step - loss: 0.2798 - acc: 0.8957 - val_loss: 0.6510 - val_acc: 0.7887\n",
      "Epoch 58/150\n",
      "163/163 [==============================] - 0s 172us/step - loss: 0.2797 - acc: 0.8957 - val_loss: 0.6467 - val_acc: 0.7887\n",
      "Epoch 59/150\n",
      "163/163 [==============================] - 0s 178us/step - loss: 0.2791 - acc: 0.8957 - val_loss: 0.6508 - val_acc: 0.7887\n",
      "Epoch 60/150\n",
      "163/163 [==============================] - 0s 158us/step - loss: 0.2786 - acc: 0.8957 - val_loss: 0.6508 - val_acc: 0.7887\n",
      "Epoch 61/150\n",
      "163/163 [==============================] - 0s 188us/step - loss: 0.2785 - acc: 0.8957 - val_loss: 0.6473 - val_acc: 0.7887\n",
      "Epoch 62/150\n",
      "163/163 [==============================] - 0s 186us/step - loss: 0.2776 - acc: 0.8957 - val_loss: 0.6514 - val_acc: 0.7887\n",
      "Epoch 63/150\n",
      "163/163 [==============================] - 0s 166us/step - loss: 0.2774 - acc: 0.8957 - val_loss: 0.6538 - val_acc: 0.7887\n",
      "Epoch 64/150\n",
      "163/163 [==============================] - 0s 171us/step - loss: 0.2770 - acc: 0.9018 - val_loss: 0.6510 - val_acc: 0.7887\n",
      "Epoch 65/150\n",
      "163/163 [==============================] - 0s 164us/step - loss: 0.2768 - acc: 0.8957 - val_loss: 0.6504 - val_acc: 0.7887\n",
      "Epoch 66/150\n",
      "163/163 [==============================] - 0s 177us/step - loss: 0.2763 - acc: 0.9018 - val_loss: 0.6512 - val_acc: 0.7887\n",
      "Epoch 67/150\n",
      "163/163 [==============================] - 0s 192us/step - loss: 0.2761 - acc: 0.9018 - val_loss: 0.6501 - val_acc: 0.7887\n",
      "Epoch 68/150\n",
      "163/163 [==============================] - 0s 182us/step - loss: 0.2756 - acc: 0.8957 - val_loss: 0.6486 - val_acc: 0.7887\n",
      "Epoch 69/150\n",
      "163/163 [==============================] - 0s 152us/step - loss: 0.2753 - acc: 0.8957 - val_loss: 0.6493 - val_acc: 0.7887\n",
      "Epoch 70/150\n",
      "163/163 [==============================] - 0s 162us/step - loss: 0.2750 - acc: 0.9018 - val_loss: 0.6494 - val_acc: 0.7887\n",
      "Epoch 71/150\n",
      "163/163 [==============================] - 0s 180us/step - loss: 0.2745 - acc: 0.9018 - val_loss: 0.6452 - val_acc: 0.7887\n",
      "Epoch 72/150\n",
      "163/163 [==============================] - 0s 157us/step - loss: 0.2744 - acc: 0.8957 - val_loss: 0.6455 - val_acc: 0.7887\n",
      "Epoch 73/150\n",
      "163/163 [==============================] - 0s 168us/step - loss: 0.2740 - acc: 0.8957 - val_loss: 0.6436 - val_acc: 0.7887\n",
      "Epoch 74/150\n",
      "163/163 [==============================] - 0s 279us/step - loss: 0.2740 - acc: 0.8957 - val_loss: 0.6418 - val_acc: 0.7887\n",
      "Epoch 75/150\n",
      "163/163 [==============================] - 0s 161us/step - loss: 0.2735 - acc: 0.9018 - val_loss: 0.6416 - val_acc: 0.7887\n",
      "Epoch 76/150\n",
      "163/163 [==============================] - 0s 178us/step - loss: 0.2734 - acc: 0.8957 - val_loss: 0.6448 - val_acc: 0.7887\n",
      "Epoch 77/150\n",
      "163/163 [==============================] - 0s 187us/step - loss: 0.2729 - acc: 0.8957 - val_loss: 0.6440 - val_acc: 0.7887\n",
      "Epoch 78/150\n",
      "163/163 [==============================] - 0s 162us/step - loss: 0.2726 - acc: 0.8957 - val_loss: 0.6419 - val_acc: 0.7887\n",
      "Epoch 79/150\n",
      "163/163 [==============================] - 0s 168us/step - loss: 0.2724 - acc: 0.9018 - val_loss: 0.6404 - val_acc: 0.7887\n",
      "Epoch 80/150\n",
      "163/163 [==============================] - 0s 177us/step - loss: 0.2722 - acc: 0.8957 - val_loss: 0.6400 - val_acc: 0.7887\n",
      "Epoch 81/150\n",
      "163/163 [==============================] - 0s 165us/step - loss: 0.2720 - acc: 0.8957 - val_loss: 0.6405 - val_acc: 0.7887\n",
      "Epoch 82/150\n",
      "163/163 [==============================] - 0s 151us/step - loss: 0.2716 - acc: 0.9018 - val_loss: 0.6392 - val_acc: 0.7887\n",
      "Epoch 83/150\n",
      "163/163 [==============================] - 0s 154us/step - loss: 0.2713 - acc: 0.9018 - val_loss: 0.6387 - val_acc: 0.7887\n",
      "Epoch 84/150\n",
      "163/163 [==============================] - 0s 182us/step - loss: 0.2712 - acc: 0.9018 - val_loss: 0.6390 - val_acc: 0.7887\n",
      "Epoch 85/150\n",
      "163/163 [==============================] - 0s 182us/step - loss: 0.2709 - acc: 0.9018 - val_loss: 0.6407 - val_acc: 0.7887\n",
      "Epoch 86/150\n",
      "163/163 [==============================] - 0s 165us/step - loss: 0.2707 - acc: 0.9018 - val_loss: 0.6399 - val_acc: 0.7887\n",
      "Epoch 87/150\n",
      "163/163 [==============================] - 0s 197us/step - loss: 0.2705 - acc: 0.9018 - val_loss: 0.6382 - val_acc: 0.7887\n",
      "Epoch 88/150\n",
      "163/163 [==============================] - 0s 147us/step - loss: 0.2704 - acc: 0.9018 - val_loss: 0.6394 - val_acc: 0.7887\n",
      "Epoch 89/150\n",
      "163/163 [==============================] - 0s 196us/step - loss: 0.2702 - acc: 0.9018 - val_loss: 0.6403 - val_acc: 0.7887\n",
      "Epoch 90/150\n",
      "163/163 [==============================] - 0s 153us/step - loss: 0.2701 - acc: 0.9018 - val_loss: 0.6392 - val_acc: 0.7887\n",
      "Epoch 91/150\n",
      "163/163 [==============================] - 0s 160us/step - loss: 0.2697 - acc: 0.9018 - val_loss: 0.6378 - val_acc: 0.7887\n",
      "Epoch 92/150\n",
      "163/163 [==============================] - 0s 154us/step - loss: 0.2697 - acc: 0.9018 - val_loss: 0.6380 - val_acc: 0.7887\n",
      "Epoch 93/150\n",
      "163/163 [==============================] - 0s 168us/step - loss: 0.2694 - acc: 0.9018 - val_loss: 0.6378 - val_acc: 0.7887\n",
      "Epoch 94/150\n",
      "163/163 [==============================] - 0s 167us/step - loss: 0.2692 - acc: 0.9018 - val_loss: 0.6384 - val_acc: 0.7887\n",
      "Epoch 95/150\n",
      "163/163 [==============================] - 0s 166us/step - loss: 0.2691 - acc: 0.9018 - val_loss: 0.6371 - val_acc: 0.7887\n",
      "Epoch 96/150\n",
      "163/163 [==============================] - 0s 166us/step - loss: 0.2688 - acc: 0.9018 - val_loss: 0.6355 - val_acc: 0.7887\n",
      "Epoch 97/150\n",
      "163/163 [==============================] - 0s 185us/step - loss: 0.2686 - acc: 0.9018 - val_loss: 0.6352 - val_acc: 0.7887\n",
      "Epoch 98/150\n",
      "163/163 [==============================] - 0s 198us/step - loss: 0.2685 - acc: 0.9018 - val_loss: 0.6345 - val_acc: 0.7887\n",
      "Epoch 99/150\n",
      "163/163 [==============================] - 0s 171us/step - loss: 0.2683 - acc: 0.9018 - val_loss: 0.6355 - val_acc: 0.8028\n",
      "Epoch 100/150\n",
      "163/163 [==============================] - 0s 194us/step - loss: 0.2682 - acc: 0.9018 - val_loss: 0.6337 - val_acc: 0.8028\n",
      "Epoch 101/150\n",
      "163/163 [==============================] - 0s 162us/step - loss: 0.2680 - acc: 0.9018 - val_loss: 0.6336 - val_acc: 0.8028\n",
      "Epoch 102/150\n",
      "163/163 [==============================] - 0s 189us/step - loss: 0.2678 - acc: 0.9018 - val_loss: 0.6330 - val_acc: 0.8028\n",
      "Epoch 103/150\n",
      "163/163 [==============================] - 0s 170us/step - loss: 0.2677 - acc: 0.9018 - val_loss: 0.6337 - val_acc: 0.8028\n",
      "Epoch 104/150\n",
      "163/163 [==============================] - 0s 163us/step - loss: 0.2675 - acc: 0.9018 - val_loss: 0.6332 - val_acc: 0.8028\n",
      "Epoch 105/150\n",
      "163/163 [==============================] - 0s 159us/step - loss: 0.2674 - acc: 0.9018 - val_loss: 0.6340 - val_acc: 0.8028\n",
      "Epoch 106/150\n",
      "163/163 [==============================] - 0s 204us/step - loss: 0.2672 - acc: 0.9018 - val_loss: 0.6332 - val_acc: 0.8028\n",
      "Epoch 107/150\n",
      "163/163 [==============================] - 0s 166us/step - loss: 0.2671 - acc: 0.9018 - val_loss: 0.6330 - val_acc: 0.8028\n",
      "Epoch 108/150\n",
      "163/163 [==============================] - 0s 169us/step - loss: 0.2669 - acc: 0.9018 - val_loss: 0.6342 - val_acc: 0.8028\n",
      "Epoch 109/150\n",
      "163/163 [==============================] - 0s 161us/step - loss: 0.2667 - acc: 0.9018 - val_loss: 0.6349 - val_acc: 0.8028\n",
      "Epoch 110/150\n",
      "163/163 [==============================] - 0s 175us/step - loss: 0.2666 - acc: 0.9018 - val_loss: 0.6343 - val_acc: 0.8028\n",
      "Epoch 111/150\n",
      "163/163 [==============================] - 0s 160us/step - loss: 0.2665 - acc: 0.9018 - val_loss: 0.6341 - val_acc: 0.8028\n",
      "Epoch 112/150\n",
      "163/163 [==============================] - 0s 175us/step - loss: 0.2664 - acc: 0.9018 - val_loss: 0.6347 - val_acc: 0.8028\n",
      "Epoch 113/150\n",
      "163/163 [==============================] - 0s 154us/step - loss: 0.2663 - acc: 0.9018 - val_loss: 0.6336 - val_acc: 0.8028\n",
      "Epoch 114/150\n",
      "163/163 [==============================] - 0s 151us/step - loss: 0.2661 - acc: 0.9018 - val_loss: 0.6335 - val_acc: 0.8028\n",
      "Epoch 115/150\n",
      "163/163 [==============================] - 0s 179us/step - loss: 0.2661 - acc: 0.9018 - val_loss: 0.6327 - val_acc: 0.8028\n",
      "Epoch 116/150\n",
      "163/163 [==============================] - 0s 190us/step - loss: 0.2659 - acc: 0.9018 - val_loss: 0.6328 - val_acc: 0.8028\n",
      "Epoch 117/150\n",
      "163/163 [==============================] - 0s 203us/step - loss: 0.2657 - acc: 0.9018 - val_loss: 0.6332 - val_acc: 0.8028\n",
      "Epoch 118/150\n",
      "163/163 [==============================] - 0s 166us/step - loss: 0.2657 - acc: 0.9018 - val_loss: 0.6327 - val_acc: 0.8028\n",
      "Epoch 119/150\n",
      "163/163 [==============================] - 0s 173us/step - loss: 0.2656 - acc: 0.9018 - val_loss: 0.6306 - val_acc: 0.8028\n",
      "Epoch 120/150\n",
      "163/163 [==============================] - 0s 166us/step - loss: 0.2654 - acc: 0.9018 - val_loss: 0.6294 - val_acc: 0.8028\n",
      "Epoch 121/150\n",
      "163/163 [==============================] - 0s 159us/step - loss: 0.2653 - acc: 0.9018 - val_loss: 0.6285 - val_acc: 0.8028\n",
      "Epoch 122/150\n",
      "163/163 [==============================] - 0s 212us/step - loss: 0.2652 - acc: 0.9018 - val_loss: 0.6285 - val_acc: 0.8028\n",
      "Epoch 123/150\n",
      "163/163 [==============================] - 0s 168us/step - loss: 0.2651 - acc: 0.9018 - val_loss: 0.6278 - val_acc: 0.8028\n",
      "Epoch 124/150\n",
      "163/163 [==============================] - 0s 184us/step - loss: 0.2651 - acc: 0.9018 - val_loss: 0.6286 - val_acc: 0.8028\n",
      "Epoch 125/150\n",
      "163/163 [==============================] - 0s 161us/step - loss: 0.2648 - acc: 0.9018 - val_loss: 0.6274 - val_acc: 0.8028\n",
      "Epoch 126/150\n",
      "163/163 [==============================] - 0s 167us/step - loss: 0.2647 - acc: 0.9018 - val_loss: 0.6274 - val_acc: 0.8028\n",
      "Epoch 127/150\n",
      "163/163 [==============================] - 0s 171us/step - loss: 0.2646 - acc: 0.9018 - val_loss: 0.6270 - val_acc: 0.8028\n",
      "Epoch 128/150\n",
      "163/163 [==============================] - 0s 163us/step - loss: 0.2646 - acc: 0.9018 - val_loss: 0.6263 - val_acc: 0.8028\n",
      "Epoch 129/150\n",
      "163/163 [==============================] - 0s 170us/step - loss: 0.2644 - acc: 0.9018 - val_loss: 0.6272 - val_acc: 0.8028\n",
      "Epoch 130/150\n",
      "163/163 [==============================] - 0s 181us/step - loss: 0.2641 - acc: 0.9018 - val_loss: 0.6273 - val_acc: 0.8028\n",
      "Epoch 131/150\n",
      "163/163 [==============================] - 0s 162us/step - loss: 0.2639 - acc: 0.9018 - val_loss: 0.6272 - val_acc: 0.8028\n",
      "Epoch 132/150\n",
      "163/163 [==============================] - 0s 167us/step - loss: 0.2638 - acc: 0.9018 - val_loss: 0.6286 - val_acc: 0.8028\n",
      "Epoch 133/150\n",
      "163/163 [==============================] - 0s 172us/step - loss: 0.2635 - acc: 0.9018 - val_loss: 0.6271 - val_acc: 0.8028\n",
      "Epoch 134/150\n",
      "163/163 [==============================] - 0s 166us/step - loss: 0.2633 - acc: 0.9018 - val_loss: 0.6260 - val_acc: 0.8028\n",
      "Epoch 135/150\n",
      "163/163 [==============================] - 0s 161us/step - loss: 0.2631 - acc: 0.9018 - val_loss: 0.6267 - val_acc: 0.8028\n",
      "Epoch 136/150\n",
      "163/163 [==============================] - 0s 195us/step - loss: 0.2628 - acc: 0.9018 - val_loss: 0.6264 - val_acc: 0.8028\n",
      "Epoch 137/150\n",
      "163/163 [==============================] - 0s 184us/step - loss: 0.2627 - acc: 0.9018 - val_loss: 0.6256 - val_acc: 0.8028\n",
      "Epoch 138/150\n",
      "163/163 [==============================] - 0s 162us/step - loss: 0.2624 - acc: 0.9018 - val_loss: 0.6255 - val_acc: 0.8028\n",
      "Epoch 139/150\n",
      "163/163 [==============================] - 0s 166us/step - loss: 0.2623 - acc: 0.9018 - val_loss: 0.6246 - val_acc: 0.8028\n",
      "Epoch 140/150\n",
      "163/163 [==============================] - 0s 191us/step - loss: 0.2622 - acc: 0.9018 - val_loss: 0.6266 - val_acc: 0.8028\n",
      "Epoch 141/150\n",
      "163/163 [==============================] - 0s 166us/step - loss: 0.2619 - acc: 0.9018 - val_loss: 0.6258 - val_acc: 0.8028\n",
      "Epoch 142/150\n",
      "163/163 [==============================] - 0s 179us/step - loss: 0.2617 - acc: 0.9018 - val_loss: 0.6265 - val_acc: 0.8028\n",
      "Epoch 143/150\n",
      "163/163 [==============================] - 0s 182us/step - loss: 0.2615 - acc: 0.9018 - val_loss: 0.6274 - val_acc: 0.8028\n",
      "Epoch 144/150\n",
      "163/163 [==============================] - 0s 168us/step - loss: 0.2614 - acc: 0.9018 - val_loss: 0.6260 - val_acc: 0.8028\n",
      "Epoch 145/150\n",
      "163/163 [==============================] - 0s 174us/step - loss: 0.2612 - acc: 0.9080 - val_loss: 0.6261 - val_acc: 0.8028\n",
      "Epoch 146/150\n",
      "163/163 [==============================] - 0s 175us/step - loss: 0.2609 - acc: 0.9080 - val_loss: 0.6268 - val_acc: 0.8028\n",
      "Epoch 147/150\n",
      "163/163 [==============================] - 0s 154us/step - loss: 0.2608 - acc: 0.9080 - val_loss: 0.6264 - val_acc: 0.8028\n",
      "Epoch 148/150\n",
      "163/163 [==============================] - 0s 168us/step - loss: 0.2607 - acc: 0.9080 - val_loss: 0.6266 - val_acc: 0.8028\n",
      "Epoch 149/150\n",
      "163/163 [==============================] - 0s 158us/step - loss: 0.2604 - acc: 0.9080 - val_loss: 0.6258 - val_acc: 0.8028\n",
      "Epoch 150/150\n",
      "163/163 [==============================] - 0s 172us/step - loss: 0.2603 - acc: 0.9080 - val_loss: 0.6265 - val_acc: 0.8028\n"
     ]
    }
   ],
   "source": [
    "#mini batches\n",
    "# fit model\n",
    "history = model3.fit(X_train_normalizado, y_train, validation_split=0.3, epochs=150, verbose=1, batch_size=10, callbacks=[es])"
   ]
  },
  {
   "cell_type": "code",
   "execution_count": 15,
   "metadata": {
    "colab": {
     "base_uri": "https://localhost:8080/",
     "height": 68
    },
    "colab_type": "code",
    "id": "XbxWs5I5Clti",
    "outputId": "fbe5395e-cedb-4291-81e3-07c0c5f1cd50"
   },
   "outputs": [
    {
     "name": "stdout",
     "output_type": "stream",
     "text": [
      "234/234 [==============================] - 0s 69us/step\n",
      "175/175 [==============================] - 0s 67us/step\n",
      "Train: 0.876, Test: 0.657\n"
     ]
    }
   ],
   "source": [
    "# evaluate the model\n",
    "_, train_acc = model3.evaluate(X_train_normalizado, y_train, verbose=1, batch_size=10)\n",
    "_, test_acc = model3.evaluate(X_test_normalizado, y_test, verbose=1, batch_size=10)\n",
    "print('Train: %.3f, Test: %.3f' % (train_acc, test_acc))\n",
    "acc3=train_acc\n",
    "acc=test_acc"
   ]
  },
  {
   "cell_type": "code",
   "execution_count": 16,
   "metadata": {
    "colab": {
     "base_uri": "https://localhost:8080/",
     "height": 265
    },
    "colab_type": "code",
    "id": "jjF46-aRfRi7",
    "outputId": "5dc72472-8544-4b22-bfdc-c8f9682d79e0"
   },
   "outputs": [
    {
     "data": {
      "image/png": "[encoded data removed]",
      "text/plain": [
       "<Figure size 432x288 with 1 Axes>"
      ]
     },
     "metadata": {
      "tags": []
     },
     "output_type": "display_data"
    }
   ],
   "source": [
    "# plot training history\n",
    "pyplot.plot(history.history['loss'], label='train')\n",
    "pyplot.plot(history.history['val_loss'], label='validation')\n",
    "pyplot.legend()\n",
    "pyplot.show()"
   ]
  },
  {
   "cell_type": "markdown",
   "metadata": {
    "colab_type": "text",
    "id": "cGx9BXzCa0My"
   },
   "source": [
    "Resultados"
   ]
  },
  {
   "cell_type": "code",
   "execution_count": 17,
   "metadata": {
    "colab": {
     "base_uri": "https://localhost:8080/",
     "height": 68
    },
    "colab_type": "code",
    "id": "2BHbb4WZazWj",
    "outputId": "3506efcb-3756-412a-fd66-c83b97876941"
   },
   "outputs": [
    {
     "name": "stdout",
     "output_type": "stream",
     "text": [
      "[[78 47]\n",
      " [13 37]]\n",
      "La sensibilidad es:  0.74  la especificidad es:  0.624  y los falsos negativos son:  13\n"
     ]
    }
   ],
   "source": [
    "y_pred = model3.predict(X_test_normalizado)\n",
    "y_pred = (y_pred > 0.5)\n",
    "y_pred_val = model3.predict(X_train_normalizado)\n",
    "y_pred_val = (y_pred_val > 0.5)\n",
    "# Making the Confusion Matrix\n",
    "from sklearn.metrics import confusion_matrix\n",
    "cm = confusion_matrix(y_test, y_pred)\n",
    "cm_val = confusion_matrix(y_train, y_pred_val)\n",
    "print(cm)\n",
    "res=resultados(cm)\n",
    "res_val=resultados(cm_val)\n",
    "print(\"La sensibilidad es: \",res[0],\" la especificidad es: \",res[1],\" y los falsos negativos son: \", res[2])\n",
    "sen3=res_val[0]\n",
    "fn3=res_val[2]\n",
    "sen=res[0]\n",
    "fn=res[2]"
   ]
  },
  {
   "cell_type": "markdown",
   "metadata": {
    "colab_type": "text",
    "id": "WwpRF4C-VCc9"
   },
   "source": [
    "Para 2 neuronas en la capa oculta"
   ]
  },
  {
   "cell_type": "code",
   "execution_count": 18,
   "metadata": {
    "colab": {
     "base_uri": "https://localhost:8080/",
     "height": 1000
    },
    "colab_type": "code",
    "id": "F9XeQwdgVBZk",
    "outputId": "3e6d2491-b744-4728-bfb8-c7a3a03ef9ee"
   },
   "outputs": [
    {
     "name": "stdout",
     "output_type": "stream",
     "text": [
      "Train on 163 samples, validate on 71 samples\n",
      "Epoch 1/150\n",
      "163/163 [==============================] - 0s 1ms/step - loss: 0.5778 - acc: 0.7178 - val_loss: 1.1606 - val_acc: 0.0000e+00\n",
      "Epoch 2/150\n",
      "163/163 [==============================] - 0s 174us/step - loss: 0.5493 - acc: 0.7178 - val_loss: 1.1833 - val_acc: 0.0000e+00\n",
      "Epoch 3/150\n",
      "163/163 [==============================] - 0s 202us/step - loss: 0.5244 - acc: 0.7178 - val_loss: 1.2189 - val_acc: 0.0000e+00\n",
      "Epoch 4/150\n",
      "163/163 [==============================] - 0s 156us/step - loss: 0.5043 - acc: 0.7178 - val_loss: 1.2562 - val_acc: 0.0000e+00\n",
      "Epoch 5/150\n",
      "163/163 [==============================] - 0s 154us/step - loss: 0.4872 - acc: 0.7178 - val_loss: 1.2882 - val_acc: 0.0000e+00\n",
      "Epoch 6/150\n",
      "163/163 [==============================] - 0s 167us/step - loss: 0.4751 - acc: 0.7178 - val_loss: 1.2961 - val_acc: 0.0000e+00\n",
      "Epoch 7/150\n",
      "163/163 [==============================] - 0s 163us/step - loss: 0.4613 - acc: 0.7178 - val_loss: 1.2898 - val_acc: 0.0000e+00\n",
      "Epoch 8/150\n",
      "163/163 [==============================] - 0s 155us/step - loss: 0.4543 - acc: 0.7178 - val_loss: 1.2832 - val_acc: 0.0000e+00\n",
      "Epoch 9/150\n",
      "163/163 [==============================] - 0s 169us/step - loss: 0.4486 - acc: 0.7178 - val_loss: 1.2763 - val_acc: 0.0000e+00\n",
      "Epoch 10/150\n",
      "163/163 [==============================] - 0s 173us/step - loss: 0.4438 - acc: 0.7178 - val_loss: 1.2706 - val_acc: 0.0000e+00\n",
      "Epoch 11/150\n",
      "163/163 [==============================] - 0s 168us/step - loss: 0.4399 - acc: 0.7178 - val_loss: 1.2722 - val_acc: 0.0000e+00\n",
      "Epoch 12/150\n",
      "163/163 [==============================] - 0s 183us/step - loss: 0.4366 - acc: 0.7178 - val_loss: 1.2674 - val_acc: 0.0000e+00\n",
      "Epoch 13/150\n",
      "163/163 [==============================] - 0s 174us/step - loss: 0.4333 - acc: 0.7178 - val_loss: 1.2546 - val_acc: 0.0000e+00\n",
      "Epoch 14/150\n",
      "163/163 [==============================] - 0s 178us/step - loss: 0.4307 - acc: 0.7178 - val_loss: 1.2524 - val_acc: 0.0000e+00\n",
      "Epoch 15/150\n",
      "163/163 [==============================] - 0s 166us/step - loss: 0.4276 - acc: 0.7178 - val_loss: 1.2408 - val_acc: 0.0000e+00\n",
      "Epoch 16/150\n",
      "163/163 [==============================] - 0s 169us/step - loss: 0.4261 - acc: 0.7178 - val_loss: 1.2340 - val_acc: 0.0000e+00\n",
      "Epoch 17/150\n",
      "163/163 [==============================] - 0s 181us/step - loss: 0.4244 - acc: 0.7178 - val_loss: 1.2273 - val_acc: 0.0000e+00\n",
      "Epoch 18/150\n",
      "163/163 [==============================] - 0s 165us/step - loss: 0.4219 - acc: 0.7607 - val_loss: 1.2332 - val_acc: 0.6197\n",
      "Epoch 19/150\n",
      "163/163 [==============================] - 0s 217us/step - loss: 0.4191 - acc: 0.8282 - val_loss: 1.2381 - val_acc: 0.6197\n",
      "Epoch 20/150\n",
      "163/163 [==============================] - 0s 177us/step - loss: 0.4164 - acc: 0.8344 - val_loss: 1.2317 - val_acc: 0.6338\n",
      "Epoch 21/150\n",
      "163/163 [==============================] - 0s 194us/step - loss: 0.4141 - acc: 0.8405 - val_loss: 1.2275 - val_acc: 0.6338\n",
      "Epoch 22/150\n",
      "163/163 [==============================] - 0s 198us/step - loss: 0.4119 - acc: 0.8344 - val_loss: 1.2303 - val_acc: 0.6197\n",
      "Epoch 23/150\n",
      "163/163 [==============================] - 0s 169us/step - loss: 0.4102 - acc: 0.8405 - val_loss: 1.2290 - val_acc: 0.6338\n",
      "Epoch 24/150\n",
      "163/163 [==============================] - 0s 180us/step - loss: 0.4083 - acc: 0.8528 - val_loss: 1.2252 - val_acc: 0.6338\n",
      "Epoch 25/150\n",
      "163/163 [==============================] - 0s 171us/step - loss: 0.4066 - acc: 0.8589 - val_loss: 1.2204 - val_acc: 0.6479\n",
      "Epoch 26/150\n",
      "163/163 [==============================] - 0s 166us/step - loss: 0.4051 - acc: 0.8589 - val_loss: 1.2248 - val_acc: 0.6338\n",
      "Epoch 27/150\n",
      "163/163 [==============================] - 0s 168us/step - loss: 0.4037 - acc: 0.8528 - val_loss: 1.2175 - val_acc: 0.6338\n",
      "Epoch 28/150\n",
      "163/163 [==============================] - 0s 160us/step - loss: 0.4024 - acc: 0.8528 - val_loss: 1.2178 - val_acc: 0.6338\n",
      "Epoch 29/150\n",
      "163/163 [==============================] - 0s 182us/step - loss: 0.4012 - acc: 0.8589 - val_loss: 1.2203 - val_acc: 0.6338\n",
      "Epoch 30/150\n",
      "163/163 [==============================] - 0s 163us/step - loss: 0.3998 - acc: 0.8589 - val_loss: 1.2191 - val_acc: 0.6338\n",
      "Epoch 31/150\n",
      "163/163 [==============================] - 0s 183us/step - loss: 0.3991 - acc: 0.8589 - val_loss: 1.2098 - val_acc: 0.6479\n",
      "Epoch 32/150\n",
      "163/163 [==============================] - 0s 162us/step - loss: 0.3977 - acc: 0.8589 - val_loss: 1.2108 - val_acc: 0.6479\n",
      "Epoch 33/150\n",
      "163/163 [==============================] - 0s 185us/step - loss: 0.3962 - acc: 0.8650 - val_loss: 1.2075 - val_acc: 0.6620\n",
      "Epoch 34/150\n",
      "163/163 [==============================] - 0s 171us/step - loss: 0.3951 - acc: 0.8712 - val_loss: 1.2055 - val_acc: 0.6620\n",
      "Epoch 35/150\n",
      "163/163 [==============================] - 0s 166us/step - loss: 0.3942 - acc: 0.8650 - val_loss: 1.2037 - val_acc: 0.6620\n",
      "Epoch 36/150\n",
      "163/163 [==============================] - 0s 166us/step - loss: 0.3936 - acc: 0.8650 - val_loss: 1.2014 - val_acc: 0.6620\n",
      "Epoch 37/150\n",
      "163/163 [==============================] - 0s 162us/step - loss: 0.3921 - acc: 0.8712 - val_loss: 1.1974 - val_acc: 0.6620\n",
      "Epoch 38/150\n",
      "163/163 [==============================] - 0s 187us/step - loss: 0.3914 - acc: 0.8773 - val_loss: 1.1958 - val_acc: 0.6620\n",
      "Epoch 39/150\n",
      "163/163 [==============================] - 0s 185us/step - loss: 0.3906 - acc: 0.8773 - val_loss: 1.1950 - val_acc: 0.6620\n",
      "Epoch 40/150\n",
      "163/163 [==============================] - 0s 174us/step - loss: 0.3899 - acc: 0.8773 - val_loss: 1.1927 - val_acc: 0.6620\n",
      "Epoch 41/150\n",
      "163/163 [==============================] - 0s 171us/step - loss: 0.3890 - acc: 0.8773 - val_loss: 1.1919 - val_acc: 0.6620\n",
      "Epoch 42/150\n",
      "163/163 [==============================] - 0s 191us/step - loss: 0.3885 - acc: 0.8834 - val_loss: 1.1887 - val_acc: 0.6620\n",
      "Epoch 43/150\n",
      "163/163 [==============================] - 0s 164us/step - loss: 0.3876 - acc: 0.8834 - val_loss: 1.1853 - val_acc: 0.6620\n",
      "Epoch 44/150\n",
      "163/163 [==============================] - 0s 175us/step - loss: 0.3868 - acc: 0.8834 - val_loss: 1.1856 - val_acc: 0.6620\n",
      "Epoch 45/150\n",
      "163/163 [==============================] - 0s 164us/step - loss: 0.3863 - acc: 0.8834 - val_loss: 1.1787 - val_acc: 0.6620\n",
      "Epoch 46/150\n",
      "163/163 [==============================] - 0s 168us/step - loss: 0.3858 - acc: 0.8896 - val_loss: 1.1787 - val_acc: 0.6620\n",
      "Epoch 47/150\n",
      "163/163 [==============================] - 0s 168us/step - loss: 0.3849 - acc: 0.8896 - val_loss: 1.1771 - val_acc: 0.6620\n",
      "Epoch 48/150\n",
      "163/163 [==============================] - 0s 179us/step - loss: 0.3843 - acc: 0.8896 - val_loss: 1.1751 - val_acc: 0.6620\n",
      "Epoch 49/150\n",
      "163/163 [==============================] - 0s 163us/step - loss: 0.3840 - acc: 0.8896 - val_loss: 1.1725 - val_acc: 0.6620\n",
      "Epoch 50/150\n",
      "163/163 [==============================] - 0s 186us/step - loss: 0.3832 - acc: 0.8896 - val_loss: 1.1732 - val_acc: 0.6620\n",
      "Epoch 51/150\n",
      "163/163 [==============================] - 0s 194us/step - loss: 0.3828 - acc: 0.8896 - val_loss: 1.1752 - val_acc: 0.6620\n",
      "Epoch 00051: early stopping\n",
      "234/234 [==============================] - 0s 62us/step\n",
      "175/175 [==============================] - 0s 81us/step\n"
     ]
    }
   ],
   "source": [
    "# backpropagation + mini batch + early stopping\n",
    "model2 = Sequential()\n",
    "model2.add(Dense(2, input_dim=9, activation='relu'))\n",
    "model2.add(Dense(1, activation='sigmoid'))\n",
    "sgd = SGD(lr=0.01, momentum=0.9, decay=0.01, nesterov=False)\n",
    "model2.compile(loss='binary_crossentropy', optimizer=sgd, metrics=['accuracy'])\n",
    "#early stopping\n",
    "es = EarlyStopping(monitor='val_loss', mode='min', verbose=1, patience=50)\n",
    "#mini batches\n",
    "# fit model\n",
    "history = model2.fit(X_train_normalizado, y_train, validation_split=0.3, epochs=150, verbose=1, batch_size=10, callbacks=[es])\n",
    "# evaluate the model\n",
    "_, train_acc = model2.evaluate(X_train_normalizado, y_train, verbose=1, batch_size=10)\n",
    "_, test_acc = model2.evaluate(X_test_normalizado, y_test, verbose=1, batch_size=10)"
   ]
  },
  {
   "cell_type": "code",
   "execution_count": 19,
   "metadata": {
    "colab": {
     "base_uri": "https://localhost:8080/",
     "height": 282
    },
    "colab_type": "code",
    "id": "KZtD24WuVVmR",
    "outputId": "ce49d839-9aba-4ce4-b4ce-de1bc8cc5997"
   },
   "outputs": [
    {
     "name": "stdout",
     "output_type": "stream",
     "text": [
      "Train: 0.821, Test: 0.669\n"
     ]
    },
    {
     "data": {
      "image/png": "[encoded data removed]",
      "text/plain": [
       "<Figure size 432x288 with 1 Axes>"
      ]
     },
     "metadata": {
      "tags": []
     },
     "output_type": "display_data"
    }
   ],
   "source": [
    "# plot training history\n",
    "print('Train: %.3f, Test: %.3f' % (train_acc, test_acc))\n",
    "acc2=train_acc\n",
    "pyplot.plot(history.history['loss'], label='train')\n",
    "pyplot.plot(history.history['val_loss'], label='validation')\n",
    "pyplot.legend()\n",
    "pyplot.show()"
   ]
  },
  {
   "cell_type": "markdown",
   "metadata": {
    "colab_type": "text",
    "id": "83XgEYrkauB1"
   },
   "source": [
    "Resultados"
   ]
  },
  {
   "cell_type": "code",
   "execution_count": 20,
   "metadata": {
    "colab": {
     "base_uri": "https://localhost:8080/",
     "height": 68
    },
    "colab_type": "code",
    "id": "0-x7OQlAavQy",
    "outputId": "fcaa048e-8ac1-488b-9cab-b3b4185e4b93"
   },
   "outputs": [
    {
     "name": "stdout",
     "output_type": "stream",
     "text": [
      "[[85 40]\n",
      " [18 32]]\n",
      "La sensibilidad es:  0.64  la especificidad es:  0.68  y los falsos negativos son:  18\n"
     ]
    }
   ],
   "source": [
    "y_pred = model2.predict(X_test_normalizado)\n",
    "y_pred = (y_pred > 0.5)\n",
    "y_pred_val = model2.predict(X_train_normalizado)\n",
    "y_pred_val = (y_pred_val > 0.5)\n",
    "# Making the Confusion Matrix\n",
    "from sklearn.metrics import confusion_matrix\n",
    "cm = confusion_matrix(y_test, y_pred)\n",
    "cm_val = confusion_matrix(y_train, y_pred_val)\n",
    "print(cm)\n",
    "\n",
    "res=resultados(cm)\n",
    "res_val=resultados(cm_val)\n",
    "print(\"La sensibilidad es: \",res[0],\" la especificidad es: \",res[1],\" y los falsos negativos son: \", res[2])\n",
    "sen2=res_val[0]\n",
    "fn2=res_val[2]"
   ]
  },
  {
   "cell_type": "markdown",
   "metadata": {
    "colab_type": "text",
    "id": "DZV1_2yeVZ0U"
   },
   "source": [
    "Para 1 neurona en la capa oculta"
   ]
  },
  {
   "cell_type": "code",
   "execution_count": 21,
   "metadata": {
    "colab": {
     "base_uri": "https://localhost:8080/",
     "height": 1000
    },
    "colab_type": "code",
    "id": "CnDjw-oaVZCw",
    "outputId": "8895f7fe-363b-4d80-c960-b9ddf9c6a2fb"
   },
   "outputs": [
    {
     "name": "stdout",
     "output_type": "stream",
     "text": [
      "Train on 163 samples, validate on 71 samples\n",
      "Epoch 1/150\n",
      "163/163 [==============================] - 0s 2ms/step - loss: 0.5511 - acc: 0.6687 - val_loss: 0.7823 - val_acc: 0.4930\n",
      "Epoch 2/150\n",
      "163/163 [==============================] - 0s 203us/step - loss: 0.5451 - acc: 0.6748 - val_loss: 0.7944 - val_acc: 0.4648\n",
      "Epoch 3/150\n",
      "163/163 [==============================] - 0s 170us/step - loss: 0.5408 - acc: 0.6933 - val_loss: 0.8064 - val_acc: 0.4507\n",
      "Epoch 4/150\n",
      "163/163 [==============================] - 0s 155us/step - loss: 0.5362 - acc: 0.6871 - val_loss: 0.8159 - val_acc: 0.4366\n",
      "Epoch 5/150\n",
      "163/163 [==============================] - 0s 153us/step - loss: 0.5322 - acc: 0.6994 - val_loss: 0.8258 - val_acc: 0.4085\n",
      "Epoch 6/150\n",
      "163/163 [==============================] - 0s 173us/step - loss: 0.5283 - acc: 0.6994 - val_loss: 0.8353 - val_acc: 0.4085\n",
      "Epoch 7/150\n",
      "163/163 [==============================] - 0s 156us/step - loss: 0.5247 - acc: 0.7117 - val_loss: 0.8448 - val_acc: 0.4085\n",
      "Epoch 8/150\n",
      "163/163 [==============================] - 0s 179us/step - loss: 0.5210 - acc: 0.7117 - val_loss: 0.8535 - val_acc: 0.4085\n",
      "Epoch 9/150\n",
      "163/163 [==============================] - 0s 176us/step - loss: 0.5178 - acc: 0.6994 - val_loss: 0.8638 - val_acc: 0.4085\n",
      "Epoch 10/150\n",
      "163/163 [==============================] - 0s 179us/step - loss: 0.5145 - acc: 0.6933 - val_loss: 0.8729 - val_acc: 0.3380\n",
      "Epoch 11/150\n",
      "163/163 [==============================] - 0s 194us/step - loss: 0.5118 - acc: 0.7055 - val_loss: 0.8833 - val_acc: 0.3380\n",
      "Epoch 12/150\n",
      "163/163 [==============================] - 0s 165us/step - loss: 0.5087 - acc: 0.6994 - val_loss: 0.8877 - val_acc: 0.3380\n",
      "Epoch 13/150\n",
      "163/163 [==============================] - 0s 178us/step - loss: 0.5066 - acc: 0.7117 - val_loss: 0.8990 - val_acc: 0.2817\n",
      "Epoch 14/150\n",
      "163/163 [==============================] - 0s 177us/step - loss: 0.5041 - acc: 0.7178 - val_loss: 0.9024 - val_acc: 0.2817\n",
      "Epoch 15/150\n",
      "163/163 [==============================] - 0s 174us/step - loss: 0.5015 - acc: 0.7178 - val_loss: 0.9101 - val_acc: 0.2535\n",
      "Epoch 16/150\n",
      "163/163 [==============================] - 0s 174us/step - loss: 0.4994 - acc: 0.7239 - val_loss: 0.9183 - val_acc: 0.1972\n",
      "Epoch 17/150\n",
      "163/163 [==============================] - 0s 157us/step - loss: 0.4977 - acc: 0.7239 - val_loss: 0.9238 - val_acc: 0.1972\n",
      "Epoch 18/150\n",
      "163/163 [==============================] - 0s 199us/step - loss: 0.4957 - acc: 0.7178 - val_loss: 0.9300 - val_acc: 0.1831\n",
      "Epoch 19/150\n",
      "163/163 [==============================] - 0s 225us/step - loss: 0.4937 - acc: 0.7178 - val_loss: 0.9354 - val_acc: 0.1831\n",
      "Epoch 20/150\n",
      "163/163 [==============================] - 0s 193us/step - loss: 0.4918 - acc: 0.7178 - val_loss: 0.9410 - val_acc: 0.1831\n",
      "Epoch 21/150\n",
      "163/163 [==============================] - 0s 215us/step - loss: 0.4901 - acc: 0.7178 - val_loss: 0.9443 - val_acc: 0.1831\n",
      "Epoch 22/150\n",
      "163/163 [==============================] - 0s 171us/step - loss: 0.4888 - acc: 0.7178 - val_loss: 0.9473 - val_acc: 0.1831\n",
      "Epoch 23/150\n",
      "163/163 [==============================] - 0s 196us/step - loss: 0.4871 - acc: 0.7178 - val_loss: 0.9515 - val_acc: 0.1831\n",
      "Epoch 24/150\n",
      "163/163 [==============================] - 0s 183us/step - loss: 0.4857 - acc: 0.7239 - val_loss: 0.9550 - val_acc: 0.1831\n",
      "Epoch 25/150\n",
      "163/163 [==============================] - 0s 172us/step - loss: 0.4844 - acc: 0.7178 - val_loss: 0.9607 - val_acc: 0.1831\n",
      "Epoch 26/150\n",
      "163/163 [==============================] - 0s 182us/step - loss: 0.4831 - acc: 0.7301 - val_loss: 0.9639 - val_acc: 0.1831\n",
      "Epoch 27/150\n",
      "163/163 [==============================] - 0s 172us/step - loss: 0.4819 - acc: 0.7239 - val_loss: 0.9630 - val_acc: 0.1972\n",
      "Epoch 28/150\n",
      "163/163 [==============================] - 0s 172us/step - loss: 0.4805 - acc: 0.7362 - val_loss: 0.9653 - val_acc: 0.1972\n",
      "Epoch 29/150\n",
      "163/163 [==============================] - 0s 164us/step - loss: 0.4794 - acc: 0.7362 - val_loss: 0.9693 - val_acc: 0.1972\n",
      "Epoch 30/150\n",
      "163/163 [==============================] - 0s 187us/step - loss: 0.4781 - acc: 0.7362 - val_loss: 0.9719 - val_acc: 0.2113\n",
      "Epoch 31/150\n",
      "163/163 [==============================] - 0s 162us/step - loss: 0.4768 - acc: 0.7362 - val_loss: 0.9726 - val_acc: 0.2535\n",
      "Epoch 32/150\n",
      "163/163 [==============================] - 0s 177us/step - loss: 0.4755 - acc: 0.7362 - val_loss: 0.9769 - val_acc: 0.2394\n",
      "Epoch 33/150\n",
      "163/163 [==============================] - 0s 152us/step - loss: 0.4740 - acc: 0.7423 - val_loss: 0.9789 - val_acc: 0.2394\n",
      "Epoch 34/150\n",
      "163/163 [==============================] - 0s 188us/step - loss: 0.4727 - acc: 0.7423 - val_loss: 0.9819 - val_acc: 0.2535\n",
      "Epoch 35/150\n",
      "163/163 [==============================] - 0s 177us/step - loss: 0.4712 - acc: 0.7423 - val_loss: 0.9803 - val_acc: 0.2535\n",
      "Epoch 36/150\n",
      "163/163 [==============================] - 0s 175us/step - loss: 0.4695 - acc: 0.7546 - val_loss: 0.9776 - val_acc: 0.2817\n",
      "Epoch 37/150\n",
      "163/163 [==============================] - 0s 174us/step - loss: 0.4678 - acc: 0.7607 - val_loss: 0.9786 - val_acc: 0.3099\n",
      "Epoch 38/150\n",
      "163/163 [==============================] - 0s 164us/step - loss: 0.4661 - acc: 0.7607 - val_loss: 0.9825 - val_acc: 0.2958\n",
      "Epoch 39/150\n",
      "163/163 [==============================] - 0s 216us/step - loss: 0.4644 - acc: 0.7607 - val_loss: 0.9810 - val_acc: 0.3380\n",
      "Epoch 40/150\n",
      "163/163 [==============================] - 0s 161us/step - loss: 0.4627 - acc: 0.7669 - val_loss: 0.9846 - val_acc: 0.3380\n",
      "Epoch 41/150\n",
      "163/163 [==============================] - 0s 197us/step - loss: 0.4612 - acc: 0.7730 - val_loss: 0.9845 - val_acc: 0.3380\n",
      "Epoch 42/150\n",
      "163/163 [==============================] - 0s 154us/step - loss: 0.4593 - acc: 0.7791 - val_loss: 0.9866 - val_acc: 0.3380\n",
      "Epoch 43/150\n",
      "163/163 [==============================] - 0s 181us/step - loss: 0.4578 - acc: 0.7791 - val_loss: 0.9865 - val_acc: 0.3380\n",
      "Epoch 44/150\n",
      "163/163 [==============================] - 0s 184us/step - loss: 0.4566 - acc: 0.7791 - val_loss: 0.9883 - val_acc: 0.3521\n",
      "Epoch 45/150\n",
      "163/163 [==============================] - 0s 166us/step - loss: 0.4553 - acc: 0.7730 - val_loss: 0.9888 - val_acc: 0.3803\n",
      "Epoch 46/150\n",
      "163/163 [==============================] - 0s 188us/step - loss: 0.4538 - acc: 0.7669 - val_loss: 0.9922 - val_acc: 0.3803\n",
      "Epoch 47/150\n",
      "163/163 [==============================] - 0s 185us/step - loss: 0.4525 - acc: 0.7730 - val_loss: 0.9938 - val_acc: 0.3803\n",
      "Epoch 48/150\n",
      "163/163 [==============================] - 0s 187us/step - loss: 0.4514 - acc: 0.7853 - val_loss: 0.9942 - val_acc: 0.4225\n",
      "Epoch 49/150\n",
      "163/163 [==============================] - 0s 168us/step - loss: 0.4499 - acc: 0.7853 - val_loss: 0.9957 - val_acc: 0.4225\n",
      "Epoch 50/150\n",
      "163/163 [==============================] - 0s 162us/step - loss: 0.4486 - acc: 0.7853 - val_loss: 0.9942 - val_acc: 0.4366\n",
      "Epoch 51/150\n",
      "163/163 [==============================] - 0s 214us/step - loss: 0.4471 - acc: 0.7853 - val_loss: 0.9938 - val_acc: 0.4648\n",
      "Epoch 00051: early stopping\n",
      "234/234 [==============================] - 0s 76us/step\n",
      "175/175 [==============================] - 0s 89us/step\n"
     ]
    }
   ],
   "source": [
    "# backpropagation + mini batch + early stopping\n",
    "model1 = Sequential()\n",
    "model1.add(Dense(2, input_dim=9, activation='relu'))\n",
    "model1.add(Dense(1, activation='sigmoid'))\n",
    "sgd = SGD(lr=0.01, momentum=0.9, decay=0.01, nesterov=False)\n",
    "model1.compile(loss='binary_crossentropy', optimizer='adam', metrics=['accuracy'])\n",
    "#early stopping\n",
    "es = EarlyStopping(monitor='val_loss', mode='min', verbose=1, patience=50)\n",
    "#mini batches\n",
    "# fit model\n",
    "history = model1.fit(X_train_normalizado, y_train, validation_split=0.3, epochs=150, verbose=1, batch_size=10, callbacks=[es])\n",
    "# evaluate the model\n",
    "_, train_acc = model1.evaluate(X_train_normalizado, y_train, verbose=1, batch_size=10)\n",
    "_, test_acc = model1.evaluate(X_test_normalizado, y_test, verbose=1, batch_size=10)"
   ]
  },
  {
   "cell_type": "code",
   "execution_count": 22,
   "metadata": {
    "colab": {
     "base_uri": "https://localhost:8080/",
     "height": 282
    },
    "colab_type": "code",
    "id": "nQOT3kZBVcsO",
    "outputId": "e6a9d20a-f3f2-40b3-914e-d0fa25f15848"
   },
   "outputs": [
    {
     "name": "stdout",
     "output_type": "stream",
     "text": [
      "Train: 0.697, Test: 0.743\n"
     ]
    },
    {
     "data": {
      "image/png": "[encoded data removed]",
      "text/plain": [
       "<Figure size 432x288 with 1 Axes>"
      ]
     },
     "metadata": {
      "tags": []
     },
     "output_type": "display_data"
    }
   ],
   "source": [
    "# plot training history\n",
    "print('Train: %.3f, Test: %.3f' % (train_acc, test_acc))\n",
    "acc1=train_acc\n",
    "pyplot.plot(history.history['loss'], label='train')\n",
    "pyplot.plot(history.history['val_loss'], label='validation')\n",
    "pyplot.legend()\n",
    "pyplot.show()"
   ]
  },
  {
   "cell_type": "markdown",
   "metadata": {
    "colab_type": "text",
    "id": "Bu40Q9Dyai98"
   },
   "source": [
    "Resultados"
   ]
  },
  {
   "cell_type": "code",
   "execution_count": 23,
   "metadata": {
    "colab": {
     "base_uri": "https://localhost:8080/",
     "height": 68
    },
    "colab_type": "code",
    "id": "PlH9FWDZajLP",
    "outputId": "4be765ed-b64b-491e-ce90-b1e9b9644276"
   },
   "outputs": [
    {
     "name": "stdout",
     "output_type": "stream",
     "text": [
      "[[106  19]\n",
      " [ 26  24]]\n",
      "La sensibilidad es:  0.48  la especificidad es:  0.848  y los falsos negativos son:  26\n"
     ]
    }
   ],
   "source": [
    "y_pred = model1.predict(X_test_normalizado)\n",
    "y_pred_val = model1.predict(X_train_normalizado)\n",
    "y_pred = (y_pred > 0.5)\n",
    "y_pred_val = (y_pred_val > 0.5)\n",
    "# Making the Confusion Matrix\n",
    "from sklearn.metrics import confusion_matrix\n",
    "cm = confusion_matrix(y_test, y_pred)\n",
    "cm_val = confusion_matrix(y_train, y_pred_val)\n",
    "print(cm)\n",
    "res=resultados(cm)\n",
    "res_val=resultados(cm_val)\n",
    "print(\"La sensibilidad es: \",res[0],\" la especificidad es: \",res[1],\" y los falsos negativos son: \", res[2])\n",
    "sen1=res_val[0]\n",
    "fn1=res_val[2]"
   ]
  },
  {
   "cell_type": "markdown",
   "metadata": {
    "colab_type": "text",
    "id": "5LykvNwNXGkp"
   },
   "source": [
    "## PERCEPTRÓN MONOCAPA"
   ]
  },
  {
   "cell_type": "code",
   "execution_count": 24,
   "metadata": {
    "colab": {
     "base_uri": "https://localhost:8080/",
     "height": 1000
    },
    "colab_type": "code",
    "id": "MwjWbg5AV2au",
    "outputId": "3a747f52-3190-4e3e-ded1-b35bfeb6b226"
   },
   "outputs": [
    {
     "name": "stderr",
     "output_type": "stream",
     "text": [
      "/usr/local/lib/python3.6/dist-packages/ipykernel_launcher.py:4: UserWarning: Update your `Dense` call to the Keras 2 API: `Dense(activation=\"relu\", input_dim=9, units=9, kernel_initializer=\"uniform\")`\n",
      "  after removing the cwd from sys.path.\n",
      "/usr/local/lib/python3.6/dist-packages/ipykernel_launcher.py:6: UserWarning: Update your `Dense` call to the Keras 2 API: `Dense(activation=\"sigmoid\", units=1, kernel_initializer=\"uniform\")`\n",
      "  \n"
     ]
    },
    {
     "name": "stdout",
     "output_type": "stream",
     "text": [
      "Train on 234 samples, validate on 175 samples\n",
      "Epoch 1/150\n",
      "234/234 [==============================] - 0s 1ms/step - loss: 0.6907 - acc: 0.7393 - val_loss: 0.6907 - val_acc: 0.6514\n",
      "Epoch 2/150\n",
      "234/234 [==============================] - 0s 166us/step - loss: 0.6842 - acc: 0.7821 - val_loss: 0.6856 - val_acc: 0.6514\n",
      "Epoch 3/150\n",
      "234/234 [==============================] - 0s 175us/step - loss: 0.6718 - acc: 0.7949 - val_loss: 0.6756 - val_acc: 0.6457\n",
      "Epoch 4/150\n",
      "234/234 [==============================] - 0s 174us/step - loss: 0.6516 - acc: 0.7949 - val_loss: 0.6614 - val_acc: 0.6400\n",
      "Epoch 5/150\n",
      "234/234 [==============================] - 0s 185us/step - loss: 0.6247 - acc: 0.7949 - val_loss: 0.6470 - val_acc: 0.6457\n",
      "Epoch 6/150\n",
      "234/234 [==============================] - 0s 191us/step - loss: 0.5947 - acc: 0.7906 - val_loss: 0.6348 - val_acc: 0.6400\n",
      "Epoch 7/150\n",
      "234/234 [==============================] - 0s 192us/step - loss: 0.5644 - acc: 0.7949 - val_loss: 0.6296 - val_acc: 0.6400\n",
      "Epoch 8/150\n",
      "234/234 [==============================] - 0s 196us/step - loss: 0.5369 - acc: 0.7949 - val_loss: 0.6309 - val_acc: 0.6400\n",
      "Epoch 9/150\n",
      "234/234 [==============================] - 0s 186us/step - loss: 0.5107 - acc: 0.7991 - val_loss: 0.6380 - val_acc: 0.6400\n",
      "Epoch 10/150\n",
      "234/234 [==============================] - 0s 192us/step - loss: 0.4906 - acc: 0.7991 - val_loss: 0.6485 - val_acc: 0.6400\n",
      "Epoch 11/150\n",
      "234/234 [==============================] - 0s 192us/step - loss: 0.4734 - acc: 0.8034 - val_loss: 0.6623 - val_acc: 0.6400\n",
      "Epoch 12/150\n",
      "234/234 [==============================] - 0s 179us/step - loss: 0.4592 - acc: 0.8077 - val_loss: 0.6717 - val_acc: 0.6457\n",
      "Epoch 13/150\n",
      "234/234 [==============================] - 0s 187us/step - loss: 0.4484 - acc: 0.8162 - val_loss: 0.6821 - val_acc: 0.6514\n",
      "Epoch 14/150\n",
      "234/234 [==============================] - 0s 212us/step - loss: 0.4379 - acc: 0.8120 - val_loss: 0.6973 - val_acc: 0.6514\n",
      "Epoch 15/150\n",
      "234/234 [==============================] - 0s 176us/step - loss: 0.4301 - acc: 0.8120 - val_loss: 0.7111 - val_acc: 0.6514\n",
      "Epoch 16/150\n",
      "234/234 [==============================] - 0s 208us/step - loss: 0.4229 - acc: 0.8120 - val_loss: 0.7184 - val_acc: 0.6457\n",
      "Epoch 17/150\n",
      "234/234 [==============================] - 0s 195us/step - loss: 0.4155 - acc: 0.8120 - val_loss: 0.7278 - val_acc: 0.6457\n",
      "Epoch 18/150\n",
      "234/234 [==============================] - 0s 180us/step - loss: 0.4089 - acc: 0.8120 - val_loss: 0.7403 - val_acc: 0.6457\n",
      "Epoch 19/150\n",
      "234/234 [==============================] - 0s 176us/step - loss: 0.4031 - acc: 0.8205 - val_loss: 0.7514 - val_acc: 0.6457\n",
      "Epoch 20/150\n",
      "234/234 [==============================] - 0s 175us/step - loss: 0.3980 - acc: 0.8205 - val_loss: 0.7623 - val_acc: 0.6400\n",
      "Epoch 21/150\n",
      "234/234 [==============================] - 0s 196us/step - loss: 0.3924 - acc: 0.8205 - val_loss: 0.7721 - val_acc: 0.6400\n",
      "Epoch 22/150\n",
      "234/234 [==============================] - 0s 207us/step - loss: 0.3879 - acc: 0.8162 - val_loss: 0.7830 - val_acc: 0.6400\n",
      "Epoch 23/150\n",
      "234/234 [==============================] - 0s 193us/step - loss: 0.3837 - acc: 0.8205 - val_loss: 0.8037 - val_acc: 0.6400\n",
      "Epoch 24/150\n",
      "234/234 [==============================] - 0s 226us/step - loss: 0.3790 - acc: 0.8205 - val_loss: 0.8072 - val_acc: 0.6457\n",
      "Epoch 25/150\n",
      "234/234 [==============================] - 0s 186us/step - loss: 0.3753 - acc: 0.8248 - val_loss: 0.8138 - val_acc: 0.6457\n",
      "Epoch 26/150\n",
      "234/234 [==============================] - 0s 205us/step - loss: 0.3722 - acc: 0.8291 - val_loss: 0.8367 - val_acc: 0.6514\n",
      "Epoch 27/150\n",
      "234/234 [==============================] - 0s 201us/step - loss: 0.3678 - acc: 0.8376 - val_loss: 0.8377 - val_acc: 0.6514\n",
      "Epoch 28/150\n",
      "234/234 [==============================] - 0s 195us/step - loss: 0.3652 - acc: 0.8333 - val_loss: 0.8460 - val_acc: 0.6571\n",
      "Epoch 29/150\n",
      "234/234 [==============================] - 0s 186us/step - loss: 0.3617 - acc: 0.8333 - val_loss: 0.8569 - val_acc: 0.6457\n",
      "Epoch 30/150\n",
      "234/234 [==============================] - 0s 184us/step - loss: 0.3590 - acc: 0.8333 - val_loss: 0.8749 - val_acc: 0.6457\n",
      "Epoch 31/150\n",
      "234/234 [==============================] - 0s 188us/step - loss: 0.3566 - acc: 0.8376 - val_loss: 0.8829 - val_acc: 0.6457\n",
      "Epoch 32/150\n",
      "234/234 [==============================] - 0s 204us/step - loss: 0.3541 - acc: 0.8419 - val_loss: 0.8946 - val_acc: 0.6343\n",
      "Epoch 33/150\n",
      "234/234 [==============================] - 0s 196us/step - loss: 0.3521 - acc: 0.8462 - val_loss: 0.8945 - val_acc: 0.6343\n",
      "Epoch 34/150\n",
      "234/234 [==============================] - 0s 194us/step - loss: 0.3492 - acc: 0.8504 - val_loss: 0.9048 - val_acc: 0.6343\n",
      "Epoch 35/150\n",
      "234/234 [==============================] - 0s 185us/step - loss: 0.3475 - acc: 0.8504 - val_loss: 0.9078 - val_acc: 0.6343\n",
      "Epoch 36/150\n",
      "234/234 [==============================] - 0s 181us/step - loss: 0.3452 - acc: 0.8462 - val_loss: 0.9213 - val_acc: 0.6343\n",
      "Epoch 37/150\n",
      "234/234 [==============================] - 0s 224us/step - loss: 0.3431 - acc: 0.8504 - val_loss: 0.9353 - val_acc: 0.6343\n",
      "Epoch 38/150\n",
      "234/234 [==============================] - 0s 183us/step - loss: 0.3414 - acc: 0.8462 - val_loss: 0.9405 - val_acc: 0.6343\n",
      "Epoch 39/150\n",
      "234/234 [==============================] - 0s 204us/step - loss: 0.3400 - acc: 0.8462 - val_loss: 0.9457 - val_acc: 0.6400\n",
      "Epoch 40/150\n",
      "234/234 [==============================] - 0s 185us/step - loss: 0.3381 - acc: 0.8462 - val_loss: 0.9553 - val_acc: 0.6400\n",
      "Epoch 41/150\n",
      "234/234 [==============================] - 0s 184us/step - loss: 0.3365 - acc: 0.8547 - val_loss: 0.9639 - val_acc: 0.6400\n",
      "Epoch 42/150\n",
      "234/234 [==============================] - 0s 192us/step - loss: 0.3347 - acc: 0.8547 - val_loss: 0.9804 - val_acc: 0.6400\n",
      "Epoch 43/150\n",
      "234/234 [==============================] - 0s 188us/step - loss: 0.3335 - acc: 0.8504 - val_loss: 0.9793 - val_acc: 0.6400\n",
      "Epoch 44/150\n",
      "234/234 [==============================] - 0s 182us/step - loss: 0.3319 - acc: 0.8547 - val_loss: 0.9872 - val_acc: 0.6343\n",
      "Epoch 45/150\n",
      "234/234 [==============================] - 0s 182us/step - loss: 0.3306 - acc: 0.8547 - val_loss: 0.9958 - val_acc: 0.6343\n",
      "Epoch 46/150\n",
      "234/234 [==============================] - 0s 185us/step - loss: 0.3299 - acc: 0.8590 - val_loss: 0.9951 - val_acc: 0.6343\n",
      "Epoch 47/150\n",
      "234/234 [==============================] - 0s 207us/step - loss: 0.3280 - acc: 0.8590 - val_loss: 1.0115 - val_acc: 0.6400\n",
      "Epoch 48/150\n",
      "234/234 [==============================] - 0s 198us/step - loss: 0.3267 - acc: 0.8547 - val_loss: 1.0226 - val_acc: 0.6400\n",
      "Epoch 49/150\n",
      "234/234 [==============================] - 0s 207us/step - loss: 0.3255 - acc: 0.8590 - val_loss: 1.0166 - val_acc: 0.6400\n",
      "Epoch 50/150\n",
      "234/234 [==============================] - 0s 188us/step - loss: 0.3238 - acc: 0.8590 - val_loss: 1.0240 - val_acc: 0.6400\n",
      "Epoch 51/150\n",
      "234/234 [==============================] - 0s 184us/step - loss: 0.3229 - acc: 0.8590 - val_loss: 1.0366 - val_acc: 0.6400\n",
      "Epoch 52/150\n",
      "234/234 [==============================] - 0s 193us/step - loss: 0.3215 - acc: 0.8632 - val_loss: 1.0439 - val_acc: 0.6400\n",
      "Epoch 53/150\n",
      "234/234 [==============================] - 0s 182us/step - loss: 0.3204 - acc: 0.8632 - val_loss: 1.0510 - val_acc: 0.6343\n",
      "Epoch 54/150\n",
      "234/234 [==============================] - 0s 193us/step - loss: 0.3191 - acc: 0.8632 - val_loss: 1.0649 - val_acc: 0.6343\n",
      "Epoch 55/150\n",
      "234/234 [==============================] - 0s 193us/step - loss: 0.3182 - acc: 0.8632 - val_loss: 1.0644 - val_acc: 0.6400\n",
      "Epoch 56/150\n",
      "234/234 [==============================] - 0s 181us/step - loss: 0.3170 - acc: 0.8632 - val_loss: 1.0795 - val_acc: 0.6400\n",
      "Epoch 57/150\n",
      "234/234 [==============================] - 0s 189us/step - loss: 0.3161 - acc: 0.8632 - val_loss: 1.0711 - val_acc: 0.6400\n",
      "Epoch 00057: early stopping\n",
      "234/234 [==============================] - 0s 67us/step\n",
      "175/175 [==============================] - 0s 93us/step\n"
     ]
    }
   ],
   "source": [
    "from keras.utils import np_utils\n",
    "# backpropagation + mini batch + early stopping\n",
    "model = Sequential()\n",
    "model.add(Dense(output_dim=9, init='uniform', activation='relu', input_dim=9))\n",
    "# Adding the output layer\n",
    "model.add(Dense(output_dim=1, init='uniform', activation='sigmoid'))\n",
    "model.compile(loss='binary_crossentropy', optimizer='adam', metrics=['accuracy'])\n",
    "#early stopping\n",
    "es = EarlyStopping(monitor='val_loss', mode='min', verbose=1, patience=50)\n",
    "#mini batches\n",
    "# fit model\n",
    "history = model.fit(X_train_normalizado, y_train, validation_data=(X_test_normalizado, y_test), epochs=150, verbose=1, batch_size=10, callbacks=[es])\n",
    "# evaluate the model\n",
    "_, train_acc = model.evaluate(X_train_normalizado, y_train, verbose=1, batch_size=10)\n",
    "_, test_acc = model.evaluate(X_test_normalizado, y_test, verbose=1, batch_size=10)\n"
   ]
  },
  {
   "cell_type": "code",
   "execution_count": 25,
   "metadata": {
    "colab": {
     "base_uri": "https://localhost:8080/",
     "height": 282
    },
    "colab_type": "code",
    "id": "VnLvKKodXSFN",
    "outputId": "e4ba6813-bd0a-4484-a21b-dbf595ca4800"
   },
   "outputs": [
    {
     "name": "stdout",
     "output_type": "stream",
     "text": [
      "Train: 0.868, Test: 0.640\n"
     ]
    },
    {
     "data": {
      "image/png": "[encoded data removed]",
      "text/plain": [
       "<Figure size 432x288 with 1 Axes>"
      ]
     },
     "metadata": {
      "tags": []
     },
     "output_type": "display_data"
    }
   ],
   "source": [
    "print('Train: %.3f, Test: %.3f' % (train_acc, test_acc))\n",
    "\n",
    "pyplot.plot(history.history['loss'], label='train')\n",
    "pyplot.plot(history.history['val_loss'], label='test')\n",
    "pyplot.legend()\n",
    "pyplot.show()"
   ]
  },
  {
   "cell_type": "markdown",
   "metadata": {
    "colab_type": "text",
    "id": "sCkb2_QragzL"
   },
   "source": [
    "Resultados"
   ]
  },
  {
   "cell_type": "code",
   "execution_count": 26,
   "metadata": {
    "colab": {
     "base_uri": "https://localhost:8080/",
     "height": 51
    },
    "colab_type": "code",
    "id": "clO-jSeNZ_Ic",
    "outputId": "e22786c2-b72d-4120-f623-1b135f74723c"
   },
   "outputs": [
    {
     "name": "stdout",
     "output_type": "stream",
     "text": [
      "[[73 52]\n",
      " [11 39]]\n"
     ]
    }
   ],
   "source": [
    "y_pred = model.predict(X_test_normalizado)\n",
    "y_pred = (y_pred > 0.5)\n",
    "# Making the Confusion Matrix\n",
    "from sklearn.metrics import confusion_matrix\n",
    "cm = confusion_matrix(y_test, y_pred)\n",
    "resultados(cm)\n",
    "print(cm)"
   ]
  },
  {
   "cell_type": "markdown",
   "metadata": {
    "colab_type": "text",
    "id": "qP5jAB9WcF9z"
   },
   "source": [
    "RED BASE RADIAL (3 neuronas capa oculta)"
   ]
  },
  {
   "cell_type": "code",
   "execution_count": 0,
   "metadata": {
    "colab": {},
    "colab_type": "code",
    "collapsed": true,
    "id": "pgBwAdIVcGHI"
   },
   "outputs": [],
   "source": [
    "from keras.layers import Layer\n",
    "from keras import backend as K\n",
    "\n",
    "class RBFLayer(Layer):\n",
    "    def __init__(self, units, gamma, **kwargs):\n",
    "        super(RBFLayer, self).__init__(**kwargs)\n",
    "        self.units = units\n",
    "        self.gamma = K.cast_to_floatx(gamma)\n",
    "\n",
    "    def build(self, input_shape):\n",
    "        self.mu = self.add_weight(name='mu',\n",
    "                                  shape=(int(input_shape[1]), self.units),\n",
    "                                  initializer='uniform',\n",
    "                                  trainable=True)\n",
    "        super(RBFLayer, self).build(input_shape)\n",
    "\n",
    "    def call(self, inputs):\n",
    "        diff = K.expand_dims(inputs) - self.mu<\n",
    "        res = K.exp(-1 * self.gamma * l2)\n",
    "        return res\n",
    "\n",
    "    def compute_output_shape(self, input_shape):\n",
    "        return (input_shape[0], self.units)"
   ]
  },
  {
   "cell_type": "code",
   "execution_count": 0,
   "metadata": {
    "colab": {},
    "colab_type": "code",
    "collapsed": true,
    "id": "6hVQVPGAadrt"
   },
   "outputs": [],
   "source": [
    "model_rbf = Sequential()\n",
    "model_rbf.add(Dense(3, input_shape=(9,)))\n",
    "model_rbf.add(RBFLayer(1, 0.5))"
   ]
  },
  {
   "cell_type": "code",
   "execution_count": 29,
   "metadata": {
    "colab": {
     "base_uri": "https://localhost:8080/",
     "height": 1000
    },
    "colab_type": "code",
    "id": "x8zj4yjjcsAy",
    "outputId": "4b7e8430-241c-44e2-f04e-e207cebf012f"
   },
   "outputs": [
    {
     "name": "stdout",
     "output_type": "stream",
     "text": [
      "Train on 234 samples, validate on 175 samples\n",
      "Epoch 1/150\n",
      "234/234 [==============================] - 0s 2ms/step - loss: 0.9321 - acc: 0.5256 - val_loss: 0.8350 - val_acc: 0.5600\n",
      "Epoch 2/150\n",
      "234/234 [==============================] - 0s 194us/step - loss: 0.9004 - acc: 0.5513 - val_loss: 0.8276 - val_acc: 0.5714\n",
      "Epoch 3/150\n",
      "234/234 [==============================] - 0s 176us/step - loss: 0.8736 - acc: 0.5556 - val_loss: 0.8172 - val_acc: 0.5600\n",
      "Epoch 4/150\n",
      "234/234 [==============================] - 0s 182us/step - loss: 0.8503 - acc: 0.5641 - val_loss: 0.8119 - val_acc: 0.5371\n",
      "Epoch 5/150\n",
      "234/234 [==============================] - 0s 198us/step - loss: 0.8306 - acc: 0.5769 - val_loss: 0.8094 - val_acc: 0.5314\n",
      "Epoch 6/150\n",
      "234/234 [==============================] - 0s 199us/step - loss: 0.8157 - acc: 0.5855 - val_loss: 0.8093 - val_acc: 0.5314\n",
      "Epoch 7/150\n",
      "234/234 [==============================] - 0s 698us/step - loss: 0.8020 - acc: 0.5940 - val_loss: 0.8084 - val_acc: 0.5257\n",
      "Epoch 8/150\n",
      "234/234 [==============================] - 0s 193us/step - loss: 0.7920 - acc: 0.5940 - val_loss: 0.8093 - val_acc: 0.5200\n",
      "Epoch 9/150\n",
      "234/234 [==============================] - 0s 208us/step - loss: 0.7825 - acc: 0.6026 - val_loss: 0.8093 - val_acc: 0.5200\n",
      "Epoch 10/150\n",
      "234/234 [==============================] - 0s 189us/step - loss: 0.7742 - acc: 0.6026 - val_loss: 0.8100 - val_acc: 0.5143\n",
      "Epoch 11/150\n",
      "234/234 [==============================] - 0s 188us/step - loss: 0.7670 - acc: 0.6111 - val_loss: 0.8118 - val_acc: 0.5257\n",
      "Epoch 12/150\n",
      "234/234 [==============================] - 0s 185us/step - loss: 0.7605 - acc: 0.6197 - val_loss: 0.8126 - val_acc: 0.5200\n",
      "Epoch 13/150\n",
      "234/234 [==============================] - 0s 178us/step - loss: 0.7527 - acc: 0.6154 - val_loss: 0.8112 - val_acc: 0.5257\n",
      "Epoch 14/150\n",
      "234/234 [==============================] - 0s 184us/step - loss: 0.7480 - acc: 0.6239 - val_loss: 0.8094 - val_acc: 0.5257\n",
      "Epoch 15/150\n",
      "234/234 [==============================] - 0s 187us/step - loss: 0.7400 - acc: 0.6197 - val_loss: 0.8126 - val_acc: 0.5200\n",
      "Epoch 16/150\n",
      "234/234 [==============================] - 0s 186us/step - loss: 0.7339 - acc: 0.6111 - val_loss: 0.8141 - val_acc: 0.5257\n",
      "Epoch 17/150\n",
      "234/234 [==============================] - 0s 185us/step - loss: 0.7263 - acc: 0.6111 - val_loss: 0.8162 - val_acc: 0.5371\n",
      "Epoch 18/150\n",
      "234/234 [==============================] - 0s 179us/step - loss: 0.7197 - acc: 0.6026 - val_loss: 0.8145 - val_acc: 0.5314\n",
      "Epoch 19/150\n",
      "234/234 [==============================] - 0s 205us/step - loss: 0.7129 - acc: 0.6154 - val_loss: 0.8194 - val_acc: 0.5314\n",
      "Epoch 20/150\n",
      "234/234 [==============================] - 0s 201us/step - loss: 0.7057 - acc: 0.6325 - val_loss: 0.8070 - val_acc: 0.5314\n",
      "Epoch 21/150\n",
      "234/234 [==============================] - 0s 199us/step - loss: 0.6988 - acc: 0.6368 - val_loss: 0.8049 - val_acc: 0.5486\n",
      "Epoch 22/150\n",
      "234/234 [==============================] - 0s 213us/step - loss: 0.6912 - acc: 0.6368 - val_loss: 0.8074 - val_acc: 0.5486\n",
      "Epoch 23/150\n",
      "234/234 [==============================] - 0s 192us/step - loss: 0.6834 - acc: 0.6410 - val_loss: 0.8075 - val_acc: 0.5429\n",
      "Epoch 24/150\n",
      "234/234 [==============================] - 0s 202us/step - loss: 0.6765 - acc: 0.6496 - val_loss: 0.8084 - val_acc: 0.5371\n",
      "Epoch 25/150\n",
      "234/234 [==============================] - 0s 187us/step - loss: 0.6685 - acc: 0.6496 - val_loss: 0.8067 - val_acc: 0.5429\n",
      "Epoch 26/150\n",
      "234/234 [==============================] - 0s 189us/step - loss: 0.6608 - acc: 0.6581 - val_loss: 0.8067 - val_acc: 0.5486\n",
      "Epoch 27/150\n",
      "234/234 [==============================] - 0s 190us/step - loss: 0.6538 - acc: 0.6581 - val_loss: 0.8090 - val_acc: 0.5429\n",
      "Epoch 28/150\n",
      "234/234 [==============================] - 0s 185us/step - loss: 0.6458 - acc: 0.6624 - val_loss: 0.8098 - val_acc: 0.5429\n",
      "Epoch 29/150\n",
      "234/234 [==============================] - 0s 187us/step - loss: 0.6373 - acc: 0.6624 - val_loss: 0.8124 - val_acc: 0.5543\n",
      "Epoch 30/150\n",
      "234/234 [==============================] - 0s 215us/step - loss: 0.6310 - acc: 0.6624 - val_loss: 0.8077 - val_acc: 0.5543\n",
      "Epoch 31/150\n",
      "234/234 [==============================] - 0s 190us/step - loss: 0.6215 - acc: 0.6795 - val_loss: 0.8012 - val_acc: 0.5543\n",
      "Epoch 32/150\n",
      "234/234 [==============================] - 0s 188us/step - loss: 0.6139 - acc: 0.6795 - val_loss: 0.7986 - val_acc: 0.5657\n",
      "Epoch 33/150\n",
      "234/234 [==============================] - 0s 194us/step - loss: 0.6069 - acc: 0.6880 - val_loss: 0.7884 - val_acc: 0.5657\n",
      "Epoch 34/150\n",
      "234/234 [==============================] - 0s 183us/step - loss: 0.5986 - acc: 0.7009 - val_loss: 0.7853 - val_acc: 0.5600\n",
      "Epoch 35/150\n",
      "234/234 [==============================] - 0s 186us/step - loss: 0.5921 - acc: 0.7051 - val_loss: 0.7867 - val_acc: 0.5657\n",
      "Epoch 36/150\n",
      "234/234 [==============================] - 0s 209us/step - loss: 0.5847 - acc: 0.7094 - val_loss: 0.7822 - val_acc: 0.5657\n",
      "Epoch 37/150\n",
      "234/234 [==============================] - 0s 197us/step - loss: 0.5776 - acc: 0.7137 - val_loss: 0.7780 - val_acc: 0.5657\n",
      "Epoch 38/150\n",
      "234/234 [==============================] - 0s 197us/step - loss: 0.5711 - acc: 0.7179 - val_loss: 0.7766 - val_acc: 0.5714\n",
      "Epoch 39/150\n",
      "234/234 [==============================] - 0s 190us/step - loss: 0.5644 - acc: 0.7222 - val_loss: 0.7747 - val_acc: 0.5714\n",
      "Epoch 40/150\n",
      "234/234 [==============================] - 0s 211us/step - loss: 0.5588 - acc: 0.7308 - val_loss: 0.7707 - val_acc: 0.5714\n",
      "Epoch 41/150\n",
      "234/234 [==============================] - 0s 185us/step - loss: 0.5531 - acc: 0.7265 - val_loss: 0.7695 - val_acc: 0.5714\n",
      "Epoch 42/150\n",
      "234/234 [==============================] - 0s 177us/step - loss: 0.5474 - acc: 0.7479 - val_loss: 0.7687 - val_acc: 0.5771\n",
      "Epoch 43/150\n",
      "234/234 [==============================] - 0s 198us/step - loss: 0.5431 - acc: 0.7521 - val_loss: 0.7692 - val_acc: 0.5771\n",
      "Epoch 44/150\n",
      "234/234 [==============================] - 0s 190us/step - loss: 0.5375 - acc: 0.7564 - val_loss: 0.7649 - val_acc: 0.5943\n",
      "Epoch 45/150\n",
      "234/234 [==============================] - 0s 179us/step - loss: 0.5325 - acc: 0.7692 - val_loss: 0.7650 - val_acc: 0.5943\n",
      "Epoch 46/150\n",
      "234/234 [==============================] - 0s 177us/step - loss: 0.5277 - acc: 0.7735 - val_loss: 0.7622 - val_acc: 0.5943\n",
      "Epoch 47/150\n",
      "234/234 [==============================] - 0s 189us/step - loss: 0.5236 - acc: 0.7735 - val_loss: 0.7628 - val_acc: 0.5943\n",
      "Epoch 48/150\n",
      "234/234 [==============================] - 0s 179us/step - loss: 0.5194 - acc: 0.7735 - val_loss: 0.7593 - val_acc: 0.5943\n",
      "Epoch 49/150\n",
      "234/234 [==============================] - 0s 180us/step - loss: 0.5157 - acc: 0.7863 - val_loss: 0.7567 - val_acc: 0.6000\n",
      "Epoch 50/150\n",
      "234/234 [==============================] - 0s 181us/step - loss: 0.5123 - acc: 0.7863 - val_loss: 0.7556 - val_acc: 0.6000\n",
      "Epoch 51/150\n",
      "234/234 [==============================] - 0s 179us/step - loss: 0.5087 - acc: 0.7863 - val_loss: 0.7509 - val_acc: 0.6000\n",
      "Epoch 52/150\n",
      "234/234 [==============================] - 0s 184us/step - loss: 0.5059 - acc: 0.7906 - val_loss: 0.7501 - val_acc: 0.6000\n",
      "Epoch 53/150\n",
      "234/234 [==============================] - 0s 182us/step - loss: 0.5021 - acc: 0.7949 - val_loss: 0.7517 - val_acc: 0.6114\n",
      "Epoch 54/150\n",
      "234/234 [==============================] - 0s 173us/step - loss: 0.4990 - acc: 0.7949 - val_loss: 0.7479 - val_acc: 0.6114\n",
      "Epoch 55/150\n",
      "234/234 [==============================] - 0s 173us/step - loss: 0.4956 - acc: 0.8034 - val_loss: 0.7479 - val_acc: 0.6114\n",
      "Epoch 56/150\n",
      "234/234 [==============================] - 0s 176us/step - loss: 0.4933 - acc: 0.8077 - val_loss: 0.7476 - val_acc: 0.6229\n",
      "Epoch 57/150\n",
      "234/234 [==============================] - 0s 190us/step - loss: 0.4909 - acc: 0.8162 - val_loss: 0.7442 - val_acc: 0.6286\n",
      "Epoch 58/150\n",
      "234/234 [==============================] - 0s 178us/step - loss: 0.4884 - acc: 0.8162 - val_loss: 0.7454 - val_acc: 0.6343\n",
      "Epoch 59/150\n",
      "234/234 [==============================] - 0s 184us/step - loss: 0.4855 - acc: 0.8120 - val_loss: 0.7473 - val_acc: 0.6343\n",
      "Epoch 60/150\n",
      "234/234 [==============================] - 0s 171us/step - loss: 0.4834 - acc: 0.8120 - val_loss: 0.7440 - val_acc: 0.6343\n",
      "Epoch 61/150\n",
      "234/234 [==============================] - 0s 180us/step - loss: 0.4812 - acc: 0.8120 - val_loss: 0.7459 - val_acc: 0.6343\n",
      "Epoch 62/150\n",
      "234/234 [==============================] - 0s 184us/step - loss: 0.4797 - acc: 0.8120 - val_loss: 0.7452 - val_acc: 0.6400\n",
      "Epoch 63/150\n",
      "234/234 [==============================] - 0s 198us/step - loss: 0.4783 - acc: 0.8162 - val_loss: 0.7435 - val_acc: 0.6343\n",
      "Epoch 64/150\n",
      "234/234 [==============================] - 0s 187us/step - loss: 0.4764 - acc: 0.8205 - val_loss: 0.7426 - val_acc: 0.6343\n",
      "Epoch 65/150\n",
      "234/234 [==============================] - 0s 178us/step - loss: 0.4746 - acc: 0.8205 - val_loss: 0.7410 - val_acc: 0.6400\n",
      "Epoch 66/150\n",
      "234/234 [==============================] - 0s 182us/step - loss: 0.4727 - acc: 0.8248 - val_loss: 0.7393 - val_acc: 0.6400\n",
      "Epoch 67/150\n",
      "234/234 [==============================] - 0s 181us/step - loss: 0.4714 - acc: 0.8162 - val_loss: 0.7442 - val_acc: 0.6400\n",
      "Epoch 68/150\n",
      "234/234 [==============================] - 0s 189us/step - loss: 0.4698 - acc: 0.8162 - val_loss: 0.7438 - val_acc: 0.6457\n",
      "Epoch 69/150\n",
      "234/234 [==============================] - 0s 184us/step - loss: 0.4689 - acc: 0.8162 - val_loss: 0.7440 - val_acc: 0.6457\n",
      "Epoch 70/150\n",
      "234/234 [==============================] - 0s 185us/step - loss: 0.4678 - acc: 0.8205 - val_loss: 0.7434 - val_acc: 0.6457\n",
      "Epoch 71/150\n",
      "234/234 [==============================] - 0s 186us/step - loss: 0.4673 - acc: 0.8120 - val_loss: 0.7427 - val_acc: 0.6457\n",
      "Epoch 72/150\n",
      "234/234 [==============================] - 0s 182us/step - loss: 0.4653 - acc: 0.8162 - val_loss: 0.7447 - val_acc: 0.6343\n",
      "Epoch 73/150\n",
      "234/234 [==============================] - 0s 178us/step - loss: 0.4642 - acc: 0.8162 - val_loss: 0.7448 - val_acc: 0.6400\n",
      "Epoch 74/150\n",
      "234/234 [==============================] - 0s 183us/step - loss: 0.4636 - acc: 0.8162 - val_loss: 0.7455 - val_acc: 0.6457\n",
      "Epoch 75/150\n",
      "234/234 [==============================] - 0s 191us/step - loss: 0.4627 - acc: 0.8162 - val_loss: 0.7495 - val_acc: 0.6457\n",
      "Epoch 76/150\n",
      "234/234 [==============================] - 0s 195us/step - loss: 0.4617 - acc: 0.8162 - val_loss: 0.7478 - val_acc: 0.6400\n",
      "Epoch 77/150\n",
      "234/234 [==============================] - 0s 175us/step - loss: 0.4615 - acc: 0.8291 - val_loss: 0.7455 - val_acc: 0.6343\n",
      "Epoch 78/150\n",
      "234/234 [==============================] - 0s 182us/step - loss: 0.4602 - acc: 0.8291 - val_loss: 0.7469 - val_acc: 0.6400\n",
      "Epoch 79/150\n",
      "234/234 [==============================] - 0s 191us/step - loss: 0.4594 - acc: 0.8291 - val_loss: 0.7470 - val_acc: 0.6343\n",
      "Epoch 80/150\n",
      "234/234 [==============================] - 0s 181us/step - loss: 0.4591 - acc: 0.8248 - val_loss: 0.7468 - val_acc: 0.6343\n",
      "Epoch 81/150\n",
      "234/234 [==============================] - 0s 186us/step - loss: 0.4574 - acc: 0.8248 - val_loss: 0.7455 - val_acc: 0.6286\n",
      "Epoch 82/150\n",
      "234/234 [==============================] - 0s 187us/step - loss: 0.4575 - acc: 0.8291 - val_loss: 0.7467 - val_acc: 0.6286\n",
      "Epoch 83/150\n",
      "234/234 [==============================] - 0s 193us/step - loss: 0.4562 - acc: 0.8291 - val_loss: 0.7513 - val_acc: 0.6286\n",
      "Epoch 84/150\n",
      "234/234 [==============================] - 0s 173us/step - loss: 0.4556 - acc: 0.8291 - val_loss: 0.7492 - val_acc: 0.6229\n",
      "Epoch 85/150\n",
      "234/234 [==============================] - 0s 191us/step - loss: 0.4551 - acc: 0.8291 - val_loss: 0.7512 - val_acc: 0.6229\n",
      "Epoch 86/150\n",
      "234/234 [==============================] - 0s 194us/step - loss: 0.4543 - acc: 0.8291 - val_loss: 0.7505 - val_acc: 0.6229\n",
      "Epoch 87/150\n",
      "234/234 [==============================] - 0s 175us/step - loss: 0.4539 - acc: 0.8248 - val_loss: 0.7519 - val_acc: 0.6229\n",
      "Epoch 88/150\n",
      "234/234 [==============================] - 0s 193us/step - loss: 0.4531 - acc: 0.8291 - val_loss: 0.7512 - val_acc: 0.6229\n",
      "Epoch 89/150\n",
      "234/234 [==============================] - 0s 190us/step - loss: 0.4527 - acc: 0.8248 - val_loss: 0.7515 - val_acc: 0.6286\n",
      "Epoch 90/150\n",
      "234/234 [==============================] - 0s 195us/step - loss: 0.4530 - acc: 0.8248 - val_loss: 0.7533 - val_acc: 0.6286\n",
      "Epoch 91/150\n",
      "234/234 [==============================] - 0s 181us/step - loss: 0.4518 - acc: 0.8291 - val_loss: 0.7499 - val_acc: 0.6286\n",
      "Epoch 92/150\n",
      "234/234 [==============================] - 0s 181us/step - loss: 0.4519 - acc: 0.8248 - val_loss: 0.7534 - val_acc: 0.6229\n",
      "Epoch 93/150\n",
      "234/234 [==============================] - 0s 192us/step - loss: 0.4512 - acc: 0.8248 - val_loss: 0.7555 - val_acc: 0.6286\n",
      "Epoch 94/150\n",
      "234/234 [==============================] - 0s 192us/step - loss: 0.4507 - acc: 0.8248 - val_loss: 0.7568 - val_acc: 0.6229\n",
      "Epoch 95/150\n",
      "234/234 [==============================] - 0s 188us/step - loss: 0.4505 - acc: 0.8248 - val_loss: 0.7564 - val_acc: 0.6229\n",
      "Epoch 96/150\n",
      "234/234 [==============================] - 0s 177us/step - loss: 0.4498 - acc: 0.8205 - val_loss: 0.7586 - val_acc: 0.6286\n",
      "Epoch 97/150\n",
      "234/234 [==============================] - 0s 174us/step - loss: 0.4499 - acc: 0.8205 - val_loss: 0.7596 - val_acc: 0.6286\n",
      "Epoch 98/150\n",
      "234/234 [==============================] - 0s 177us/step - loss: 0.4490 - acc: 0.8248 - val_loss: 0.7612 - val_acc: 0.6286\n",
      "Epoch 99/150\n",
      "234/234 [==============================] - 0s 188us/step - loss: 0.4491 - acc: 0.8205 - val_loss: 0.7615 - val_acc: 0.6286\n",
      "Epoch 100/150\n",
      "234/234 [==============================] - 0s 192us/step - loss: 0.4478 - acc: 0.8205 - val_loss: 0.7579 - val_acc: 0.6229\n",
      "Epoch 101/150\n",
      "234/234 [==============================] - 0s 187us/step - loss: 0.4478 - acc: 0.8248 - val_loss: 0.7600 - val_acc: 0.6229\n",
      "Epoch 102/150\n",
      "234/234 [==============================] - 0s 190us/step - loss: 0.4473 - acc: 0.8205 - val_loss: 0.7598 - val_acc: 0.6229\n",
      "Epoch 103/150\n",
      "234/234 [==============================] - 0s 187us/step - loss: 0.4477 - acc: 0.8248 - val_loss: 0.7565 - val_acc: 0.6229\n",
      "Epoch 104/150\n",
      "234/234 [==============================] - 0s 210us/step - loss: 0.4473 - acc: 0.8291 - val_loss: 0.7594 - val_acc: 0.6229\n",
      "Epoch 105/150\n",
      "234/234 [==============================] - 0s 194us/step - loss: 0.4467 - acc: 0.8248 - val_loss: 0.7617 - val_acc: 0.6286\n",
      "Epoch 106/150\n",
      "234/234 [==============================] - 0s 177us/step - loss: 0.4464 - acc: 0.8248 - val_loss: 0.7587 - val_acc: 0.6229\n",
      "Epoch 107/150\n",
      "234/234 [==============================] - 0s 200us/step - loss: 0.4460 - acc: 0.8291 - val_loss: 0.7590 - val_acc: 0.6229\n",
      "Epoch 108/150\n",
      "234/234 [==============================] - 0s 201us/step - loss: 0.4459 - acc: 0.8291 - val_loss: 0.7616 - val_acc: 0.6286\n",
      "Epoch 109/150\n",
      "234/234 [==============================] - 0s 193us/step - loss: 0.4460 - acc: 0.8291 - val_loss: 0.7584 - val_acc: 0.6229\n",
      "Epoch 110/150\n",
      "234/234 [==============================] - 0s 181us/step - loss: 0.4453 - acc: 0.8248 - val_loss: 0.7595 - val_acc: 0.6286\n",
      "Epoch 111/150\n",
      "234/234 [==============================] - 0s 177us/step - loss: 0.4451 - acc: 0.8291 - val_loss: 0.7579 - val_acc: 0.6286\n",
      "Epoch 112/150\n",
      "234/234 [==============================] - 0s 190us/step - loss: 0.4452 - acc: 0.8291 - val_loss: 0.7623 - val_acc: 0.6286\n",
      "Epoch 113/150\n",
      "234/234 [==============================] - 0s 189us/step - loss: 0.4440 - acc: 0.8248 - val_loss: 0.7623 - val_acc: 0.6286\n",
      "Epoch 114/150\n",
      "234/234 [==============================] - 0s 188us/step - loss: 0.4444 - acc: 0.8248 - val_loss: 0.7613 - val_acc: 0.6286\n",
      "Epoch 115/150\n",
      "234/234 [==============================] - 0s 179us/step - loss: 0.4446 - acc: 0.8205 - val_loss: 0.7653 - val_acc: 0.6286\n",
      "Epoch 116/150\n",
      "234/234 [==============================] - 0s 178us/step - loss: 0.4443 - acc: 0.8205 - val_loss: 0.7688 - val_acc: 0.6286\n",
      "Epoch 00116: early stopping\n",
      "234/234 [==============================] - 0s 66us/step\n",
      "175/175 [==============================] - 0s 67us/step\n"
     ]
    }
   ],
   "source": [
    "model_rbf.compile(loss='binary_crossentropy', optimizer='adam', metrics=['accuracy'])\n",
    "#early stopping\n",
    "es = EarlyStopping(monitor='val_loss', mode='min', verbose=1, patience=50)\n",
    "#mini batches\n",
    "# fit model\n",
    "history = model_rbf.fit(X_train_normalizado, y_train, validation_data=(X_test_normalizado, y_test), epochs=150, verbose=1, batch_size=10, callbacks=[es])\n",
    "# evaluate the model\n",
    "_, train_acc = model_rbf.evaluate(X_train_normalizado, y_train, verbose=1, batch_size=10)\n",
    "_, test_acc = model_rbf.evaluate(X_test_normalizado, y_test, verbose=1, batch_size=10)\n"
   ]
  },
  {
   "cell_type": "code",
   "execution_count": 30,
   "metadata": {
    "colab": {
     "base_uri": "https://localhost:8080/",
     "height": 282
    },
    "colab_type": "code",
    "id": "FcVeC6m0dR5i",
    "outputId": "25ad0b62-490a-4157-c13a-d4e08fc4933f"
   },
   "outputs": [
    {
     "name": "stdout",
     "output_type": "stream",
     "text": [
      "Train: 0.821, Test: 0.629\n"
     ]
    },
    {
     "data": {
      "image/png": "[encoded data removed]",
      "text/plain": [
       "<Figure size 432x288 with 1 Axes>"
      ]
     },
     "metadata": {
      "tags": []
     },
     "output_type": "display_data"
    }
   ],
   "source": [
    "print('Train: %.3f, Test: %.3f' % (train_acc, test_acc))\n",
    "\n",
    "pyplot.plot(history.history['loss'], label='train')\n",
    "pyplot.plot(history.history['val_loss'], label='test')\n",
    "pyplot.legend()\n",
    "pyplot.show()"
   ]
  },
  {
   "cell_type": "markdown",
   "metadata": {
    "colab_type": "text",
    "id": "Rw6NBMaMdlcz"
   },
   "source": [
    "Resultados"
   ]
  },
  {
   "cell_type": "code",
   "execution_count": 31,
   "metadata": {
    "colab": {
     "base_uri": "https://localhost:8080/",
     "height": 51
    },
    "colab_type": "code",
    "id": "2s0GDu07defA",
    "outputId": "1c6c7277-fe98-4e18-9c24-2a5b4ca0daa5"
   },
   "outputs": [
    {
     "name": "stdout",
     "output_type": "stream",
     "text": [
      "[[69 56]\n",
      " [ 9 41]]\n"
     ]
    }
   ],
   "source": [
    "y_pred = model_rbf.predict(X_test_normalizado)\n",
    "y_pred = (y_pred > 0.5)\n",
    "# Making the Confusion Matrix\n",
    "from sklearn.metrics import confusion_matrix\n",
    "cm = confusion_matrix(y_test, y_pred)\n",
    "resultados(cm)\n",
    "print(cm)"
   ]
  },
  {
   "cell_type": "markdown",
   "metadata": {
    "colab_type": "text",
    "id": "9wemd8LmfQnf"
   },
   "source": [
    "## COMPARAR RESULTADOS"
   ]
  },
  {
   "cell_type": "code",
   "execution_count": 0,
   "metadata": {
    "colab": {},
    "colab_type": "code",
    "collapsed": true,
    "id": "U-hG4PTpe9DQ"
   },
   "outputs": [],
   "source": [
    "from tabulate import tabulate"
   ]
  },
  {
   "cell_type": "code",
   "execution_count": 33,
   "metadata": {
    "colab": {
     "base_uri": "https://localhost:8080/",
     "height": 170
    },
    "colab_type": "code",
    "id": "4V2PISXkftjt",
    "outputId": "e78ab015-021f-434c-e084-e030babdf429"
   },
   "outputs": [
    {
     "name": "stdout",
     "output_type": "stream",
     "text": [
      "╒══════════════════╤═══════════════════╤═══════════════════╤═══════════════════╕\n",
      "│                  │   MLP (n_hidden3) │   MLP (n_hidden2) │   MLP (n_hidden1) │\n",
      "╞══════════════════╪═══════════════════╪═══════════════════╪═══════════════════╡\n",
      "│ Accuracy         │          0.876068 │          0.820513 │          0.696581 │\n",
      "├──────────────────┼───────────────────┼───────────────────┼───────────────────┤\n",
      "│ Sensibilidad     │          0.786325 │          0.683761 │          0.470085 │\n",
      "├──────────────────┼───────────────────┼───────────────────┼───────────────────┤\n",
      "│ Falsos negativos │         25        │         37        │         62        │\n",
      "╘══════════════════╧═══════════════════╧═══════════════════╧═══════════════════╛\n"
     ]
    }
   ],
   "source": [
    "#rasultados validación\n",
    "resultados = [['  ', 'MLP (n_hidden3)','MLP (n_hidden2)','MLP (n_hidden1)'],\n",
    "         ['Accuracy', acc3, acc2, acc1],\n",
    "         ['Sensibilidad', sen3, sen2, sen1],\n",
    "         ['Falsos negativos', fn3, fn2, fn1]]\n",
    "print(tabulate(resultados, headers='firstrow', tablefmt='fancy_grid'))"
   ]
  },
  {
   "cell_type": "markdown",
   "metadata": {
    "colab_type": "text",
    "id": "UmuRcpOUnqUV"
   },
   "source": [
    "El que mejor resultados tiene es la red con 3 neuronas en la capa oculta "
   ]
  },
  {
   "cell_type": "code",
   "execution_count": 0,
   "metadata": {
    "colab": {},
    "colab_type": "code",
    "collapsed": true,
    "id": "jYBNsAK_kEjW"
   },
   "outputs": [],
   "source": [
    "#resultados test en MLP con 3 neuronas en la capa oculta"
   ]
  },
  {
   "cell_type": "code",
   "execution_count": 35,
   "metadata": {
    "colab": {
     "base_uri": "https://localhost:8080/",
     "height": 170
    },
    "colab_type": "code",
    "id": "b0vp6X_Qn0Jh",
    "outputId": "39a5a1da-edf2-4be2-e663-7b176e01f792"
   },
   "outputs": [
    {
     "name": "stdout",
     "output_type": "stream",
     "text": [
      "╒══════════════════╤═══════════════════╕\n",
      "│                  │   MLP (n_hidden3) │\n",
      "╞══════════════════╪═══════════════════╡\n",
      "│ Accuracy         │          0.657143 │\n",
      "├──────────────────┼───────────────────┤\n",
      "│ Sensibilidad     │          0.74     │\n",
      "├──────────────────┼───────────────────┤\n",
      "│ Falsos negativos │         13        │\n",
      "╘══════════════════╧═══════════════════╛\n"
     ]
    }
   ],
   "source": [
    "resultados = [['  ', 'MLP (n_hidden3)'],\n",
    "         ['Accuracy', acc],\n",
    "         ['Sensibilidad', sen],\n",
    "         ['Falsos negativos', fn]]\n",
    "print(tabulate(resultados, headers='firstrow', tablefmt='fancy_grid'))"
   ]
  },
  {
   "cell_type": "markdown",
   "metadata": {
    "colab_type": "text",
    "id": "hdF_KiyRow6H"
   },
   "source": [
    "# 4. Modelo basado en una Máquina de Vectores Soporte sobre el espacio original"
   ]
  },
  {
   "cell_type": "code",
   "execution_count": 0,
   "metadata": {
    "colab": {},
    "colab_type": "code",
    "collapsed": true,
    "id": "uxLmuGXkoKni"
   },
   "outputs": [],
   "source": [
    "from sklearn.svm import SVC\n",
    "from sklearn import metrics\n",
    "from sklearn.metrics import classification_report\n",
    "from sklearn.metrics import accuracy_score\n",
    "from sklearn.metrics import confusion_matrix\n",
    "import seaborn as sns\n",
    "import heapq"
   ]
  },
  {
   "cell_type": "code",
   "execution_count": 37,
   "metadata": {
    "colab": {
     "base_uri": "https://localhost:8080/",
     "height": 456
    },
    "colab_type": "code",
    "id": "hYDqxeMvpeED",
    "outputId": "abb2d436-db59-4a02-9665-8cbd6e09a7ea"
   },
   "outputs": [
    {
     "name": "stdout",
     "output_type": "stream",
     "text": [
      "Accuracy Score:\n",
      "0.6514285714285715\n",
      "              precision    recall  f1-score   support\n",
      "\n",
      "           0       0.87      0.60      0.71       125\n",
      "           1       0.44      0.78      0.56        50\n",
      "\n",
      "    accuracy                           0.65       175\n",
      "   macro avg       0.66      0.69      0.64       175\n",
      "weighted avg       0.75      0.65      0.67       175\n",
      "\n"
     ]
    },
    {
     "data": {
      "image/png": "[encoded data removed]",
      "text/plain": [
       "<Figure size 432x288 with 2 Axes>"
      ]
     },
     "metadata": {
      "tags": []
     },
     "output_type": "display_data"
    }
   ],
   "source": [
    "svc=SVC(kernel=\"rbf\", gamma=\"auto\", C=1)\n",
    "svc.fit(X_train_normalizado,y_train)\n",
    "y_pred=svc.predict(X_test_normalizado)\n",
    "\n",
    "print('Accuracy Score:')\n",
    "print(metrics.accuracy_score(y_test,y_pred))\n",
    "\n",
    "print(classification_report(y_test, y_pred))\n",
    "c_matrix = confusion_matrix(y_test, y_pred)\n",
    "\n",
    "ax = (sns.heatmap(c_matrix, annot=True))"
   ]
  },
  {
   "cell_type": "markdown",
   "metadata": {
    "colab_type": "text",
    "id": "Qs9Hgju4q_TV"
   },
   "source": [
    "**Parámetro C**\n",
    "es 1 por defecto. Si se tiene muchas muestras con ruido, se debe disminuir. Se utiliza para regular la optimización de SVM. Determina el peso del error de clasificación de la función objetivo."
   ]
  },
  {
   "cell_type": "code",
   "execution_count": 38,
   "metadata": {
    "colab": {
     "base_uri": "https://localhost:8080/",
     "height": 335
    },
    "colab_type": "code",
    "id": "mx67Dv_Cq9lr",
    "outputId": "ff253cdd-8e9a-48fc-acf8-72a4f6a6ba54"
   },
   "outputs": [
    {
     "name": "stdout",
     "output_type": "stream",
     "text": [
      "[0.7943181818181818, 0.7943181818181818, 0.7943181818181818, 0.7943181818181818, 0.793939393939394, 0.8227272727272726, 0.8238636363636364, 0.8068181818181819, 0.8068181818181819, 0.8068181818181819, 0.8068181818181819]\n",
      "[1e-05, 0.0001, 0.001, 0.01, 0.1, 10, 100, 1000, 1000, 10000, 100000]\n"
     ]
    },
    {
     "data": {
      "image/png": "[encoded data removed]",
      "text/plain": [
       "<Figure size 432x288 with 1 Axes>"
      ]
     },
     "metadata": {
      "tags": []
     },
     "output_type": "display_data"
    }
   ],
   "source": [
    "from sklearn.model_selection import cross_val_score\n",
    "c_values = [10**-5,10**-4, 10**-3, 10**-2, 10**-1, 10, 100,1000,10**3,10**4, 10**5]\n",
    "accuracy_score=[]\n",
    "\n",
    "for c in c_values:\n",
    "    svc = SVC(kernel='rbf',gamma=\"auto\", C=c)\n",
    "    scores = cross_val_score(svc, X_train_normalizado, y_train, cv=10, scoring='accuracy')\n",
    "    accuracy_score.append(scores.mean())\n",
    "print(accuracy_score)\n",
    "\n",
    "# plot the value of C for SVM (x-axis) versus the cross-validated accuracy (y-axis)\n",
    "plt.plot(c_values,accuracy_score)\n",
    "plt.xlabel('Value of C for SVC')\n",
    "plt.ylabel('Cross-Validated Accuracy')\n",
    "\n",
    "print(c_values)"
   ]
  },
  {
   "cell_type": "markdown",
   "metadata": {
    "colab_type": "text",
    "id": "YsdFPsv6rPki"
   },
   "source": [
    "Pruebo con distintos valores de C:\n",
    "- Muy grandes\n",
    "- Medianos\n",
    "- Muy pequeños\n",
    "\n",
    "Como se obtiene un mayor accuracy con valores medianos, estudio este rango."
   ]
  },
  {
   "cell_type": "code",
   "execution_count": 39,
   "metadata": {
    "colab": {
     "base_uri": "https://localhost:8080/",
     "height": 333
    },
    "colab_type": "code",
    "id": "QdwcNXEBrHbS",
    "outputId": "479ce987-8a8b-450b-ccb6-caef2b6a6744"
   },
   "outputs": [
    {
     "name": "stdout",
     "output_type": "stream",
     "text": [
      "[0.8227272727272726, 0.8053030303030304, 0.8102272727272728, 0.8143939393939394, 0.8280303030303031, 0.8193181818181818, 0.8109848484848486, 0.8068181818181819, 0.8068181818181819, 0.8068181818181819]\n"
     ]
    },
    {
     "data": {
      "text/plain": [
       "Text(0, 0.5, 'Cross-Validated Accuracy')"
      ]
     },
     "execution_count": 39,
     "metadata": {
      "tags": []
     },
     "output_type": "execute_result"
    },
    {
     "data": {
      "image/png": "[encoded data removed]",
      "text/plain": [
       "<Figure size 432x288 with 1 Axes>"
      ]
     },
     "metadata": {
      "tags": []
     },
     "output_type": "display_data"
    }
   ],
   "source": [
    "c_values = list(range(10,200, 20))\n",
    "accuracy_score=[]\n",
    "\n",
    "for c in c_values:\n",
    "    svc = SVC(kernel='rbf',gamma=\"auto\", C=c)\n",
    "    scores = cross_val_score(svc, X_train_normalizado, y_train, cv=10, scoring='accuracy')\n",
    "    accuracy_score.append(scores.mean())\n",
    "print(accuracy_score)\n",
    "\n",
    "# plot the value of C for SVM (x-axis) versus the cross-validated accuracy (y-axis)\n",
    "plt.plot(c_values,accuracy_score)\n",
    "plt.xlabel('Value of C for SVC')\n",
    "plt.ylabel('Cross-Validated Accuracy')"
   ]
  },
  {
   "cell_type": "code",
   "execution_count": 40,
   "metadata": {
    "colab": {
     "base_uri": "https://localhost:8080/",
     "height": 34
    },
    "colab_type": "code",
    "id": "OVcxkw46rSBq",
    "outputId": "d797e1a3-1630-4cf1-ad06-cfa1a92e5b9f"
   },
   "outputs": [
    {
     "data": {
      "text/plain": [
       "[(0.8280303030303031, 90), (0.8227272727272726, 10)]"
      ]
     },
     "execution_count": 40,
     "metadata": {
      "tags": []
     },
     "output_type": "execute_result"
    }
   ],
   "source": [
    "index = list(range(len(accuracy_score)))\n",
    "c_values_max = heapq.nlargest(2, zip(accuracy_score,c_values))\n",
    "c_values_max"
   ]
  },
  {
   "cell_type": "markdown",
   "metadata": {
    "colab_type": "text",
    "id": "miBHNHZ2rdKU"
   },
   "source": [
    "Me quedo con los 2 valores máximos de C."
   ]
  },
  {
   "cell_type": "markdown",
   "metadata": {
    "colab_type": "text",
    "id": "3m12dqC7rgtw"
   },
   "source": [
    "**Párametro sigma**"
   ]
  },
  {
   "cell_type": "markdown",
   "metadata": {
    "colab_type": "text",
    "id": "nNeaU9Borgy5"
   },
   "source": [
    "Un valor de Sigma pequeño provoca que la frontera de decisión tenga en cuenta a las muestras lejanas. \n",
    "Un valor de Sigma grande provoca que la frontera de descisión tenga en cuenta a las muestras más cercanas."
   ]
  },
  {
   "cell_type": "code",
   "execution_count": 41,
   "metadata": {
    "colab": {
     "base_uri": "https://localhost:8080/",
     "height": 313
    },
    "colab_type": "code",
    "id": "UAXkPg20rYzK",
    "outputId": "8be8d71d-265a-4cdc-8a41-4609f6025c96"
   },
   "outputs": [
    {
     "name": "stdout",
     "output_type": "stream",
     "text": [
      "[0.7981060606060606, 0.8268939393939394, 0.8272727272727272, 0.7753787878787879, 0.7246212121212121, 0.7121212121212122, 0.6992424242424242]\n"
     ]
    },
    {
     "data": {
      "text/plain": [
       "Text(0, 0.5, 'Cross-Validated Accuracy')"
      ]
     },
     "execution_count": 41,
     "metadata": {
      "tags": []
     },
     "output_type": "execute_result"
    },
    {
     "data": {
      "image/png": "[encoded data removed]",
      "text/plain": [
       "<Figure size 432x288 with 1 Axes>"
      ]
     },
     "metadata": {
      "tags": []
     },
     "output_type": "display_data"
    }
   ],
   "source": [
    "sigma_values = [0.01,0.1,1,2,3,4,5]\n",
    "accuracy_score=[]\n",
    "for s in sigma_values:\n",
    "    svc = SVC(kernel='rbf', gamma=s)\n",
    "    scores = cross_val_score(svc, X_train_normalizado, y_train, cv=10, scoring='accuracy')\n",
    "    accuracy_score.append(scores.mean())\n",
    "print(accuracy_score)    \n",
    "\n",
    "# plot the value of C for SVM (x-axis) versus the cross-validated accuracy (y-axis)\n",
    "plt.plot(sigma_values,accuracy_score)\n",
    "plt.xlabel('Value of sigma for SVC ')\n",
    "plt.ylabel('Cross-Validated Accuracy')"
   ]
  },
  {
   "cell_type": "code",
   "execution_count": 0,
   "metadata": {
    "colab": {},
    "colab_type": "code",
    "collapsed": true,
    "id": "JBAowX1crp5L"
   },
   "outputs": [],
   "source": [
    "sigma_values_max=heapq.nlargest(3, zip(accuracy_score,sigma_values))\n",
    "sigma_values_max=[0.1,0.5,1.0]"
   ]
  },
  {
   "cell_type": "markdown",
   "metadata": {
    "colab_type": "text",
    "id": "hEy5jnUJrw2x"
   },
   "source": [
    "Utilizo los valores máximos de sigma con los que obtengo mayor accuracy."
   ]
  },
  {
   "cell_type": "markdown",
   "metadata": {
    "colab_type": "text",
    "id": "T_fg_Hgdr2Sn"
   },
   "source": [
    "**Prestaciones con el mejor modelo**"
   ]
  },
  {
   "cell_type": "code",
   "execution_count": 0,
   "metadata": {
    "colab": {},
    "colab_type": "code",
    "collapsed": true,
    "id": "kp8sKD3druSi"
   },
   "outputs": [],
   "source": [
    "accuracy_score = []\n",
    "\n",
    "for c in c_values_max:\n",
    "  for s in sigma_values_max:\n",
    "    combination = (c[1],s)\n",
    "    #print(combination)\n",
    "\n",
    "    svc=SVC(kernel=\"rbf\", gamma=s, C=c[1])\n",
    "    svc.fit(X_train_normalizado,y_train)\n",
    "    y_pred=svc.predict(X_test_normalizado)\n",
    "\n",
    "    \n",
    "    acc = metrics.accuracy_score(y_test,y_pred)\n",
    "    accuracy_score.append([acc, combination])\n"
   ]
  },
  {
   "cell_type": "code",
   "execution_count": 0,
   "metadata": {
    "colab": {},
    "colab_type": "code",
    "collapsed": true,
    "id": "anA-AH2nr5nz"
   },
   "outputs": [],
   "source": [
    "sigma_kernel_11 = accuracy_score[0][0]\n",
    "sigma_kernel_12 = accuracy_score[1][0]\n",
    "sigma_kernel_13 = accuracy_score[2][0]\n",
    "\n",
    "sigma_kernel_21 = accuracy_score[3][0]\n",
    "sigma_kernel_22 = accuracy_score[4][0]\n",
    "sigma_kernel_23 = accuracy_score[5][0]\n"
   ]
  },
  {
   "cell_type": "code",
   "execution_count": 45,
   "metadata": {
    "colab": {
     "base_uri": "https://localhost:8080/",
     "height": 136
    },
    "colab_type": "code",
    "id": "bDQRPvylsIHn",
    "outputId": "e35191fc-8621-405b-e1ee-b8739f768fcc"
   },
   "outputs": [
    {
     "name": "stdout",
     "output_type": "stream",
     "text": [
      "╒══════╤═══════════╤═══════════╤═══════════╕\n",
      "│      │   sigma_1 │   sigma_2 │   sigma_3 │\n",
      "╞══════╪═══════════╪═══════════╪═══════════╡\n",
      "│ C1   │  0.634286 │  0.685714 │  0.691429 │\n",
      "├──────┼───────────┼───────────┼───────────┤\n",
      "│ C2   │  0.651429 │  0.685714 │  0.691429 │\n",
      "╘══════╧═══════════╧═══════════╧═══════════╛\n"
     ]
    }
   ],
   "source": [
    "resultados = [['  ', 'sigma_1','sigma_2','sigma_3'],\n",
    "         ['C1', sigma_kernel_11, sigma_kernel_12, sigma_kernel_13],\n",
    "         ['C2', sigma_kernel_21, sigma_kernel_22, sigma_kernel_23]]\n",
    "print(tabulate(resultados, headers='firstrow', tablefmt='fancy_grid'))"
   ]
  },
  {
   "cell_type": "code",
   "execution_count": 0,
   "metadata": {
    "colab": {},
    "colab_type": "code",
    "collapsed": true,
    "id": "RmPU3yorsd4R"
   },
   "outputs": [],
   "source": []
  },
  {
   "cell_type": "markdown",
   "metadata": {
    "colab_type": "text",
    "id": "xtfhsop-sjrd"
   },
   "source": []
  },
  {
   "cell_type": "code",
   "execution_count": 0,
   "metadata": {
    "colab": {},
    "colab_type": "code",
    "collapsed": true,
    "id": "d05II9UpskO1"
   },
   "outputs": [],
   "source": []
  }
 ],
 "metadata": {
  "colab": {
   "collapsed_sections": [],
   "name": "Tarea_5.ipynb",
   "provenance": []
  },
  "kernelspec": {
   "display_name": "Python 3",
   "language": "python",
   "name": "python3"
  },
  "language_info": {
   "codemirror_mode": {
    "name": "ipython",
    "version": 3
   },
   "file_extension": ".py",
   "mimetype": "text/x-python",
   "name": "python",
   "nbconvert_exporter": "python",
   "pygments_lexer": "ipython3",
   "version": "3.8.2"
  }
 },
 "nbformat": 4,
 "nbformat_minor": 1
}
