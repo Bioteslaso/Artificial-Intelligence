{
 "cells": [
  {
   "cell_type": "markdown",
   "metadata": {},
   "source": [
    "This notebook, by [felipe.alonso@urjc.es](mailto:felipe.alonso@urjc.es) and [jorge.calero@urjc.es](mailto:jorge.calero@urjc.es)\n",
    "\n",
    "This notebook is an introduction to descriptive statistics using pandas. The first step when working with data is to perform an exploratory analysis to get some intuitions about how data is distributed. \n",
    "\n",
    "\n",
    "# 1. Load libraries\n",
    "\n",
    "- [Pandas](https://pandas.pydata.org): high level data analysis\n",
    "- [Numpy](https://numpy.org): scientific computing\n",
    "- [Matplotlib](https://matplotlib.org): visualization"
   ]
  },
  {
   "cell_type": "code",
   "execution_count": 1,
   "metadata": {},
   "outputs": [],
   "source": [
    "import pandas as pd\n",
    "import numpy as np\n",
    "import matplotlib.pyplot as plt\n",
    "%matplotlib inline"
   ]
  },
  {
   "cell_type": "markdown",
   "metadata": {},
   "source": [
    "# 2. Pandas\n",
    "\n",
    "The pandas library includes two types of data structures:\n",
    "\n",
    "- [**Series**](https://pandas.pydata.org/pandas-docs/stable/reference/api/pandas.Series.html) which are one-dimensional ndarray with axis labels (including time series)\n",
    "- [**DataFrames**](https://pandas.pydata.org/pandas-docs/stable/reference/api/pandas.DataFrame.html#pandas.DataFrame): Two-dimensional size-mutable, potentially heterogeneous tabular data structure with labeled axes (rows and columns). Arithmetic operations align on both row and column labels. Can be thought of as a dict-like container for Series objects. The primary pandas data structure.\n",
    "\n",
    "Let's see some examples.\n",
    "\n",
    "## 2.1 Series"
   ]
  },
  {
   "cell_type": "code",
   "execution_count": 2,
   "metadata": {},
   "outputs": [
    {
     "name": "stdout",
     "output_type": "stream",
     "text": [
      "0          1\n",
      "1          2\n",
      "2          3\n",
      "3    catorce\n",
      "dtype: object\n"
     ]
    }
   ],
   "source": [
    "s = pd.Series([1,2,3,\"catorce\"])\n",
    "print(s)"
   ]
  },
  {
   "cell_type": "code",
   "execution_count": 8,
   "metadata": {},
   "outputs": [
    {
     "data": {
      "text/plain": [
       "RangeIndex(start=0, stop=4, step=1)"
      ]
     },
     "execution_count": 8,
     "metadata": {},
     "output_type": "execute_result"
    }
   ],
   "source": [
    "s.index\n",
    "#s[3]\n",
    "# s[0:3]\n",
    "#s.values\n",
    "# s.values * 2"
   ]
  },
  {
   "cell_type": "markdown",
   "metadata": {},
   "source": [
    "Indexes can be easily changed"
   ]
  },
  {
   "cell_type": "code",
   "execution_count": 9,
   "metadata": {},
   "outputs": [
    {
     "name": "stdout",
     "output_type": "stream",
     "text": [
      "hola           1\n",
      "que            2\n",
      "tal            3\n",
      "estas    catorce\n",
      "dtype: object\n"
     ]
    }
   ],
   "source": [
    "s = pd.Series(data =[1,2,3,\"catorce\"], index = ['hola','que','tal','estas'])\n",
    "print(s)"
   ]
  },
  {
   "cell_type": "code",
   "execution_count": 11,
   "metadata": {},
   "outputs": [
    {
     "data": {
      "text/plain": [
       "1"
      ]
     },
     "execution_count": 11,
     "metadata": {},
     "output_type": "execute_result"
    }
   ],
   "source": [
    "s['hola']\n",
    "# s[0]\n",
    "# s[0:3]"
   ]
  },
  {
   "cell_type": "markdown",
   "metadata": {},
   "source": [
    "## 2.2 DataFrames"
   ]
  },
  {
   "cell_type": "markdown",
   "metadata": {},
   "source": [
    "[DataFrames](https://pandas.pydata.org/pandas-docs/stable/reference/api/pandas.DataFrame.html#pandas.DataFrame) can be constructed by using:\n",
    "\n",
    "- Numpy ndarray\n",
    "- Dictionaries"
   ]
  },
  {
   "cell_type": "code",
   "execution_count": 12,
   "metadata": {},
   "outputs": [
    {
     "data": {
      "text/html": [
       "<div>\n",
       "<style scoped>\n",
       "    .dataframe tbody tr th:only-of-type {\n",
       "        vertical-align: middle;\n",
       "    }\n",
       "\n",
       "    .dataframe tbody tr th {\n",
       "        vertical-align: top;\n",
       "    }\n",
       "\n",
       "    .dataframe thead th {\n",
       "        text-align: right;\n",
       "    }\n",
       "</style>\n",
       "<table border=\"1\" class=\"dataframe\">\n",
       "  <thead>\n",
       "    <tr style=\"text-align: right;\">\n",
       "      <th></th>\n",
       "      <th>a</th>\n",
       "      <th>b</th>\n",
       "      <th>c</th>\n",
       "    </tr>\n",
       "  </thead>\n",
       "  <tbody>\n",
       "    <tr>\n",
       "      <th>0</th>\n",
       "      <td>1</td>\n",
       "      <td>2</td>\n",
       "      <td>3</td>\n",
       "    </tr>\n",
       "    <tr>\n",
       "      <th>1</th>\n",
       "      <td>4</td>\n",
       "      <td>5</td>\n",
       "      <td>6</td>\n",
       "    </tr>\n",
       "    <tr>\n",
       "      <th>2</th>\n",
       "      <td>7</td>\n",
       "      <td>8</td>\n",
       "      <td>9</td>\n",
       "    </tr>\n",
       "  </tbody>\n",
       "</table>\n",
       "</div>"
      ],
      "text/plain": [
       "   a  b  c\n",
       "0  1  2  3\n",
       "1  4  5  6\n",
       "2  7  8  9"
      ]
     },
     "execution_count": 12,
     "metadata": {},
     "output_type": "execute_result"
    }
   ],
   "source": [
    "# from Numpy ndarray\n",
    "df = pd.DataFrame(np.array([[1, 2, 3], [4, 5, 6], [7, 8, 9]]),columns=['a', 'b', 'c'])\n",
    "df"
   ]
  },
  {
   "cell_type": "code",
   "execution_count": 24,
   "metadata": {},
   "outputs": [
    {
     "data": {
      "text/html": [
       "<div>\n",
       "<style scoped>\n",
       "    .dataframe tbody tr th:only-of-type {\n",
       "        vertical-align: middle;\n",
       "    }\n",
       "\n",
       "    .dataframe tbody tr th {\n",
       "        vertical-align: top;\n",
       "    }\n",
       "\n",
       "    .dataframe thead th {\n",
       "        text-align: right;\n",
       "    }\n",
       "</style>\n",
       "<table border=\"1\" class=\"dataframe\">\n",
       "  <thead>\n",
       "    <tr style=\"text-align: right;\">\n",
       "      <th></th>\n",
       "      <th>name</th>\n",
       "      <th>surname</th>\n",
       "      <th>year_of_birth</th>\n",
       "    </tr>\n",
       "  </thead>\n",
       "  <tbody>\n",
       "    <tr>\n",
       "      <th>0</th>\n",
       "      <td>Freddie</td>\n",
       "      <td>Mercury</td>\n",
       "      <td>1946</td>\n",
       "    </tr>\n",
       "    <tr>\n",
       "      <th>1</th>\n",
       "      <td>Roger</td>\n",
       "      <td>Taylor</td>\n",
       "      <td>1949</td>\n",
       "    </tr>\n",
       "    <tr>\n",
       "      <th>2</th>\n",
       "      <td>Brian</td>\n",
       "      <td>May</td>\n",
       "      <td>1947</td>\n",
       "    </tr>\n",
       "    <tr>\n",
       "      <th>3</th>\n",
       "      <td>John</td>\n",
       "      <td>Deacon</td>\n",
       "      <td>1951</td>\n",
       "    </tr>\n",
       "  </tbody>\n",
       "</table>\n",
       "</div>"
      ],
      "text/plain": [
       "      name  surname  year_of_birth\n",
       "0  Freddie  Mercury           1946\n",
       "1    Roger   Taylor           1949\n",
       "2    Brian      May           1947\n",
       "3     John   Deacon           1951"
      ]
     },
     "execution_count": 24,
     "metadata": {},
     "output_type": "execute_result"
    }
   ],
   "source": [
    "# from dictionary\n",
    "queen_dict = {}\n",
    "queen_dict[\"name\"]=[\"Freddie\" ,\"Roger\", \"Brian\", \"John\"]\n",
    "queen_dict[\"surname\"] = [\"Mercury\",\"Taylor\", \"May\", \"Deacon\"]\n",
    "queen_dict[\"year_of_birth\"]= [1946,1949, 1947, 1951]\n",
    "\n",
    "queen_df = pd.DataFrame(data = queen_dict)\n",
    "queen_df"
   ]
  },
  {
   "cell_type": "markdown",
   "metadata": {},
   "source": [
    "### Pandas operations"
   ]
  },
  {
   "cell_type": "code",
   "execution_count": 16,
   "metadata": {},
   "outputs": [
    {
     "data": {
      "text/plain": [
       "Index(['name', 'surname', 'year_of_birth'], dtype='object')"
      ]
     },
     "execution_count": 16,
     "metadata": {},
     "output_type": "execute_result"
    }
   ],
   "source": [
    "# main properties\n",
    "queen_df.index\n",
    "queen_df.columns\n",
    "#queen_df.shape"
   ]
  },
  {
   "cell_type": "code",
   "execution_count": 29,
   "metadata": {},
   "outputs": [
    {
     "data": {
      "text/html": [
       "<div>\n",
       "<style scoped>\n",
       "    .dataframe tbody tr th:only-of-type {\n",
       "        vertical-align: middle;\n",
       "    }\n",
       "\n",
       "    .dataframe tbody tr th {\n",
       "        vertical-align: top;\n",
       "    }\n",
       "\n",
       "    .dataframe thead th {\n",
       "        text-align: right;\n",
       "    }\n",
       "</style>\n",
       "<table border=\"1\" class=\"dataframe\">\n",
       "  <thead>\n",
       "    <tr style=\"text-align: right;\">\n",
       "      <th></th>\n",
       "      <th>name</th>\n",
       "      <th>surname</th>\n",
       "      <th>year_of_birth</th>\n",
       "    </tr>\n",
       "  </thead>\n",
       "  <tbody>\n",
       "    <tr>\n",
       "      <th>voice</th>\n",
       "      <td>Freddie</td>\n",
       "      <td>Mercury</td>\n",
       "      <td>1946</td>\n",
       "    </tr>\n",
       "    <tr>\n",
       "      <th>drums</th>\n",
       "      <td>Roger</td>\n",
       "      <td>Taylor</td>\n",
       "      <td>1949</td>\n",
       "    </tr>\n",
       "    <tr>\n",
       "      <th>guitar</th>\n",
       "      <td>Brian</td>\n",
       "      <td>May</td>\n",
       "      <td>1947</td>\n",
       "    </tr>\n",
       "    <tr>\n",
       "      <th>bass</th>\n",
       "      <td>John</td>\n",
       "      <td>Deacon</td>\n",
       "      <td>1951</td>\n",
       "    </tr>\n",
       "  </tbody>\n",
       "</table>\n",
       "</div>"
      ],
      "text/plain": [
       "           name  surname  year_of_birth\n",
       "voice   Freddie  Mercury           1946\n",
       "drums     Roger   Taylor           1949\n",
       "guitar    Brian      May           1947\n",
       "bass       John   Deacon           1951"
      ]
     },
     "execution_count": 29,
     "metadata": {},
     "output_type": "execute_result"
    }
   ],
   "source": [
    "# change index\n",
    "queen_df.index = ['voice','drums','guitar','bass']\n",
    "queen_df"
   ]
  },
  {
   "cell_type": "code",
   "execution_count": 28,
   "metadata": {},
   "outputs": [
    {
     "data": {
      "text/html": [
       "<div>\n",
       "<style scoped>\n",
       "    .dataframe tbody tr th:only-of-type {\n",
       "        vertical-align: middle;\n",
       "    }\n",
       "\n",
       "    .dataframe tbody tr th {\n",
       "        vertical-align: top;\n",
       "    }\n",
       "\n",
       "    .dataframe thead th {\n",
       "        text-align: right;\n",
       "    }\n",
       "</style>\n",
       "<table border=\"1\" class=\"dataframe\">\n",
       "  <thead>\n",
       "    <tr style=\"text-align: right;\">\n",
       "      <th></th>\n",
       "      <th>index</th>\n",
       "      <th>name</th>\n",
       "      <th>surname</th>\n",
       "      <th>year_of_birth</th>\n",
       "    </tr>\n",
       "  </thead>\n",
       "  <tbody>\n",
       "    <tr>\n",
       "      <th>0</th>\n",
       "      <td>0</td>\n",
       "      <td>Freddie</td>\n",
       "      <td>Mercury</td>\n",
       "      <td>1946</td>\n",
       "    </tr>\n",
       "    <tr>\n",
       "      <th>1</th>\n",
       "      <td>1</td>\n",
       "      <td>Roger</td>\n",
       "      <td>Taylor</td>\n",
       "      <td>1949</td>\n",
       "    </tr>\n",
       "    <tr>\n",
       "      <th>2</th>\n",
       "      <td>2</td>\n",
       "      <td>Brian</td>\n",
       "      <td>May</td>\n",
       "      <td>1947</td>\n",
       "    </tr>\n",
       "    <tr>\n",
       "      <th>3</th>\n",
       "      <td>3</td>\n",
       "      <td>John</td>\n",
       "      <td>Deacon</td>\n",
       "      <td>1951</td>\n",
       "    </tr>\n",
       "  </tbody>\n",
       "</table>\n",
       "</div>"
      ],
      "text/plain": [
       "   index     name  surname  year_of_birth\n",
       "0      0  Freddie  Mercury           1946\n",
       "1      1    Roger   Taylor           1949\n",
       "2      2    Brian      May           1947\n",
       "3      3     John   Deacon           1951"
      ]
     },
     "execution_count": 28,
     "metadata": {},
     "output_type": "execute_result"
    }
   ],
   "source": [
    "# reset index\n",
    "queen_df.reset_index()\n",
    "#queen_df.reset_index(drop = True)"
   ]
  },
  {
   "cell_type": "code",
   "execution_count": 19,
   "metadata": {},
   "outputs": [
    {
     "data": {
      "text/html": [
       "<div>\n",
       "<style scoped>\n",
       "    .dataframe tbody tr th:only-of-type {\n",
       "        vertical-align: middle;\n",
       "    }\n",
       "\n",
       "    .dataframe tbody tr th {\n",
       "        vertical-align: top;\n",
       "    }\n",
       "\n",
       "    .dataframe thead th {\n",
       "        text-align: right;\n",
       "    }\n",
       "</style>\n",
       "<table border=\"1\" class=\"dataframe\">\n",
       "  <thead>\n",
       "    <tr style=\"text-align: right;\">\n",
       "      <th></th>\n",
       "      <th>surname</th>\n",
       "      <th>year_of_birth</th>\n",
       "    </tr>\n",
       "    <tr>\n",
       "      <th>name</th>\n",
       "      <th></th>\n",
       "      <th></th>\n",
       "    </tr>\n",
       "  </thead>\n",
       "  <tbody>\n",
       "    <tr>\n",
       "      <th>Freddie</th>\n",
       "      <td>Mercury</td>\n",
       "      <td>1946</td>\n",
       "    </tr>\n",
       "    <tr>\n",
       "      <th>Roger</th>\n",
       "      <td>Taylor</td>\n",
       "      <td>1949</td>\n",
       "    </tr>\n",
       "    <tr>\n",
       "      <th>Brian</th>\n",
       "      <td>May</td>\n",
       "      <td>1947</td>\n",
       "    </tr>\n",
       "    <tr>\n",
       "      <th>John</th>\n",
       "      <td>Deacon</td>\n",
       "      <td>1951</td>\n",
       "    </tr>\n",
       "  </tbody>\n",
       "</table>\n",
       "</div>"
      ],
      "text/plain": [
       "         surname  year_of_birth\n",
       "name                           \n",
       "Freddie  Mercury           1946\n",
       "Roger     Taylor           1949\n",
       "Brian        May           1947\n",
       "John      Deacon           1951"
      ]
     },
     "execution_count": 19,
     "metadata": {},
     "output_type": "execute_result"
    }
   ],
   "source": [
    "# set index\n",
    "queen_df.set_index('name',inplace = True)\n",
    "queen_df"
   ]
  },
  {
   "cell_type": "code",
   "execution_count": 25,
   "metadata": {},
   "outputs": [
    {
     "data": {
      "text/plain": [
       "0    Freddie\n",
       "1      Roger\n",
       "2      Brian\n",
       "3       John\n",
       "Name: name, dtype: object"
      ]
     },
     "execution_count": 25,
     "metadata": {},
     "output_type": "execute_result"
    }
   ],
   "source": [
    "# Get column values\n",
    "queen_df['name'] # note that this is a Series\n",
    "#queen_df['name'].values"
   ]
  },
  {
   "cell_type": "code",
   "execution_count": 26,
   "metadata": {},
   "outputs": [
    {
     "data": {
      "text/html": [
       "<div>\n",
       "<style scoped>\n",
       "    .dataframe tbody tr th:only-of-type {\n",
       "        vertical-align: middle;\n",
       "    }\n",
       "\n",
       "    .dataframe tbody tr th {\n",
       "        vertical-align: top;\n",
       "    }\n",
       "\n",
       "    .dataframe thead th {\n",
       "        text-align: right;\n",
       "    }\n",
       "</style>\n",
       "<table border=\"1\" class=\"dataframe\">\n",
       "  <thead>\n",
       "    <tr style=\"text-align: right;\">\n",
       "      <th></th>\n",
       "      <th>surname</th>\n",
       "      <th>name</th>\n",
       "    </tr>\n",
       "  </thead>\n",
       "  <tbody>\n",
       "    <tr>\n",
       "      <th>0</th>\n",
       "      <td>Mercury</td>\n",
       "      <td>Freddie</td>\n",
       "    </tr>\n",
       "    <tr>\n",
       "      <th>1</th>\n",
       "      <td>Taylor</td>\n",
       "      <td>Roger</td>\n",
       "    </tr>\n",
       "    <tr>\n",
       "      <th>2</th>\n",
       "      <td>May</td>\n",
       "      <td>Brian</td>\n",
       "    </tr>\n",
       "    <tr>\n",
       "      <th>3</th>\n",
       "      <td>Deacon</td>\n",
       "      <td>John</td>\n",
       "    </tr>\n",
       "  </tbody>\n",
       "</table>\n",
       "</div>"
      ],
      "text/plain": [
       "   surname     name\n",
       "0  Mercury  Freddie\n",
       "1   Taylor    Roger\n",
       "2      May    Brian\n",
       "3   Deacon     John"
      ]
     },
     "execution_count": 26,
     "metadata": {},
     "output_type": "execute_result"
    }
   ],
   "source": [
    "# Get several columns\n",
    "queen_df[['surname','name']] # note that this is a DataFrame\n",
    "#queen_df[['surname','name']].values"
   ]
  },
  {
   "cell_type": "code",
   "execution_count": 30,
   "metadata": {},
   "outputs": [
    {
     "data": {
      "text/plain": [
       "name             Freddie\n",
       "surname          Mercury\n",
       "year_of_birth       1946\n",
       "Name: voice, dtype: object"
      ]
     },
     "execution_count": 30,
     "metadata": {},
     "output_type": "execute_result"
    }
   ],
   "source": [
    "# Get rows\n",
    "queen_df.loc['voice']\n",
    "\n",
    "#queen_df.loc['voice'].values\n",
    "#queen_df.loc[['voice','drums'],'name']\n",
    "#queen_df.loc[['voice','drums'],['name','surname']]\n",
    "#queen_df.iloc[0]\n",
    "#queen_df.iloc[0:2]\n",
    "#queen_df.iloc[0:2,1:]"
   ]
  },
  {
   "cell_type": "markdown",
   "metadata": {},
   "source": [
    "# 3. Load data in Pandas"
   ]
  },
  {
   "cell_type": "code",
   "execution_count": 35,
   "metadata": {},
   "outputs": [
    {
     "data": {
      "text/plain": [
       "(173, 9)"
      ]
     },
     "execution_count": 35,
     "metadata": {},
     "output_type": "execute_result"
    }
   ],
   "source": [
    "#df = pd.read_excel('./data/Datos.xlsx') # this needs extra libraries\n",
    "df = pd.read_csv('./data/Datos.csv')\n",
    "df.shape"
   ]
  },
  {
   "cell_type": "code",
   "execution_count": 38,
   "metadata": {
    "scrolled": true
   },
   "outputs": [
    {
     "data": {
      "text/html": [
       "<div>\n",
       "<style scoped>\n",
       "    .dataframe tbody tr th:only-of-type {\n",
       "        vertical-align: middle;\n",
       "    }\n",
       "\n",
       "    .dataframe tbody tr th {\n",
       "        vertical-align: top;\n",
       "    }\n",
       "\n",
       "    .dataframe thead th {\n",
       "        text-align: right;\n",
       "    }\n",
       "</style>\n",
       "<table border=\"1\" class=\"dataframe\">\n",
       "  <thead>\n",
       "    <tr style=\"text-align: right;\">\n",
       "      <th></th>\n",
       "      <th>Sat_fat_dr</th>\n",
       "      <th>Sat_fat_ffq</th>\n",
       "      <th>Total_fat_dr</th>\n",
       "      <th>Total_fat_ffq</th>\n",
       "      <th>Alcoh_dr</th>\n",
       "      <th>Alcoh_ffq</th>\n",
       "      <th>Calor_dr</th>\n",
       "      <th>Calor_ffq</th>\n",
       "    </tr>\n",
       "  </thead>\n",
       "  <tbody>\n",
       "    <tr>\n",
       "      <th>0</th>\n",
       "      <td>33.20</td>\n",
       "      <td>21.2</td>\n",
       "      <td>81.15</td>\n",
       "      <td>53.8</td>\n",
       "      <td>8.26</td>\n",
       "      <td>1.68</td>\n",
       "      <td>1807</td>\n",
       "      <td>1242.2</td>\n",
       "    </tr>\n",
       "    <tr>\n",
       "      <th>1</th>\n",
       "      <td>17.73</td>\n",
       "      <td>10.6</td>\n",
       "      <td>53.28</td>\n",
       "      <td>36.6</td>\n",
       "      <td>0.83</td>\n",
       "      <td>0.00</td>\n",
       "      <td>1418</td>\n",
       "      <td>907.0</td>\n",
       "    </tr>\n",
       "    <tr>\n",
       "      <th>2</th>\n",
       "      <td>38.73</td>\n",
       "      <td>23.8</td>\n",
       "      <td>83.48</td>\n",
       "      <td>47.2</td>\n",
       "      <td>20.13</td>\n",
       "      <td>15.10</td>\n",
       "      <td>1889</td>\n",
       "      <td>786.0</td>\n",
       "    </tr>\n",
       "    <tr>\n",
       "      <th>3</th>\n",
       "      <td>21.57</td>\n",
       "      <td>22.7</td>\n",
       "      <td>49.65</td>\n",
       "      <td>55.3</td>\n",
       "      <td>11.16</td>\n",
       "      <td>7.49</td>\n",
       "      <td>1426</td>\n",
       "      <td>1392.5</td>\n",
       "    </tr>\n",
       "    <tr>\n",
       "      <th>4</th>\n",
       "      <td>21.35</td>\n",
       "      <td>30.4</td>\n",
       "      <td>55.18</td>\n",
       "      <td>71.0</td>\n",
       "      <td>7.18</td>\n",
       "      <td>12.84</td>\n",
       "      <td>1253</td>\n",
       "      <td>1259.8</td>\n",
       "    </tr>\n",
       "    <tr>\n",
       "      <th>...</th>\n",
       "      <td>...</td>\n",
       "      <td>...</td>\n",
       "      <td>...</td>\n",
       "      <td>...</td>\n",
       "      <td>...</td>\n",
       "      <td>...</td>\n",
       "      <td>...</td>\n",
       "      <td>...</td>\n",
       "    </tr>\n",
       "    <tr>\n",
       "      <th>168</th>\n",
       "      <td>36.19</td>\n",
       "      <td>18.1</td>\n",
       "      <td>95.43</td>\n",
       "      <td>47.1</td>\n",
       "      <td>4.60</td>\n",
       "      <td>7.25</td>\n",
       "      <td>1976</td>\n",
       "      <td>1204.3</td>\n",
       "    </tr>\n",
       "    <tr>\n",
       "      <th>169</th>\n",
       "      <td>22.42</td>\n",
       "      <td>10.9</td>\n",
       "      <td>62.15</td>\n",
       "      <td>32.0</td>\n",
       "      <td>2.56</td>\n",
       "      <td>1.81</td>\n",
       "      <td>1731</td>\n",
       "      <td>981.6</td>\n",
       "    </tr>\n",
       "    <tr>\n",
       "      <th>170</th>\n",
       "      <td>16.98</td>\n",
       "      <td>20.4</td>\n",
       "      <td>42.85</td>\n",
       "      <td>47.5</td>\n",
       "      <td>13.91</td>\n",
       "      <td>8.64</td>\n",
       "      <td>1033</td>\n",
       "      <td>1128.3</td>\n",
       "    </tr>\n",
       "    <tr>\n",
       "      <th>171</th>\n",
       "      <td>23.98</td>\n",
       "      <td>18.5</td>\n",
       "      <td>67.43</td>\n",
       "      <td>45.9</td>\n",
       "      <td>5.39</td>\n",
       "      <td>7.19</td>\n",
       "      <td>1585</td>\n",
       "      <td>1247.5</td>\n",
       "    </tr>\n",
       "    <tr>\n",
       "      <th>172</th>\n",
       "      <td>21.39</td>\n",
       "      <td>19.0</td>\n",
       "      <td>56.70</td>\n",
       "      <td>40.4</td>\n",
       "      <td>0.60</td>\n",
       "      <td>3.49</td>\n",
       "      <td>1320</td>\n",
       "      <td>994.0</td>\n",
       "    </tr>\n",
       "  </tbody>\n",
       "</table>\n",
       "<p>173 rows × 8 columns</p>\n",
       "</div>"
      ],
      "text/plain": [
       "     Sat_fat_dr  Sat_fat_ffq  Total_fat_dr  Total_fat_ffq  Alcoh_dr  \\\n",
       "0         33.20         21.2         81.15           53.8      8.26   \n",
       "1         17.73         10.6         53.28           36.6      0.83   \n",
       "2         38.73         23.8         83.48           47.2     20.13   \n",
       "3         21.57         22.7         49.65           55.3     11.16   \n",
       "4         21.35         30.4         55.18           71.0      7.18   \n",
       "..          ...          ...           ...            ...       ...   \n",
       "168       36.19         18.1         95.43           47.1      4.60   \n",
       "169       22.42         10.9         62.15           32.0      2.56   \n",
       "170       16.98         20.4         42.85           47.5     13.91   \n",
       "171       23.98         18.5         67.43           45.9      5.39   \n",
       "172       21.39         19.0         56.70           40.4      0.60   \n",
       "\n",
       "     Alcoh_ffq  Calor_dr  Calor_ffq  \n",
       "0         1.68      1807     1242.2  \n",
       "1         0.00      1418      907.0  \n",
       "2        15.10      1889      786.0  \n",
       "3         7.49      1426     1392.5  \n",
       "4        12.84      1253     1259.8  \n",
       "..         ...       ...        ...  \n",
       "168       7.25      1976     1204.3  \n",
       "169       1.81      1731      981.6  \n",
       "170       8.64      1033     1128.3  \n",
       "171       7.19      1585     1247.5  \n",
       "172       3.49      1320      994.0  \n",
       "\n",
       "[173 rows x 8 columns]"
      ]
     },
     "execution_count": 38,
     "metadata": {},
     "output_type": "execute_result"
    }
   ],
   "source": [
    "# some options\n",
    "df.head()\n",
    "\n",
    "df.tail()\n",
    "df.sample(10)\n",
    "df.dtypes\n",
    "df.drop(columns = 'Id')"
   ]
  },
  {
   "cell_type": "markdown",
   "metadata": {},
   "source": [
    "## 3.1 Summary statistics"
   ]
  },
  {
   "cell_type": "code",
   "execution_count": 39,
   "metadata": {},
   "outputs": [
    {
     "data": {
      "text/plain": [
       "0      11516.054444\n",
       "1      11445.560000\n",
       "2      12281.826667\n",
       "3      12302.596667\n",
       "4      12272.750000\n",
       "           ...     \n",
       "168    15529.663333\n",
       "169    15472.382222\n",
       "170    15414.731111\n",
       "171    15606.876667\n",
       "172    20727.620000\n",
       "Length: 173, dtype: float64"
      ]
     },
     "execution_count": 39,
     "metadata": {},
     "output_type": "execute_result"
    }
   ],
   "source": [
    "# Mean values\n",
    "df.mean()       # columns (axis=0) \n",
    "df.mean(axis=1) # rows"
   ]
  },
  {
   "cell_type": "code",
   "execution_count": 40,
   "metadata": {},
   "outputs": [
    {
     "data": {
      "text/plain": [
       "Id               11701.025452\n",
       "Sat_fat_dr           6.772596\n",
       "Sat_fat_ffq          9.275395\n",
       "Total_fat_dr        16.290839\n",
       "Total_fat_ffq       21.970692\n",
       "Alcoh_dr             9.664045\n",
       "Alcoh_ffq           12.254817\n",
       "Calor_dr           323.411603\n",
       "Calor_ffq          482.053536\n",
       "dtype: float64"
      ]
     },
     "execution_count": 40,
     "metadata": {},
     "output_type": "execute_result"
    }
   ],
   "source": [
    "# standard deviation\n",
    "df.std(ddof=1) "
   ]
  },
  {
   "cell_type": "code",
   "execution_count": 41,
   "metadata": {},
   "outputs": [
    {
     "data": {
      "text/plain": [
       "Id               184093.00\n",
       "Sat_fat_dr           46.36\n",
       "Sat_fat_ffq          57.40\n",
       "Total_fat_dr        119.83\n",
       "Total_fat_ffq       133.50\n",
       "Alcoh_dr             49.15\n",
       "Alcoh_ffq            64.75\n",
       "Calor_dr           2518.00\n",
       "Calor_ffq          3077.30\n",
       "dtype: float64"
      ]
     },
     "execution_count": 41,
     "metadata": {},
     "output_type": "execute_result"
    }
   ],
   "source": [
    "# others\n",
    "df.count()\n",
    "df.min()\n",
    "df.median()\n",
    "df.max()"
   ]
  },
  {
   "cell_type": "code",
   "execution_count": 42,
   "metadata": {},
   "outputs": [
    {
     "data": {
      "text/html": [
       "<div>\n",
       "<style scoped>\n",
       "    .dataframe tbody tr th:only-of-type {\n",
       "        vertical-align: middle;\n",
       "    }\n",
       "\n",
       "    .dataframe tbody tr th {\n",
       "        vertical-align: top;\n",
       "    }\n",
       "\n",
       "    .dataframe thead th {\n",
       "        text-align: right;\n",
       "    }\n",
       "</style>\n",
       "<table border=\"1\" class=\"dataframe\">\n",
       "  <thead>\n",
       "    <tr style=\"text-align: right;\">\n",
       "      <th></th>\n",
       "      <th>Id</th>\n",
       "      <th>Sat_fat_dr</th>\n",
       "      <th>Sat_fat_ffq</th>\n",
       "      <th>Total_fat_dr</th>\n",
       "      <th>Total_fat_ffq</th>\n",
       "      <th>Alcoh_dr</th>\n",
       "      <th>Alcoh_ffq</th>\n",
       "      <th>Calor_dr</th>\n",
       "      <th>Calor_ffq</th>\n",
       "    </tr>\n",
       "  </thead>\n",
       "  <tbody>\n",
       "    <tr>\n",
       "      <th>count</th>\n",
       "      <td>173.000000</td>\n",
       "      <td>173.000000</td>\n",
       "      <td>173.000000</td>\n",
       "      <td>173.000000</td>\n",
       "      <td>173.000000</td>\n",
       "      <td>173.000000</td>\n",
       "      <td>173.000000</td>\n",
       "      <td>173.000000</td>\n",
       "      <td>173.000000</td>\n",
       "    </tr>\n",
       "    <tr>\n",
       "      <th>mean</th>\n",
       "      <td>125997.260116</td>\n",
       "      <td>24.931734</td>\n",
       "      <td>21.915607</td>\n",
       "      <td>68.615376</td>\n",
       "      <td>56.076879</td>\n",
       "      <td>8.962948</td>\n",
       "      <td>8.951329</td>\n",
       "      <td>1619.872832</td>\n",
       "      <td>1371.730058</td>\n",
       "    </tr>\n",
       "    <tr>\n",
       "      <th>std</th>\n",
       "      <td>11701.025452</td>\n",
       "      <td>6.772596</td>\n",
       "      <td>9.275395</td>\n",
       "      <td>16.290839</td>\n",
       "      <td>21.970692</td>\n",
       "      <td>9.664045</td>\n",
       "      <td>12.254817</td>\n",
       "      <td>323.411603</td>\n",
       "      <td>482.053536</td>\n",
       "    </tr>\n",
       "    <tr>\n",
       "      <th>min</th>\n",
       "      <td>100396.000000</td>\n",
       "      <td>11.820000</td>\n",
       "      <td>5.600000</td>\n",
       "      <td>35.900000</td>\n",
       "      <td>14.800000</td>\n",
       "      <td>0.000000</td>\n",
       "      <td>0.000000</td>\n",
       "      <td>910.000000</td>\n",
       "      <td>463.200000</td>\n",
       "    </tr>\n",
       "    <tr>\n",
       "      <th>5%</th>\n",
       "      <td>108847.200000</td>\n",
       "      <td>15.354000</td>\n",
       "      <td>10.780000</td>\n",
       "      <td>44.914000</td>\n",
       "      <td>28.960000</td>\n",
       "      <td>0.000000</td>\n",
       "      <td>0.000000</td>\n",
       "      <td>1103.400000</td>\n",
       "      <td>757.980000</td>\n",
       "    </tr>\n",
       "    <tr>\n",
       "      <th>25%</th>\n",
       "      <td>113882.000000</td>\n",
       "      <td>20.200000</td>\n",
       "      <td>15.600000</td>\n",
       "      <td>56.160000</td>\n",
       "      <td>40.800000</td>\n",
       "      <td>1.760000</td>\n",
       "      <td>0.760000</td>\n",
       "      <td>1418.000000</td>\n",
       "      <td>1035.500000</td>\n",
       "    </tr>\n",
       "    <tr>\n",
       "      <th>50%</th>\n",
       "      <td>132382.000000</td>\n",
       "      <td>24.160000</td>\n",
       "      <td>19.900000</td>\n",
       "      <td>68.280000</td>\n",
       "      <td>51.700000</td>\n",
       "      <td>5.840000</td>\n",
       "      <td>4.550000</td>\n",
       "      <td>1606.000000</td>\n",
       "      <td>1297.600000</td>\n",
       "    </tr>\n",
       "    <tr>\n",
       "      <th>75%</th>\n",
       "      <td>134611.000000</td>\n",
       "      <td>28.260000</td>\n",
       "      <td>25.800000</td>\n",
       "      <td>77.980000</td>\n",
       "      <td>68.000000</td>\n",
       "      <td>12.970000</td>\n",
       "      <td>11.860000</td>\n",
       "      <td>1781.000000</td>\n",
       "      <td>1589.600000</td>\n",
       "    </tr>\n",
       "    <tr>\n",
       "      <th>95%</th>\n",
       "      <td>135839.600000</td>\n",
       "      <td>38.700000</td>\n",
       "      <td>39.640000</td>\n",
       "      <td>98.948000</td>\n",
       "      <td>99.280000</td>\n",
       "      <td>28.490000</td>\n",
       "      <td>38.354000</td>\n",
       "      <td>2197.200000</td>\n",
       "      <td>2280.720000</td>\n",
       "    </tr>\n",
       "    <tr>\n",
       "      <th>max</th>\n",
       "      <td>184093.000000</td>\n",
       "      <td>46.360000</td>\n",
       "      <td>57.400000</td>\n",
       "      <td>119.830000</td>\n",
       "      <td>133.500000</td>\n",
       "      <td>49.150000</td>\n",
       "      <td>64.750000</td>\n",
       "      <td>2518.000000</td>\n",
       "      <td>3077.300000</td>\n",
       "    </tr>\n",
       "  </tbody>\n",
       "</table>\n",
       "</div>"
      ],
      "text/plain": [
       "                  Id  Sat_fat_dr  Sat_fat_ffq  Total_fat_dr  Total_fat_ffq  \\\n",
       "count     173.000000  173.000000   173.000000    173.000000     173.000000   \n",
       "mean   125997.260116   24.931734    21.915607     68.615376      56.076879   \n",
       "std     11701.025452    6.772596     9.275395     16.290839      21.970692   \n",
       "min    100396.000000   11.820000     5.600000     35.900000      14.800000   \n",
       "5%     108847.200000   15.354000    10.780000     44.914000      28.960000   \n",
       "25%    113882.000000   20.200000    15.600000     56.160000      40.800000   \n",
       "50%    132382.000000   24.160000    19.900000     68.280000      51.700000   \n",
       "75%    134611.000000   28.260000    25.800000     77.980000      68.000000   \n",
       "95%    135839.600000   38.700000    39.640000     98.948000      99.280000   \n",
       "max    184093.000000   46.360000    57.400000    119.830000     133.500000   \n",
       "\n",
       "         Alcoh_dr   Alcoh_ffq     Calor_dr    Calor_ffq  \n",
       "count  173.000000  173.000000   173.000000   173.000000  \n",
       "mean     8.962948    8.951329  1619.872832  1371.730058  \n",
       "std      9.664045   12.254817   323.411603   482.053536  \n",
       "min      0.000000    0.000000   910.000000   463.200000  \n",
       "5%       0.000000    0.000000  1103.400000   757.980000  \n",
       "25%      1.760000    0.760000  1418.000000  1035.500000  \n",
       "50%      5.840000    4.550000  1606.000000  1297.600000  \n",
       "75%     12.970000   11.860000  1781.000000  1589.600000  \n",
       "95%     28.490000   38.354000  2197.200000  2280.720000  \n",
       "max     49.150000   64.750000  2518.000000  3077.300000  "
      ]
     },
     "execution_count": 42,
     "metadata": {},
     "output_type": "execute_result"
    }
   ],
   "source": [
    "# summary\n",
    "df.describe(percentiles = [.05, .25, .5, .75, .95])"
   ]
  },
  {
   "cell_type": "markdown",
   "metadata": {},
   "source": [
    "<div class=\"alert alert-block alert-info\">\n",
    "<b>Exercise:</b> Calculate the mean value of a (random) sample of size 10 for the variable Sat_fat_dr.</div>"
   ]
  },
  {
   "cell_type": "code",
   "execution_count": 43,
   "metadata": {},
   "outputs": [],
   "source": [
    "# Your code here\n",
    "# ..."
   ]
  },
  {
   "cell_type": "markdown",
   "metadata": {},
   "source": [
    "## 3.2 Filtering\n",
    "\n",
    "Let's find the rows for which `Alcoh_dr` is 0."
   ]
  },
  {
   "cell_type": "code",
   "execution_count": 44,
   "metadata": {},
   "outputs": [
    {
     "data": {
      "text/html": [
       "<div>\n",
       "<style scoped>\n",
       "    .dataframe tbody tr th:only-of-type {\n",
       "        vertical-align: middle;\n",
       "    }\n",
       "\n",
       "    .dataframe tbody tr th {\n",
       "        vertical-align: top;\n",
       "    }\n",
       "\n",
       "    .dataframe thead th {\n",
       "        text-align: right;\n",
       "    }\n",
       "</style>\n",
       "<table border=\"1\" class=\"dataframe\">\n",
       "  <thead>\n",
       "    <tr style=\"text-align: right;\">\n",
       "      <th></th>\n",
       "      <th>Id</th>\n",
       "      <th>Sat_fat_dr</th>\n",
       "      <th>Sat_fat_ffq</th>\n",
       "      <th>Total_fat_dr</th>\n",
       "      <th>Total_fat_ffq</th>\n",
       "      <th>Alcoh_dr</th>\n",
       "      <th>Alcoh_ffq</th>\n",
       "      <th>Calor_dr</th>\n",
       "      <th>Calor_ffq</th>\n",
       "    </tr>\n",
       "  </thead>\n",
       "  <tbody>\n",
       "    <tr>\n",
       "      <th>7</th>\n",
       "      <td>107879</td>\n",
       "      <td>19.73</td>\n",
       "      <td>19.1</td>\n",
       "      <td>58.30</td>\n",
       "      <td>48.9</td>\n",
       "      <td>0.0</td>\n",
       "      <td>0.00</td>\n",
       "      <td>1369</td>\n",
       "      <td>1364.1</td>\n",
       "    </tr>\n",
       "    <tr>\n",
       "      <th>8</th>\n",
       "      <td>108618</td>\n",
       "      <td>36.31</td>\n",
       "      <td>23.4</td>\n",
       "      <td>92.58</td>\n",
       "      <td>55.4</td>\n",
       "      <td>0.0</td>\n",
       "      <td>0.00</td>\n",
       "      <td>2163</td>\n",
       "      <td>1311.4</td>\n",
       "    </tr>\n",
       "    <tr>\n",
       "      <th>9</th>\n",
       "      <td>109000</td>\n",
       "      <td>20.87</td>\n",
       "      <td>16.0</td>\n",
       "      <td>68.44</td>\n",
       "      <td>44.2</td>\n",
       "      <td>0.0</td>\n",
       "      <td>0.00</td>\n",
       "      <td>1609</td>\n",
       "      <td>1200.6</td>\n",
       "    </tr>\n",
       "    <tr>\n",
       "      <th>14</th>\n",
       "      <td>109908</td>\n",
       "      <td>25.62</td>\n",
       "      <td>17.4</td>\n",
       "      <td>74.22</td>\n",
       "      <td>51.7</td>\n",
       "      <td>0.0</td>\n",
       "      <td>0.00</td>\n",
       "      <td>1702</td>\n",
       "      <td>1217.7</td>\n",
       "    </tr>\n",
       "    <tr>\n",
       "      <th>21</th>\n",
       "      <td>110714</td>\n",
       "      <td>25.10</td>\n",
       "      <td>18.9</td>\n",
       "      <td>80.15</td>\n",
       "      <td>57.5</td>\n",
       "      <td>0.0</td>\n",
       "      <td>0.00</td>\n",
       "      <td>1788</td>\n",
       "      <td>1257.5</td>\n",
       "    </tr>\n",
       "    <tr>\n",
       "      <th>33</th>\n",
       "      <td>112738</td>\n",
       "      <td>16.04</td>\n",
       "      <td>17.6</td>\n",
       "      <td>44.23</td>\n",
       "      <td>40.6</td>\n",
       "      <td>0.0</td>\n",
       "      <td>0.00</td>\n",
       "      <td>1183</td>\n",
       "      <td>1326.6</td>\n",
       "    </tr>\n",
       "    <tr>\n",
       "      <th>47</th>\n",
       "      <td>114865</td>\n",
       "      <td>29.17</td>\n",
       "      <td>24.8</td>\n",
       "      <td>84.52</td>\n",
       "      <td>71.1</td>\n",
       "      <td>0.0</td>\n",
       "      <td>0.00</td>\n",
       "      <td>1636</td>\n",
       "      <td>1396.7</td>\n",
       "    </tr>\n",
       "    <tr>\n",
       "      <th>54</th>\n",
       "      <td>115764</td>\n",
       "      <td>25.47</td>\n",
       "      <td>15.8</td>\n",
       "      <td>75.54</td>\n",
       "      <td>41.6</td>\n",
       "      <td>0.0</td>\n",
       "      <td>1.81</td>\n",
       "      <td>1548</td>\n",
       "      <td>1259.6</td>\n",
       "    </tr>\n",
       "    <tr>\n",
       "      <th>58</th>\n",
       "      <td>115879</td>\n",
       "      <td>28.72</td>\n",
       "      <td>35.8</td>\n",
       "      <td>74.26</td>\n",
       "      <td>76.0</td>\n",
       "      <td>0.0</td>\n",
       "      <td>0.00</td>\n",
       "      <td>1641</td>\n",
       "      <td>1961.6</td>\n",
       "    </tr>\n",
       "    <tr>\n",
       "      <th>65</th>\n",
       "      <td>129518</td>\n",
       "      <td>20.74</td>\n",
       "      <td>23.7</td>\n",
       "      <td>61.82</td>\n",
       "      <td>68.8</td>\n",
       "      <td>0.0</td>\n",
       "      <td>0.00</td>\n",
       "      <td>1374</td>\n",
       "      <td>1592.4</td>\n",
       "    </tr>\n",
       "    <tr>\n",
       "      <th>99</th>\n",
       "      <td>133443</td>\n",
       "      <td>16.73</td>\n",
       "      <td>57.4</td>\n",
       "      <td>54.07</td>\n",
       "      <td>119.0</td>\n",
       "      <td>0.0</td>\n",
       "      <td>0.00</td>\n",
       "      <td>1555</td>\n",
       "      <td>2691.0</td>\n",
       "    </tr>\n",
       "    <tr>\n",
       "      <th>100</th>\n",
       "      <td>133497</td>\n",
       "      <td>24.78</td>\n",
       "      <td>11.8</td>\n",
       "      <td>73.18</td>\n",
       "      <td>28.0</td>\n",
       "      <td>0.0</td>\n",
       "      <td>0.00</td>\n",
       "      <td>1470</td>\n",
       "      <td>662.4</td>\n",
       "    </tr>\n",
       "    <tr>\n",
       "      <th>130</th>\n",
       "      <td>134622</td>\n",
       "      <td>23.34</td>\n",
       "      <td>41.1</td>\n",
       "      <td>66.51</td>\n",
       "      <td>113.2</td>\n",
       "      <td>0.0</td>\n",
       "      <td>0.00</td>\n",
       "      <td>1371</td>\n",
       "      <td>2921.6</td>\n",
       "    </tr>\n",
       "    <tr>\n",
       "      <th>135</th>\n",
       "      <td>135002</td>\n",
       "      <td>34.04</td>\n",
       "      <td>37.4</td>\n",
       "      <td>82.11</td>\n",
       "      <td>91.1</td>\n",
       "      <td>0.0</td>\n",
       "      <td>0.00</td>\n",
       "      <td>1885</td>\n",
       "      <td>2389.5</td>\n",
       "    </tr>\n",
       "    <tr>\n",
       "      <th>139</th>\n",
       "      <td>135130</td>\n",
       "      <td>21.04</td>\n",
       "      <td>24.8</td>\n",
       "      <td>58.92</td>\n",
       "      <td>67.0</td>\n",
       "      <td>0.0</td>\n",
       "      <td>0.00</td>\n",
       "      <td>1501</td>\n",
       "      <td>1466.6</td>\n",
       "    </tr>\n",
       "    <tr>\n",
       "      <th>153</th>\n",
       "      <td>135472</td>\n",
       "      <td>41.01</td>\n",
       "      <td>18.3</td>\n",
       "      <td>114.85</td>\n",
       "      <td>41.7</td>\n",
       "      <td>0.0</td>\n",
       "      <td>0.00</td>\n",
       "      <td>2518</td>\n",
       "      <td>1323.7</td>\n",
       "    </tr>\n",
       "    <tr>\n",
       "      <th>160</th>\n",
       "      <td>135619</td>\n",
       "      <td>32.86</td>\n",
       "      <td>41.2</td>\n",
       "      <td>84.85</td>\n",
       "      <td>92.5</td>\n",
       "      <td>0.0</td>\n",
       "      <td>0.00</td>\n",
       "      <td>1682</td>\n",
       "      <td>2074.9</td>\n",
       "    </tr>\n",
       "  </tbody>\n",
       "</table>\n",
       "</div>"
      ],
      "text/plain": [
       "         Id  Sat_fat_dr  Sat_fat_ffq  Total_fat_dr  Total_fat_ffq  Alcoh_dr  \\\n",
       "7    107879       19.73         19.1         58.30           48.9       0.0   \n",
       "8    108618       36.31         23.4         92.58           55.4       0.0   \n",
       "9    109000       20.87         16.0         68.44           44.2       0.0   \n",
       "14   109908       25.62         17.4         74.22           51.7       0.0   \n",
       "21   110714       25.10         18.9         80.15           57.5       0.0   \n",
       "33   112738       16.04         17.6         44.23           40.6       0.0   \n",
       "47   114865       29.17         24.8         84.52           71.1       0.0   \n",
       "54   115764       25.47         15.8         75.54           41.6       0.0   \n",
       "58   115879       28.72         35.8         74.26           76.0       0.0   \n",
       "65   129518       20.74         23.7         61.82           68.8       0.0   \n",
       "99   133443       16.73         57.4         54.07          119.0       0.0   \n",
       "100  133497       24.78         11.8         73.18           28.0       0.0   \n",
       "130  134622       23.34         41.1         66.51          113.2       0.0   \n",
       "135  135002       34.04         37.4         82.11           91.1       0.0   \n",
       "139  135130       21.04         24.8         58.92           67.0       0.0   \n",
       "153  135472       41.01         18.3        114.85           41.7       0.0   \n",
       "160  135619       32.86         41.2         84.85           92.5       0.0   \n",
       "\n",
       "     Alcoh_ffq  Calor_dr  Calor_ffq  \n",
       "7         0.00      1369     1364.1  \n",
       "8         0.00      2163     1311.4  \n",
       "9         0.00      1609     1200.6  \n",
       "14        0.00      1702     1217.7  \n",
       "21        0.00      1788     1257.5  \n",
       "33        0.00      1183     1326.6  \n",
       "47        0.00      1636     1396.7  \n",
       "54        1.81      1548     1259.6  \n",
       "58        0.00      1641     1961.6  \n",
       "65        0.00      1374     1592.4  \n",
       "99        0.00      1555     2691.0  \n",
       "100       0.00      1470      662.4  \n",
       "130       0.00      1371     2921.6  \n",
       "135       0.00      1885     2389.5  \n",
       "139       0.00      1501     1466.6  \n",
       "153       0.00      2518     1323.7  \n",
       "160       0.00      1682     2074.9  "
      ]
     },
     "execution_count": 44,
     "metadata": {},
     "output_type": "execute_result"
    }
   ],
   "source": [
    "df[df.Alcoh_dr == 0]"
   ]
  },
  {
   "cell_type": "markdown",
   "metadata": {},
   "source": [
    "Now, let's take the cases where `Alcoh_dr` is greater than 0 for the Calors columns."
   ]
  },
  {
   "cell_type": "code",
   "execution_count": 45,
   "metadata": {},
   "outputs": [
    {
     "data": {
      "text/html": [
       "<div>\n",
       "<style scoped>\n",
       "    .dataframe tbody tr th:only-of-type {\n",
       "        vertical-align: middle;\n",
       "    }\n",
       "\n",
       "    .dataframe tbody tr th {\n",
       "        vertical-align: top;\n",
       "    }\n",
       "\n",
       "    .dataframe thead th {\n",
       "        text-align: right;\n",
       "    }\n",
       "</style>\n",
       "<table border=\"1\" class=\"dataframe\">\n",
       "  <thead>\n",
       "    <tr style=\"text-align: right;\">\n",
       "      <th></th>\n",
       "      <th>Calor_dr</th>\n",
       "      <th>Calor_ffq</th>\n",
       "    </tr>\n",
       "  </thead>\n",
       "  <tbody>\n",
       "    <tr>\n",
       "      <th>0</th>\n",
       "      <td>1807</td>\n",
       "      <td>1242.2</td>\n",
       "    </tr>\n",
       "    <tr>\n",
       "      <th>1</th>\n",
       "      <td>1418</td>\n",
       "      <td>907.0</td>\n",
       "    </tr>\n",
       "    <tr>\n",
       "      <th>2</th>\n",
       "      <td>1889</td>\n",
       "      <td>786.0</td>\n",
       "    </tr>\n",
       "    <tr>\n",
       "      <th>3</th>\n",
       "      <td>1426</td>\n",
       "      <td>1392.5</td>\n",
       "    </tr>\n",
       "    <tr>\n",
       "      <th>4</th>\n",
       "      <td>1253</td>\n",
       "      <td>1259.8</td>\n",
       "    </tr>\n",
       "    <tr>\n",
       "      <th>...</th>\n",
       "      <td>...</td>\n",
       "      <td>...</td>\n",
       "    </tr>\n",
       "    <tr>\n",
       "      <th>168</th>\n",
       "      <td>1976</td>\n",
       "      <td>1204.3</td>\n",
       "    </tr>\n",
       "    <tr>\n",
       "      <th>169</th>\n",
       "      <td>1731</td>\n",
       "      <td>981.6</td>\n",
       "    </tr>\n",
       "    <tr>\n",
       "      <th>170</th>\n",
       "      <td>1033</td>\n",
       "      <td>1128.3</td>\n",
       "    </tr>\n",
       "    <tr>\n",
       "      <th>171</th>\n",
       "      <td>1585</td>\n",
       "      <td>1247.5</td>\n",
       "    </tr>\n",
       "    <tr>\n",
       "      <th>172</th>\n",
       "      <td>1320</td>\n",
       "      <td>994.0</td>\n",
       "    </tr>\n",
       "  </tbody>\n",
       "</table>\n",
       "<p>156 rows × 2 columns</p>\n",
       "</div>"
      ],
      "text/plain": [
       "     Calor_dr  Calor_ffq\n",
       "0        1807     1242.2\n",
       "1        1418      907.0\n",
       "2        1889      786.0\n",
       "3        1426     1392.5\n",
       "4        1253     1259.8\n",
       "..        ...        ...\n",
       "168      1976     1204.3\n",
       "169      1731      981.6\n",
       "170      1033     1128.3\n",
       "171      1585     1247.5\n",
       "172      1320      994.0\n",
       "\n",
       "[156 rows x 2 columns]"
      ]
     },
     "execution_count": 45,
     "metadata": {},
     "output_type": "execute_result"
    }
   ],
   "source": [
    "# option 1\n",
    "df[df.Alcoh_dr > 0][['Calor_dr','Calor_ffq']]\n",
    "\n",
    "# option 2\n",
    "df.loc[df.Alcoh_dr > 0,['Calor_dr','Calor_ffq']]"
   ]
  },
  {
   "cell_type": "markdown",
   "metadata": {},
   "source": [
    "## 3.3 Do some plotting"
   ]
  },
  {
   "cell_type": "code",
   "execution_count": 46,
   "metadata": {},
   "outputs": [
    {
     "data": {
      "image/png": "[encoded data removed]",
      "text/plain": [
       "<Figure size 432x288 with 1 Axes>"
      ]
     },
     "metadata": {
      "needs_background": "light"
     },
     "output_type": "display_data"
    },
    {
     "data": {
      "image/png": "[encoded data removed]",
      "text/plain": [
       "<Figure size 432x288 with 1 Axes>"
      ]
     },
     "metadata": {
      "needs_background": "light"
     },
     "output_type": "display_data"
    }
   ],
   "source": [
    "# histograms\n",
    "\n",
    "# option 1: using pandas\n",
    "df.Alcoh_dr.hist(bins=50, grid=False)\n",
    "plt.show()\n",
    "\n",
    "# option 2: using matplotlib\n",
    "plt.hist(df.Alcoh_dr.values, bins=50)\n",
    "plt.show()"
   ]
  },
  {
   "cell_type": "code",
   "execution_count": 47,
   "metadata": {},
   "outputs": [
    {
     "data": {
      "image/png": "[encoded data removed]",
      "text/plain": [
       "<Figure size 432x288 with 1 Axes>"
      ]
     },
     "metadata": {
      "needs_background": "light"
     },
     "output_type": "display_data"
    }
   ],
   "source": [
    "# boxplots\n",
    "df[['Calor_dr','Calor_ffq']].boxplot()\n",
    "plt.show()"
   ]
  },
  {
   "cell_type": "code",
   "execution_count": 48,
   "metadata": {},
   "outputs": [
    {
     "data": {
      "image/png": "[encoded data removed]",
      "text/plain": [
       "<Figure size 432x288 with 1 Axes>"
      ]
     },
     "metadata": {
      "needs_background": "light"
     },
     "output_type": "display_data"
    }
   ],
   "source": [
    "# scatter plots\n",
    "df.plot.scatter(x = 'Calor_dr', y = 'Calor_ffq')\n",
    "plt.show()"
   ]
  },
  {
   "cell_type": "markdown",
   "metadata": {},
   "source": [
    "# References\n",
    "\n",
    "- [Pandas Cheat Sheet](https://github.com/pandas-dev/pandas/blob/master/doc/cheatsheet/Pandas_Cheat_Sheet.pdf)"
   ]
  }
 ],
 "metadata": {
  "kernelspec": {
   "display_name": "Python 3",
   "language": "python",
   "name": "python3"
  },
  "language_info": {
   "codemirror_mode": {
    "name": "ipython",
    "version": 3
   },
   "file_extension": ".py",
   "mimetype": "text/x-python",
   "name": "python",
   "nbconvert_exporter": "python",
   "pygments_lexer": "ipython3",
   "version": "3.8.5"
  }
 },
 "nbformat": 4,
 "nbformat_minor": 2
}
