{
 "cells": [
  {
   "cell_type": "markdown",
   "metadata": {},
   "source": [
    "<div class=\"alert alert-block alert-success\">\n",
    "    <b>Universidad Rey Juan Carlos de Madrid. <br>ERASMUS+ in UCBM</b>  Biomedical Engineering\n",
    "</div>"
   ]
  },
  {
   "cell_type": "markdown",
   "metadata": {},
   "source": [
    "<div class=\"alert alert-block alert-info\"> Pablo Laso Mielgo </div> "
   ]
  },
  {
   "cell_type": "markdown",
   "metadata": {},
   "source": [
    "## Exercise 2.2\n",
    "### IRIS DATASET\n",
    "---"
   ]
  },
  {
   "cell_type": "code",
   "execution_count": 1,
   "metadata": {},
   "outputs": [],
   "source": [
    "import numpy as np\n",
    "import scipy.stats as ss\n",
    "import matplotlib.pyplot as plt\n",
    "import pandas as pd\n",
    "import seaborn as sns"
   ]
  },
  {
   "cell_type": "code",
   "execution_count": 2,
   "metadata": {
    "collapsed": true
   },
   "outputs": [
    {
     "data": {
      "text/plain": [
       "{'data': array([[5.1, 3.5, 1.4, 0.2],\n",
       "        [4.9, 3. , 1.4, 0.2],\n",
       "        [4.7, 3.2, 1.3, 0.2],\n",
       "        [4.6, 3.1, 1.5, 0.2],\n",
       "        [5. , 3.6, 1.4, 0.2],\n",
       "        [5.4, 3.9, 1.7, 0.4],\n",
       "        [4.6, 3.4, 1.4, 0.3],\n",
       "        [5. , 3.4, 1.5, 0.2],\n",
       "        [4.4, 2.9, 1.4, 0.2],\n",
       "        [4.9, 3.1, 1.5, 0.1],\n",
       "        [5.4, 3.7, 1.5, 0.2],\n",
       "        [4.8, 3.4, 1.6, 0.2],\n",
       "        [4.8, 3. , 1.4, 0.1],\n",
       "        [4.3, 3. , 1.1, 0.1],\n",
       "        [5.8, 4. , 1.2, 0.2],\n",
       "        [5.7, 4.4, 1.5, 0.4],\n",
       "        [5.4, 3.9, 1.3, 0.4],\n",
       "        [5.1, 3.5, 1.4, 0.3],\n",
       "        [5.7, 3.8, 1.7, 0.3],\n",
       "        [5.1, 3.8, 1.5, 0.3],\n",
       "        [5.4, 3.4, 1.7, 0.2],\n",
       "        [5.1, 3.7, 1.5, 0.4],\n",
       "        [4.6, 3.6, 1. , 0.2],\n",
       "        [5.1, 3.3, 1.7, 0.5],\n",
       "        [4.8, 3.4, 1.9, 0.2],\n",
       "        [5. , 3. , 1.6, 0.2],\n",
       "        [5. , 3.4, 1.6, 0.4],\n",
       "        [5.2, 3.5, 1.5, 0.2],\n",
       "        [5.2, 3.4, 1.4, 0.2],\n",
       "        [4.7, 3.2, 1.6, 0.2],\n",
       "        [4.8, 3.1, 1.6, 0.2],\n",
       "        [5.4, 3.4, 1.5, 0.4],\n",
       "        [5.2, 4.1, 1.5, 0.1],\n",
       "        [5.5, 4.2, 1.4, 0.2],\n",
       "        [4.9, 3.1, 1.5, 0.2],\n",
       "        [5. , 3.2, 1.2, 0.2],\n",
       "        [5.5, 3.5, 1.3, 0.2],\n",
       "        [4.9, 3.6, 1.4, 0.1],\n",
       "        [4.4, 3. , 1.3, 0.2],\n",
       "        [5.1, 3.4, 1.5, 0.2],\n",
       "        [5. , 3.5, 1.3, 0.3],\n",
       "        [4.5, 2.3, 1.3, 0.3],\n",
       "        [4.4, 3.2, 1.3, 0.2],\n",
       "        [5. , 3.5, 1.6, 0.6],\n",
       "        [5.1, 3.8, 1.9, 0.4],\n",
       "        [4.8, 3. , 1.4, 0.3],\n",
       "        [5.1, 3.8, 1.6, 0.2],\n",
       "        [4.6, 3.2, 1.4, 0.2],\n",
       "        [5.3, 3.7, 1.5, 0.2],\n",
       "        [5. , 3.3, 1.4, 0.2],\n",
       "        [7. , 3.2, 4.7, 1.4],\n",
       "        [6.4, 3.2, 4.5, 1.5],\n",
       "        [6.9, 3.1, 4.9, 1.5],\n",
       "        [5.5, 2.3, 4. , 1.3],\n",
       "        [6.5, 2.8, 4.6, 1.5],\n",
       "        [5.7, 2.8, 4.5, 1.3],\n",
       "        [6.3, 3.3, 4.7, 1.6],\n",
       "        [4.9, 2.4, 3.3, 1. ],\n",
       "        [6.6, 2.9, 4.6, 1.3],\n",
       "        [5.2, 2.7, 3.9, 1.4],\n",
       "        [5. , 2. , 3.5, 1. ],\n",
       "        [5.9, 3. , 4.2, 1.5],\n",
       "        [6. , 2.2, 4. , 1. ],\n",
       "        [6.1, 2.9, 4.7, 1.4],\n",
       "        [5.6, 2.9, 3.6, 1.3],\n",
       "        [6.7, 3.1, 4.4, 1.4],\n",
       "        [5.6, 3. , 4.5, 1.5],\n",
       "        [5.8, 2.7, 4.1, 1. ],\n",
       "        [6.2, 2.2, 4.5, 1.5],\n",
       "        [5.6, 2.5, 3.9, 1.1],\n",
       "        [5.9, 3.2, 4.8, 1.8],\n",
       "        [6.1, 2.8, 4. , 1.3],\n",
       "        [6.3, 2.5, 4.9, 1.5],\n",
       "        [6.1, 2.8, 4.7, 1.2],\n",
       "        [6.4, 2.9, 4.3, 1.3],\n",
       "        [6.6, 3. , 4.4, 1.4],\n",
       "        [6.8, 2.8, 4.8, 1.4],\n",
       "        [6.7, 3. , 5. , 1.7],\n",
       "        [6. , 2.9, 4.5, 1.5],\n",
       "        [5.7, 2.6, 3.5, 1. ],\n",
       "        [5.5, 2.4, 3.8, 1.1],\n",
       "        [5.5, 2.4, 3.7, 1. ],\n",
       "        [5.8, 2.7, 3.9, 1.2],\n",
       "        [6. , 2.7, 5.1, 1.6],\n",
       "        [5.4, 3. , 4.5, 1.5],\n",
       "        [6. , 3.4, 4.5, 1.6],\n",
       "        [6.7, 3.1, 4.7, 1.5],\n",
       "        [6.3, 2.3, 4.4, 1.3],\n",
       "        [5.6, 3. , 4.1, 1.3],\n",
       "        [5.5, 2.5, 4. , 1.3],\n",
       "        [5.5, 2.6, 4.4, 1.2],\n",
       "        [6.1, 3. , 4.6, 1.4],\n",
       "        [5.8, 2.6, 4. , 1.2],\n",
       "        [5. , 2.3, 3.3, 1. ],\n",
       "        [5.6, 2.7, 4.2, 1.3],\n",
       "        [5.7, 3. , 4.2, 1.2],\n",
       "        [5.7, 2.9, 4.2, 1.3],\n",
       "        [6.2, 2.9, 4.3, 1.3],\n",
       "        [5.1, 2.5, 3. , 1.1],\n",
       "        [5.7, 2.8, 4.1, 1.3],\n",
       "        [6.3, 3.3, 6. , 2.5],\n",
       "        [5.8, 2.7, 5.1, 1.9],\n",
       "        [7.1, 3. , 5.9, 2.1],\n",
       "        [6.3, 2.9, 5.6, 1.8],\n",
       "        [6.5, 3. , 5.8, 2.2],\n",
       "        [7.6, 3. , 6.6, 2.1],\n",
       "        [4.9, 2.5, 4.5, 1.7],\n",
       "        [7.3, 2.9, 6.3, 1.8],\n",
       "        [6.7, 2.5, 5.8, 1.8],\n",
       "        [7.2, 3.6, 6.1, 2.5],\n",
       "        [6.5, 3.2, 5.1, 2. ],\n",
       "        [6.4, 2.7, 5.3, 1.9],\n",
       "        [6.8, 3. , 5.5, 2.1],\n",
       "        [5.7, 2.5, 5. , 2. ],\n",
       "        [5.8, 2.8, 5.1, 2.4],\n",
       "        [6.4, 3.2, 5.3, 2.3],\n",
       "        [6.5, 3. , 5.5, 1.8],\n",
       "        [7.7, 3.8, 6.7, 2.2],\n",
       "        [7.7, 2.6, 6.9, 2.3],\n",
       "        [6. , 2.2, 5. , 1.5],\n",
       "        [6.9, 3.2, 5.7, 2.3],\n",
       "        [5.6, 2.8, 4.9, 2. ],\n",
       "        [7.7, 2.8, 6.7, 2. ],\n",
       "        [6.3, 2.7, 4.9, 1.8],\n",
       "        [6.7, 3.3, 5.7, 2.1],\n",
       "        [7.2, 3.2, 6. , 1.8],\n",
       "        [6.2, 2.8, 4.8, 1.8],\n",
       "        [6.1, 3. , 4.9, 1.8],\n",
       "        [6.4, 2.8, 5.6, 2.1],\n",
       "        [7.2, 3. , 5.8, 1.6],\n",
       "        [7.4, 2.8, 6.1, 1.9],\n",
       "        [7.9, 3.8, 6.4, 2. ],\n",
       "        [6.4, 2.8, 5.6, 2.2],\n",
       "        [6.3, 2.8, 5.1, 1.5],\n",
       "        [6.1, 2.6, 5.6, 1.4],\n",
       "        [7.7, 3. , 6.1, 2.3],\n",
       "        [6.3, 3.4, 5.6, 2.4],\n",
       "        [6.4, 3.1, 5.5, 1.8],\n",
       "        [6. , 3. , 4.8, 1.8],\n",
       "        [6.9, 3.1, 5.4, 2.1],\n",
       "        [6.7, 3.1, 5.6, 2.4],\n",
       "        [6.9, 3.1, 5.1, 2.3],\n",
       "        [5.8, 2.7, 5.1, 1.9],\n",
       "        [6.8, 3.2, 5.9, 2.3],\n",
       "        [6.7, 3.3, 5.7, 2.5],\n",
       "        [6.7, 3. , 5.2, 2.3],\n",
       "        [6.3, 2.5, 5. , 1.9],\n",
       "        [6.5, 3. , 5.2, 2. ],\n",
       "        [6.2, 3.4, 5.4, 2.3],\n",
       "        [5.9, 3. , 5.1, 1.8]]),\n",
       " 'target': array([0, 0, 0, 0, 0, 0, 0, 0, 0, 0, 0, 0, 0, 0, 0, 0, 0, 0, 0, 0, 0, 0,\n",
       "        0, 0, 0, 0, 0, 0, 0, 0, 0, 0, 0, 0, 0, 0, 0, 0, 0, 0, 0, 0, 0, 0,\n",
       "        0, 0, 0, 0, 0, 0, 1, 1, 1, 1, 1, 1, 1, 1, 1, 1, 1, 1, 1, 1, 1, 1,\n",
       "        1, 1, 1, 1, 1, 1, 1, 1, 1, 1, 1, 1, 1, 1, 1, 1, 1, 1, 1, 1, 1, 1,\n",
       "        1, 1, 1, 1, 1, 1, 1, 1, 1, 1, 1, 1, 2, 2, 2, 2, 2, 2, 2, 2, 2, 2,\n",
       "        2, 2, 2, 2, 2, 2, 2, 2, 2, 2, 2, 2, 2, 2, 2, 2, 2, 2, 2, 2, 2, 2,\n",
       "        2, 2, 2, 2, 2, 2, 2, 2, 2, 2, 2, 2, 2, 2, 2, 2, 2, 2]),\n",
       " 'target_names': array(['setosa', 'versicolor', 'virginica'], dtype='<U10'),\n",
       " 'DESCR': '.. _iris_dataset:\\n\\nIris plants dataset\\n--------------------\\n\\n**Data Set Characteristics:**\\n\\n    :Number of Instances: 150 (50 in each of three classes)\\n    :Number of Attributes: 4 numeric, predictive attributes and the class\\n    :Attribute Information:\\n        - sepal length in cm\\n        - sepal width in cm\\n        - petal length in cm\\n        - petal width in cm\\n        - class:\\n                - Iris-Setosa\\n                - Iris-Versicolour\\n                - Iris-Virginica\\n                \\n    :Summary Statistics:\\n\\n    ============== ==== ==== ======= ===== ====================\\n                    Min  Max   Mean    SD   Class Correlation\\n    ============== ==== ==== ======= ===== ====================\\n    sepal length:   4.3  7.9   5.84   0.83    0.7826\\n    sepal width:    2.0  4.4   3.05   0.43   -0.4194\\n    petal length:   1.0  6.9   3.76   1.76    0.9490  (high!)\\n    petal width:    0.1  2.5   1.20   0.76    0.9565  (high!)\\n    ============== ==== ==== ======= ===== ====================\\n\\n    :Missing Attribute Values: None\\n    :Class Distribution: 33.3% for each of 3 classes.\\n    :Creator: R.A. Fisher\\n    :Donor: Michael Marshall (MARSHALL%PLU@io.arc.nasa.gov)\\n    :Date: July, 1988\\n\\nThe famous Iris database, first used by Sir R.A. Fisher. The dataset is taken\\nfrom Fisher\\'s paper. Note that it\\'s the same as in R, but not as in the UCI\\nMachine Learning Repository, which has two wrong data points.\\n\\nThis is perhaps the best known database to be found in the\\npattern recognition literature.  Fisher\\'s paper is a classic in the field and\\nis referenced frequently to this day.  (See Duda & Hart, for example.)  The\\ndata set contains 3 classes of 50 instances each, where each class refers to a\\ntype of iris plant.  One class is linearly separable from the other 2; the\\nlatter are NOT linearly separable from each other.\\n\\n.. topic:: References\\n\\n   - Fisher, R.A. \"The use of multiple measurements in taxonomic problems\"\\n     Annual Eugenics, 7, Part II, 179-188 (1936); also in \"Contributions to\\n     Mathematical Statistics\" (John Wiley, NY, 1950).\\n   - Duda, R.O., & Hart, P.E. (1973) Pattern Classification and Scene Analysis.\\n     (Q327.D83) John Wiley & Sons.  ISBN 0-471-22361-1.  See page 218.\\n   - Dasarathy, B.V. (1980) \"Nosing Around the Neighborhood: A New System\\n     Structure and Classification Rule for Recognition in Partially Exposed\\n     Environments\".  IEEE Transactions on Pattern Analysis and Machine\\n     Intelligence, Vol. PAMI-2, No. 1, 67-71.\\n   - Gates, G.W. (1972) \"The Reduced Nearest Neighbor Rule\".  IEEE Transactions\\n     on Information Theory, May 1972, 431-433.\\n   - See also: 1988 MLC Proceedings, 54-64.  Cheeseman et al\"s AUTOCLASS II\\n     conceptual clustering system finds 3 classes in the data.\\n   - Many, many more ...',\n",
       " 'feature_names': ['sepal length (cm)',\n",
       "  'sepal width (cm)',\n",
       "  'petal length (cm)',\n",
       "  'petal width (cm)'],\n",
       " 'filename': 'C:\\\\ProgramData\\\\Anaconda3\\\\envs\\\\ML\\\\lib\\\\site-packages\\\\sklearn\\\\datasets\\\\data\\\\iris.csv'}"
      ]
     },
     "execution_count": 2,
     "metadata": {},
     "output_type": "execute_result"
    }
   ],
   "source": [
    "from sklearn.datasets import load_iris\n",
    "iris_dataset = load_iris()\n",
    "iris_dataset"
   ]
  },
  {
   "cell_type": "code",
   "execution_count": 3,
   "metadata": {
    "scrolled": true
   },
   "outputs": [
    {
     "name": "stdout",
     "output_type": "stream",
     "text": [
      "keys od iris_dataset: \n",
      "dict_keys(['data', 'target', 'target_names', 'DESCR', 'feature_names', 'filename'])\n"
     ]
    }
   ],
   "source": [
    "print('keys od iris_dataset: \\n{}'.format(iris_dataset.keys()))"
   ]
  },
  {
   "cell_type": "code",
   "execution_count": 4,
   "metadata": {},
   "outputs": [
    {
     "name": "stdout",
     "output_type": "stream",
     "text": [
      ".. _iris_dataset:\n",
      "\n",
      "Iris plants dataset\n",
      "--------------------\n",
      "\n",
      "**Data Set Characteristics:**\n",
      "\n",
      "    :Number of Instances: 150 (50 in each of three classes)\n",
      "    :Number of Attributes: 4 numeric, pre\n",
      "...\n"
     ]
    }
   ],
   "source": [
    "print(iris_dataset['DESCR'][:193] + '\\n...')"
   ]
  },
  {
   "cell_type": "code",
   "execution_count": 5,
   "metadata": {},
   "outputs": [
    {
     "name": "stdout",
     "output_type": "stream",
     "text": [
      "Target names: ['setosa' 'versicolor' 'virginica']\n"
     ]
    }
   ],
   "source": [
    "print('Target names: {}'.format(iris_dataset['target_names']))"
   ]
  },
  {
   "cell_type": "code",
   "execution_count": 6,
   "metadata": {},
   "outputs": [
    {
     "name": "stdout",
     "output_type": "stream",
     "text": [
      "Feature names:\n",
      "['sepal length (cm)', 'sepal width (cm)', 'petal length (cm)', 'petal width (cm)']\n"
     ]
    }
   ],
   "source": [
    "print('Feature names:\\n{}'.format(iris_dataset['feature_names']))"
   ]
  },
  {
   "cell_type": "code",
   "execution_count": 7,
   "metadata": {},
   "outputs": [
    {
     "data": {
      "text/plain": [
       "array([[5.1, 3.5, 1.4, 0.2],\n",
       "       [4.9, 3. , 1.4, 0.2],\n",
       "       [4.7, 3.2, 1.3, 0.2],\n",
       "       [4.6, 3.1, 1.5, 0.2],\n",
       "       [5. , 3.6, 1.4, 0.2]])"
      ]
     },
     "execution_count": 7,
     "metadata": {},
     "output_type": "execute_result"
    }
   ],
   "source": [
    "iris_dataset['data'][:5]"
   ]
  },
  {
   "cell_type": "markdown",
   "metadata": {},
   "source": [
    "---"
   ]
  },
  {
   "cell_type": "markdown",
   "metadata": {},
   "source": [
    "## ESERCITAZIONE 2 - PARTE 2\n",
    "\n",
    "Lo scopo questa parte della seconda esercitazione è stimare l'affidabilità di un kNN, nel caso in cui \"k\" sia pari ad 1 ed il numero di classi sia pari a 2. Si ricorda che il materiale bibliografico che descrive formalmente l'approccio è disponibile nella piattaforma di elearning.\n",
    "Vogliamo quindi determinare se un punto classificato è:\n",
    "* lontano da una zona di rischio di sovrapposizione tra classi\n",
    "* lontano da una zona con outliers rispetto al resto del dataset <p>\n",
    "    \n",
    "Per motivi didattici, ovvero per semplificare il problema e rendere facilmente visualizzabile cosa stiamo facendo, estraiamo due feature dal \"Fisher Iris\", e binarizziamo il problema (i.e. lo riduciamo a due classi). In questo modo lo spazio delle feature sarà 2D. Quindi: <p>\n",
    "* caricare ed inizializzare il dataset. In particolare, far sì che le label siano i numeri interi 1, 2 e 3 anzichè le stringhe con i nomi delle specie di fiori inizialmente presenti\n",
    "selezionare le feature 1 e 4\n",
    "* sì che tutte le osservazioni di classe 2 diventino di classe 1 e quelle di classe 3 diventino di classe 1. In pratica è sufficiente sostituire le label con valore pari a 2 con il valore 1 e le label di valore 3 con il valore 2. \n",
    "* plottare i campioni con dei punti colorati in base alla relativa classe di appartenenza\n",
    "* per calcolare l'affidabilità nel seguito di questo esercizio, estraiamo il validation set (invece che farlo randomicamente, per garantire la riproducibilità dei risultati in questo esercizio si selezionano i campioni alle righe [51 53 106 108 118 119 123 126 130 131 132 136])."
   ]
  },
  {
   "cell_type": "code",
   "execution_count": 8,
   "metadata": {},
   "outputs": [],
   "source": [
    "iris_dataset = load_iris()"
   ]
  },
  {
   "cell_type": "code",
   "execution_count": 9,
   "metadata": {},
   "outputs": [],
   "source": [
    "iris_dataset['data']=np.delete(np.delete(iris_dataset['data'],2,1),1,1)"
   ]
  },
  {
   "cell_type": "code",
   "execution_count": 10,
   "metadata": {
    "collapsed": true
   },
   "outputs": [
    {
     "data": {
      "text/plain": [
       "array([0, 0, 0, 0, 0, 0, 0, 0, 0, 0, 0, 0, 0, 0, 0, 0, 0, 0, 0, 0, 0, 0,\n",
       "       0, 0, 0, 0, 0, 0, 0, 0, 0, 0, 0, 0, 0, 0, 0, 0, 0, 0, 0, 0, 0, 0,\n",
       "       0, 0, 0, 0, 0, 0, 1, 1, 1, 1, 1, 1, 1, 1, 1, 1, 1, 1, 1, 1, 1, 1,\n",
       "       1, 1, 1, 1, 1, 1, 1, 1, 1, 1, 1, 1, 1, 1, 1, 1, 1, 1, 1, 1, 1, 1,\n",
       "       1, 1, 1, 1, 1, 1, 1, 1, 1, 1, 1, 1, 2, 2, 2, 2, 2, 2, 2, 2, 2, 2,\n",
       "       2, 2, 2, 2, 2, 2, 2, 2, 2, 2, 2, 2, 2, 2, 2, 2, 2, 2, 2, 2, 2, 2,\n",
       "       2, 2, 2, 2, 2, 2, 2, 2, 2, 2, 2, 2, 2, 2, 2, 2, 2, 2])"
      ]
     },
     "execution_count": 10,
     "metadata": {},
     "output_type": "execute_result"
    }
   ],
   "source": [
    "iris_dataset['target'] # already categorical"
   ]
  },
  {
   "cell_type": "code",
   "execution_count": 11,
   "metadata": {
    "collapsed": true
   },
   "outputs": [
    {
     "data": {
      "text/plain": [
       "array([0, 0, 0, 0, 0, 0, 0, 0, 0, 0, 0, 0, 0, 0, 0, 0, 0, 0, 0, 0, 0, 0,\n",
       "       0, 0, 0, 0, 0, 0, 0, 0, 0, 0, 0, 0, 0, 0, 0, 0, 0, 0, 0, 0, 0, 0,\n",
       "       0, 0, 0, 0, 0, 0, 0, 0, 0, 0, 0, 0, 0, 0, 0, 0, 0, 0, 0, 0, 0, 0,\n",
       "       0, 0, 0, 0, 0, 0, 0, 0, 0, 0, 0, 0, 0, 0, 0, 0, 0, 0, 0, 0, 0, 0,\n",
       "       0, 0, 0, 0, 0, 0, 0, 0, 0, 0, 0, 0, 1, 1, 1, 1, 1, 1, 1, 1, 1, 1,\n",
       "       1, 1, 1, 1, 1, 1, 1, 1, 1, 1, 1, 1, 1, 1, 1, 1, 1, 1, 1, 1, 1, 1,\n",
       "       1, 1, 1, 1, 1, 1, 1, 1, 1, 1, 1, 1, 1, 1, 1, 1, 1, 1])"
      ]
     },
     "execution_count": 11,
     "metadata": {},
     "output_type": "execute_result"
    }
   ],
   "source": [
    "data_0= []\n",
    "data_1 = []\n",
    "for i in range(len(iris_dataset['target'])):\n",
    "    if iris_dataset['target'][i]==1:\n",
    "        iris_dataset['target'][i]=0\n",
    "        data_0.append(iris_dataset['data'][i])\n",
    "    if iris_dataset['target'][i]==2:\n",
    "        iris_dataset['target'][i]=1\n",
    "        data_1.append(iris_dataset['data'][i])\n",
    "iris_dataset['target']"
   ]
  },
  {
   "cell_type": "code",
   "execution_count": 12,
   "metadata": {},
   "outputs": [],
   "source": [
    "validation_set_idx = [51,53,106,108,118,119,123,126,130,131,132,136]\n",
    "features_validation_set = []\n",
    "labels_validation_set = []\n",
    "for i in (validation_set_idx):\n",
    "    features_validation_set.append(iris_dataset['data'][i])\n",
    "    labels_validation_set.append(iris_dataset['target'][i])"
   ]
  },
  {
   "cell_type": "code",
   "execution_count": 13,
   "metadata": {},
   "outputs": [],
   "source": [
    "x = [x for x in range(len(iris_dataset['target'])) if x not in validation_set_idx]\n",
    "features = []\n",
    "labels = []\n",
    "for i in x:\n",
    "    features.append(iris_dataset['data'][i])   \n",
    "    labels.append(iris_dataset['target'][i])"
   ]
  },
  {
   "cell_type": "code",
   "execution_count": 14,
   "metadata": {},
   "outputs": [],
   "source": [
    "features=np.array(features)\n",
    "labels=np.array(labels)\n",
    "data_0=np.array(data_0)\n",
    "data_1=np.array(data_1)"
   ]
  },
  {
   "cell_type": "code",
   "execution_count": 15,
   "metadata": {},
   "outputs": [
    {
     "data": {
      "image/png": "[encoded data removed]",
      "text/plain": [
       "<Figure size 432x288 with 1 Axes>"
      ]
     },
     "metadata": {
      "needs_background": "light"
     },
     "output_type": "display_data"
    }
   ],
   "source": [
    "fig = plt.figure()\n",
    "ax1 = fig.add_subplot(111)\n",
    "ax1.scatter(data_0[:,0],data_0[:,1], s=10, c='r', marker=\"o\", label='first')\n",
    "ax1.scatter(data_1[:,0],data_1[:,1], s=10, c='g', marker=\"o\", label='second')\n",
    "\n",
    "plt.title('Scatter plot')\n",
    "plt.xlabel('Feature 1')\n",
    "plt.ylabel('Feature 2')\n",
    "plt.show()"
   ]
  },
  {
   "cell_type": "markdown",
   "metadata": {},
   "source": [
    "Ora per i seguenti 3 nuovi campioni di test determinare la distanza tra quelli del dataset (come nella parte 1 di questa esercitazione) e cerchiarli con il colore della classe più vicina (predizione 1NN):\n",
    "* p1 = [6.5 2.4]\n",
    "* p2 = [6.5 1.4]\n",
    "* p3 = [4.8 0.6]"
   ]
  },
  {
   "cell_type": "code",
   "execution_count": 18,
   "metadata": {},
   "outputs": [],
   "source": [
    "p1 = [6.5,2.4]\n",
    "p2 = [6.5,1.4]\n",
    "p3 = [4.8,0.6]\n",
    "\n",
    "dist_p1=[]\n",
    "dist_p2=[]\n",
    "dist_p3=[]\n",
    "\n",
    "for sample in range(len(features_validation_set)):\n",
    "    b=features_validation_set[sample]\n",
    "    dist_p1.append(np.linalg.norm(p1-b))\n",
    "    p1_index=dist_p1.index(min(dist_p1))\n",
    "    dist_p2.append(np.linalg.norm(p2-b))\n",
    "    p2_index=dist_p2.index(min(dist_p2))\n",
    "    dist_p3.append(np.linalg.norm(p3-b))\n",
    "    p3_index=dist_p3.index(min(dist_p3))\n",
    "    \n",
    "dist_abs_p1=[]\n",
    "dist_abs_p2=[]\n",
    "dist_abs_p3=[]\n",
    "\n",
    "for sample in range(len(features)):\n",
    "    b=features[sample]\n",
    "    dist_abs_p1.append(np.linalg.norm(p1-b))\n",
    "    p1_index_abs=dist_abs_p1.index(min(dist_abs_p1))\n",
    "    dist_abs_p2.append(np.linalg.norm(p2-b))\n",
    "    p2_index_abs=dist_abs_p2.index(min(dist_abs_p2))\n",
    "    dist_abs_p3.append(np.linalg.norm(p3-b))\n",
    "    p3_index_abs=dist_abs_p3.index(min(dist_abs_p3))"
   ]
  },
  {
   "cell_type": "code",
   "execution_count": 20,
   "metadata": {},
   "outputs": [
    {
     "data": {
      "text/plain": [
       "<function matplotlib.pyplot.show(*args, **kw)>"
      ]
     },
     "execution_count": 20,
     "metadata": {},
     "output_type": "execute_result"
    },
    {
     "data": {
      "image/png": "[encoded data removed]",
      "text/plain": [
       "<Figure size 432x288 with 1 Axes>"
      ]
     },
     "metadata": {
      "needs_background": "light"
     },
     "output_type": "display_data"
    }
   ],
   "source": [
    "fig = plt.figure()\n",
    "ax1 = fig.add_subplot(111)\n",
    "ax1.scatter(data_0[:,0],data_0[:,1], s=10, c='r', marker=\"o\", label='first')\n",
    "ax1.scatter(data_1[:,0],data_1[:,1], s=10, c='g', marker=\"o\", label='second')\n",
    "for sample in range(len(iris_dataset['data'])):\n",
    "    b=iris_dataset['data'][sample]\n",
    "    if np.linalg.norm(p1-b) == min(dist_abs_p1):\n",
    "        target=iris_dataset['target'][sample]\n",
    "        ax1.scatter(features[p1_index_abs][0], features[p1_index_abs][1], s=100, c='g', marker=\"*\", label='first')\n",
    "        if target:\n",
    "            ax1.scatter(p1[0],p1[1], s=100, c='g', marker=\"x\", label='first')\n",
    "        else:\n",
    "            ax1.scatter(p1[0],p1[1], s=100, c='r', marker=\"x\", label='first')\n",
    "    if np.linalg.norm(p2-b) == min(dist_abs_p2):\n",
    "        target=iris_dataset['target'][sample]\n",
    "        ax1.scatter(features[p2_index_abs][0], features[p2_index_abs][1], s=100, c='r', marker=\"*\", label='first')\n",
    "        if target:\n",
    "            ax1.scatter(p2[0],p2[1], s=100, c='g', marker=\"x\", label='first')\n",
    "        else:\n",
    "            ax1.scatter(p2[0],p2[1], s=100, c='r', marker=\"x\", label='first')\n",
    "    if np.linalg.norm(p3-b) == min(dist_p3):\n",
    "        target=iris_dataset['target'][sample]\n",
    "        ax1.scatter(features[p3_index_abs][0], features[p3_index_abs][1], s=100, c='r', marker=\"*\", label='first')\n",
    "        if target:\n",
    "            ax1.scatter(p3[0],p3[1], s=100, c='g', marker=\"x\", label='first')\n",
    "        else:\n",
    "            ax1.scatter(p3[0],p3[1], s=100, c='r', marker=\"x\", label='first')\n",
    "plt.title('Scatter plot')\n",
    "plt.xlabel('Feature 1')\n",
    "plt.ylabel('Feature 2')\n",
    "plt.show\n",
    "# x points classfifed depending upon the dstance from * points. All others points are o."
   ]
  },
  {
   "cell_type": "markdown",
   "metadata": {},
   "source": [
    "Si deve ora calcolare le affidabilità di predizione dei tre punti; è quindi necessario fare ricorso al validation set creato all'inizio di questa esercitazione e che, ricordiamo, è costituito dai campioni del dataset originale che all'inizio erano presenti alle righe [51 53 106 108 118 119 123 126 130 131 132 136].  <p>\n",
    "Calcoliamo ora le distanze dei campioni del p1, p2 e p3 da questo dataset di riferimento. Inoltre, nel grafico aggiungiamo i campioni del validation set come asterischi di colore della relativa classe."
   ]
  },
  {
   "cell_type": "code",
   "execution_count": 21,
   "metadata": {
    "collapsed": true
   },
   "outputs": [
    {
     "name": "stdout",
     "output_type": "stream",
     "text": [
      "[6.4 1.5]\n",
      "[5.5 1.3]\n",
      "[4.9 1.7]\n",
      "[6.7 1.8]\n",
      "[7.7 2.3]\n",
      "[6.  1.5]\n",
      "[6.3 1.8]\n",
      "[6.2 1.8]\n",
      "[7.4 1.9]\n",
      "[7.9 2. ]\n",
      "[6.4 2.2]\n",
      "[6.3 2.4]\n"
     ]
    }
   ],
   "source": [
    "val_0= []\n",
    "val_1 = []\n",
    "for i in (validation_set_idx):\n",
    "    print(iris_dataset['data'][i])\n",
    "    if iris_dataset['target'][i]==0:\n",
    "        val_0.append(iris_dataset['data'][i])\n",
    "    if iris_dataset['target'][i]==1:\n",
    "        val_1.append(iris_dataset['data'][i])"
   ]
  },
  {
   "cell_type": "code",
   "execution_count": 22,
   "metadata": {},
   "outputs": [],
   "source": [
    "val_0=np.array(val_0)\n",
    "val_1=np.array(val_1)"
   ]
  },
  {
   "cell_type": "code",
   "execution_count": 23,
   "metadata": {},
   "outputs": [
    {
     "data": {
      "image/png": "[encoded data removed]",
      "text/plain": [
       "<Figure size 432x288 with 1 Axes>"
      ]
     },
     "metadata": {
      "needs_background": "light"
     },
     "output_type": "display_data"
    }
   ],
   "source": [
    "fig = plt.figure()\n",
    "ax1 = fig.add_subplot(111)\n",
    "ax1.scatter(val_0[:,0],val_0[:,1], s=10, c='r', marker=\"*\", label='first')\n",
    "ax1.scatter(val_1[:,0],val_1[:,1], s=10, c='g', marker=\"*\", label='second')\n",
    "ax1.scatter(p1[0],p1[1], s=100, c='g', marker=\"x\", label='first')\n",
    "ax1.scatter(p2[0],p2[1], s=100, c='r', marker=\"x\", label='first')\n",
    "ax1.scatter(p3[0],p3[1], s=100, c='r', marker=\"x\", label='first')\n",
    "\n",
    "\n",
    "plt.title('Scatter plot')\n",
    "plt.xlabel('Feature 1')\n",
    "plt.ylabel('Feature 2')\n",
    "plt.show()"
   ]
  },
  {
   "cell_type": "code",
   "execution_count": 24,
   "metadata": {},
   "outputs": [],
   "source": [
    "# I realized the validation_set_idx[51, 53, 106, 108, 118, 119, 123, 126, 130, 131, 132, 136] does not\n",
    "#refer to the same points in the dataset of MATLAB than that of Python, as you can see in the graph above."
   ]
  },
  {
   "cell_type": "code",
   "execution_count": 25,
   "metadata": {},
   "outputs": [],
   "source": [
    "dist_abs_p1=[]\n",
    "dist_abs_p2=[]\n",
    "dist_abs_p3=[]\n",
    "\n",
    "for sample in range(len(iris_dataset['data'])):\n",
    "    b=iris_dataset['data'][sample]\n",
    "    dist_abs_p1.append(np.linalg.norm(p1-b))\n",
    "    dist_abs_p2.append(np.linalg.norm(p2-b))\n",
    "    dist_abs_p3.append(np.linalg.norm(p3-b))\n",
    "dist_abs_p1_sorted=sorted(dist_abs_p1)\n",
    "dist_abs_p2_sorted=sorted(dist_abs_p2)\n",
    "dist_abs_p3_sorted=sorted(dist_abs_p3)"
   ]
  },
  {
   "cell_type": "code",
   "execution_count": 26,
   "metadata": {},
   "outputs": [
    {
     "data": {
      "text/plain": [
       "0"
      ]
     },
     "execution_count": 26,
     "metadata": {},
     "output_type": "execute_result"
    }
   ],
   "source": [
    "iris_dataset['target'][dist_abs_p1.index(dist_abs_p1_sorted[0])]\n",
    "iris_dataset['target'][dist_abs_p2.index(dist_abs_p2_sorted[0])]\n",
    "iris_dataset['target'][dist_abs_p3.index(dist_abs_p3_sorted[0])]"
   ]
  },
  {
   "cell_type": "code",
   "execution_count": 27,
   "metadata": {},
   "outputs": [],
   "source": [
    "Omax_p1=min(dist_p1)\n",
    "Owin_p1=dist_abs_p1_sorted[0]\n",
    "for i in range(len(dist_abs_p1)):\n",
    "    if iris_dataset['target'][dist_abs_p1.index(dist_abs_p1_sorted[0])] != iris_dataset['target'][dist_abs_p1.index(dist_abs_p1_sorted[i])]:\n",
    "        O2win_p1=dist_abs_p1_sorted[i]\n",
    "        break\n",
    "Omax_p2=min(dist_p2)\n",
    "Owin_p2=dist_abs_p2_sorted[0]\n",
    "for i in range(len(dist_abs_p2)):\n",
    "    if iris_dataset['target'][dist_abs_p2.index(dist_abs_p2_sorted[0])] != iris_dataset['target'][dist_abs_p2.index(dist_abs_p2_sorted[i])]:\n",
    "        O2win_p2=dist_abs_p2_sorted[i]\n",
    "        break\n",
    "Omax_p3=min(dist_p3)\n",
    "Owin_p3=dist_abs_p3_sorted[0]\n",
    "for i in range(len(dist_abs_p3)):\n",
    "    if iris_dataset['target'][dist_abs_p3.index(dist_abs_p3_sorted[0])] != iris_dataset['target'][dist_abs_p3.index(dist_abs_p3_sorted[i])]:\n",
    "        O2win_p3=dist_abs_p3_sorted[i]\n",
    "        break"
   ]
  },
  {
   "cell_type": "code",
   "execution_count": 28,
   "metadata": {},
   "outputs": [
    {
     "name": "stdout",
     "output_type": "stream",
     "text": [
      "0.7071067811865459 0.8057428275285474 0.7071067811865459\n",
      "0.707106781186546 0.750000000000001 0.707106781186546\n",
      "0.20203050891044227 0.8189285079149627 0.20203050891044227\n"
     ]
    }
   ],
   "source": [
    "psi_a_p1 = max(Owin_p1/Omax_p1, 0)\n",
    "psi_b_p1 = 1 - Owin_p1/O2win_p1\n",
    "psi_p1 = min(psi_a_p1, psi_b_p1)\n",
    "print(psi_a_p1,psi_b_p1,psi_p1)\n",
    "psi_a_p2 = max(Owin_p2/Omax_p2, 0)\n",
    "psi_b_p2 = 1 - Owin_p2/O2win_p2\n",
    "psi_p2 = min(psi_a_p2, psi_b_p2)\n",
    "print(psi_a_p2,psi_b_p2,psi_p2)\n",
    "psi_a_p3 = max(Owin_p3/Omax_p3, 0)\n",
    "psi_b_p3 = 1 - Owin_p3/O2win_p3\n",
    "psi_p3 = min(psi_a_p3, psi_b_p3)\n",
    "print(psi_a_p3,psi_b_p3,psi_p3)"
   ]
  },
  {
   "cell_type": "markdown",
   "metadata": {},
   "source": [
    "---\n",
    "<div class=\"alert alert-block alert-warning\">\n",
    "    Contact me:</b> <br> \n",
    "    <b>$$\\rightarrow Pablo \\quad Laso\\quad Mielgo\\quad :)$$<br> $$\\rightarrow p.laso.2017@alumnos.urjc.es $$\n",
    "</div>"
   ]
  }
 ],
 "metadata": {
  "kernelspec": {
   "display_name": "Python 3",
   "language": "python",
   "name": "python3"
  },
  "language_info": {
   "codemirror_mode": {
    "name": "ipython",
    "version": 3
   },
   "file_extension": ".py",
   "mimetype": "text/x-python",
   "name": "python",
   "nbconvert_exporter": "python",
   "pygments_lexer": "ipython3",
   "version": "3.8.2"
  }
 },
 "nbformat": 4,
 "nbformat_minor": 2
}
