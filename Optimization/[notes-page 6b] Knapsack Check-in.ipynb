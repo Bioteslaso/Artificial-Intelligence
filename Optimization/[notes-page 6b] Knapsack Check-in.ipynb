{
 "cells": [
  {
   "cell_type": "markdown",
   "metadata": {},
   "source": [
    "## Optimizing Knapsack Check-in"
   ]
  },
  {
   "cell_type": "markdown",
   "metadata": {},
   "source": [
    "---------\n",
    "Notes: page 6-b\n",
    "\n",
    "--------"
   ]
  },
  {
   "cell_type": "markdown",
   "metadata": {},
   "source": [
    "``model.oi`` = choose object i"
   ]
  },
  {
   "cell_type": "code",
   "execution_count": 17,
   "metadata": {},
   "outputs": [
    {
     "name": "stdout",
     "output_type": "stream",
     "text": [
      "o1 1.0\n",
      "o2 0.0\n",
      "o3 1.0\n",
      "180.0\n"
     ]
    }
   ],
   "source": [
    "from pyomo.opt import *\n",
    "from pyomo.environ import *\n",
    "\n",
    "model=ConcreteModel()\n",
    "\n",
    "model.o1=Var(within=NonNegativeIntegers)\n",
    "model.o2=Var(within=NonNegativeIntegers)\n",
    "model.o3=Var(within=NonNegativeIntegers)\n",
    "models=[model.o1,model.o2,model.o3]\n",
    "\n",
    "model.obj=Objective(expr=60*model.o1+100*model.o2+120*model.o3, sense=minimize)\n",
    "\n",
    "model.con=Constraint(expr=10*model.o1+20*model.o2+30*model.o3 == 40)\n",
    "\n",
    "solver=SolverFactory('glpk')\n",
    "solver.solve(model)\n",
    "\n",
    "for i in range(len(models)):\n",
    "    print(models[i], value(models[i]))\n",
    "print(value(model.obj))"
   ]
  },
  {
   "cell_type": "markdown",
   "metadata": {},
   "source": [
    "NOTE: unclear the problem statement."
   ]
  }
 ],
 "metadata": {
  "kernelspec": {
   "display_name": "Python 3",
   "language": "python",
   "name": "python3"
  },
  "language_info": {
   "codemirror_mode": {
    "name": "ipython",
    "version": 3
   },
   "file_extension": ".py",
   "mimetype": "text/x-python",
   "name": "python",
   "nbconvert_exporter": "python",
   "pygments_lexer": "ipython3",
   "version": "3.6.9"
  }
 },
 "nbformat": 4,
 "nbformat_minor": 2
}
