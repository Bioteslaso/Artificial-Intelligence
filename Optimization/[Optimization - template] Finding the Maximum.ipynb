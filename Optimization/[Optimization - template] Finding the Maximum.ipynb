{
 "cells": [
  {
   "cell_type": "markdown",
   "metadata": {},
   "source": [
    "# Optimization\n",
    "### Using Pyomo to maximize a function"
   ]
  },
  {
   "cell_type": "code",
   "execution_count": 1,
   "metadata": {},
   "outputs": [
    {
     "name": "stdout",
     "output_type": "stream",
     "text": [
      "the value of x_1 is: 0.4\n",
      "the value of x_2 is: 1.2\n",
      "the value of x_3 is: 3.0\n",
      "\n",
      "the Maximum is: 33.8\n"
     ]
    }
   ],
   "source": [
    "from pyomo.environ import *\n",
    "from pyomo.opt import *\n",
    "\n",
    "model = ConcreteModel()\n",
    "\n",
    "model.x_1 = Var(within=NonNegativeReals)\n",
    "model.x_2 = Var(within=NonNegativeReals)\n",
    "model.x_3 = Var(within=NonNegativeReals)\n",
    "\n",
    "\n",
    "model.obj = Objective(expr= 5*model.x_1 + 9*model.x_2 + 7*model.x_3, sense=maximize)\n",
    "\n",
    "model.con1 = Constraint(expr=model.x_1 + 3*model.x_2 + 2*model.x_3 <= 10)\n",
    "model.con2 = Constraint(expr=3*model.x_1 + 4*model.x_2 + 2*model.x_3 <= 12)\n",
    "model.con3 = Constraint(expr=2*model.x_1 + model.x_2 + 2*model.x_3 <= 8)\n",
    "\n",
    "Solver = SolverFactory('glpk')\n",
    "results = Solver.solve(model)\n",
    "#print(results)\n",
    "\n",
    "print('the value of x_1 is:', value(model.x_1))\n",
    "print('the value of x_2 is:', value(model.x_2))\n",
    "print('the value of x_3 is:', value(model.x_3))\n",
    "print('\\nthe Maximum is:', value(model.obj)) # 33.8"
   ]
  }
 ],
 "metadata": {
  "kernelspec": {
   "display_name": "Python [conda env:optimizationpy36] *",
   "language": "python",
   "name": "conda-env-optimizationpy36-py"
  },
  "language_info": {
   "codemirror_mode": {
    "name": "ipython",
    "version": 3
   },
   "file_extension": ".py",
   "mimetype": "text/x-python",
   "name": "python",
   "nbconvert_exporter": "python",
   "pygments_lexer": "ipython3",
   "version": "3.6.9"
  }
 },
 "nbformat": 4,
 "nbformat_minor": 2
}
