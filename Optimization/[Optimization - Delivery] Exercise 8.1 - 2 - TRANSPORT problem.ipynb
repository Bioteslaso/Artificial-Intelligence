{
 "cells": [
  {
   "cell_type": "markdown",
   "metadata": {},
   "source": [
    "PABLO LASO MEILGO"
   ]
  },
  {
   "cell_type": "markdown",
   "metadata": {},
   "source": [
    "# Optimization\n",
    "### Using Pyomo to maximize a function"
   ]
  },
  {
   "cell_type": "code",
   "execution_count": 3,
   "metadata": {},
   "outputs": [
    {
     "name": "stdout",
     "output_type": "stream",
     "text": [
      "the value of x_11 is: 0.0\n",
      "the value of x_12 is: 0.0\n",
      "the value of x_13 is: 2.0\n",
      "the value of x_14 is: 10.0\n",
      "the value of x_21 is: 0.0\n",
      "the value of x_22 is: 9.0\n",
      "the value of x_23 is: 8.0\n",
      "the value of x_24 is: 0.0\n",
      "the value of x_31 is: 10.0\n",
      "the value of x_32 is: 1.0\n",
      "the value of x_33 is: 0.0\n",
      "the value of x_34 is: 0.0\n",
      "\n",
      "the Minimum is: 20200.0\n"
     ]
    }
   ],
   "source": [
    "from pyomo.environ import *\n",
    "from pyomo.opt import *\n",
    "\n",
    "model = ConcreteModel()\n",
    "\n",
    "# let us declare the variables we will be using in the problem (X=number of shipments): \n",
    "model.x_11 = Var(within=NonNegativeReals) # from plant 1, center 1\n",
    "model.x_12 = Var(within=NonNegativeReals)\n",
    "model.x_13 = Var(within=NonNegativeReals) # plant 1 center 3\n",
    "model.x_14 = Var(within=NonNegativeReals)\n",
    "\n",
    "model.x_21 = Var(within=NonNegativeReals)\n",
    "model.x_22 = Var(within=NonNegativeReals) # plant 2, center 2\n",
    "model.x_23 = Var(within=NonNegativeReals)\n",
    "model.x_24 = Var(within=NonNegativeReals)\n",
    "\n",
    "model.x_31 = Var(within=NonNegativeReals)\n",
    "model.x_32 = Var(within=NonNegativeReals)\n",
    "model.x_33 = Var(within=NonNegativeReals)\n",
    "model.x_34 = Var(within=NonNegativeReals) # plant 3, center 4\n",
    "\n",
    "\n",
    "# let's set the equation we want to minimize (in this case):\n",
    "model.obj = Objective(expr= 500*model.x_11 + 750*model.x_12 + 300*model.x_13 + 450*model.x_14\n",
    "                      + 650*model.x_21 + 800*model.x_22 + 400*model.x_23 + 600*model.x_24\n",
    "                      + 400*model.x_31 + 700*model.x_32 + 500*model.x_33 + 550*model.x_34,\n",
    "                      sense=minimize)\n",
    "\n",
    "# let us set the constraints for the problem:\n",
    "model.con1 = Constraint(expr= model.x_11 + model.x_12 + model.x_13 +  model.x_14 == 12)\n",
    "model.con2 = Constraint(expr= model.x_21 + model.x_22 + model.x_23 +  model.x_24 == 17)\n",
    "model.con3 = Constraint(expr= model.x_31 + model.x_32 + model.x_33 +  model.x_34 == 11)\n",
    "\n",
    "model.con4 = Constraint(expr= model.x_11 + model.x_21 + model.x_31 == 10)\n",
    "model.con5 = Constraint(expr= model.x_12 + model.x_22 + model.x_32 == 10)\n",
    "model.con6 = Constraint(expr= model.x_13 + model.x_23 + model.x_33 == 10)\n",
    "model.con7 = Constraint(expr= model.x_14 + model.x_24 + model.x_34 == 10)\n",
    "\n",
    "Solver = SolverFactory('glpk')\n",
    "results = Solver.solve(model)\n",
    "#print(results)\n",
    "\n",
    "print('the value of x_11 is:', value(model.x_11))\n",
    "print('the value of x_12 is:', value(model.x_12))\n",
    "print('the value of x_13 is:', value(model.x_13))\n",
    "print('the value of x_14 is:', value(model.x_14))\n",
    "\n",
    "print('the value of x_21 is:', value(model.x_21))\n",
    "print('the value of x_22 is:', value(model.x_22))\n",
    "print('the value of x_23 is:', value(model.x_23))\n",
    "print('the value of x_24 is:', value(model.x_24))\n",
    "\n",
    "print('the value of x_31 is:', value(model.x_31))\n",
    "print('the value of x_32 is:', value(model.x_32))\n",
    "print('the value of x_33 is:', value(model.x_33))\n",
    "print('the value of x_34 is:', value(model.x_34))\n",
    "print('\\nthe Minimum is:', value(model.obj))"
   ]
  },
  {
   "cell_type": "code",
   "execution_count": null,
   "metadata": {},
   "outputs": [],
   "source": []
  }
 ],
 "metadata": {
  "kernelspec": {
   "display_name": "Python [conda env:optimizationpy36] *",
   "language": "python",
   "name": "conda-env-optimizationpy36-py"
  },
  "language_info": {
   "codemirror_mode": {
    "name": "ipython",
    "version": 3
   },
   "file_extension": ".py",
   "mimetype": "text/x-python",
   "name": "python",
   "nbconvert_exporter": "python",
   "pygments_lexer": "ipython3",
   "version": "3.6.9"
  }
 },
 "nbformat": 4,
 "nbformat_minor": 2
}
