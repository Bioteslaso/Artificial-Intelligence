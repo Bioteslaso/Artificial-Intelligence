{
 "cells": [
  {
   "cell_type": "markdown",
   "metadata": {},
   "source": [
    "## Problem 5"
   ]
  },
  {
   "cell_type": "code",
   "execution_count": 16,
   "metadata": {},
   "outputs": [
    {
     "name": "stdout",
     "output_type": "stream",
     "text": [
      "x 0.0\n",
      "y 0.0\n",
      "z 0.0\n",
      "0.0\n"
     ]
    }
   ],
   "source": [
    "from pyomo.opt import*\n",
    "from pyomo.environ import*\n",
    "\n",
    "x=ConcreteModel()\n",
    "\n",
    "x.x=Var(within=Reals)\n",
    "x.y=Var(within=Reals)\n",
    "x.z=Var(within=Reals)\n",
    "models=[x.x,x.y,x.z]\n",
    "\n",
    "x.obj=Objective(expr=4*x.x**3+x.x**2+x.x*x.y**2+x.y**2+4*x.z**2)\n",
    "\n",
    "SolverFactory('ipopt').solve(x)\n",
    "\n",
    "for i in range(len(models)):\n",
    "    print(models[i],value(models[i]))\n",
    "print(value(x.obj))"
   ]
  }
 ],
 "metadata": {
  "kernelspec": {
   "display_name": "Python [conda env:optimizationpy36] *",
   "language": "python",
   "name": "conda-env-optimizationpy36-py"
  },
  "language_info": {
   "codemirror_mode": {
    "name": "ipython",
    "version": 3
   },
   "file_extension": ".py",
   "mimetype": "text/x-python",
   "name": "python",
   "nbconvert_exporter": "python",
   "pygments_lexer": "ipython3",
   "version": "3.6.9"
  }
 },
 "nbformat": 4,
 "nbformat_minor": 2
}
