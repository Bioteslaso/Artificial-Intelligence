{
 "cells": [
  {
   "cell_type": "markdown",
   "metadata": {},
   "source": [
    "<div class=\"alert alert-block alert-success\">\n",
    "    <b>Universidad Rey Juan Carlos de Madrid.</b>  Biomedical Engineering\n",
    "</div>"
   ]
  },
  {
   "cell_type": "markdown",
   "metadata": {},
   "source": [
    "# Optimization\n",
    "### Linear Integer Programming for the Home Helath Care Problem"
   ]
  },
  {
   "cell_type": "markdown",
   "metadata": {},
   "source": [
    "<div class=\"alert alert-block alert-info\"> Pablo Laso Mielgo </div> "
   ]
  },
  {
   "cell_type": "markdown",
   "metadata": {},
   "source": [
    "In this Pyhton code I try to recreate a simplified version of the work performed by some other students in this\n",
    "[article](https://link.springer.com/chapter/10.1007/978-3-642-28115-0_14). We'll count with:\n",
    "* 3 nurses\n",
    "* 2 patients <p>\n",
    "<br>\n",
    "* maximum/minimum workload\n",
    "* qualifications\n",
    "* distances\n",
    "* patients needs\n",
    "* treatment duration <br>\n",
    "..."
   ]
  },
  {
   "cell_type": "markdown",
   "metadata": {},
   "source": [
    " ______________\n"
   ]
  },
  {
   "cell_type": "markdown",
   "metadata": {},
   "source": [
    "<font color='red'>**Problem Statement:**</font>"
   ]
  },
  {
   "cell_type": "markdown",
   "metadata": {},
   "source": [
    "<div class=\"alert alert-block alert-danger\">\n",
    "<b>Remark:</b> Choosing 3 patients and all possible paths would make for too many different variables, for each nurse: \n",
    "     $$\\sum_{k,i,j = 1}^{3} load_{kij}$$\n",
    "    <br> Due to this extremely large number of variables I could not manage, it was decided to reduce the number to just 2 patients.\n",
    "</div>"
   ]
  },
  {
   "cell_type": "markdown",
   "metadata": {},
   "source": [
    "---------\n",
    "As stated in the paper given to us by Prof.Luis Ángel Calvo Pascual, *Planners in home health care services must then\n",
    "establish a daily visit plan which specifies [...] which nurse should be assigned to it [the visit]*. This shall be our purpose. <p>\n",
    "    \n",
    "---\n",
    "<br> This code tries to tackle several problems in one by establishing the most convienient care plan by the nurses taking into consideration the availability of the patients. For this:\n",
    "* First, we try to minimize the time it takes to attend all patients. This means that our **objective function** will be:\n",
    "$$ minimize: \\sum_{k,i,j} load_{kij}*y_{kij}\\quad \\forall k  \\quad{.....\\quad(0)} $$ <br>\n",
    ", where k is the nurse, I the first patient visited and j, the last patient visited.<p>\n",
    "    * Also, we want to specify some **constraints** (bounds) to maintain consistency in our code. That is, we define, simililarly to the *Shortest Path Problem* seen in class, the following constraints: \n",
    "$$ \\sum_{k,i,j} y_{kij}\\quad =\\quad Need_{patient_1} \\quad{.....\\quad(1)}$$ \n",
    "$$ \\sum_{k,i,j} y_{kij}\\quad =\\quad Need_{patient_2} \\quad{.....\\quad(2)}$$ <br>\n",
    ", since nurses going to each patient may not exceed, nor be below than, the neccesities of each patient. <p>\n",
    "<br>\n",
    "* Also, we want to specify some constraints (bounds) for the maximal and minimal **work loads** of the nurses:\n",
    "$$ Z_{max} \\geq Load_k \\quad \\forall k \\quad{.....\\quad(3)}$$ \n",
    "$$ Z_{min} \\leq Load_k \\quad \\forall k \\quad{.....\\quad(4)}$$ <br>\n",
    "<p>\n",
    "<br>\n",
    "* Also, we want to specify some constraints in order to assign nurses to patients ONLY IF they are **qualified** for the treatments required by the patients:\n",
    "$$ \\sum_{k,i,j} y_{kij} \\leq \\sum_{k,i,j} skill_{kij} $$\n",
    "-----------"
   ]
  },
  {
   "cell_type": "code",
   "execution_count": 124,
   "metadata": {},
   "outputs": [
    {
     "name": "stdout",
     "output_type": "stream",
     "text": [
      "\n",
      "\n",
      "x_A01: 1.0   x_A02: 0.0   x_A12: 0.0   x_A21: 0.0 \n",
      "x_B01: 0.0   x_B02: 1.0   x_B12: 0.0   x_B21: 0.0 \n",
      "x_C01: 0.0   x_C02: 0.0   x_C12: 0.0   x_C21: 0.0\n",
      "\n",
      "the Minimum Time is: 14.0\n"
     ]
    }
   ],
   "source": [
    "from pyomo.environ import *\n",
    "from pyomo.opt import *\n",
    "\n",
    "\n",
    "model = ConcreteModel()\n",
    "\n",
    "##########\n",
    "# let us set the variables for the possible paths:\n",
    "Distance = [8,6,2] # change the distances from patient/hospital to patient\n",
    "Needs = [0,1,1] # change the number of nurses needed for each patient\n",
    "##########\n",
    "# nurses (A, B) to patients (1, 2)\n",
    "model.x_A01 = Var(within=Binary)\n",
    "model.x_A02 = Var(within=Binary)\n",
    "model.x_A12 = Var(within=Binary)\n",
    "model.x_A21 = Var(within=Binary)\n",
    "model.x_B01 = Var(within=Binary)\n",
    "model.x_B02 = Var(within=Binary)\n",
    "model.x_B12 = Var(within=Binary)\n",
    "model.x_B21 = Var(within=Binary)\n",
    "model.x_C01 = Var(within=Binary)\n",
    "model.x_C02 = Var(within=Binary)\n",
    "model.x_C12 = Var(within=Binary)\n",
    "model.x_C21 = Var(within=Binary)\n",
    "# maximum work that nurses will do:\n",
    "work_maxload_A = 40\n",
    "work_maxload_B = 60\n",
    "work_maxload_C = 60\n",
    "work_minload_A = 0\n",
    "work_minload_B = 0\n",
    "work_minload_C = 0\n",
    "# time to treat[i] each patient i:\n",
    "treat = [0, 5, 1] # python starts indexing from 0 so, for the sake of simplicity, we add a 0 in first place that shall b not used\n",
    "# total_load = distances between nurses and patients + time for treating each patient\n",
    "total_load_A01 = Distance[1] + treat[1]\n",
    "total_load_A02 = Distance[2] + treat[2]\n",
    "total_load_A21 = Distance[0] + treat[2] + Distance[2] + treat[1]\n",
    "total_load_A12 = Distance[0] + treat[1] + Distance[1] + treat[2]\n",
    "total_load_B01 = Distance[1] + treat[1]\n",
    "total_load_B02 = Distance[2] + treat[2]\n",
    "total_load_B21 = Distance[0] + treat[2] + Distance[2] + treat[1]\n",
    "total_load_B12 = Distance[0] + treat[1] + Distance[1] + treat[2]\n",
    "total_load_C01 = Distance[1] + treat[1]\n",
    "total_load_C02 = Distance[2] + treat[2]\n",
    "total_load_C21 = Distance[0] + treat[2] + Distance[2] + treat[1]\n",
    "total_load_C12 = Distance[0] + treat[1] + Distance[1] + treat[2]\n",
    "# define if nurse is skilled for the task required by patient i, in skillAi:\n",
    "skillA1 = 1\n",
    "skillA2 = 1\n",
    "skillB1 = 0\n",
    "skillB2 = 1\n",
    "skillC1 = 1\n",
    "skillC2 = 0\n",
    "# let us minimize the time:\n",
    "model.obj = Objective(expr= total_load_A01*model.x_A01 + total_load_A02*model.x_A02 + total_load_A21*model.x_A21 + total_load_A12*model.x_A12\n",
    "                      + total_load_B01*model.x_B01 + total_load_B02*model.x_B02 + total_load_B21*model.x_B21 + total_load_B12*model.x_B12\n",
    "                      + total_load_C01*model.x_C01 + total_load_C02*model.x_C02 + total_load_C21*model.x_C21 + total_load_C12*model.x_C12\n",
    "                      , sense=minimize) # minimin cost problem, where cost is total_load\n",
    "\n",
    "# let us set the constraints based on the needs for each patient:\n",
    "# nurses going to patient 1:\n",
    "model.need1 = Constraint(expr= model.x_A01 + model.x_A21 + model.x_A12\n",
    "                      + model.x_B01 + model.x_B21 + model.x_B12\n",
    "                      + model.x_C01 + model.x_C21 + model.x_C12 == Needs[1]) # at least Needs[i] nurse(s) will visit patient 1\n",
    "# nurses going to patient 2:\n",
    "model.need2 = Constraint(expr= model.x_A02 + model.x_A21 + model.x_A12\n",
    "                      + model.x_B02 + model.x_B21 + model.x_B12\n",
    "                      + model.x_C02 + model.x_C21 + model.x_C12 == Needs[2])\n",
    "\n",
    "# maximum work for each nurse:\n",
    "model.workloadmaxA = Constraint(expr= total_load_A01*model.x_A01 + total_load_A02*model.x_A02 + total_load_A21*model.x_A21 +\n",
    "                            total_load_A12*model.x_A12 <= work_maxload_A)\n",
    "model.workloadmaxB = Constraint(expr= total_load_B01*model.x_B01 + total_load_B02*model.x_B02 + total_load_B21*model.x_B21 +\n",
    "                            total_load_B12*model.x_B12 <= work_maxload_B)\n",
    "model.workloadmaxC = Constraint(expr= total_load_C01*model.x_C01 + total_load_C02*model.x_C02 + total_load_C21*model.x_C21 +\n",
    "                            total_load_C12*model.x_C12 <= work_maxload_C)\n",
    "\n",
    "# minimum work for each nurse:\n",
    "model.workloadminA = Constraint(expr= total_load_A01*model.x_A01 + total_load_A02*model.x_A02 + total_load_A21*model.x_A21 +\n",
    "                             total_load_A12*model.x_A12 >= work_minload_A)\n",
    "model.workloadminB = Constraint(expr= total_load_B01*model.x_B01 + total_load_B02*model.x_B02 + total_load_B21*model.x_B21 +\n",
    "                            total_load_B12*model.x_B12 >= work_minload_B)\n",
    "model.workloadminC = Constraint(expr= total_load_C01*model.x_C01 + total_load_C02*model.x_C02 + total_load_C21*model.x_C21 +\n",
    "                            total_load_C12*model.x_C12 >= work_minload_C)\n",
    "\n",
    "# make sure nurse is cualified:\n",
    "model.qualificationsA01 = Constraint(expr= model.x_A01 <= skillA1)\n",
    "model.qualificationsA02 = Constraint(expr= model.x_A02 <= skillA2)\n",
    "model.qualificationsA21 = Constraint(expr= model.x_A21 <= skillA1*skillA2)\n",
    "model.qualificationsA12 = Constraint(expr= model.x_A12 <= skillA1*skillA2)\n",
    "model.qualificationsB01 = Constraint(expr= model.x_B01 <= skillB1)\n",
    "model.qualificationsB21 = Constraint(expr= model.x_B21 <= skillB1*skillB2)\n",
    "model.qualificationsB12 = Constraint(expr= model.x_B12 <= skillB1*skillB2)\n",
    "model.qualificationsC01 = Constraint(expr= model.x_C01 <= skillC1)\n",
    "model.qualificationsC02 = Constraint(expr= model.x_C01 <= skillC2)\n",
    "model.qualificationsC21 = Constraint(expr= model.x_C21 <= skillC1*skillC2)\n",
    "model.qualificationsC12 = Constraint(expr= model.x_C12 <= skillC1*skillC2)\n",
    "\n",
    "\n",
    "## solving:\n",
    "Solver = SolverFactory('glpk')\n",
    "results = Solver.solve(model)\n",
    "\n",
    "## printing results:\n",
    "print('\\n\\nx_A01:',value(model.x_A01), '  x_A02:',value(model.x_A02), '  x_A12:',value(model.x_A12), '  x_A21:',value(model.x_A21),\n",
    "      '\\nx_B01:',value(model.x_B01), '  x_B02:',value(model.x_B02), '  x_B12:',value(model.x_B12), '  x_B21:',value(model.x_B21),\n",
    "     '\\nx_C01:',value(model.x_C01), '  x_C02:',value(model.x_C02), '  x_C12:',value(model.x_C12), '  x_C21:',value(model.x_C21))\n",
    "print('\\nthe Minimum Time is:', value(model.obj))"
   ]
  },
  {
   "cell_type": "code",
   "execution_count": 20,
   "metadata": {},
   "outputs": [
    {
     "data": {
      "text/plain": [
       "12"
      ]
     },
     "execution_count": 20,
     "metadata": {},
     "output_type": "execute_result"
    }
   ],
   "source": [
    "total_load_B12"
   ]
  },
  {
   "cell_type": "markdown",
   "metadata": {},
   "source": [
    "<font color='red'>**Conclussion**</font> <br> "
   ]
  },
  {
   "cell_type": "markdown",
   "metadata": {},
   "source": [
    "We can see how varying any of the parameters alters the final result.\n",
    "* If you set a nurse as unskilled for a patient, you can see how other will be choosen.\n",
    "* If you increase enough the distance between some patients, you can see how the programs suggests to choose more and different nurses for each patient (and viceversa).\n",
    "* If you increase the minimum workload of a nurse, they will ALWAYS be choosen in. at least, on path (and vice versa). \n",
    "* However, take care because these modifications can lead to errors if this is not possible. For instance, you can force two nurses to attend patients by setting the minimum workload of them higher. But, if at least one nurse must attend a patient, he/she must be able to go there (skilled). So be careful..."
   ]
  },
  {
   "cell_type": "markdown",
   "metadata": {},
   "source": [
    "<div class=\"alert alert-block alert-warning\">\n",
    "    Contact me:</b> <br> \n",
    "    <b>$$\\rightarrow Pablo \\quad Laso\\quad Mielgo\\quad :)$$<br> $$\\rightarrow p.laso.2017@alumnos.urjc.es $$\n",
    "</div>"
   ]
  },
  {
   "cell_type": "markdown",
   "metadata": {},
   "source": [
    "<img src=\"https://www.clipartwiki.com/clipimg/detail/205-2052859_clipart-of-courses-basic-education-and-class-registration.png\" alt=\"Alt text that describes the graphic\" title=\"Title text\" />"
   ]
  }
 ],
 "metadata": {
  "kernelspec": {
   "display_name": "Python [conda env:optimizationpy36] *",
   "language": "python",
   "name": "conda-env-optimizationpy36-py"
  },
  "language_info": {
   "codemirror_mode": {
    "name": "ipython",
    "version": 3
   },
   "file_extension": ".py",
   "mimetype": "text/x-python",
   "name": "python",
   "nbconvert_exporter": "python",
   "pygments_lexer": "ipython3",
   "version": "3.6.9"
  }
 },
 "nbformat": 4,
 "nbformat_minor": 2
}
