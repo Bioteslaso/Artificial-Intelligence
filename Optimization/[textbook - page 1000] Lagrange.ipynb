{
 "cells": [
  {
   "cell_type": "markdown",
   "metadata": {},
   "source": [
    "## Optimizing by the Method Lagrange Multipliers"
   ]
  },
  {
   "cell_type": "markdown",
   "metadata": {},
   "source": [
    "---\n",
    "**Appendix 3** <br>\n",
    "page: 1000\n",
    "\n",
    "---"
   ]
  },
  {
   "cell_type": "code",
   "execution_count": 41,
   "metadata": {},
   "outputs": [
    {
     "name": "stdout",
     "output_type": "stream",
     "text": [
      "\n",
      "\n",
      "x_1 0.0\n",
      "x_2 1.0\n",
      "2.0\n",
      "\n",
      "\n",
      "x_1 0.0\n",
      "x_2 -1.0\n",
      "-2.0\n"
     ]
    }
   ],
   "source": [
    "from pyomo.opt import*\n",
    "from pyomo.environ import*\n",
    "from math import*\n",
    "def Lagrange(sns):\n",
    "    model=ConcreteModel()\n",
    "\n",
    "    model.x_1=Var(within=Reals)\n",
    "    model.x_2=Var(within=Reals)\n",
    "    models=[model.x_1,model.x_2]\n",
    "\n",
    "    model.obj=Objective(expr=model.x_1**2+2*model.x_2, sense=sns)\n",
    "\n",
    "    model.con_1=Constraint(expr=model.x_1**2+model.x_2**2==1)\n",
    "\n",
    "    SolverFactory('ipopt').solve(model)\n",
    "    print('\\n')\n",
    "    for i in range(len(models)):\n",
    "        print(models[i],value(models[i]))\n",
    "    print(value(model.obj))\n",
    "Lagrange(maximize)\n",
    "Lagrange(minimize)"
   ]
  }
 ],
 "metadata": {
  "kernelspec": {
   "display_name": "Python [conda env:optimizationpy36] *",
   "language": "python",
   "name": "conda-env-optimizationpy36-py"
  },
  "language_info": {
   "codemirror_mode": {
    "name": "ipython",
    "version": 3
   },
   "file_extension": ".py",
   "mimetype": "text/x-python",
   "name": "python",
   "nbconvert_exporter": "python",
   "pygments_lexer": "ipython3",
   "version": "3.6.9"
  }
 },
 "nbformat": 4,
 "nbformat_minor": 2
}
