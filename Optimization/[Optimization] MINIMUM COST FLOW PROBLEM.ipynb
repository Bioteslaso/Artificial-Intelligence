{
 "cells": [
  {
   "cell_type": "markdown",
   "metadata": {},
   "source": [
    "# Optimization\n",
    "### Using Pyomo to maximize a function"
   ]
  },
  {
   "cell_type": "code",
   "execution_count": 15,
   "metadata": {},
   "outputs": [
    {
     "name": "stdout",
     "output_type": "stream",
     "text": [
      "the value of model.x_AD is: 100.0\n",
      "the value of model.x_AC is: 25.0\n",
      "the value of model.x_BA is: 0.0\n",
      "the value of model.x_BC is: 100.0\n",
      "the value of model.x_BE is: 100.0\n",
      "the value of model.x_CD is: 75.0\n",
      "the value of model.x_CE is: 50.0\n",
      "\n",
      "the Minimum cost is: 2925.0\n"
     ]
    }
   ],
   "source": [
    "from pyomo.environ import *\n",
    "from pyomo.opt import *\n",
    "\n",
    "model = ConcreteModel()\n",
    "\n",
    "# let us set the variables for the possible paths:\n",
    "model.x_AD = Var(within=NonNegativeReals)\n",
    "model.x_AC = Var(within=NonNegativeReals)\n",
    "model.x_BA = Var(within=NonNegativeReals)\n",
    "model.x_BC = Var(within=NonNegativeReals)\n",
    "model.x_BE = Var(within=NonNegativeReals)\n",
    "model.x_CD = Var(within=NonNegativeReals)\n",
    "model.x_CE = Var(within=NonNegativeReals)\n",
    "\n",
    "# let us minimize the cost:\n",
    "model.obj = Objective(expr= 6*model.x_AC + 9*model.x_AD\n",
    "                      + 2*model.x_BA + 3*model.x_BC + 8*model.x_BE \n",
    "                      + 5*model.x_CD + 8*model.x_CE, sense=minimize)\n",
    "\n",
    "# let us set the constraints based on the maximum flow per node:\n",
    "\n",
    "model.con1 = Constraint(expr= model.x_BA + 125 == model.x_AD + model.x_AC) # node A\n",
    "model.con2 = Constraint(expr= model.x_BA + model.x_BC + model.x_BE == 200) # node B\n",
    "model.con3 = Constraint(expr= model.x_AC + model.x_BC == model.x_CD + model.x_CE) # node C\n",
    "model.con4 = Constraint(expr= model.x_AD + model.x_CD == 175 ) # node D\n",
    "model.con5 = Constraint(expr= model.x_CE + model.x_BE == 150) # node E\n",
    "model.con6 = Constraint(expr= model.x_AD <= 100) # AD\n",
    "model.con7 = Constraint(expr= model.x_BE <= 100) # BE\n",
    "\n",
    "\n",
    "Solver = SolverFactory('glpk')\n",
    "results = Solver.solve(model)\n",
    "\n",
    "\n",
    "print('the value of model.x_AD is:', value(model.x_AD))\n",
    "print('the value of model.x_AC is:', value(model.x_AC))\n",
    "print('the value of model.x_BA is:', value(model.x_BA))\n",
    "print('the value of model.x_BC is:', value(model.x_BC))\n",
    "print('the value of model.x_BE is:', value(model.x_BE))\n",
    "print('the value of model.x_CD is:', value(model.x_CD))\n",
    "print('the value of model.x_CE is:', value(model.x_CE))\n",
    "print('\\nthe Minimum cost is:', value(model.obj))"
   ]
  },
  {
   "cell_type": "code",
   "execution_count": null,
   "metadata": {},
   "outputs": [],
   "source": []
  }
 ],
 "metadata": {
  "kernelspec": {
   "display_name": "Python 3",
   "language": "python",
   "name": "python3"
  },
  "language_info": {
   "codemirror_mode": {
    "name": "ipython",
    "version": 3
   },
   "file_extension": ".py",
   "mimetype": "text/x-python",
   "name": "python",
   "nbconvert_exporter": "python",
   "pygments_lexer": "ipython3",
   "version": "3.6.9"
  }
 },
 "nbformat": 4,
 "nbformat_minor": 2
}
