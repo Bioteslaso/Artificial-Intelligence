{
 "cells": [
  {
   "cell_type": "markdown",
   "metadata": {},
   "source": [
    "## Examen\n",
    "### Problema 3"
   ]
  },
  {
   "cell_type": "markdown",
   "metadata": {},
   "source": [
    "----------\n",
    "Una empresa multinacional fabricante de material fungible para equipos de diagnostico m ´ edico, ´\n",
    "esta considerando abrir nuevas plantas para producir material ´ de tres tipos: A, M y B. Hay dos\n",
    "ubicaciones posibles: 1 y 2. La inversion requerida para construir las plantas es de 2 000 000 EUR ´\n",
    "en la ubicacion 1 y 1 750 000 EUR en la ubicaci ´ on 2. La tabla siguiente indica en EUR los beneficios ´\n",
    "unitarios previstos de la fabricacion de cada tipo de material en las dos ubicaciones posibles. <p>\n",
    "    Se preve vender anualmente un m ´ aximo de 75 000 unidades del material de tipo A, 100 000 unida- ´\n",
    "des de material de tipo M y 200 000 unidades del material de tipo B."
   ]
  },
  {
   "cell_type": "markdown",
   "metadata": {},
   "source": [
    "-----------\n",
    "a. (1 punto) Suponiendo que es posible construir solo una planta, determina el modelo de pro- ´\n",
    "gramacion matem ´ atica que permita establecer en qu ´ e ubicaci ´ on construirla para maximizar ´\n",
    "los beneficios de la empresa en un horizonte temporal de 10 anos.\n",
    "\n",
    "--------"
   ]
  },
  {
   "cell_type": "code",
   "execution_count": 5,
   "metadata": {},
   "outputs": [
    {
     "name": "stdout",
     "output_type": "stream",
     "text": [
      "x1 1.0\n",
      "x2 0.0\n",
      "a1 1.0\n",
      "a2 0.0\n",
      "42250.0\n"
     ]
    }
   ],
   "source": [
    "from pyomo.opt import*\n",
    "from pyomo.environ import*\n",
    "\n",
    "m=ConcreteModel()\n",
    "\n",
    "m.x1=Var(within=Binary)\n",
    "m.x2=Var(within=Binary)\n",
    "m.a1=Var(within=Binary)\n",
    "m.a2=Var(within=Binary)\n",
    "models=[m.x1,m.x2,m.a1,m.a2]\n",
    "\n",
    "profit1=13*100+10*200\n",
    "m.con_a1=Constraint(expr=m.a1<=m.x1)\n",
    "profit2=12*100+9*200\n",
    "m.con_a2=Constraint(expr=m.a2<=m.x2)\n",
    "loss1=2000\n",
    "loss2=1750\n",
    "\n",
    "m.obj=Objective(expr=(10*profit1-loss1)*m.x1+10*15*75*m.a1\n",
    "                +(10*profit2-loss2)*m.x2+10*16*m.a2\n",
    "                ,sense=-1)\n",
    "\n",
    "m.con_1=Constraint(expr=m.x1+m.x2<=1)\n",
    "\n",
    "SolverFactory('glpk').solve(m)\n",
    "\n",
    "for i in range(len(models)):\n",
    "    print(models[i],value(models[i]))\n",
    "print(value(m.obj))"
   ]
  },
  {
   "cell_type": "markdown",
   "metadata": {},
   "source": [
    "------\n",
    "b. (1.5 puntos) ¿Como cambia el modelo determinado en el punto a. suponiendo qu ´ e\n",
    "* es posible construir un maximo de dos plantas (una en cada ubicaci ´ on), ´\n",
    "* si se produce el material de tipo B en la ubicacion 1, el gobierno local da una subvenci ´ on´\n",
    "de 1 000 000 EUR a la empresa para la construccion de la planta y que ´\n",
    "* el material de tipo A se puede producir solo en una de las dos plantas? \n",
    "\n",
    "------"
   ]
  },
  {
   "cell_type": "code",
   "execution_count": 4,
   "metadata": {},
   "outputs": [
    {
     "name": "stdout",
     "output_type": "stream",
     "text": [
      "x1 1.0\n",
      "x2 1.0\n",
      "a1 0.0\n",
      "a2 1.0\n",
      "72250.0\n"
     ]
    }
   ],
   "source": [
    "from pyomo.opt import*\n",
    "from pyomo.environ import*\n",
    "\n",
    "m=ConcreteModel()\n",
    "\n",
    "m.x1=Var(within=Binary)\n",
    "m.x2=Var(within=Binary)\n",
    "m.a1=Var(within=Binary)\n",
    "m.a2=Var(within=Binary)\n",
    "models=[m.x1,m.x2,m.a1,m.a2]\n",
    "\n",
    "profit1=13*100+10*200\n",
    "m.con_a1=Constraint(expr=m.a1<=m.x1)\n",
    "profit2=12*100+9*200\n",
    "m.con_a2=Constraint(expr=m.a2<=m.x2)\n",
    "loss1=2000\n",
    "loss2=1750\n",
    "\n",
    "m.obj=Objective(expr=(10*profit1+1000-loss1)*m.x1+10*15*75*m.a1\n",
    "                +(10*profit2-loss2)*m.x2+10*16*75*m.a2\n",
    "                ,sense=-1)\n",
    "\n",
    "m.con_2=Constraint(expr=m.x1+m.x2<=2)\n",
    "m.con_3=Constraint(expr=m.a1+m.a2<=1)\n",
    "\n",
    "SolverFactory('glpk').solve(m)\n",
    "\n",
    "for i in range(len(models)):\n",
    "    print(models[i],value(models[i]))\n",
    "print(value(m.obj))"
   ]
  },
  {
   "cell_type": "markdown",
   "metadata": {},
   "source": [
    "----------"
   ]
  }
 ],
 "metadata": {
  "kernelspec": {
   "display_name": "Python [conda env:optimizationpy36] *",
   "language": "python",
   "name": "conda-env-optimizationpy36-py"
  },
  "language_info": {
   "codemirror_mode": {
    "name": "ipython",
    "version": 3
   },
   "file_extension": ".py",
   "mimetype": "text/x-python",
   "name": "python",
   "nbconvert_exporter": "python",
   "pygments_lexer": "ipython3",
   "version": "3.6.9"
  }
 },
 "nbformat": 4,
 "nbformat_minor": 2
}
