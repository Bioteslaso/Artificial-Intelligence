{
 "cells": [
  {
   "cell_type": "markdown",
   "metadata": {},
   "source": [
    "# Optimization\n",
    "### Delivery: exercise 11.1-4"
   ]
  },
  {
   "cell_type": "markdown",
   "metadata": {},
   "source": [
    "<div class=\"alert alert-block alert-info\"> Pablo Laso Mielgo </div> "
   ]
  },
  {
   "cell_type": "markdown",
   "metadata": {},
   "source": [
    "<font color='gray'>The board of directors of General Wheels Co. is considering six large capital investments. Each investment can be made\n",
    "only once. These investments differ in the estimated long-run profit\n",
    "(net present value) that they will generate as well as in the amount\n",
    "of capital required, as shown by the following table (in units of\n",
    "millions of dollars):</font>"
   ]
  },
  {
   "cell_type": "markdown",
   "metadata": {},
   "source": [
    "*picture is omitted*"
   ]
  },
  {
   "cell_type": "markdown",
   "metadata": {},
   "source": [
    "<font color='gray'>The total amount of capital available for these investments is\n",
    "$100 million. Investment opportunities 1 and 2 are mutually exclusive, and so are 3 and 4. Furthermore, neither 3 nor 4 can be\n",
    "undertaken unless one of the first two opportunities is undertaken. There are no such restrictions on investment opportunities\n",
    "5 and 6. The objective is to select the combination of capital investments that will maximize the total estimated long-run profit\n",
    "(net present value).</font>"
   ]
  },
  {
   "cell_type": "markdown",
   "metadata": {},
   "source": [
    "<font color='red'>(a) Formulate a BIP model for this problem.\n",
    "C </font>"
   ]
  },
  {
   "cell_type": "markdown",
   "metadata": {},
   "source": [
    "Let **x_i** be a binary value indicating the *decision of taking an investment i*, denoted by 1, or NOT taking the investment, denoted by 0.\n",
    "\n",
    "* Now, if we want to maximize the profit we set an equation such that all possible beneficts (should the investment be taken) are summed up to give the total benefit. That is:\n",
    "$$ maximize: \\sum_{i=0}^6 x_i\\times B_i$$\n",
    ", where x either 0 or 1 and B is the benefit you will get from it\n",
    "\n",
    "* Also, we must consider all restrictions to which this equation is subjected:\n",
    "$$ \\sum_{i=0}^6 x_i\\times I_i \\leq 100$$, since the total invested money cannot be higher than 100\n",
    "\n",
    "Since some pairs are mutually exclusive:\n",
    "$$ x_1 + x_2 \\leq 1 $$\n",
    "$$ x_3 + x_4 \\leq 1 $$\n",
    "\n",
    "Since neither 3 nor 4 can be undertaken unless one of the first two opportunities is undertaken:\n",
    "$$ x_3 \\leq x_1 + x_2 $$\n",
    "$$ x_4 \\leq x_1 + x_2 $$"
   ]
  },
  {
   "cell_type": "markdown",
   "metadata": {},
   "source": [
    "<font color='red'>(b) Use the computer to solve this model.</font>"
   ]
  },
  {
   "cell_type": "code",
   "execution_count": 2,
   "metadata": {},
   "outputs": [
    {
     "name": "stdout",
     "output_type": "stream",
     "text": [
      "WARNING: Implicitly replacing the Component attribute con4 (type=<class\n",
      "    'pyomo.core.base.constraint.SimpleConstraint'>) on block unknown with a\n",
      "    new Component (type=<class\n",
      "    'pyomo.core.base.constraint.SimpleConstraint'>). This is usually\n",
      "    indicative of a modelling error. To avoid this warning, use\n",
      "    block.del_component() and block.add_component().\n",
      "\n",
      "Problem: \n",
      "- Name: unknown\n",
      "  Lower bound: 40.0\n",
      "  Upper bound: 40.0\n",
      "  Number of objectives: 1\n",
      "  Number of constraints: 5\n",
      "  Number of variables: 7\n",
      "  Number of nonzeros: 14\n",
      "  Sense: maximize\n",
      "Solver: \n",
      "- Status: ok\n",
      "  Termination condition: optimal\n",
      "  Statistics: \n",
      "    Branch and bound: \n",
      "      Number of bounded subproblems: 7\n",
      "      Number of created subproblems: 7\n",
      "  Error rc: 0\n",
      "  Time: 0.11011147499084473\n",
      "Solution: \n",
      "- number of solutions: 0\n",
      "  number of solutions displayed: 0\n",
      "\n",
      "the value of x_1 is: 1.0\n",
      "the value of x_2 is: 0.0\n",
      "the value of x_3 is: 1.0\n",
      "the value of x_4 is: 0.0\n",
      "the value of x_5 is: 1.0\n",
      "the value of x_6 is: 0.0\n",
      "\n",
      "the Maximum is: 40.0\n"
     ]
    }
   ],
   "source": [
    "from pyomo.environ import *\n",
    "from pyomo.opt import *\n",
    "\n",
    "model = ConcreteModel()\n",
    "\n",
    "model.x_1 = Var(within=Binary)\n",
    "model.x_2 = Var(within=Binary)\n",
    "model.x_3 = Var(within=Binary)\n",
    "model.x_4 = Var(within=Binary)\n",
    "model.x_5 = Var(within=Binary)\n",
    "model.x_6 = Var(within=Binary)\n",
    "\n",
    "model.obj = Objective(expr= 15*model.x_1 + 12*model.x_2 + 16*model.x_3 + 18*model.x_4 + 9*model.x_5 + 11*model.x_6, sense=maximize)\n",
    "\n",
    "model.con1 = Constraint(expr= 38*model.x_1 + 33*model.x_2 + 39*model.x_3 + 45*model.x_4 + 23*model.x_5 + 27*model.x_6 <=100)\n",
    "model.con2 = Constraint(expr= model.x_1 + model.x_2 <= 1) # mutually exclusive\n",
    "model.con3 = Constraint(expr= model.x_3 + model.x_4 <= 1) # mutually exclusive\n",
    "model.con4 = Constraint(expr= model.x_3 <=  model.x_1 + model.x_2) # 3 requires either 1 or 2\n",
    "model.con4 = Constraint(expr= model.x_4 <=  model.x_1 + model.x_2) # 4 requires either 1 or 2\n",
    "\n",
    "\n",
    "Solver = SolverFactory('glpk')\n",
    "results = Solver.solve(model)\n",
    "print(results)\n",
    "\n",
    "print('the value of x_1 is:', value(model.x_1))\n",
    "print('the value of x_2 is:', value(model.x_2))\n",
    "print('the value of x_3 is:', value(model.x_3))\n",
    "print('the value of x_4 is:', value(model.x_4))\n",
    "print('the value of x_5 is:', value(model.x_5))\n",
    "print('the value of x_6 is:', value(model.x_6))\n",
    "print('\\nthe Maximum is:', value(model.obj))"
   ]
  },
  {
   "cell_type": "markdown",
   "metadata": {},
   "source": [
    "##### >> The conclusion is that we should invest in  1, 3 and 5."
   ]
  },
  {
   "cell_type": "markdown",
   "metadata": {},
   "source": [
    "<div class=\"alert alert-block alert-info\"> Contact me: Pablo Laso Mielgo :) >> p.laso.2017@alumnos.urjc.es</div> "
   ]
  }
 ],
 "metadata": {
  "kernelspec": {
   "display_name": "Python [conda env:optimizationpy36] *",
   "language": "python",
   "name": "conda-env-optimizationpy36-py"
  },
  "language_info": {
   "codemirror_mode": {
    "name": "ipython",
    "version": 3
   },
   "file_extension": ".py",
   "mimetype": "text/x-python",
   "name": "python",
   "nbconvert_exporter": "python",
   "pygments_lexer": "ipython3",
   "version": "3.6.9"
  }
 },
 "nbformat": 4,
 "nbformat_minor": 2
}
