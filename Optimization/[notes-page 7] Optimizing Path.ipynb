{
 "cells": [
  {
   "cell_type": "markdown",
   "metadata": {},
   "source": [
    "## Optimizing Path "
   ]
  },
  {
   "cell_type": "markdown",
   "metadata": {},
   "source": [
    "---\n",
    "textbook - page 359\n",
    "\n",
    "---"
   ]
  },
  {
   "cell_type": "markdown",
   "metadata": {},
   "source": [
    "``model.ij`` = path from i to j."
   ]
  },
  {
   "cell_type": "code",
   "execution_count": 8,
   "metadata": {},
   "outputs": [
    {
     "name": "stdout",
     "output_type": "stream",
     "text": [
      "oa 1.0\n",
      "ob 0.0\n",
      "oc 0.0\n",
      "ab 1.0\n",
      "ad 0.0\n",
      "bd 1.0\n",
      "be 0.0\n",
      "cb 0.0\n",
      "ce 0.0\n",
      "ed 0.0\n",
      "et 0.0\n",
      "dt 1.0\n",
      "13.0\n"
     ]
    }
   ],
   "source": [
    "from pyomo.opt import*\n",
    "from pyomo.environ import*\n",
    "\n",
    "model=ConcreteModel()\n",
    "\n",
    "model.oa=Var(within=Binary)\n",
    "model.ob=Var(within=Binary)\n",
    "model.oc=Var(within=Binary)\n",
    "model.ab=Var(within=Binary)\n",
    "model.ad=Var(within=Binary)\n",
    "model.bd=Var(within=Binary)\n",
    "model.be=Var(within=Binary)\n",
    "model.cb=Var(within=Binary)\n",
    "model.ce=Var(within=Binary)\n",
    "model.ed=Var(within=Binary)\n",
    "model.et=Var(within=Binary)\n",
    "model.dt=Var(within=Binary)\n",
    "models=[model.oa,model.ob,model.oc,model.ab,model.ad,model.bd,\n",
    "        model.be,model.cb,model.ce,model.ed,model.et,model.dt]\n",
    "\n",
    "model.obj=Objective(expr=2*model.oa+5*model.ob+4*model.oc\n",
    "                   +7*model.ad+2*model.ab+1*model.cb+4*model.ce\n",
    "                    +4*model.bd+3*model.be+1*model.ed+7*model.et+5*model.dt,\n",
    "                   sense=minimize)\n",
    "\n",
    "model.con_o=Constraint(expr=model.oa+model.ob+model.oc==1)\n",
    "model.con_t=Constraint(expr=model.dt+model.et==1)\n",
    "\n",
    "model.con_a=Constraint(expr=model.oa==model.ab+model.ad)\n",
    "model.con_b=Constraint(expr=model.ab+model.ob+model.cb == model.bd+model.be)\n",
    "model.con_c=Constraint(expr=model.oc==model.cb+model.ce)\n",
    "model.con_d=Constraint(expr=model.ad+model.bd+model.ed==model.dt)\n",
    "model.con_e=Constraint(expr=model.be+model.ce==model.ed+model.et)\n",
    "\n",
    "solver=SolverFactory('glpk')\n",
    "solver.solve(model)\n",
    "\n",
    "for i in range(len(models)):\n",
    "    print(models[i],value(models[i]))\n",
    "print(value(model.obj))"
   ]
  }
 ],
 "metadata": {
  "kernelspec": {
   "display_name": "Python [conda env:optimizationpy36] *",
   "language": "python",
   "name": "conda-env-optimizationpy36-py"
  },
  "language_info": {
   "codemirror_mode": {
    "name": "ipython",
    "version": 3
   },
   "file_extension": ".py",
   "mimetype": "text/x-python",
   "name": "python",
   "nbconvert_exporter": "python",
   "pygments_lexer": "ipython3",
   "version": "3.6.9"
  }
 },
 "nbformat": 4,
 "nbformat_minor": 2
}
