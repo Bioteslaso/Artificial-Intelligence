{
 "cells": [
  {
   "cell_type": "markdown",
   "metadata": {},
   "source": [
    "## Optimizing Assigning Ships to Ports"
   ]
  },
  {
   "cell_type": "markdown",
   "metadata": {},
   "source": [
    "---------\n",
    "Notes: page 6\n",
    "\n",
    "--------"
   ]
  },
  {
   "cell_type": "markdown",
   "metadata": {},
   "source": [
    "Plants 1, 2 and 3 **offer**: 12, 17, 11 <br>\n",
    "All Distribution Centers **demmand**: 10 <br>\n",
    "``model.xij`` = shipping ammount from plant i to center j. "
   ]
  },
  {
   "cell_type": "code",
   "execution_count": 45,
   "metadata": {},
   "outputs": [
    {
     "name": "stdout",
     "output_type": "stream",
     "text": [
      "WARNING: Implicitly replacing the Component attribute con_c3 (type=<class\n",
      "    'pyomo.core.base.constraint.SimpleConstraint'>) on block unknown with a\n",
      "    new Component (type=<class\n",
      "    'pyomo.core.base.constraint.SimpleConstraint'>). This is usually\n",
      "    indicative of a modelling error. To avoid this warning, use\n",
      "    block.del_component() and block.add_component().\n",
      "x11 0.0\n",
      "x12 0.0\n",
      "x13 2.0\n",
      "x14 10.0\n",
      "x21 0.0\n",
      "x22 9.0\n",
      "x23 8.0\n",
      "x24 0.0\n",
      "x31 10.0\n",
      "x32 1.0\n",
      "x33 0.0\n",
      "x34 0.0\n",
      "20200.0\n"
     ]
    }
   ],
   "source": [
    "from pyomo.opt import *\n",
    "from pyomo.environ import *\n",
    "\n",
    "model=ConcreteModel()\n",
    "\n",
    "model.x11=Var(within=NonNegativeIntegers)\n",
    "model.x12=Var(within=NonNegativeIntegers)\n",
    "model.x13=Var(within=NonNegativeIntegers)\n",
    "model.x14=Var(within=NonNegativeIntegers)\n",
    "model.x21=Var(within=NonNegativeIntegers)\n",
    "model.x22=Var(within=NonNegativeIntegers)\n",
    "model.x23=Var(within=NonNegativeIntegers)\n",
    "model.x24=Var(within=NonNegativeIntegers)\n",
    "model.x31=Var(within=NonNegativeIntegers)\n",
    "model.x32=Var(within=NonNegativeIntegers)\n",
    "model.x33=Var(within=NonNegativeIntegers)\n",
    "model.x34=Var(within=NonNegativeIntegers)\n",
    "models=[model.x11,model.x12,model.x13,model.x14,\n",
    "       model.x21,model.x22,model.x23,model.x24,\n",
    "       model.x31,model.x32,model.x33,model.x34]\n",
    "\n",
    "model.obj=Objective(expr=(100+50*8)*model.x11+(100+50*13)*model.x12+(100+50*4)*model.x13+(100+50*7)*model.x14\n",
    "                   +(100+50*11)*model.x21+(100+50*14)*model.x22+(100+50*6)*model.x23+(100+50*10)*model.x24\n",
    "                   +(100+50*6)*model.x31+(100+50*12)*model.x32+(100+50*8)*model.x33+(100+50*9)*model.x34, \n",
    "                    sense=minimize)\n",
    "\n",
    "model.con_p1=Constraint(expr=model.x11+model.x12+model.x13+model.x14==12)\n",
    "model.con_p2=Constraint(expr=model.x21+model.x22+model.x23+model.x24==17)\n",
    "model.con_p3=Constraint(expr=model.x31+model.x32+model.x33+model.x34==11)\n",
    "\n",
    "model.con_c1=Constraint(expr=model.x11+model.x21+model.x31==10)\n",
    "model.con_c2=Constraint(expr=model.x12+model.x22+model.x32==10)\n",
    "model.con_c3=Constraint(expr=model.x13+model.x23+model.x33==10)\n",
    "model.con_c3=Constraint(expr=model.x14+model.x24+model.x34==10)\n",
    "\n",
    "solver=SolverFactory('glpk')\n",
    "results=solver.solve(model)\n",
    "for i in range(len(models)):\n",
    "    print(models[i], value(models[i]))\n",
    "print(value(model.obj))"
   ]
  },
  {
   "cell_type": "markdown",
   "metadata": {},
   "source": [
    "---\n",
    "Not to confusee with:\n",
    "\n",
    "---"
   ]
  },
  {
   "cell_type": "code",
   "execution_count": 48,
   "metadata": {},
   "outputs": [
    {
     "name": "stdout",
     "output_type": "stream",
     "text": [
      "WARNING: Implicitly replacing the Component attribute con_c3 (type=<class\n",
      "    'pyomo.core.base.constraint.SimpleConstraint'>) on block unknown with a\n",
      "    new Component (type=<class\n",
      "    'pyomo.core.base.constraint.SimpleConstraint'>). This is usually\n",
      "    indicative of a modelling error. To avoid this warning, use\n",
      "    block.del_component() and block.add_component().\n",
      "x11 0.0\n",
      "x12 2.0\n",
      "x13 0.0\n",
      "x14 10.0\n",
      "x21 0.0\n",
      "x22 7.0\n",
      "x23 0.0\n",
      "x24 0.0\n",
      "x31 10.0\n",
      "x32 1.0\n",
      "x33 0.0\n",
      "x34 0.0\n",
      "16300.0\n"
     ]
    }
   ],
   "source": [
    "from pyomo.opt import *\n",
    "from pyomo.environ import *\n",
    "\n",
    "model=ConcreteModel()\n",
    "\n",
    "model.x11=Var(within=NonNegativeIntegers)\n",
    "model.x12=Var(within=NonNegativeIntegers)\n",
    "model.x13=Var(within=NonNegativeIntegers)\n",
    "model.x14=Var(within=NonNegativeIntegers)\n",
    "model.x21=Var(within=NonNegativeIntegers)\n",
    "model.x22=Var(within=NonNegativeIntegers)\n",
    "model.x23=Var(within=NonNegativeIntegers)\n",
    "model.x24=Var(within=NonNegativeIntegers)\n",
    "model.x31=Var(within=NonNegativeIntegers)\n",
    "model.x32=Var(within=NonNegativeIntegers)\n",
    "model.x33=Var(within=NonNegativeIntegers)\n",
    "model.x34=Var(within=NonNegativeIntegers)\n",
    "models=[model.x11,model.x12,model.x13,model.x14,\n",
    "       model.x21,model.x22,model.x23,model.x24,\n",
    "       model.x31,model.x32,model.x33,model.x34]\n",
    "\n",
    "model.obj=Objective(expr=(100+50*8)*model.x11+(100+50*13)*model.x12+(100+50*4)*model.x13+(100+50*7)*model.x14\n",
    "                   +(100+50*11)*model.x21+(100+50*14)*model.x22+(100+50*6)*model.x23+(100+50*10)*model.x24\n",
    "                   +(100+50*6)*model.x31+(100+50*12)*model.x32+(100+50*8)*model.x33+(100+50*9)*model.x34, \n",
    "                    sense=minimize)\n",
    "\n",
    "model.con_p1=Constraint(expr=model.x11+model.x12+model.x13+model.x14<=12)\n",
    "model.con_p2=Constraint(expr=model.x21+model.x22+model.x23+model.x24<=17)\n",
    "model.con_p3=Constraint(expr=model.x31+model.x32+model.x33+model.x34<=11)\n",
    "\n",
    "model.con_c1=Constraint(expr=model.x11+model.x21+model.x31>=10)\n",
    "model.con_c2=Constraint(expr=model.x12+model.x22+model.x32>=10)\n",
    "model.con_c3=Constraint(expr=model.x13+model.x23+model.x33>=10)\n",
    "model.con_c3=Constraint(expr=model.x14+model.x24+model.x34>=10)\n",
    "\n",
    "solver=SolverFactory('glpk')\n",
    "results=solver.solve(model)\n",
    "for i in range(len(models)):\n",
    "    print(models[i], value(models[i]))\n",
    "print(value(model.obj))"
   ]
  }
 ],
 "metadata": {
  "kernelspec": {
   "display_name": "Python 3",
   "language": "python",
   "name": "python3"
  },
  "language_info": {
   "codemirror_mode": {
    "name": "ipython",
    "version": 3
   },
   "file_extension": ".py",
   "mimetype": "text/x-python",
   "name": "python",
   "nbconvert_exporter": "python",
   "pygments_lexer": "ipython3",
   "version": "3.6.9"
  }
 },
 "nbformat": 4,
 "nbformat_minor": 2
}
