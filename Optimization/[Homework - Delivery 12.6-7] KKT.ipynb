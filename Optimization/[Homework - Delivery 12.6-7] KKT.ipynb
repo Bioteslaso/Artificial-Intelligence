{
 "cells": [
  {
   "cell_type": "markdown",
   "metadata": {},
   "source": [
    "<div class=\"alert alert-block alert-success\">\n",
    "    <b>Universidad Rey Juan Carlos de Madrid.</b>  Biomedical Engineering\n",
    "</div>"
   ]
  },
  {
   "cell_type": "markdown",
   "metadata": {},
   "source": [
    "## Lagrange\n",
    "### Delivery 12.6-7"
   ]
  },
  {
   "cell_type": "markdown",
   "metadata": {},
   "source": [
    "<div class=\"alert alert-block alert-info\"> Pablo Laso Mielgo </div> "
   ]
  },
  {
   "cell_type": "markdown",
   "metadata": {},
   "source": [
    "-----------------\n",
    "#### Minimize:"
   ]
  },
  {
   "cell_type": "markdown",
   "metadata": {},
   "source": [
    "$$\\frac{x_1}{1+x_2}$$\n",
    "$$x_1-x_2\\leq 2$$\n",
    "$$x_1\\geq 0$$\n",
    "$$x_2\\geq 0$$"
   ]
  },
  {
   "cell_type": "code",
   "execution_count": 3,
   "metadata": {},
   "outputs": [
    {
     "name": "stdout",
     "output_type": "stream",
     "text": [
      "x_1 =  2.0000000099836495\n",
      "y_2 =  0.0\n",
      "Obejective function 2.0000000099836495\n"
     ]
    }
   ],
   "source": [
    "from pyomo.environ import *\n",
    "from pyomo.opt import *\n",
    "\n",
    "model = ConcreteModel()\n",
    "\n",
    "model.x = Var(initialize=1.0, within=NonNegativeReals)\n",
    "model.y = Var(initialize=1.0, within=NonNegativeReals)\n",
    "\n",
    "model.obj = Objective(expr= model.x / (1 + model.y), sense=maximize) # objective function\n",
    "model.con1 = Constraint(expr= model.x - model.y <= 2)\n",
    "model.con2 = Constraint(expr= model.x >= 0)\n",
    "model.con3 = Constraint(expr= model.x >= 0)\n",
    "solver = SolverFactory('ipopt')\n",
    "results = solver.solve(model)\n",
    "\n",
    "print('x_1 = ', value(model.x))\n",
    "print('y_2 = ', value(model.y))\n",
    "print('Obejective function', value(model.obj))"
   ]
  },
  {
   "cell_type": "markdown",
   "metadata": {},
   "source": [
    "<div class=\"alert alert-block alert-warning\">\n",
    "    Contact me:</b> <br> \n",
    "    <b>$$\\rightarrow Pablo Laso Mielgo :)$$<br> $$\\rightarrow p.laso.2017@alumnos.urjc.es $$\n",
    "</div>"
   ]
  }
 ],
 "metadata": {
  "kernelspec": {
   "display_name": "Python 3",
   "language": "python",
   "name": "python3"
  },
  "language_info": {
   "codemirror_mode": {
    "name": "ipython",
    "version": 3
   },
   "file_extension": ".py",
   "mimetype": "text/x-python",
   "name": "python",
   "nbconvert_exporter": "python",
   "pygments_lexer": "ipython3",
   "version": "3.6.9"
  }
 },
 "nbformat": 4,
 "nbformat_minor": 2
}
