{
 "cells": [
  {
   "cell_type": "markdown",
   "metadata": {},
   "source": [
    "<div class=\"alert alert-block alert-success\">\n",
    "    <b>Universidad Rey Juan Carlos de Madrid.</b>  Biomedical Engineering\n",
    "</div>"
   ]
  },
  {
   "cell_type": "markdown",
   "metadata": {},
   "source": [
    "# Optimization\n",
    "### Linear Integer Programming for the Home Helath Care Problem"
   ]
  },
  {
   "cell_type": "markdown",
   "metadata": {},
   "source": [
    "<div class=\"alert alert-block alert-info\"> Pablo Laso Mielgo </div> "
   ]
  },
  {
   "cell_type": "markdown",
   "metadata": {},
   "source": [
    "In this Pyhton code I try to recreate a simplified version of the work performed by some other students in this\n",
    "[article](https://link.springer.com/chapter/10.1007/978-3-642-28115-0_14). We'll count with:\n",
    "* 2 nurses\n",
    "* 3 patients"
   ]
  },
  {
   "cell_type": "markdown",
   "metadata": {},
   "source": [
    " ______________"
   ]
  },
  {
   "cell_type": "markdown",
   "metadata": {},
   "source": [
    "<font color='red'>**Problem Statement:**</font>"
   ]
  },
  {
   "cell_type": "markdown",
   "metadata": {},
   "source": [
    "This code tries to tackle several problems in one by establishing the most convienient care plan by the nurses takimg into consideration the availability of the patients. For this:\n",
    "* First, we try to minimize the maximum and minimum workload of the nurses. This means that our **objective function** will be:\n",
    "$$ minimize: Z_{max} - Z_{min} \\quad{.....(0)}$$ <br>\n",
    "    * Also, we want to specify some constraints (bounds) for the maximal and minimal **loads** of the nurses:\n",
    "$$ Z_{max} \\geq Load_i \\quad \\forall i \\quad{.....(1)}$$ \n",
    "$$ Z_{min} \\leq Load_i \\quad \\forall i \\quad{.....(2)}$$ <br>\n",
    "        * where the loads of the nurses can be defined as the **time when they start/stop working**:\n",
    "        $$ Load_i = End_i - Start_i \\quad \\forall i \\quad{.....(3)}$$ <br>\n",
    "            * We must also define the time when nurse_i starts:\n",
    "            Note they are to go from the hospital 0 to the patient j (and maybe another patient u after that)\n",
    "            $$ Start_i = min(Arrive_{ij} + (1-y_{i0j})H) - \\sum_{u} dist_{0j} y_{i0u}\\quad \\forall i \\quad{.....(4)}$$ <br>"
   ]
  },
  {
   "cell_type": "code",
   "execution_count": 5,
   "metadata": {},
   "outputs": [
    {
     "ename": "AttributeError",
     "evalue": "'ConcreteModel' object has no attribute 'x_1'",
     "output_type": "error",
     "traceback": [
      "\u001b[1;31m---------------------------------------------------------------------------\u001b[0m",
      "\u001b[1;31mAttributeError\u001b[0m                            Traceback (most recent call last)",
      "\u001b[1;32m<ipython-input-5-be9422c5f7ce>\u001b[0m in \u001b[0;36m<module>\u001b[1;34m\u001b[0m\n\u001b[0;32m     34\u001b[0m \u001b[1;33m\u001b[0m\u001b[0m\n\u001b[0;32m     35\u001b[0m \u001b[0mmodel\u001b[0m\u001b[1;33m.\u001b[0m\u001b[0mcon1\u001b[0m \u001b[1;33m=\u001b[0m \u001b[0mConstraint\u001b[0m\u001b[1;33m(\u001b[0m\u001b[0mexpr\u001b[0m\u001b[1;33m=\u001b[0m \u001b[0mmodel\u001b[0m\u001b[1;33m.\u001b[0m\u001b[0mz_max\u001b[0m \u001b[1;33m>=\u001b[0m \u001b[0mmodel\u001b[0m\u001b[1;33m.\u001b[0m\u001b[0mload1\u001b[0m\u001b[1;33m)\u001b[0m \u001b[1;31m# (commented in: 1)\u001b[0m\u001b[1;33m\u001b[0m\u001b[1;33m\u001b[0m\u001b[0m\n\u001b[1;32m---> 36\u001b[1;33m \u001b[0mmodel\u001b[0m\u001b[1;33m.\u001b[0m\u001b[0mcon2\u001b[0m \u001b[1;33m=\u001b[0m \u001b[0mConstraint\u001b[0m\u001b[1;33m(\u001b[0m\u001b[0mexpr\u001b[0m\u001b[1;33m=\u001b[0m \u001b[0mmodel\u001b[0m\u001b[1;33m.\u001b[0m\u001b[0mx_1\u001b[0m \u001b[1;33m+\u001b[0m \u001b[0mmodel\u001b[0m\u001b[1;33m.\u001b[0m\u001b[0mx_2\u001b[0m \u001b[1;33m<=\u001b[0m \u001b[1;36m1\u001b[0m\u001b[1;33m)\u001b[0m \u001b[1;31m# mutually exclusive\u001b[0m\u001b[1;33m\u001b[0m\u001b[1;33m\u001b[0m\u001b[0m\n\u001b[0m\u001b[0;32m     37\u001b[0m \u001b[0mmodel\u001b[0m\u001b[1;33m.\u001b[0m\u001b[0mcon3\u001b[0m \u001b[1;33m=\u001b[0m \u001b[0mConstraint\u001b[0m\u001b[1;33m(\u001b[0m\u001b[0mexpr\u001b[0m\u001b[1;33m=\u001b[0m \u001b[0mmodel\u001b[0m\u001b[1;33m.\u001b[0m\u001b[0mx_3\u001b[0m \u001b[1;33m+\u001b[0m \u001b[0mmodel\u001b[0m\u001b[1;33m.\u001b[0m\u001b[0mx_4\u001b[0m \u001b[1;33m<=\u001b[0m \u001b[1;36m1\u001b[0m\u001b[1;33m)\u001b[0m \u001b[1;31m# mutually exclusive\u001b[0m\u001b[1;33m\u001b[0m\u001b[1;33m\u001b[0m\u001b[0m\n\u001b[0;32m     38\u001b[0m \u001b[0mmodel\u001b[0m\u001b[1;33m.\u001b[0m\u001b[0mcon4\u001b[0m \u001b[1;33m=\u001b[0m \u001b[0mConstraint\u001b[0m\u001b[1;33m(\u001b[0m\u001b[0mexpr\u001b[0m\u001b[1;33m=\u001b[0m \u001b[0mmodel\u001b[0m\u001b[1;33m.\u001b[0m\u001b[0mx_3\u001b[0m \u001b[1;33m<=\u001b[0m  \u001b[0mmodel\u001b[0m\u001b[1;33m.\u001b[0m\u001b[0mx_1\u001b[0m \u001b[1;33m+\u001b[0m \u001b[0mmodel\u001b[0m\u001b[1;33m.\u001b[0m\u001b[0mx_2\u001b[0m\u001b[1;33m)\u001b[0m \u001b[1;31m# 3 requires either 1 or 2\u001b[0m\u001b[1;33m\u001b[0m\u001b[1;33m\u001b[0m\u001b[0m\n",
      "\u001b[1;32mC:\\ProgramData\\Anaconda3\\envs\\optimizationpy36\\lib\\site-packages\\pyomo\\core\\base\\block.py\u001b[0m in \u001b[0;36m__getattr__\u001b[1;34m(self, val)\u001b[0m\n\u001b[0;32m    547\u001b[0m         \u001b[1;31m# throw the \"normal\" AttributeError\u001b[0m\u001b[1;33m\u001b[0m\u001b[1;33m\u001b[0m\u001b[1;33m\u001b[0m\u001b[0m\n\u001b[0;32m    548\u001b[0m         raise AttributeError(\"'%s' object has no attribute '%s'\"\n\u001b[1;32m--> 549\u001b[1;33m                              % (self.__class__.__name__, val))\n\u001b[0m\u001b[0;32m    550\u001b[0m \u001b[1;33m\u001b[0m\u001b[0m\n\u001b[0;32m    551\u001b[0m     \u001b[1;32mdef\u001b[0m \u001b[0m__setattr__\u001b[0m\u001b[1;33m(\u001b[0m\u001b[0mself\u001b[0m\u001b[1;33m,\u001b[0m \u001b[0mname\u001b[0m\u001b[1;33m,\u001b[0m \u001b[0mval\u001b[0m\u001b[1;33m)\u001b[0m\u001b[1;33m:\u001b[0m\u001b[1;33m\u001b[0m\u001b[1;33m\u001b[0m\u001b[0m\n",
      "\u001b[1;31mAttributeError\u001b[0m: 'ConcreteModel' object has no attribute 'x_1'"
     ]
    }
   ],
   "source": [
    "from pyomo.environ import *\n",
    "from pyomo.opt import *\n",
    "\n",
    "model = ConcreteModel()\n",
    "\n",
    "model.z_min = Var(within=NonNegativeIntegers) # (commented in: 0)\n",
    "model.z_max = Var(within=NonNegativeIntegers) # (commented in: 0)\n",
    "model.load1 = Var(within=NonNegativeIntegers) # (commented in: 1, 2)\n",
    "model.load2 = Var(within=NonNegativeIntegers) # (commented in: 1, 2)\n",
    "model.End1 = Var(within=NonNegativeIntegers) # (commented in: 3)\n",
    "model.Start1 = Var(within=NonNegativeIntegers) # (commented in: 3)\n",
    "model.End2 = Var(within=NonNegativeIntegers) # (commented in: 3)\n",
    "model.Start2 = Var(within=NonNegativeIntegers) # (commented in: 3)\n",
    "model.arrive_11 = Var(within=NonNegativeIntegers) # (commented in: 4)\n",
    "model.arrive_12 = Var(within=NonNegativeIntegers) # (commented in: 4)\n",
    "model.arrive_13 = Var(within=NonNegativeIntegers) # (commented in: 4)\n",
    "model.arrive_21 = Var(within=NonNegativeIntegers) # (commented in: 4)\n",
    "model.arrive_22 = Var(within=NonNegativeIntegers) # (commented in: 4)\n",
    "model.arrive_23 = Var(within=NonNegativeIntegers) # (commented in: 4)\n",
    "model.y101 = Var(within=NonNegativeIntegers) # (commented in: 5)\n",
    "model.y102 = Var(within=NonNegativeIntegers) # (commented in: 5)\n",
    "model.y103 = Var(within=NonNegativeIntegers) # (commented in: 5)\n",
    "model.y101 = Var(within=NonNegativeIntegers) # (commented in: 5)\n",
    "model.y101 = Var(within=NonNegativeIntegers) # (commented in: 5)\n",
    "model.y101 = Var(within=NonNegativeIntegers) # (commented in: 5)\n",
    "\n",
    "# nurse 1\n",
    "model.y_1jk = Var(within=Binary)\n",
    "model.y_112 = Var(within=Binary)\n",
    "model.y_113 = Var(within=Binary)\n",
    "model.y_121 = Var(within=Binary)\n",
    "model.y_123 = Var(within=Binary)\n",
    "model.y_131 = Var(within=Binary)\n",
    "model.y_132 = Var(within=Binary)\n",
    "\n",
    "model.y_2jk = Var(within=Binary)\n",
    "model.y_212 = Var(within=Binary)\n",
    "model.y_213 = Var(within=Binary)\n",
    "model.y_221 = Var(within=Binary)\n",
    "model.y_223 = Var(within=Binary)\n",
    "model.y_231 = Var(within=Binary)\n",
    "model.y_232 = Var(within=Binary)\n",
    "\n",
    "model.obj = Objective(expr= model.z_max - model.z_min, sense=maximize) # (1)\n",
    "\n",
    "model.con1 = Constraint(expr= model.z_max >= model.load1 + model.load2) # (commented in: 1)\n",
    "model.con2 = Constraint(expr= model.z_min <= model.load1 + model.load2) # (commented in: 2)\n",
    "model.con3 = Constraint(expr= model.load1 = model.End1 - model.Start1) # (commented in: 3)\n",
    "model.con4 = Constraint(expr= model.load2 = model.End2 - model.Start2) # (commented in: 3)\n",
    "\n",
    "\n",
    "\n",
    "Solver = SolverFactory('glpk')\n",
    "results = Solver.solve(model)\n",
    "print(results)\n",
    "\n",
    "print('the value of x_1 is:', value(model.x_1))\n",
    "print('the value of x_2 is:', value(model.x_2))\n",
    "print('the value of x_3 is:', value(model.x_3))\n",
    "print('the value of x_4 is:', value(model.x_4))\n",
    "print('the value of x_5 is:', value(model.x_5))\n",
    "print('the value of x_6 is:', value(model.x_6))\n",
    "print('\\nthe Maximum is:', value(model.obj))"
   ]
  },
  {
   "cell_type": "markdown",
   "metadata": {},
   "source": [
    "<font color='red'>**Conclussion**</font> <br> "
   ]
  },
  {
   "cell_type": "markdown",
   "metadata": {},
   "source": [
    "<div class=\"alert alert-block alert-warning\">\n",
    "    Contact me:</b> <br> \n",
    "    <b>$$\\rightarrow Pablo Laso Mielgo :)$$<br> $$\\rightarrow p.laso.2017@alumnos.urjc.es $$\n",
    "</div>"
   ]
  },
  {
   "cell_type": "markdown",
   "metadata": {},
   "source": [
    "<div class=\"alert alert-block alert-danger\">\n",
    "<b>Just don't:</b> In general, avoid the red boxes. These should only be\n",
    "used for actions that might cause data loss or another major issue.\n",
    "</div>"
   ]
  },
  {
   "attachments": {},
   "cell_type": "markdown",
   "metadata": {},
   "source": [
    "<img src=\"https://www.clipartwiki.com/clipimg/detail/205-2052859_clipart-of-courses-basic-education-and-class-registration.png\" alt=\"Alt text that describes the graphic\" title=\"Title text\" />"
   ]
  }
 ],
 "metadata": {
  "kernelspec": {
   "display_name": "Python [conda env:optimizationpy36] *",
   "language": "python",
   "name": "conda-env-optimizationpy36-py"
  },
  "language_info": {
   "codemirror_mode": {
    "name": "ipython",
    "version": 3
   },
   "file_extension": ".py",
   "mimetype": "text/x-python",
   "name": "python",
   "nbconvert_exporter": "python",
   "pygments_lexer": "ipython3",
   "version": "3.6.9"
  }
 },
 "nbformat": 4,
 "nbformat_minor": 2
}
