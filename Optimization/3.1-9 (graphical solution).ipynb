{
 "cells": [
  {
   "cell_type": "markdown",
   "metadata": {},
   "source": [
    "---\n",
    "textbook<br>\n",
    "page: 77, 78\n",
    "    \n",
    "---"
   ]
  },
  {
   "cell_type": "code",
   "execution_count": 9,
   "metadata": {},
   "outputs": [
    {
     "name": "stdout",
     "output_type": "stream",
     "text": [
      "175.0\n"
     ]
    }
   ],
   "source": [
    "from pyomo.opt import*\n",
    "from pyomo.environ import*\n",
    "\n",
    "m=ConcreteModel()\n",
    "\n",
    "m.x1=Var(within=NonNegativeReals)\n",
    "m.x2=Var(within=NonNegativeReals)\n",
    "models=[m.x1,m.x2]\n",
    "\n",
    "m.obj=Objective(expr=m.x1+2*m.x2, sense=-1)\n",
    "\n",
    "m.con_1=Constraint(expr=m.x2<=60)\n",
    "m.con_2=Constraint(expr=m.x1+3*m.x2<=200)\n",
    "m.con_3=Constraint(expr=2*m.x1+2*m.x2<=300)\n",
    "\n",
    "SolverFactory('glpk').solve(m)\n",
    "\n",
    "print(value(m.obj))"
   ]
  }
 ],
 "metadata": {
  "kernelspec": {
   "display_name": "Python [conda env:optimizationpy36] *",
   "language": "python",
   "name": "conda-env-optimizationpy36-py"
  },
  "language_info": {
   "codemirror_mode": {
    "name": "ipython",
    "version": 3
   },
   "file_extension": ".py",
   "mimetype": "text/x-python",
   "name": "python",
   "nbconvert_exporter": "python",
   "pygments_lexer": "ipython3",
   "version": "3.6.9"
  }
 },
 "nbformat": 4,
 "nbformat_minor": 2
}
