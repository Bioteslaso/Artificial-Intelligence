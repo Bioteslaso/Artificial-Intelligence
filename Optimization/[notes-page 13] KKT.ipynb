{
 "cells": [
  {
   "cell_type": "markdown",
   "metadata": {},
   "source": [
    "## Optimizing by the method of Karush-Kunh-Tucker"
   ]
  },
  {
   "cell_type": "markdown",
   "metadata": {},
   "source": [
    "---\n",
    "Notes<br>\n",
    "page: 13\n",
    "    \n",
    "---"
   ]
  },
  {
   "cell_type": "code",
   "execution_count": 10,
   "metadata": {},
   "outputs": [
    {
     "name": "stdout",
     "output_type": "stream",
     "text": [
      "-1\n",
      "x 0.0\n",
      "y 1.0000000041647614\n",
      "1.0000000124942843 \n",
      "\n",
      "1\n",
      "x 0.0\n",
      "y -0.4999999983240932\n",
      "-1.25 \n",
      "\n"
     ]
    }
   ],
   "source": [
    "from pyomo.opt import*\n",
    "from pyomo.environ import*\n",
    "    \n",
    "def KKT(sns):\n",
    "    model=ConcreteModel()\n",
    "\n",
    "    model.x=Var(within=Reals)\n",
    "    model.y=Var(within=Reals)\n",
    "    models=[model.x,model.y]\n",
    "\n",
    "    model.obj=Objective(expr=model.x**2+model.y**2+model.y-1,sense=sns)\n",
    "\n",
    "    model.con=Constraint(expr=model.x**2+model.y**2<=1)\n",
    "\n",
    "    SolverFactory('ipopt').solve(model)\n",
    "    print(sns)\n",
    "    for i in range(len(models)):\n",
    "        print(models[i],value(models[i]))\n",
    "    print(value(model.obj),'\\n')\n",
    "KKT(maximize)\n",
    "KKT(minimize)"
   ]
  }
 ],
 "metadata": {
  "kernelspec": {
   "display_name": "Python [conda env:optimizationpy36] *",
   "language": "python",
   "name": "conda-env-optimizationpy36-py"
  },
  "language_info": {
   "codemirror_mode": {
    "name": "ipython",
    "version": 3
   },
   "file_extension": ".py",
   "mimetype": "text/x-python",
   "name": "python",
   "nbconvert_exporter": "python",
   "pygments_lexer": "ipython3",
   "version": "3.6.9"
  }
 },
 "nbformat": 4,
 "nbformat_minor": 2
}
