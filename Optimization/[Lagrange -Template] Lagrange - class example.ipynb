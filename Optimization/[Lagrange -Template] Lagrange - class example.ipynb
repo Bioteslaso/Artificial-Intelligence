{
 "cells": [
  {
   "cell_type": "markdown",
   "metadata": {},
   "source": [
    "## Lagrange\n",
    "#### Minimize:"
   ]
  },
  {
   "cell_type": "markdown",
   "metadata": {},
   "source": [
    "$$x^2+y^2$$\n",
    "$$x + y = 100$$\n"
   ]
  },
  {
   "cell_type": "code",
   "execution_count": 4,
   "metadata": {},
   "outputs": [
    {
     "name": "stdout",
     "output_type": "stream",
     "text": [
      "x =  50.0\n",
      "y =  50.0\n",
      "Obejective function 5000.0\n"
     ]
    }
   ],
   "source": [
    "from pyomo.environ import *\n",
    "from pyomo.opt import *\n",
    "\n",
    "model = ConcreteModel()\n",
    "\n",
    "model.x = Var(initialize=1.0, within=NonNegativeReals)\n",
    "model.y = Var(initialize=1.0, within=NonNegativeReals)\n",
    "\n",
    "model.obj = Objective(expr=model.x**2 + model.y**2, sense=minimize) # objective function\n",
    "model.con1 = Constraint(expr=model.x + model.y == 100) # constraint\n",
    "\n",
    "solver = SolverFactory('ipopt')\n",
    "results = solver.solve(model)\n",
    "\n",
    "print('x = ', value(model.x))\n",
    "print('y = ', value(model.y))\n",
    "print('Obejective function', value(model.obj))"
   ]
  }
 ],
 "metadata": {
  "kernelspec": {
   "display_name": "Python 3",
   "language": "python",
   "name": "python3"
  },
  "language_info": {
   "codemirror_mode": {
    "name": "ipython",
    "version": 3
   },
   "file_extension": ".py",
   "mimetype": "text/x-python",
   "name": "python",
   "nbconvert_exporter": "python",
   "pygments_lexer": "ipython3",
   "version": "3.6.9"
  }
 },
 "nbformat": 4,
 "nbformat_minor": 2
}
