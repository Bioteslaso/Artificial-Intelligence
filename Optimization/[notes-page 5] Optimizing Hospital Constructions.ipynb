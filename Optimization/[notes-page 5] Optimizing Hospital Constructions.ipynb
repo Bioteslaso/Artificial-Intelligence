{
 "cells": [
  {
   "cell_type": "markdown",
   "metadata": {},
   "source": [
    "## Optimizing hospital constructions\n",
    "---------"
   ]
  },
  {
   "cell_type": "markdown",
   "metadata": {},
   "source": [
    "Notes: page 5"
   ]
  },
  {
   "cell_type": "code",
   "execution_count": 18,
   "metadata": {},
   "outputs": [
    {
     "name": "stdout",
     "output_type": "stream",
     "text": [
      "H_1 0.0\n",
      "H_2 1.0\n",
      "H_3 0.0\n",
      "H_4 1.0\n",
      "H_5 0.0\n",
      "H_6 0.0\n",
      "2.0\n"
     ]
    }
   ],
   "source": [
    "from pyomo.opt import *\n",
    "from pyomo.environ import *\n",
    "\n",
    "model=ConcreteModel()\n",
    "\n",
    "model.H_1=Var(within=Binary) #buliding in hospital 1?\n",
    "model.H_2=Var(within=Binary)\n",
    "model.H_3=Var(within=Binary)\n",
    "model.H_4=Var(within=Binary)\n",
    "model.H_5=Var(within=Binary)\n",
    "model.H_6=Var(within=Binary)\n",
    "models=[model.H_1,model.H_2,model.H_3,model.H_4,model.H_5,model.H_6]\n",
    "\n",
    "# minimize number of hospitals:\n",
    "model.obj=Objective(expr=model.H_1+model.H_2+model.H_3+model.H_4+model.H_5+model.H_6,sense=minimize)\n",
    "\n",
    "# at least one hospital less than 15min away:\n",
    "model.con1=Constraint(expr=model.H_1+model.H_2>=1) #intutiton: if I'm form city 1, either 1 or 2 must be bulit. ow it takes longer than 15min...\n",
    "model.con2=Constraint(expr=model.H_1+model.H_2+model.H_6>=1)\n",
    "model.con3=Constraint(expr=model.H_3+model.H_4>=1)\n",
    "model.con4=Constraint(expr=model.H_3+model.H_4+model.H_5>=1)\n",
    "model.con5=Constraint(expr=model.H_4+model.H_5+model.H_6>=1)\n",
    "model.con6=Constraint(expr=model.H_2+model.H_5+model.H_6>=1)\n",
    "\n",
    "solver=SolverFactory('glpk')\n",
    "results=solver.solve(model)\n",
    "for i in range(len(models)):\n",
    "    print(models[i], value(models[i]))\n",
    "print(value(model.obj))"
   ]
  }
 ],
 "metadata": {
  "kernelspec": {
   "display_name": "Python 3",
   "language": "python",
   "name": "python3"
  },
  "language_info": {
   "codemirror_mode": {
    "name": "ipython",
    "version": 3
   },
   "file_extension": ".py",
   "mimetype": "text/x-python",
   "name": "python",
   "nbconvert_exporter": "python",
   "pygments_lexer": "ipython3",
   "version": "3.6.9"
  }
 },
 "nbformat": 4,
 "nbformat_minor": 2
}
