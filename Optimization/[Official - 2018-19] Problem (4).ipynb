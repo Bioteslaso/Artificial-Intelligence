{
 "cells": [
  {
   "cell_type": "markdown",
   "metadata": {},
   "source": [
    "## Examen\n",
    "### Problema 4"
   ]
  },
  {
   "cell_type": "markdown",
   "metadata": {},
   "source": [
    "----------\n",
    "[exam picture](file:///C:/Users/pablo/OneDrive%20-%20Universidad%20Rey%20Juan%20Carlos/Biomedical%20Engineering%20URJC/3%C2%BA%20curso/Asignaturas%20y%20Apuntes/Semester%20I/OPTIMIZATION/Mock%20Exam/[exam_template]%20exam_O_december_2018_A.pdf)\n",
    "-----------\n",
    "a. Halla el modelo de programacion matem ´ atica que permita determinar el camino m´ınimo entre ´\n",
    "los nodos 1 y 3 que incluya el nodo 5 del grafo representado en la figura (1 punto)\n",
    "\n",
    "--------"
   ]
  },
  {
   "cell_type": "code",
   "execution_count": 1,
   "metadata": {},
   "outputs": [
    {
     "name": "stdout",
     "output_type": "stream",
     "text": [
      "x13 0.0\n",
      "x14 0.0\n",
      "x15 0.0\n",
      "x12 1.0\n",
      "x35 0.0\n",
      "x34 0.0\n",
      "x24 0.0\n",
      "x25 1.0\n",
      "x46 0.0\n",
      "x56 1.0\n",
      "x63 1.0\n",
      "x62 0.0\n",
      "6.0\n"
     ]
    }
   ],
   "source": [
    "from pyomo.opt import*\n",
    "from pyomo.environ import*\n",
    "\n",
    "m=ConcreteModel()\n",
    "\n",
    "m.x13=Var(within=Binary)\n",
    "m.x14=Var(within=Binary)\n",
    "m.x15=Var(within=Binary)\n",
    "m.x12=Var(within=Binary)\n",
    "m.x35=Var(within=Binary)\n",
    "m.x34=Var(within=Binary)\n",
    "m.x24=Var(within=Binary)\n",
    "m.x25=Var(within=Binary)\n",
    "m.x46=Var(within=Binary)\n",
    "m.x56=Var(within=Binary)\n",
    "m.x63=Var(within=Binary)\n",
    "m.x62=Var(within=Binary)\n",
    "models=[m.x13,m.x14,m.x15,m.x12,m.x35,m.x34,m.x24,m.x25,m.x46,m.x56,m.x63,m.x62]\n",
    "\n",
    "m.obj=Objective(expr=6*m.x13+2*m.x14+4*m.x15+0*m.x12\n",
    "               +5*m.x34+1*m.x35+2*m.x24+1*m.x25\n",
    "               +2*m.x46+4*m.x56+1*m.x63+1*m.x62)\n",
    "\n",
    "\n",
    "m.con_1=Constraint(expr=m.x13+m.x14+m.x15+m.x12==1)\n",
    "m.con_3=Constraint(expr=m.x13+m.x63==1+m.x35+m.x34)\n",
    "m.con_must5=Constraint(expr=m.x15+m.x35+m.x25+m.x56>=1)\n",
    "\n",
    "m.con_2=Constraint(expr=m.x12+m.x62==m.x25+m.x24)\n",
    "m.con_4=Constraint(expr=m.x14+m.x24+m.x34==m.x46)\n",
    "m.con_5=Constraint(expr=m.x15+m.x35+m.x25==m.x56)\n",
    "m.con_6=Constraint(expr=m.x46+m.x56==m.x63+m.x62)\n",
    "\n",
    "SolverFactory('glpk').solve(m)\n",
    "\n",
    "for i in range(len(models)):\n",
    "    print(models[i],value(models[i]))\n",
    "print(value(m.obj))"
   ]
  },
  {
   "cell_type": "markdown",
   "metadata": {},
   "source": [
    "----------"
   ]
  }
 ],
 "metadata": {
  "kernelspec": {
   "display_name": "Python [conda env:optimizationpy36] *",
   "language": "python",
   "name": "conda-env-optimizationpy36-py"
  },
  "language_info": {
   "codemirror_mode": {
    "name": "ipython",
    "version": 3
   },
   "file_extension": ".py",
   "mimetype": "text/x-python",
   "name": "python",
   "nbconvert_exporter": "python",
   "pygments_lexer": "ipython3",
   "version": "3.6.9"
  }
 },
 "nbformat": 4,
 "nbformat_minor": 2
}
