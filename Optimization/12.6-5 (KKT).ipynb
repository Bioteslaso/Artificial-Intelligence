{
 "cells": [
  {
   "cell_type": "markdown",
   "metadata": {},
   "source": [
    "---\n",
    "textbook\n",
    "page: 597\n",
    "\n",
    "---"
   ]
  },
  {
   "cell_type": "code",
   "execution_count": 35,
   "metadata": {},
   "outputs": [
    {
     "name": "stdout",
     "output_type": "stream",
     "text": [
      "-1\n",
      "x 3.000000029558441\n",
      "y 0.0\n",
      "1.3862943685095008\n",
      "1\n",
      "x 0.0\n",
      "y 1.5000000186638303\n",
      "-2.250000055991491\n"
     ]
    }
   ],
   "source": [
    "from pyomo.opt import*\n",
    "from pyomo.environ import*\n",
    "\n",
    "def KKT(sns):\n",
    "    model=ConcreteModel()\n",
    "\n",
    "    model.x=Var(within=NonNegativeReals)\n",
    "    model.y=Var(within=NonNegativeReals)\n",
    "    models=[model.x,model.y]\n",
    "\n",
    "    model.obj=Objective(expr=log(model.x+1) -model.y**2, sense=sns)\n",
    "\n",
    "    model.con=Constraint(expr=model.x+2*model.y<=3)\n",
    "\n",
    "    SolverFactory('ipopt').solve(model)\n",
    "    \n",
    "    print(sns)\n",
    "    for i in range(len(models)):\n",
    "            print(models[i],value(models[i]))\n",
    "    print(value(model.obj))\n",
    "KKT(maximize)\n",
    "KKT(minimize)"
   ]
  }
 ],
 "metadata": {
  "kernelspec": {
   "display_name": "Python [conda env:optimizationpy36] *",
   "language": "python",
   "name": "conda-env-optimizationpy36-py"
  },
  "language_info": {
   "codemirror_mode": {
    "name": "ipython",
    "version": 3
   },
   "file_extension": ".py",
   "mimetype": "text/x-python",
   "name": "python",
   "nbconvert_exporter": "python",
   "pygments_lexer": "ipython3",
   "version": "3.6.9"
  }
 },
 "nbformat": 4,
 "nbformat_minor": 2
}
