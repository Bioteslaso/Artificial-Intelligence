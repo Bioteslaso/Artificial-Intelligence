{
 "cells": [
  {
   "cell_type": "markdown",
   "metadata": {},
   "source": [
    "# Optimization\n",
    "### Using Pyomo to maximize a function"
   ]
  },
  {
   "cell_type": "code",
   "execution_count": 2,
   "metadata": {},
   "outputs": [
    {
     "name": "stdout",
     "output_type": "stream",
     "text": [
      "WARNING: Implicitly replacing the Component attribute x_1 (type=<class\n",
      "    'pyomo.core.base.var.SimpleVar'>) on block unknown with a new Component\n",
      "    (type=<class 'pyomo.core.base.var.SimpleVar'>). This is usually indicative\n",
      "    of a modelling error. To avoid this warning, use block.del_component() and\n",
      "    block.add_component().\n",
      "WARNING: Implicitly replacing the Component attribute x_1 (type=<class\n",
      "    'pyomo.core.base.var.SimpleVar'>) on block unknown with a new Component\n",
      "    (type=<class 'pyomo.core.base.var.SimpleVar'>). This is usually indicative\n",
      "    of a modelling error. To avoid this warning, use block.del_component() and\n",
      "    block.add_component().\n",
      "WARNING: Implicitly replacing the Component attribute x_1 (type=<class\n",
      "    'pyomo.core.base.var.SimpleVar'>) on block unknown with a new Component\n",
      "    (type=<class 'pyomo.core.base.var.SimpleVar'>). This is usually indicative\n",
      "    of a modelling error. To avoid this warning, use block.del_component() and\n",
      "    block.add_component().\n",
      "WARNING: Implicitly replacing the Component attribute x_1 (type=<class\n",
      "    'pyomo.core.base.var.SimpleVar'>) on block unknown with a new Component\n",
      "    (type=<class 'pyomo.core.base.var.SimpleVar'>). This is usually indicative\n",
      "    of a modelling error. To avoid this warning, use block.del_component() and\n",
      "    block.add_component().\n",
      "WARNING: Implicitly replacing the Component attribute x_1 (type=<class\n",
      "    'pyomo.core.base.var.SimpleVar'>) on block unknown with a new Component\n",
      "    (type=<class 'pyomo.core.base.var.SimpleVar'>). This is usually indicative\n",
      "    of a modelling error. To avoid this warning, use block.del_component() and\n",
      "    block.add_component().\n",
      "WARNING: Implicitly replacing the Component attribute x_1 (type=<class\n",
      "    'pyomo.core.base.var.SimpleVar'>) on block unknown with a new Component\n",
      "    (type=<class 'pyomo.core.base.var.SimpleVar'>). This is usually indicative\n",
      "    of a modelling error. To avoid this warning, use block.del_component() and\n",
      "    block.add_component().\n",
      "WARNING: Implicitly replacing the Component attribute x_1 (type=<class\n",
      "    'pyomo.core.base.var.SimpleVar'>) on block unknown with a new Component\n",
      "    (type=<class 'pyomo.core.base.var.SimpleVar'>). This is usually indicative\n",
      "    of a modelling error. To avoid this warning, use block.del_component() and\n",
      "    block.add_component().\n",
      "WARNING: Implicitly replacing the Component attribute x_1 (type=<class\n",
      "    'pyomo.core.base.var.SimpleVar'>) on block unknown with a new Component\n",
      "    (type=<class 'pyomo.core.base.var.SimpleVar'>). This is usually indicative\n",
      "    of a modelling error. To avoid this warning, use block.del_component() and\n",
      "    block.add_component().\n",
      "WARNING: Implicitly replacing the Component attribute x_1 (type=<class\n",
      "    'pyomo.core.base.var.SimpleVar'>) on block unknown with a new Component\n",
      "    (type=<class 'pyomo.core.base.var.SimpleVar'>). This is usually indicative\n",
      "    of a modelling error. To avoid this warning, use block.del_component() and\n",
      "    block.add_component().\n",
      "('the value of x_1 is:', 1.0)\n",
      "('the value of x_2 is:', 1.0)\n",
      "('the value of x_3 is:', 1.0)\n",
      "('\\nthe Maximum is:', 21.0)\n"
     ]
    }
   ],
   "source": [
    "from pyomo.environ import *\n",
    "from pyomo.opt import *\n",
    "\n",
    "model = ConcreteModel()\n",
    "\n",
    "model.x_OA = Var(within=Binary)\n",
    "model.x_OB = Var(within=Binary)\n",
    "model.x_OC = Var(within=Binary)\n",
    "model.x_AB = Var(within=Binary)\n",
    "model.x_AD = Var(within=Binary)\n",
    "model.x_BD = Var(within=Binary)\n",
    "model.x_BE = Var(within=Binary)\n",
    "model.x_BC = Var(within=Binary)\n",
    "model.x_CE = Var(within=Binary)\n",
    "model.x_DE = Var(within=Binary)\n",
    "model.x_DT = Var(within=Binary)\n",
    "model.x_ET = Var(within=Binary)\n",
    "\n",
    "\n",
    "model.obj = Objective(expr= 2*model.x_OA + 5*model.x_OB + 4*model.x_OC \n",
    "                      + 2*model.x_AB + 7*model.x_AD\n",
    "                      + 4**model.x_BD + 3*model.x_BE + *model.x_BC\n",
    "                      + 4*model.x_CE + *model.x_DE + 5*model.x_DT + 7*model.x_ET, \n",
    "                      sense=minimize)\n",
    "\n",
    "model.con1 = Constraint(expr=model.x_1 + 3*model.x_2 + 2*model.x_3 <= 10)\n",
    "model.con2 = Constraint(expr=3*model.x_1 + 4*model.x_2 + 2*model.x_3 <= 12)\n",
    "model.con3 = Constraint(expr=2*model.x_1 + model.x_2 + 2*model.x_3 <= 8)\n",
    "model.con4 = Constraint(expr=model.x_1 + 3*model.x_2 + 2*model.x_3 <= 10)\n",
    "model.con2 = Constraint(expr=3*model.x_1 + 4*model.x_2 + 2*model.x_3 <= 12)\n",
    "model.con3 = Constraint(expr=2*model.x_1 + model.x_2 + 2*model.x_3 <= 8)\n",
    "model.con1 = Constraint(expr=model.x_1 + 3*model.x_2 + 2*model.x_3 <= 10)\n",
    "model.con2 = Constraint(expr=3*model.x_1 + 4*model.x_2 + 2*model.x_3 <= 12)\n",
    "\n",
    "Solver = SolverFactory('glpk')\n",
    "results = Solver.solve(model)\n",
    "#print(results)\n",
    "\n",
    "print('the value of x_1 is:', value(model.x_1))\n",
    "print('the value of x_2 is:', value(model.x_2))\n",
    "print('the value of x_3 is:', value(model.x_3))\n",
    "print('\\nthe Maximum is:', value(model.obj)) # 33.8"
   ]
  },
  {
   "cell_type": "code",
   "execution_count": null,
   "metadata": {},
   "outputs": [],
   "source": []
  }
 ],
 "metadata": {
  "kernelspec": {
   "display_name": "Python [conda env:optimizationpy36] *",
   "language": "python",
   "name": "conda-env-optimizationpy36-py"
  },
  "language_info": {
   "codemirror_mode": {
    "name": "ipython",
    "version": 3
   },
   "file_extension": ".py",
   "mimetype": "text/x-python",
   "name": "python",
   "nbconvert_exporter": "python",
   "pygments_lexer": "ipython3",
   "version": "3.6.9"
  }
 },
 "nbformat": 4,
 "nbformat_minor": 2
}
