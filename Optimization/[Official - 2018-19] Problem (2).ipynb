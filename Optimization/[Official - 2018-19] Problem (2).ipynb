{
 "cells": [
  {
   "cell_type": "markdown",
   "metadata": {},
   "source": [
    "## Examen\n",
    "### Problema 2"
   ]
  },
  {
   "cell_type": "markdown",
   "metadata": {},
   "source": [
    "----------\n",
    "Los enfermeros de un hospital trabajan cinco d´ıas consecutivos y descansan durante los siguientes dos d´ıas de la semana. Se ha estimado el n ´umero m´ınimo de enfermeros necesarios en\n",
    "una planta del hospital en el turno de manana de los distintos d´ıas de la semana. La tabla siguiente ˜\n",
    "contiene los resultados: L M X J V S D --> 11 9 7 12 13 8 5"
   ]
  },
  {
   "cell_type": "markdown",
   "metadata": {},
   "source": [
    "-----------\n",
    "a. Halla el modelo de programacion matem ´ atica que permita determinar el horario semanal ´\n",
    "de los enfermeros de la planta en el turno de manana que minimice el n ´umero total de\n",
    "enfermeros necesarios. (1 punto)\n",
    "\n",
    "--------"
   ]
  },
  {
   "cell_type": "code",
   "execution_count": 1,
   "metadata": {},
   "outputs": [
    {
     "name": "stdout",
     "output_type": "stream",
     "text": [
      "L 6.0\n",
      "M 3.0\n",
      "X 0.0\n",
      "J 4.0\n",
      "V 1.0\n",
      "S 0.0\n",
      "D 0.0\n",
      "14.0\n"
     ]
    }
   ],
   "source": [
    "from pyomo.opt import*\n",
    "from pyomo.environ import*\n",
    "\n",
    "x=ConcreteModel()\n",
    "\n",
    "x.L=Var(within=NonNegativeIntegers)\n",
    "x.M=Var(within=NonNegativeIntegers)\n",
    "x.X=Var(within=NonNegativeIntegers)\n",
    "x.J=Var(within=NonNegativeIntegers)\n",
    "x.V=Var(within=NonNegativeIntegers)\n",
    "x.S=Var(within=NonNegativeIntegers)\n",
    "x.D=Var(within=NonNegativeIntegers)\n",
    "models=[x.L,x.M,x.X,x.J,x.V,x.S,x.D]\n",
    "\n",
    "x.obj=Objective(expr=x.L+x.M+x.X+x.J+x.V+x.S+x.D)\n",
    "\n",
    "x.con_1=Constraint(expr=x.L+x.M+x.X+x.J+x.V>=13)\n",
    "x.con_2=Constraint(expr=x.M+x.X+x.J+x.V+x.S>=8)\n",
    "x.con_3=Constraint(expr=x.X+x.J+x.V+x.S+x.D>=5)\n",
    "x.con_4=Constraint(expr=x.J+x.V+x.S+x.D+x.L>=11)\n",
    "x.con_5=Constraint(expr=x.V+x.S+x.D+x.L+x.M>=9)\n",
    "x.con_6=Constraint(expr=x.S+x.D+x.L+x.M+x.X>=7)\n",
    "x.con_7=Constraint(expr=x.D+x.L+x.M+x.X+x.J>=12)\n",
    "\n",
    "SolverFactory('glpk').solve(x)\n",
    "\n",
    "for i in range(len(models)):\n",
    "    print(models[i],value(models[i]))\n",
    "print(value(x.obj))"
   ]
  },
  {
   "cell_type": "markdown",
   "metadata": {},
   "source": [
    "----------"
   ]
  }
 ],
 "metadata": {
  "kernelspec": {
   "display_name": "Python [conda env:optimizationpy36] *",
   "language": "python",
   "name": "conda-env-optimizationpy36-py"
  },
  "language_info": {
   "codemirror_mode": {
    "name": "ipython",
    "version": 3
   },
   "file_extension": ".py",
   "mimetype": "text/x-python",
   "name": "python",
   "nbconvert_exporter": "python",
   "pygments_lexer": "ipython3",
   "version": "3.6.9"
  }
 },
 "nbformat": 4,
 "nbformat_minor": 2
}
