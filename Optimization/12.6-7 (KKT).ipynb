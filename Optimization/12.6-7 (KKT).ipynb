{
 "cells": [
  {
   "cell_type": "markdown",
   "metadata": {},
   "source": [
    "---\n",
    "textbook<br>\n",
    "page: 598\n",
    "    \n",
    "---"
   ]
  },
  {
   "cell_type": "code",
   "execution_count": 8,
   "metadata": {},
   "outputs": [
    {
     "name": "stdout",
     "output_type": "stream",
     "text": [
      "x 2.0000000099903015\n",
      "y 0.0\n",
      "2.0000000099903015\n"
     ]
    }
   ],
   "source": [
    "from pyomo.opt import*\n",
    "from pyomo.environ import*\n",
    "\n",
    "model=ConcreteModel()\n",
    "\n",
    "model.x=Var(within=NonNegativeReals)\n",
    "model.y=Var(within=NonNegativeReals)\n",
    "models= [model.x,model.y]\n",
    "\n",
    "model.obj=Objective(expr=model.x/(model.y+1),sense=-1)\n",
    "\n",
    "model.con=Constraint(expr=model.x-model.y<=2)\n",
    "\n",
    "SolverFactory('ipopt').solve(model)\n",
    "\n",
    "for i in range(len(models)):\n",
    "    print(models[i],value(models[i]))    \n",
    "print(value(model.obj))"
   ]
  }
 ],
 "metadata": {
  "kernelspec": {
   "display_name": "Python [conda env:optimizationpy36] *",
   "language": "python",
   "name": "conda-env-optimizationpy36-py"
  },
  "language_info": {
   "codemirror_mode": {
    "name": "ipython",
    "version": 3
   },
   "file_extension": ".py",
   "mimetype": "text/x-python",
   "name": "python",
   "nbconvert_exporter": "python",
   "pygments_lexer": "ipython3",
   "version": "3.6.9"
  }
 },
 "nbformat": 4,
 "nbformat_minor": 2
}
