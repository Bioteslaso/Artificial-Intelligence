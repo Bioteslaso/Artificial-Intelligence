{
 "cells": [
  {
   "cell_type": "markdown",
   "metadata": {},
   "source": [
    "## Optimizing Flow "
   ]
  },
  {
   "cell_type": "markdown",
   "metadata": {},
   "source": [
    "---\n",
    "textbook - page 373\n",
    "\n",
    "---"
   ]
  },
  {
   "cell_type": "markdown",
   "metadata": {},
   "source": [
    "``model.ij`` = path from i to j."
   ]
  },
  {
   "cell_type": "code",
   "execution_count": 1,
   "metadata": {},
   "outputs": [
    {
     "name": "stdout",
     "output_type": "stream",
     "text": [
      "oa 4.0\n",
      "ob 6.0\n",
      "oc 4.0\n",
      "ad 3.0\n",
      "ab 1.0\n",
      "ce 4.0\n",
      "bd 4.0\n",
      "be 3.0\n",
      "bc 0.0\n",
      "ed 1.0\n",
      "et 6.0\n",
      "dt 8.0\n",
      "14.0\n"
     ]
    }
   ],
   "source": [
    "from pyomo.opt import *\n",
    "from pyomo.environ import *\n",
    "\n",
    "m=ConcreteModel()\n",
    "\n",
    "m.oa=Var(initialize=0,within=NonNegativeIntegers)\n",
    "m.ob=Var(initialize=0,within=NonNegativeIntegers)\n",
    "m.oc=Var(initialize=0,within=NonNegativeIntegers)\n",
    "m.ad=Var(initialize=0,within=NonNegativeIntegers)\n",
    "m.ab=Var(initialize=0,within=NonNegativeIntegers)\n",
    "m.ce=Var(initialize=0,within=NonNegativeIntegers)\n",
    "m.bd=Var(initialize=0,within=NonNegativeIntegers)\n",
    "m.be=Var(initialize=0,within=NonNegativeIntegers)\n",
    "m.bc=Var(initialize=0,within=NonNegativeIntegers)\n",
    "m.ed=Var(initialize=0,within=NonNegativeIntegers)\n",
    "m.et=Var(initialize=0,within=NonNegativeIntegers)\n",
    "m.dt=Var(initialize=0,within=NonNegativeIntegers)\n",
    "m.to=Var(initialize=0,within=NonNegativeIntegers)\n",
    "ms=[m.oa,m.ob,m.oc,m.ad,m.ab,m.ce,\n",
    "        m.bd,m.be,m.bc,m.ed,m.et,m.dt]\n",
    "\n",
    "m.obj=Objective(expr=m.to, sense=maximize)\n",
    "\n",
    "m.con_o=Constraint(expr=m.oa+m.ob+m.oc==m.to)\n",
    "m.con_a=Constraint(expr=m.ad+m.ab==m.oa)\n",
    "m.con_b=Constraint(expr=m.bd+m.be+m.bc==m.ab+m.ob)\n",
    "m.con_c=Constraint(expr=m.ce==m.oc+m.bc)\n",
    "m.con_d=Constraint(expr=m.dt==m.ad+m.bd+m.ed)\n",
    "m.con_e=Constraint(expr=m.ed+m.et==m.be+m.ce)\n",
    "m.con_t=Constraint(expr=m.to==m.dt+m.et)\n",
    "\n",
    "m.con_oa=Constraint(expr=m.oa<=5)\n",
    "m.con_ob=Constraint(expr=m.ob<=7)\n",
    "m.con_oc=Constraint(expr=m.oc<=4)\n",
    "m.con_ab=Constraint(expr=m.ab<=1)\n",
    "m.con_ad=Constraint(expr=m.ad<=3)\n",
    "m.con_ce=Constraint(expr=m.ce<=4)\n",
    "m.con_bd=Constraint(expr=m.bd<=4)\n",
    "m.con_be=Constraint(expr=m.be<=5)\n",
    "m.con_bc=Constraint(expr=m.bc<=2)\n",
    "m.con_ed=Constraint(expr=m.ed<=1)\n",
    "m.con_et=Constraint(expr=m.et<=6)\n",
    "m.con_dt=Constraint(expr=m.dt<=9)\n",
    "\n",
    "\n",
    "solver=SolverFactory('glpk')\n",
    "solver.solve(m)\n",
    "\n",
    "for i in range(len(ms)):\n",
    "    print(ms[i],value(ms[i]))\n",
    "print(value(m.obj))"
   ]
  },
  {
   "cell_type": "markdown",
   "metadata": {},
   "source": [
    "---\n",
    "you could also try prior examples and mininimize this expression, which is obviously much larger...:"
   ]
  },
  {
   "cell_type": "code",
   "execution_count": null,
   "metadata": {},
   "outputs": [],
   "source": [
    "expr=5*model.oa+7*model.ob+4*model.oc\n",
    "                    +3*model.ad+1*model.ab+4*model.ce\n",
    "                    +4*model.bd+5*model.be+2*model.bc\n",
    "                    +1*model.ed+6*model.et+9*model.dt"
   ]
  }
 ],
 "metadata": {
  "kernelspec": {
   "display_name": "Python [conda env:optimizationpy36] *",
   "language": "python",
   "name": "conda-env-optimizationpy36-py"
  },
  "language_info": {
   "codemirror_mode": {
    "name": "ipython",
    "version": 3
   },
   "file_extension": ".py",
   "mimetype": "text/x-python",
   "name": "python",
   "nbconvert_exporter": "python",
   "pygments_lexer": "ipython3",
   "version": "3.6.9"
  }
 },
 "nbformat": 4,
 "nbformat_minor": 2
}
