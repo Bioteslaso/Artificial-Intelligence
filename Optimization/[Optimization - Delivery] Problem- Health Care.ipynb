{
 "cells": [
  {
   "cell_type": "markdown",
   "metadata": {},
   "source": [
    "<div class=\"alert alert-block alert-success\">\n",
    "    <b>Universidad Rey Juan Carlos de Madrid.</b>  Biomedical Engineering\n",
    "</div>"
   ]
  },
  {
   "cell_type": "markdown",
   "metadata": {},
   "source": [
    "# Optimization\n",
    "### Linear Integer Programming for the Home Helath Care Problem"
   ]
  },
  {
   "cell_type": "markdown",
   "metadata": {},
   "source": [
    "<div class=\"alert alert-block alert-info\"> Pablo Laso Mielgo </div> "
   ]
  },
  {
   "cell_type": "markdown",
   "metadata": {},
   "source": [
    "In this Pyhton code I try to recreate a simplified version of the work performed by some other students in this\n",
    "[article](https://link.springer.com/chapter/10.1007/978-3-642-28115-0_14). We'll count with:\n",
    "* 2 nurses\n",
    "* 3 patients"
   ]
  },
  {
   "cell_type": "markdown",
   "metadata": {},
   "source": [
    " ______________"
   ]
  },
  {
   "cell_type": "markdown",
   "metadata": {},
   "source": [
    "<font color='red'>**Problem Statement:**</font>"
   ]
  },
  {
   "cell_type": "markdown",
   "metadata": {},
   "source": [
    "This code tries to tackle several problems in one by establishing the most convienient care plan by the nurses takimg into consideration the availability of the patients. For this:\n",
    "* First, we try to minimize the maximum and minimum workload of the nurses. This means that our **objective function** will be:\n",
    "$$ minimize: Z_{max} - Z_{min} \\quad{.....(0)}$$ <br>\n",
    "    * Also, we want to specify some constraints (bounds) for the maximal and minimal **loads** of the nurses:\n",
    "$$ Z_{max} \\geq Load_i \\quad \\forall i \\quad{.....(1)}$$ \n",
    "$$ Z_{min} \\leq Load_i \\quad \\forall i \\quad{.....(2)}$$ <br>\n",
    "        * where the loads of the nurses can be defined as the **time when they start/stop working**:\n",
    "        $$ Load_i = End_i - Start_i \\quad \\forall i \\quad{.....(3)}$$ <br>\n",
    "            * We must also define the time when nurse_i starts:\n",
    "            Note they are to go from the hospital 0 to the patient j (and maybe another patient u after that), denoted by y_0j, and it will take them a time of dist_i0j.\n",
    "            $$ Start_i = min(Arrive_{ij} + (1-y_{i0j})H) - \\sum_{u} dist_{0j} y_{i0u}\\quad \\forall i \\quad{.....(4)}$$ <br>"
   ]
  },
  {
   "cell_type": "code",
   "execution_count": 12,
   "metadata": {},
   "outputs": [
    {
     "name": "stdout",
     "output_type": "stream",
     "text": [
      "\n",
      "Problem: \n",
      "- Name: unknown\n",
      "  Lower bound: 0.0\n",
      "  Upper bound: 0.0\n",
      "  Number of objectives: 1\n",
      "  Number of constraints: 5\n",
      "  Number of variables: 9\n",
      "  Number of nonzeros: 13\n",
      "  Sense: minimize\n",
      "Solver: \n",
      "- Status: ok\n",
      "  Termination condition: optimal\n",
      "  Statistics: \n",
      "    Branch and bound: \n",
      "      Number of bounded subproblems: 0\n",
      "      Number of created subproblems: 0\n",
      "  Error rc: 0\n",
      "  Time: 0.07961368560791016\n",
      "Solution: \n",
      "- number of solutions: 0\n",
      "  number of solutions displayed: 0\n",
      "\n",
      "\n",
      "the Maximum is: 0.0\n"
     ]
    }
   ],
   "source": [
    "from pyomo.environ import *\n",
    "from pyomo.opt import *\n",
    "\n",
    "model = ConcreteModel()\n",
    "\n",
    "model.z_min = Var(initialize=1.0, within=NonNegativeReals) # (commented in: 0)\n",
    "model.z_max = Var(initialize=1.0, within=NonNegativeReals) # (commented in: 0)\n",
    "model.load1 = Var(initialize=1.0, within=NonNegativeReals) # (commented in: 1, 2)\n",
    "model.load2 = Var(initialize=1.0, within=NonNegativeReals) # (commented in: 1, 2)\n",
    "model.End1 = Var(within=NonNegativeReals) # (commented in: 3)\n",
    "model.Start1 = Var(within=NonNegativeReals) # (commented in: 3)\n",
    "model.End2 = Var(within=NonNegativeReals) # (commented in: 3)\n",
    "model.Start2 = Var(within=NonNegativeReals) # (commented in: 3)\n",
    "model.arrive_11 = Var(within=NonNegativeReals) # (commented in: 4)\n",
    "model.arrive_12 = Var(within=NonNegativeReals) # (commented in: 4)\n",
    "model.arrive_13 = Var(within=NonNegativeReals) # (commented in: 4)\n",
    "model.arrive_21 = Var(within=NonNegativeReals) # (commented in: 4)\n",
    "model.arrive_22 = Var(within=NonNegativeReals) # (commented in: 4)\n",
    "model.arrive_23 = Var(within=NonNegativeReals) # (commented in: 4)\n",
    "model.y101 = Var(within=Binary) # (commented in: 5)\n",
    "model.y102 = Var(within=Binary) # (commented in: 5)\n",
    "model.y103 = Var(within=Binary) # (commented in: 5)\n",
    "model.y112 = Var(within=Binary) # (commented in: 5)\n",
    "model.y113 = Var(within=Binary) # (commented in: 5)\n",
    "model.y121 = Var(within=Binary) # (commented in: 5)\n",
    "model.y123 = Var(within=Binary) # (commented in: 5)\n",
    "model.y131 = Var(within=Binary) # (commented in: 5)\n",
    "model.y132 = Var(within=Binary) # (commented in: 5)\n",
    "model.y201 = Var(within=Binary) # (commented in: 5)\n",
    "model.y202 = Var(within=Binary) # (commented in: 5)\n",
    "model.y203 = Var(within=Binary) # (commented in: 5)\n",
    "model.y212 = Var(within=Binary) # (commented in: 5)\n",
    "model.y213 = Var(within=Binary) # (commented in: 5)\n",
    "model.y221 = Var(within=Binary) # (commented in: 5)\n",
    "model.y223 = Var(within=Binary) # (commented in: 5)\n",
    "model.y231 = Var(within=Binary) # (commented in: 5)\n",
    "model.y232 = Var(within=Binary) # (commented in: 5)\n",
    "\n",
    "\n",
    "model.obj = Objective(expr= model.z_max - model.z_min, sense=minimize) # (1)\n",
    "\n",
    "model.con1 = Constraint(expr= model.z_max >= model.load1 + model.load2) # (commented in: 1)\n",
    "model.con2 = Constraint(expr= model.z_min <= model.load1 + model.load2) # (commented in: 2)\n",
    "model.con3 = Constraint(expr= model.load1 == model.End1 - model.Start1) # (commented in: 3)\n",
    "model.con4 = Constraint(expr= model.load2 == model.End2 - model.Start2) # (commented in: 3)\n",
    "#model.con5 = Constraint(expr= model.arrive_11) # (commented in: 4)\n",
    "\n",
    "\n",
    "\n",
    "Solver = SolverFactory('glpk')\n",
    "results = Solver.solve(model)\n",
    "print(results)\n",
    "\n",
    "\n",
    "print('\\nthe Maximum is:', value(model.obj))"
   ]
  },
  {
   "cell_type": "markdown",
   "metadata": {},
   "source": [
    "<font color='red'>**Conclussion**</font> <br> "
   ]
  },
  {
   "cell_type": "markdown",
   "metadata": {},
   "source": [
    "<div class=\"alert alert-block alert-warning\">\n",
    "    Contact me:</b> <br> \n",
    "    <b>$$\\rightarrow Pablo Laso Mielgo :)$$<br> $$\\rightarrow p.laso.2017@alumnos.urjc.es $$\n",
    "</div>"
   ]
  },
  {
   "cell_type": "markdown",
   "metadata": {},
   "source": [
    "<div class=\"alert alert-block alert-danger\">\n",
    "<b>Just don't:</b> In general, avoid the red boxes. These should only be\n",
    "used for actions that might cause data loss or another major issue.\n",
    "</div>"
   ]
  },
  {
   "cell_type": "markdown",
   "metadata": {},
   "source": [
    "<img src=\"https://www.clipartwiki.com/clipimg/detail/205-2052859_clipart-of-courses-basic-education-and-class-registration.png\" alt=\"Alt text that describes the graphic\" title=\"Title text\" />"
   ]
  }
 ],
 "metadata": {
  "kernelspec": {
   "display_name": "Python [conda env:optimizationpy36] *",
   "language": "python",
   "name": "conda-env-optimizationpy36-py"
  },
  "language_info": {
   "codemirror_mode": {
    "name": "ipython",
    "version": 3
   },
   "file_extension": ".py",
   "mimetype": "text/x-python",
   "name": "python",
   "nbconvert_exporter": "python",
   "pygments_lexer": "ipython3",
   "version": "3.6.9"
  }
 },
 "nbformat": 4,
 "nbformat_minor": 2
}
