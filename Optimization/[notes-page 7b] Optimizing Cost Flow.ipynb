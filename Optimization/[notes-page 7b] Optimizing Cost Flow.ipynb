{
 "cells": [
  {
   "cell_type": "markdown",
   "metadata": {},
   "source": [
    "## Optimizing Cost Flow "
   ]
  },
  {
   "cell_type": "markdown",
   "metadata": {},
   "source": [
    "---\n",
    "textbook - page 385\n",
    "\n",
    "---"
   ]
  },
  {
   "cell_type": "markdown",
   "metadata": {},
   "source": [
    "``model.ij`` = path from i to j."
   ]
  },
  {
   "cell_type": "code",
   "execution_count": 11,
   "metadata": {},
   "outputs": [
    {
     "name": "stdout",
     "output_type": "stream",
     "text": [
      "ad 10.0\n",
      "ac 40.0\n",
      "ab 0.0\n",
      "bc 40.0\n",
      "ce 80.0\n",
      "de 0.0\n",
      "ed 20.0\n",
      "490.0\n"
     ]
    }
   ],
   "source": [
    "from pyomo.opt import*\n",
    "from pyomo.environ import*\n",
    "\n",
    "x=ConcreteModel()\n",
    "\n",
    "x.ad=Var(within=NonNegativeIntegers)\n",
    "x.ac=Var(within=NonNegativeIntegers)\n",
    "x.ab=Var(within=NonNegativeIntegers)\n",
    "x.bc=Var(within=NonNegativeIntegers)\n",
    "x.ce=Var(within=NonNegativeIntegers)\n",
    "x.de=Var(within=NonNegativeIntegers)\n",
    "x.ed=Var(within=NonNegativeIntegers)\n",
    "models=[x.ad,x.ac,x.ab,x.bc,x.ce,x.de,x.ed]\n",
    "\n",
    "x.obj=Objective(expr=9*x.ad+4*x.ac+2*x.ab\n",
    "                +3*x.bc+1*x.ce+3*x.de+2*x.ed\n",
    "                ,sense=minimize)\n",
    "\n",
    "\n",
    "x.con_a=Constraint(expr=50==x.ad+x.ac+x.ab)\n",
    "x.con_b=Constraint(expr=x.ab+40==x.bc)\n",
    "x.con_c=Constraint(expr=x.ac+x.bc==x.ce)\n",
    "x.con_d=Constraint(expr=x.ad+x.ed==x.de+30)\n",
    "x.con_e=Constraint(expr=x.ce+x.de==x.ed+60)\n",
    "\n",
    "x.con_ab=Constraint(expr=x.ab<=10)\n",
    "x.con_ce=Constraint(expr=x.ce<=80)\n",
    "\n",
    "solver=SolverFactory('glpk')\n",
    "solver.solve(x)\n",
    "\n",
    "for i in range(len(models)):\n",
    "    print(models[i],value(models[i]))\n",
    "print(value(x.obj))"
   ]
  }
 ],
 "metadata": {
  "kernelspec": {
   "display_name": "Python [conda env:optimizationpy36] *",
   "language": "python",
   "name": "conda-env-optimizationpy36-py"
  },
  "language_info": {
   "codemirror_mode": {
    "name": "ipython",
    "version": 3
   },
   "file_extension": ".py",
   "mimetype": "text/x-python",
   "name": "python",
   "nbconvert_exporter": "python",
   "pygments_lexer": "ipython3",
   "version": "3.6.9"
  }
 },
 "nbformat": 4,
 "nbformat_minor": 2
}
