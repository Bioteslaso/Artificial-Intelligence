{
 "cells": [
  {
   "cell_type": "markdown",
   "metadata": {},
   "source": [
    "## Optimizing Fix Cost"
   ]
  },
  {
   "cell_type": "markdown",
   "metadata": {},
   "source": [
    "---------\n",
    "Notes: page 6-b\n",
    "\n",
    "--------"
   ]
  },
  {
   "cell_type": "markdown",
   "metadata": {},
   "source": [
    "``model.ci`` = chossing company i. <br>\n",
    "``model.tj`` = min in company j. "
   ]
  },
  {
   "cell_type": "code",
   "execution_count": 32,
   "metadata": {},
   "outputs": [
    {
     "name": "stdout",
     "output_type": "stream",
     "text": [
      "c1 0.0\n",
      "c2 0.0\n",
      "c3 1.0\n",
      "t1 0.0\n",
      "t2 0.0\n",
      "t3 300.0\n",
      "87.0\n"
     ]
    }
   ],
   "source": [
    "from pyomo.opt import * \n",
    "from pyomo.environ import *\n",
    "\n",
    "model=ConcreteModel()\n",
    "\n",
    "# defining: companies // minutes (taxes): \n",
    "model.c1=Var(within=NonNegativeIntegers)\n",
    "model.c2=Var(within=NonNegativeIntegers)\n",
    "model.c3=Var(within=NonNegativeIntegers)\n",
    "             \n",
    "model.t1=Var(within=NonNegativeIntegers)\n",
    "model.t2=Var(within=NonNegativeIntegers)\n",
    "model.t3=Var(within=NonNegativeIntegers)\n",
    "\n",
    "models=[model.c1,model.c2,model.c3,model.t1,model.t2,model.t3]\n",
    "             \n",
    "model.obj=Objective(expr=16*model.c1+25*model.c2+18*model.c3\n",
    "                    + 0.25*model.t1+0.21*model.t2+0.23*model.t3, # try changing company two: 0.21 --> 0.20\n",
    "                    sense=minimize)\n",
    "\n",
    "model.con_min=Constraint(expr=model.t1+model.t2+model.t3 == 300)\n",
    "\n",
    "model.con_c1=Constraint(expr=model.t1 <= 300*model.c1)\n",
    "model.con_c2=Constraint(expr=model.t2 <= 300*model.c2)\n",
    "model.con_c3=Constraint(expr=model.t3 <= 300*model.c3)\n",
    "\n",
    "solver=SolverFactory('glpk')\n",
    "results=solver.solve(model)\n",
    "for i in range(len(models)):\n",
    "    print(models[i], value(models[i]))\n",
    "print(value(model.obj))"
   ]
  }
 ],
 "metadata": {
  "kernelspec": {
   "display_name": "Python 3",
   "language": "python",
   "name": "python3"
  },
  "language_info": {
   "codemirror_mode": {
    "name": "ipython",
    "version": 3
   },
   "file_extension": ".py",
   "mimetype": "text/x-python",
   "name": "python",
   "nbconvert_exporter": "python",
   "pygments_lexer": "ipython3",
   "version": "3.6.9"
  }
 },
 "nbformat": 4,
 "nbformat_minor": 2
}
