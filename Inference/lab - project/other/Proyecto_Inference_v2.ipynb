{
  "nbformat": 4,
  "nbformat_minor": 0,
  "metadata": {
    "kernelspec": {
      "display_name": "Python 3",
      "language": "python",
      "name": "python3"
    },
    "language_info": {
      "codemirror_mode": {
        "name": "ipython",
        "version": 3
      },
      "file_extension": ".py",
      "mimetype": "text/x-python",
      "name": "python",
      "nbconvert_exporter": "python",
      "pygments_lexer": "ipython3",
      "version": "3.6.9"
    },
    "colab": {
      "name": "Proyecto_Inference.ipynb",
      "provenance": [],
      "collapsed_sections": [
        "RebJhNB-qm4c",
        "d45e_d7eqm4g",
        "gbRu1tEJqm4i",
        "nH7MRVZXqm4j",
        "FB2ovOX6qm4k",
        "KFcnt4wRqm4p",
        "ssFxaX9aqm4x",
        "3iYjl5Rjqm4z",
        "SeeI4i1Yqm40",
        "G99L2xkQqm40",
        "ko8oD_8Dqm41",
        "qcNVrrAtqm42",
        "eHjrhvezqm48",
        "oTIcKiG5qm4-",
        "9ph-v-3kqm5C",
        "GnmVSr1Mqm5D",
        "2hL70g7aqm5D",
        "us7nSlpdqm5f",
        "eAnHMH2xqm52",
        "iGU4K0MZqm6O",
        "V4ugfxAaqm6T",
        "zNBQVKUwqm6X",
        "6-eDOU9Dqm6b"
      ]
    }
  },
  "cells": [
    {
      "cell_type": "markdown",
      "metadata": {
        "id": "V-4rt_Duqm3_"
      },
      "source": [
        "Authors: Helena Sofía Yaben Lopezosa and Pablo Laso-Mielgo.\n",
        "\n",
        "p.laso.2017@alumnos.urjc.es"
      ]
    },
    {
      "cell_type": "code",
      "metadata": {
        "id": "2-fSvJxeqm4B"
      },
      "source": [
        "import pandas as pd\n",
        "import numpy as np\n",
        "import matplotlib.pyplot as plt\n",
        "import seaborn as sns\n",
        "import random"
      ],
      "execution_count": 75,
      "outputs": []
    },
    {
      "cell_type": "code",
      "metadata": {
        "id": "GNWsoQluqm4C"
      },
      "source": [
        "from sklearn.model_selection import train_test_split, GridSearchCV\n",
        "from sklearn.base import clone\n",
        "from sklearn.preprocessing import StandardScaler\n",
        "\n",
        "from sklearn.linear_model import LogisticRegression\n",
        "from sklearn.neighbors import KNeighborsClassifier \n",
        "from sklearn.tree import DecisionTreeClassifier\n",
        "from sklearn.neural_network import MLPClassifier\n",
        "from sklearn.ensemble import RandomForestClassifier\n",
        "\n",
        "from sklearn.metrics import accuracy_score, recall_score, precision_score, f1_score\n",
        "from sklearn.model_selection import cross_val_score\n",
        "from sklearn.model_selection import cross_validate\n",
        "\n",
        "from sklearn.model_selection import validation_curve"
      ],
      "execution_count": 76,
      "outputs": []
    },
    {
      "cell_type": "code",
      "metadata": {
        "id": "ABoHSj9Wqm4E"
      },
      "source": [
        "#Yellowbrick\n",
        "#from yellowbrick.model_selection import FeatureImportances\n",
        "#from yellowbrick.style import set_palette"
      ],
      "execution_count": 77,
      "outputs": []
    },
    {
      "cell_type": "code",
      "metadata": {
        "id": "xREwdPjV9utE",
        "colab": {
          "base_uri": "https://localhost:8080/"
        },
        "outputId": "f7a96f03-cf11-49d4-ae32-691c891213ba"
      },
      "source": [
        "!pip install lime"
      ],
      "execution_count": 78,
      "outputs": [
        {
          "output_type": "stream",
          "text": [
            "Requirement already satisfied: lime in /usr/local/lib/python3.7/dist-packages (0.2.0.1)\n",
            "Requirement already satisfied: scipy in /usr/local/lib/python3.7/dist-packages (from lime) (1.4.1)\n",
            "Requirement already satisfied: scikit-learn>=0.18 in /usr/local/lib/python3.7/dist-packages (from lime) (0.22.2.post1)\n",
            "Requirement already satisfied: scikit-image>=0.12 in /usr/local/lib/python3.7/dist-packages (from lime) (0.16.2)\n",
            "Requirement already satisfied: matplotlib in /usr/local/lib/python3.7/dist-packages (from lime) (3.2.2)\n",
            "Requirement already satisfied: tqdm in /usr/local/lib/python3.7/dist-packages (from lime) (4.41.1)\n",
            "Requirement already satisfied: numpy in /usr/local/lib/python3.7/dist-packages (from lime) (1.19.5)\n",
            "Requirement already satisfied: joblib>=0.11 in /usr/local/lib/python3.7/dist-packages (from scikit-learn>=0.18->lime) (1.0.1)\n",
            "Requirement already satisfied: imageio>=2.3.0 in /usr/local/lib/python3.7/dist-packages (from scikit-image>=0.12->lime) (2.4.1)\n",
            "Requirement already satisfied: pillow>=4.3.0 in /usr/local/lib/python3.7/dist-packages (from scikit-image>=0.12->lime) (7.1.2)\n",
            "Requirement already satisfied: networkx>=2.0 in /usr/local/lib/python3.7/dist-packages (from scikit-image>=0.12->lime) (2.5.1)\n",
            "Requirement already satisfied: PyWavelets>=0.4.0 in /usr/local/lib/python3.7/dist-packages (from scikit-image>=0.12->lime) (1.1.1)\n",
            "Requirement already satisfied: kiwisolver>=1.0.1 in /usr/local/lib/python3.7/dist-packages (from matplotlib->lime) (1.3.1)\n",
            "Requirement already satisfied: cycler>=0.10 in /usr/local/lib/python3.7/dist-packages (from matplotlib->lime) (0.10.0)\n",
            "Requirement already satisfied: pyparsing!=2.0.4,!=2.1.2,!=2.1.6,>=2.0.1 in /usr/local/lib/python3.7/dist-packages (from matplotlib->lime) (2.4.7)\n",
            "Requirement already satisfied: python-dateutil>=2.1 in /usr/local/lib/python3.7/dist-packages (from matplotlib->lime) (2.8.1)\n",
            "Requirement already satisfied: decorator<5,>=4.3 in /usr/local/lib/python3.7/dist-packages (from networkx>=2.0->scikit-image>=0.12->lime) (4.4.2)\n",
            "Requirement already satisfied: six in /usr/local/lib/python3.7/dist-packages (from cycler>=0.10->matplotlib->lime) (1.15.0)\n"
          ],
          "name": "stdout"
        }
      ]
    },
    {
      "cell_type": "code",
      "metadata": {
        "id": "Not-t4HAqm4H"
      },
      "source": [
        "#LIME\n",
        "import lime\n",
        "from lime import lime_tabular"
      ],
      "execution_count": 79,
      "outputs": []
    },
    {
      "cell_type": "code",
      "metadata": {
        "id": "tiaBPXwhqm4K"
      },
      "source": [
        "#Feature Selection\n",
        "#f_regression\n",
        "from sklearn.feature_selection import SelectKBest, f_regression, mutual_info_regression"
      ],
      "execution_count": 80,
      "outputs": []
    },
    {
      "cell_type": "code",
      "metadata": {
        "id": "A6Q8MlyDqm4K"
      },
      "source": [
        "import warnings\n",
        "warnings.filterwarnings(\"ignore\")"
      ],
      "execution_count": 81,
      "outputs": []
    },
    {
      "cell_type": "markdown",
      "metadata": {
        "id": "s76Q5LQ3qm4L"
      },
      "source": [
        "## <font color =\"black\">Breast Cancer Wisconsin (Diagnostic) Data Set</font>\n",
        "\n",
        "Index:\n",
        "1. [**Presentation of the problem**](#presentation)<br>\n",
        "    1.1 [**Source of the dataset**](#source)<br>\n",
        "    1.2 [**Dataset Information**](#information)<br>\n",
        "    1.3 [**Motivation**](#motivation)<br>\n",
        "2. [**Descriptive Analysis of the Database**](#EDA)<br>\n",
        "3. [**Pre-processing of the database**](#Pre)<br>\n",
        "4. [**Supervised or Unsupervised Learning**](#Modelling)<br>\n",
        "5. [**Feature Selection and Extraction**](#Feature)<br>\n",
        "6. [**Final Model Selection**](#final)<br>\n",
        "6. [**Conclusion**](#Conclusionf)<br>\n",
        "    \n",
        "<a id='presentation'></a>\n",
        "## <span style=\"color:darkslateblue\">1. Presentation of the problem </span>\n",
        "We are glad to introduce you our **final project** about the [**Breast Cancer Wisconsin (Diagnostic) Data Set**](https://archive.ics.uci.edu/ml/datasets/Breast+Cancer+Wisconsin+%28Diagnostic%29). In this notebook we will cover the topics seen during the course, trying to get a deeper insight into the field of Artificial Intelligence.  \n",
        "<a id='source'></a>\n",
        "### <span style=\"color:slateblue\">1.1 Source of the dataset </span>\n",
        "[UCI Machine Learning Repository](https://archive.ics.uci.edu/ml/index.php)\n",
        "\n",
        "\n",
        "Creators: \n",
        "\n",
        "1. Dr. William H. Wolberg, General Surgery Dept. \n",
        "University of Wisconsin, Clinical Sciences Center \n",
        "Madison, WI 53792 \n",
        "wolberg '@' eagle.surgery.wisc.edu \n",
        "\n",
        "2. W. Nick Street, Computer Sciences Dept. \n",
        "University of Wisconsin, 1210 West Dayton St., Madison, WI 53706 \n",
        "street '@' cs.wisc.edu 608-262-6619 \n",
        "\n",
        "3. Olvi L. Mangasarian, Computer Sciences Dept. \n",
        "University of Wisconsin, 1210 West Dayton St., Madison, WI 53706 \n",
        "olvi '@' cs.wisc.edu \n",
        "\n",
        "Donor: \n",
        "\n",
        "Nick Street\n",
        "\n",
        "<a id='information'></a>\n",
        "### <span style=\"color:slateblue\">1.2 Dataset Information </span>\n",
        "\n",
        "In this dataset, features are computed from a digitized image of a **Fine Needle Aspirate (FNA)** of **a breast mass**. These features describe characteristics of the **cell nuclei** present in the image. Data is obtained from both malignant and benignant masses, and instances are respectively labeled.\n",
        "\n",
        "Each instance has **32 attributes**. First:\n",
        "\n",
        "- **ID Number**\n",
        "- **Diagnosis (target variable/label)**\n",
        "\n",
        "The, ten real-valued features are computed **for each cell nucleus**:\n",
        "1. **Radius** (mean of distances from center to points on the perimeter)\n",
        "2. **Texture** (standard deviation of gray-scale values)\n",
        "3. **Perimeter**\n",
        "4. **Area**\n",
        "5. **Smoothness** (local variation in radius lengths)\n",
        "6. **Compactness** (perimeter $^{2}$/ area - 1.0)\n",
        "7. **Concavity** (severity of concave portions of the contour)\n",
        "8. **Concave points** (number of concave portions of the contour)\n",
        "9. **Symmetry**\n",
        "10. **Fractal dimension** (“coastline approximation” - 1)\n",
        "\n",
        "The **mean**, **standard error** and **worst or largest (mean of the three largest values)** of these features were computed for each of the **569 samples**, resulting in **30 features**. \n",
        "\n",
        "The **objective of the analysis** of this dataset is to **determine whether or not a tissue correspond to a malignant or benignant breast mass** depending on its nuclei characteristics.\n",
        "<br>\n",
        "\n",
        "<img src=https://www.mayoclinic.org/-/media/kcms/gbs/patient-consumer/images/2013/11/15/17/36/ds00982_-ds01069_-ds01071_-wo00031_im00808_mcdc7_fine_needle_aspirationthu_jpg.jpg width=\"300\">\n",
        "\n",
        "<img src=https://static.packt-cdn.com/products/9781783980284/graphics/3a298fcc-54fb-42c2-a212-52823e709e30.png width =700>\n",
        "\n",
        "<br>\n",
        "\n",
        "<a id='motivation'></a>\n",
        "### <span style=\"color:slateblue\"> 1.3 Motivation</span>\n",
        "Breast cancer is a group of diseases in which cells in breast tissue change and divide uncontrolled, typically resulting in a lump or mass. It can be developed in both men and women, although the former type is rare. It is the **most common type of cancer among women across the world**. Moreover, it has been estimated that this type of cancer accounts for 1 in 4 cancer cases for females, being the leading cause of death from cancer in women.\n",
        "\n",
        "**Biopsy of breast tissue is one of the tests implied in the diagnosis of breast cancer and constitutes the most effective way to distinguish betweeen malignant and benignant tissue**. In concrete, the hystopathological analysis of the nuclei can be deterministic in the diagnosis since, typically, the nucleus of a cancer cell shows characteristic features related to size, shape and texture. Usually, nuclei become enlarged and darker, and with irregular outline. \n",
        "\n",
        "The **complex nature of breast cancer** require careful stratification of patients in order to provide a **tailored and efficient therapy**, a process where histopathologic analysis plays an important role. The **interpretation of pathology slides** often require sophisticated, bulky and expensive technologies, as well as highly trained professionals. The **digitalization of pathology slides** and the [**increasing use of AI-based algorithms on hystopathological data**](https://www.researchgate.net/publication/338061470_Artificial_Intelligence_in_Digital_Breast_Pathology_Techniques_and_Applications)  have allowed to improve accuracy of current diagnosis techniques, as well as to reduce costs, interpretation time and help trained pathologists to improve their analysis.\n",
        "\n",
        "<br>\n",
        "<img src=https://miro.medium.com/max/5092/1*UZAH2-y4BfpxhTZbe7mR6A.png width = 1000>\n",
        "\n",
        "<br>\n",
        "\n",
        "Models have also been widely applied to [**mammography**](https://scitechdaily.com/new-artificial-intelligence-tool-improves-breast-cancer-detection-on-mammography/) to help radiologists **detecting abnormalities** that may be associated to breast cancer, which may also help in **cancer staging**. \n",
        "\n",
        "<br>\n",
        "<img src=https://news.mit.edu/sites/default/files/images/201905/BreastCancerAI.png width = 600>\n",
        "\n",
        "\n",
        "<br>\n",
        "\n",
        "<a id='EDA'></a>\n",
        "## <span style=\"color:darkslateblue\"> 2. Descriptive Analysis of the Dataset</span>\n",
        "\n",
        "Once data is acquired, after ensuring its quality is optimal for data analysis, a deep exploration before pre-processing must be performed to better understand the data and be able to perform a proper pre-processing and modelling. This is what is called **Exploratory Data Analysis (EDA)**.\n",
        "\n",
        "Understanding the dataset implies several issues:\n",
        "1. Get information about data types, shape of the dataset and descriptive metrics.\n",
        "2. Extract information about the relevancy of some features over others.\n",
        "3. Identify outliers, missing values or human error.\n",
        "4. Understand the relationship, or lack of, between variables.\n",
        "5. Maximize the insight into the dataset and minimize the potential error that may occur during the next steps in the analysis porocess. \n",
        "\n",
        "Hence, the main purpose of EDA is to **explore the structure of the data** and **find patterns in behavior and distribution of the data**.\n",
        "\n",
        "**Descriptive analysis** is the first approach in EDA to summarize the main characteristics of the dataset. It makes use of descriptive statistics and visual methods to get a deeper insigth into the data. In order to carry out a descriptive analysis, we will follow several steps:\n",
        "0. [**Load Data**](#Load)\n",
        "1. [**Identification of variables and data types**](#dtypes)\n",
        "2. [**Descriptive statistics of the dataset**](#descriptive)\n",
        "3. [**Univariate Analysis: Graphical and Non-Graphical**](#univariate)\n",
        "4. [**Multivariate Analysis: Graphical**](#multivariate)\n",
        "\n",
        "<a id='load'></a>\n",
        "### <span style=\"color:slateblue\"> 2.0 Load Data</span>\n",
        "To load the dataset we will use Pandas method called ***read_csv*** that read CSV (comma-separated) files and convert it into a DataFrame."
      ]
    },
    {
      "cell_type": "code",
      "metadata": {
        "id": "fSP7QmkEqm4S"
      },
      "source": [
        "breast_df = pd.read_csv(\"data.csv\")"
      ],
      "execution_count": 82,
      "outputs": []
    },
    {
      "cell_type": "markdown",
      "metadata": {
        "id": "AU0da9tRqm4S"
      },
      "source": [
        "<a id='dtypes'></a>\n",
        "### <span style=\"color:slateblue\"> 2.1 Identification of variables and data types</span>\n",
        "\n",
        "In order to get a summary of the dataset, we will use the method ***info***, which shows information such as number of observations, column names, variable type, and number of null entries, among others. "
      ]
    },
    {
      "cell_type": "code",
      "metadata": {
        "id": "IDHUulIQqm4T",
        "colab": {
          "base_uri": "https://localhost:8080/"
        },
        "outputId": "6e25b053-45c6-4e63-e197-fb8226222fa6"
      },
      "source": [
        "breast_df.info()"
      ],
      "execution_count": 83,
      "outputs": [
        {
          "output_type": "stream",
          "text": [
            "<class 'pandas.core.frame.DataFrame'>\n",
            "RangeIndex: 569 entries, 0 to 568\n",
            "Data columns (total 33 columns):\n",
            " #   Column                   Non-Null Count  Dtype  \n",
            "---  ------                   --------------  -----  \n",
            " 0   id                       569 non-null    int64  \n",
            " 1   diagnosis                569 non-null    object \n",
            " 2   radius_mean              569 non-null    float64\n",
            " 3   texture_mean             569 non-null    float64\n",
            " 4   perimeter_mean           569 non-null    float64\n",
            " 5   area_mean                569 non-null    float64\n",
            " 6   smoothness_mean          569 non-null    float64\n",
            " 7   compactness_mean         569 non-null    float64\n",
            " 8   concavity_mean           569 non-null    float64\n",
            " 9   concave points_mean      569 non-null    float64\n",
            " 10  symmetry_mean            569 non-null    float64\n",
            " 11  fractal_dimension_mean   569 non-null    float64\n",
            " 12  radius_se                569 non-null    float64\n",
            " 13  texture_se               569 non-null    float64\n",
            " 14  perimeter_se             569 non-null    float64\n",
            " 15  area_se                  569 non-null    float64\n",
            " 16  smoothness_se            569 non-null    float64\n",
            " 17  compactness_se           569 non-null    float64\n",
            " 18  concavity_se             569 non-null    float64\n",
            " 19  concave points_se        569 non-null    float64\n",
            " 20  symmetry_se              569 non-null    float64\n",
            " 21  fractal_dimension_se     569 non-null    float64\n",
            " 22  radius_worst             569 non-null    float64\n",
            " 23  texture_worst            569 non-null    float64\n",
            " 24  perimeter_worst          569 non-null    float64\n",
            " 25  area_worst               569 non-null    float64\n",
            " 26  smoothness_worst         569 non-null    float64\n",
            " 27  compactness_worst        569 non-null    float64\n",
            " 28  concavity_worst          569 non-null    float64\n",
            " 29  concave points_worst     569 non-null    float64\n",
            " 30  symmetry_worst           569 non-null    float64\n",
            " 31  fractal_dimension_worst  569 non-null    float64\n",
            " 32  Unnamed: 32              0 non-null      float64\n",
            "dtypes: float64(31), int64(1), object(1)\n",
            "memory usage: 146.8+ KB\n"
          ],
          "name": "stdout"
        }
      ]
    },
    {
      "cell_type": "code",
      "metadata": {
        "colab": {
          "base_uri": "https://localhost:8080/",
          "height": 234
        },
        "id": "Y3DwVZUWqm4U",
        "outputId": "ffdf6571-2581-484c-fc1c-597daeeafd78"
      },
      "source": [
        "breast_df.head()"
      ],
      "execution_count": 84,
      "outputs": [
        {
          "output_type": "execute_result",
          "data": {
            "text/html": [
              "<div>\n",
              "<style scoped>\n",
              "    .dataframe tbody tr th:only-of-type {\n",
              "        vertical-align: middle;\n",
              "    }\n",
              "\n",
              "    .dataframe tbody tr th {\n",
              "        vertical-align: top;\n",
              "    }\n",
              "\n",
              "    .dataframe thead th {\n",
              "        text-align: right;\n",
              "    }\n",
              "</style>\n",
              "<table border=\"1\" class=\"dataframe\">\n",
              "  <thead>\n",
              "    <tr style=\"text-align: right;\">\n",
              "      <th></th>\n",
              "      <th>id</th>\n",
              "      <th>diagnosis</th>\n",
              "      <th>radius_mean</th>\n",
              "      <th>texture_mean</th>\n",
              "      <th>perimeter_mean</th>\n",
              "      <th>area_mean</th>\n",
              "      <th>smoothness_mean</th>\n",
              "      <th>compactness_mean</th>\n",
              "      <th>concavity_mean</th>\n",
              "      <th>concave points_mean</th>\n",
              "      <th>symmetry_mean</th>\n",
              "      <th>fractal_dimension_mean</th>\n",
              "      <th>radius_se</th>\n",
              "      <th>texture_se</th>\n",
              "      <th>perimeter_se</th>\n",
              "      <th>area_se</th>\n",
              "      <th>smoothness_se</th>\n",
              "      <th>compactness_se</th>\n",
              "      <th>concavity_se</th>\n",
              "      <th>concave points_se</th>\n",
              "      <th>symmetry_se</th>\n",
              "      <th>fractal_dimension_se</th>\n",
              "      <th>radius_worst</th>\n",
              "      <th>texture_worst</th>\n",
              "      <th>perimeter_worst</th>\n",
              "      <th>area_worst</th>\n",
              "      <th>smoothness_worst</th>\n",
              "      <th>compactness_worst</th>\n",
              "      <th>concavity_worst</th>\n",
              "      <th>concave points_worst</th>\n",
              "      <th>symmetry_worst</th>\n",
              "      <th>fractal_dimension_worst</th>\n",
              "      <th>Unnamed: 32</th>\n",
              "    </tr>\n",
              "  </thead>\n",
              "  <tbody>\n",
              "    <tr>\n",
              "      <th>0</th>\n",
              "      <td>842302</td>\n",
              "      <td>M</td>\n",
              "      <td>17.99</td>\n",
              "      <td>10.38</td>\n",
              "      <td>122.80</td>\n",
              "      <td>1001.0</td>\n",
              "      <td>0.11840</td>\n",
              "      <td>0.27760</td>\n",
              "      <td>0.3001</td>\n",
              "      <td>0.14710</td>\n",
              "      <td>0.2419</td>\n",
              "      <td>0.07871</td>\n",
              "      <td>1.0950</td>\n",
              "      <td>0.9053</td>\n",
              "      <td>8.589</td>\n",
              "      <td>153.40</td>\n",
              "      <td>0.006399</td>\n",
              "      <td>0.04904</td>\n",
              "      <td>0.05373</td>\n",
              "      <td>0.01587</td>\n",
              "      <td>0.03003</td>\n",
              "      <td>0.006193</td>\n",
              "      <td>25.38</td>\n",
              "      <td>17.33</td>\n",
              "      <td>184.60</td>\n",
              "      <td>2019.0</td>\n",
              "      <td>0.1622</td>\n",
              "      <td>0.6656</td>\n",
              "      <td>0.7119</td>\n",
              "      <td>0.2654</td>\n",
              "      <td>0.4601</td>\n",
              "      <td>0.11890</td>\n",
              "      <td>NaN</td>\n",
              "    </tr>\n",
              "    <tr>\n",
              "      <th>1</th>\n",
              "      <td>842517</td>\n",
              "      <td>M</td>\n",
              "      <td>20.57</td>\n",
              "      <td>17.77</td>\n",
              "      <td>132.90</td>\n",
              "      <td>1326.0</td>\n",
              "      <td>0.08474</td>\n",
              "      <td>0.07864</td>\n",
              "      <td>0.0869</td>\n",
              "      <td>0.07017</td>\n",
              "      <td>0.1812</td>\n",
              "      <td>0.05667</td>\n",
              "      <td>0.5435</td>\n",
              "      <td>0.7339</td>\n",
              "      <td>3.398</td>\n",
              "      <td>74.08</td>\n",
              "      <td>0.005225</td>\n",
              "      <td>0.01308</td>\n",
              "      <td>0.01860</td>\n",
              "      <td>0.01340</td>\n",
              "      <td>0.01389</td>\n",
              "      <td>0.003532</td>\n",
              "      <td>24.99</td>\n",
              "      <td>23.41</td>\n",
              "      <td>158.80</td>\n",
              "      <td>1956.0</td>\n",
              "      <td>0.1238</td>\n",
              "      <td>0.1866</td>\n",
              "      <td>0.2416</td>\n",
              "      <td>0.1860</td>\n",
              "      <td>0.2750</td>\n",
              "      <td>0.08902</td>\n",
              "      <td>NaN</td>\n",
              "    </tr>\n",
              "    <tr>\n",
              "      <th>2</th>\n",
              "      <td>84300903</td>\n",
              "      <td>M</td>\n",
              "      <td>19.69</td>\n",
              "      <td>21.25</td>\n",
              "      <td>130.00</td>\n",
              "      <td>1203.0</td>\n",
              "      <td>0.10960</td>\n",
              "      <td>0.15990</td>\n",
              "      <td>0.1974</td>\n",
              "      <td>0.12790</td>\n",
              "      <td>0.2069</td>\n",
              "      <td>0.05999</td>\n",
              "      <td>0.7456</td>\n",
              "      <td>0.7869</td>\n",
              "      <td>4.585</td>\n",
              "      <td>94.03</td>\n",
              "      <td>0.006150</td>\n",
              "      <td>0.04006</td>\n",
              "      <td>0.03832</td>\n",
              "      <td>0.02058</td>\n",
              "      <td>0.02250</td>\n",
              "      <td>0.004571</td>\n",
              "      <td>23.57</td>\n",
              "      <td>25.53</td>\n",
              "      <td>152.50</td>\n",
              "      <td>1709.0</td>\n",
              "      <td>0.1444</td>\n",
              "      <td>0.4245</td>\n",
              "      <td>0.4504</td>\n",
              "      <td>0.2430</td>\n",
              "      <td>0.3613</td>\n",
              "      <td>0.08758</td>\n",
              "      <td>NaN</td>\n",
              "    </tr>\n",
              "    <tr>\n",
              "      <th>3</th>\n",
              "      <td>84348301</td>\n",
              "      <td>M</td>\n",
              "      <td>11.42</td>\n",
              "      <td>20.38</td>\n",
              "      <td>77.58</td>\n",
              "      <td>386.1</td>\n",
              "      <td>0.14250</td>\n",
              "      <td>0.28390</td>\n",
              "      <td>0.2414</td>\n",
              "      <td>0.10520</td>\n",
              "      <td>0.2597</td>\n",
              "      <td>0.09744</td>\n",
              "      <td>0.4956</td>\n",
              "      <td>1.1560</td>\n",
              "      <td>3.445</td>\n",
              "      <td>27.23</td>\n",
              "      <td>0.009110</td>\n",
              "      <td>0.07458</td>\n",
              "      <td>0.05661</td>\n",
              "      <td>0.01867</td>\n",
              "      <td>0.05963</td>\n",
              "      <td>0.009208</td>\n",
              "      <td>14.91</td>\n",
              "      <td>26.50</td>\n",
              "      <td>98.87</td>\n",
              "      <td>567.7</td>\n",
              "      <td>0.2098</td>\n",
              "      <td>0.8663</td>\n",
              "      <td>0.6869</td>\n",
              "      <td>0.2575</td>\n",
              "      <td>0.6638</td>\n",
              "      <td>0.17300</td>\n",
              "      <td>NaN</td>\n",
              "    </tr>\n",
              "    <tr>\n",
              "      <th>4</th>\n",
              "      <td>84358402</td>\n",
              "      <td>M</td>\n",
              "      <td>20.29</td>\n",
              "      <td>14.34</td>\n",
              "      <td>135.10</td>\n",
              "      <td>1297.0</td>\n",
              "      <td>0.10030</td>\n",
              "      <td>0.13280</td>\n",
              "      <td>0.1980</td>\n",
              "      <td>0.10430</td>\n",
              "      <td>0.1809</td>\n",
              "      <td>0.05883</td>\n",
              "      <td>0.7572</td>\n",
              "      <td>0.7813</td>\n",
              "      <td>5.438</td>\n",
              "      <td>94.44</td>\n",
              "      <td>0.011490</td>\n",
              "      <td>0.02461</td>\n",
              "      <td>0.05688</td>\n",
              "      <td>0.01885</td>\n",
              "      <td>0.01756</td>\n",
              "      <td>0.005115</td>\n",
              "      <td>22.54</td>\n",
              "      <td>16.67</td>\n",
              "      <td>152.20</td>\n",
              "      <td>1575.0</td>\n",
              "      <td>0.1374</td>\n",
              "      <td>0.2050</td>\n",
              "      <td>0.4000</td>\n",
              "      <td>0.1625</td>\n",
              "      <td>0.2364</td>\n",
              "      <td>0.07678</td>\n",
              "      <td>NaN</td>\n",
              "    </tr>\n",
              "  </tbody>\n",
              "</table>\n",
              "</div>"
            ],
            "text/plain": [
              "         id diagnosis  radius_mean  texture_mean  perimeter_mean  area_mean  \\\n",
              "0    842302         M        17.99         10.38          122.80     1001.0   \n",
              "1    842517         M        20.57         17.77          132.90     1326.0   \n",
              "2  84300903         M        19.69         21.25          130.00     1203.0   \n",
              "3  84348301         M        11.42         20.38           77.58      386.1   \n",
              "4  84358402         M        20.29         14.34          135.10     1297.0   \n",
              "\n",
              "   smoothness_mean  compactness_mean  concavity_mean  concave points_mean  \\\n",
              "0          0.11840           0.27760          0.3001              0.14710   \n",
              "1          0.08474           0.07864          0.0869              0.07017   \n",
              "2          0.10960           0.15990          0.1974              0.12790   \n",
              "3          0.14250           0.28390          0.2414              0.10520   \n",
              "4          0.10030           0.13280          0.1980              0.10430   \n",
              "\n",
              "   symmetry_mean  fractal_dimension_mean  radius_se  texture_se  perimeter_se  \\\n",
              "0         0.2419                 0.07871     1.0950      0.9053         8.589   \n",
              "1         0.1812                 0.05667     0.5435      0.7339         3.398   \n",
              "2         0.2069                 0.05999     0.7456      0.7869         4.585   \n",
              "3         0.2597                 0.09744     0.4956      1.1560         3.445   \n",
              "4         0.1809                 0.05883     0.7572      0.7813         5.438   \n",
              "\n",
              "   area_se  smoothness_se  compactness_se  concavity_se  concave points_se  \\\n",
              "0   153.40       0.006399         0.04904       0.05373            0.01587   \n",
              "1    74.08       0.005225         0.01308       0.01860            0.01340   \n",
              "2    94.03       0.006150         0.04006       0.03832            0.02058   \n",
              "3    27.23       0.009110         0.07458       0.05661            0.01867   \n",
              "4    94.44       0.011490         0.02461       0.05688            0.01885   \n",
              "\n",
              "   symmetry_se  fractal_dimension_se  radius_worst  texture_worst  \\\n",
              "0      0.03003              0.006193         25.38          17.33   \n",
              "1      0.01389              0.003532         24.99          23.41   \n",
              "2      0.02250              0.004571         23.57          25.53   \n",
              "3      0.05963              0.009208         14.91          26.50   \n",
              "4      0.01756              0.005115         22.54          16.67   \n",
              "\n",
              "   perimeter_worst  area_worst  smoothness_worst  compactness_worst  \\\n",
              "0           184.60      2019.0            0.1622             0.6656   \n",
              "1           158.80      1956.0            0.1238             0.1866   \n",
              "2           152.50      1709.0            0.1444             0.4245   \n",
              "3            98.87       567.7            0.2098             0.8663   \n",
              "4           152.20      1575.0            0.1374             0.2050   \n",
              "\n",
              "   concavity_worst  concave points_worst  symmetry_worst  \\\n",
              "0           0.7119                0.2654          0.4601   \n",
              "1           0.2416                0.1860          0.2750   \n",
              "2           0.4504                0.2430          0.3613   \n",
              "3           0.6869                0.2575          0.6638   \n",
              "4           0.4000                0.1625          0.2364   \n",
              "\n",
              "   fractal_dimension_worst  Unnamed: 32  \n",
              "0                  0.11890          NaN  \n",
              "1                  0.08902          NaN  \n",
              "2                  0.08758          NaN  \n",
              "3                  0.17300          NaN  \n",
              "4                  0.07678          NaN  "
            ]
          },
          "metadata": {
            "tags": []
          },
          "execution_count": 84
        }
      ]
    },
    {
      "cell_type": "markdown",
      "metadata": {
        "id": "fKgbkeq6qm4X"
      },
      "source": [
        "As we can see, there are **569 instances/observations** and **33 columns**. We also see that the column 33 is an empty column, so we won't consider this column in the analysis. The remaining columns represent the attributes for each observation, where **ID should not be included in the further analysis steps** since it is not considered a predictive variable for the **target variable**, **diagnosis**.\n",
        "\n",
        "Hence, we will consider a collection of **31 variables** in our analysis, where **diagnosis is the target variable** and **the rest of the variables are the independent features** that will make up the input to predict the target variable.\n",
        "\n",
        "We can also see that **all variables are numerical except diagnosis**, which is **nominal**. Then, we will need to transform this variable into a numerical variable in order to be able to use it as an input for numerical algorithms. **Transformation is essential** not only for modelling but also for descriptive analysis. \n",
        "\n",
        "Handling of missing values will be discussed later, but, for now, we can see that **there are no null values in the whole dataset**. These are the obvious null-values, this is, the empty entries for a given column. We will further look for non-obvious missing values after further analizing the dataset. As an example, a patient that may have several entries equal to 0 is due to an incorrect collection of the data or the lack of collection of the data. \n",
        "\n",
        "In this step we will create a dataset with the variables that will take part of our analysis, getting rid of variables **ID** and the **last empty column**. "
      ]
    },
    {
      "cell_type": "code",
      "metadata": {
        "id": "F2O3wXaZqm4Y"
      },
      "source": [
        "#Dataset without variables \"id\" and \"Unnamed: 32\"\n",
        "breast_df = breast_df.drop(columns=['id', 'Unnamed: 32'])"
      ],
      "execution_count": 85,
      "outputs": []
    },
    {
      "cell_type": "markdown",
      "metadata": {
        "id": "l-EY--Kwqm4Z"
      },
      "source": [
        "Now we have the dataset with the variables that will be used in the analysis, we will proceed to the **transformation of the variable diagnosis into numerical**. The first step is to transform this variable into categorical and then assign each category a number. Why do we do this? We know that **this variable is categorical**, this is, it has two possible values, each of them corresponding to **malignancy (M)/benignancy (B)** possible nature of the tissue sample. To further confirm this, we will use the method ***nunique***, so we can check the number of possible values for each variable. \n",
        "\n",
        "Once confirmed, we will only have to assign a code for each of the possible values."
      ]
    },
    {
      "cell_type": "code",
      "metadata": {
        "colab": {
          "base_uri": "https://localhost:8080/"
        },
        "id": "ljFyIoE6qm4Z",
        "outputId": "cbe37e55-b8ca-4705-988c-c5c93fe5e875"
      },
      "source": [
        "#Number of unique values for each variable\n",
        "breast_df.nunique()"
      ],
      "execution_count": 86,
      "outputs": [
        {
          "output_type": "execute_result",
          "data": {
            "text/plain": [
              "diagnosis                    2\n",
              "radius_mean                456\n",
              "texture_mean               479\n",
              "perimeter_mean             522\n",
              "area_mean                  539\n",
              "smoothness_mean            474\n",
              "compactness_mean           537\n",
              "concavity_mean             537\n",
              "concave points_mean        542\n",
              "symmetry_mean              432\n",
              "fractal_dimension_mean     499\n",
              "radius_se                  540\n",
              "texture_se                 519\n",
              "perimeter_se               533\n",
              "area_se                    528\n",
              "smoothness_se              547\n",
              "compactness_se             541\n",
              "concavity_se               533\n",
              "concave points_se          507\n",
              "symmetry_se                498\n",
              "fractal_dimension_se       545\n",
              "radius_worst               457\n",
              "texture_worst              511\n",
              "perimeter_worst            514\n",
              "area_worst                 544\n",
              "smoothness_worst           411\n",
              "compactness_worst          529\n",
              "concavity_worst            539\n",
              "concave points_worst       492\n",
              "symmetry_worst             500\n",
              "fractal_dimension_worst    535\n",
              "dtype: int64"
            ]
          },
          "metadata": {
            "tags": []
          },
          "execution_count": 86
        }
      ]
    },
    {
      "cell_type": "markdown",
      "metadata": {
        "id": "hv0T9atjqm4a"
      },
      "source": [
        "As we can see, variable \"diagnosis\" has two possible values. We can also see that, for **the rest of the variables**, the number of unique values are so high that, even if we had no information about them, we could assume that these variables **are not categorical**. We know that these variables correspond to **the mean, the standard deviation and the worst possible values** for features: \n",
        "1. **Radius** (mean of distances from center to points on the perimeter)\n",
        "2. **Texture** (standard deviation of gray-scale values)\n",
        "3. **Perimeter**\n",
        "4. **Area**\n",
        "5. **Smoothness** (local variation in radius lengths)\n",
        "6. **Compactness** (perimeter $^{2}$/ area - 1.0)\n",
        "7. **Concavity** (severity of concave portions of the contour)\n",
        "8. **Concave points** (number of concave portions of the contour)\n",
        "9. **Symmetry**\n",
        "10. **Fractal dimension** (“coastline approximation” - 1)\n",
        "\n",
        "Therefore, these variables are **numerical and continuous**.\n",
        "\n",
        "Now we will transform variable diagnosis into numerical and we will obtain a dictionary that retains the assignation of codes to the categories."
      ]
    },
    {
      "cell_type": "code",
      "metadata": {
        "colab": {
          "base_uri": "https://localhost:8080/"
        },
        "id": "gY-pXGwwqm4a",
        "outputId": "8a7b9240-78e8-4d5f-ac61-fd487a3688d8"
      },
      "source": [
        "#Create dict with code for each category\n",
        "cat_dict = dict(enumerate(breast_df['diagnosis'].astype('category').cat.categories))\n",
        "\n",
        "#Transform categorical column \"diagnosis\" into numerical discrete \n",
        "breast_df['diagnosis'] = breast_df['diagnosis'].astype('category').cat.codes.astype('float')\n",
        "\n",
        "print(cat_dict)"
      ],
      "execution_count": 87,
      "outputs": [
        {
          "output_type": "stream",
          "text": [
            "{0: 'B', 1: 'M'}\n"
          ],
          "name": "stdout"
        }
      ]
    },
    {
      "cell_type": "code",
      "metadata": {
        "colab": {
          "base_uri": "https://localhost:8080/"
        },
        "id": "pGRId2AFqm4b",
        "outputId": "e1d31b1d-b120-47d1-c16f-a5756a5446b8"
      },
      "source": [
        "breast_df.info()"
      ],
      "execution_count": 88,
      "outputs": [
        {
          "output_type": "stream",
          "text": [
            "<class 'pandas.core.frame.DataFrame'>\n",
            "RangeIndex: 569 entries, 0 to 568\n",
            "Data columns (total 31 columns):\n",
            " #   Column                   Non-Null Count  Dtype  \n",
            "---  ------                   --------------  -----  \n",
            " 0   diagnosis                569 non-null    float64\n",
            " 1   radius_mean              569 non-null    float64\n",
            " 2   texture_mean             569 non-null    float64\n",
            " 3   perimeter_mean           569 non-null    float64\n",
            " 4   area_mean                569 non-null    float64\n",
            " 5   smoothness_mean          569 non-null    float64\n",
            " 6   compactness_mean         569 non-null    float64\n",
            " 7   concavity_mean           569 non-null    float64\n",
            " 8   concave points_mean      569 non-null    float64\n",
            " 9   symmetry_mean            569 non-null    float64\n",
            " 10  fractal_dimension_mean   569 non-null    float64\n",
            " 11  radius_se                569 non-null    float64\n",
            " 12  texture_se               569 non-null    float64\n",
            " 13  perimeter_se             569 non-null    float64\n",
            " 14  area_se                  569 non-null    float64\n",
            " 15  smoothness_se            569 non-null    float64\n",
            " 16  compactness_se           569 non-null    float64\n",
            " 17  concavity_se             569 non-null    float64\n",
            " 18  concave points_se        569 non-null    float64\n",
            " 19  symmetry_se              569 non-null    float64\n",
            " 20  fractal_dimension_se     569 non-null    float64\n",
            " 21  radius_worst             569 non-null    float64\n",
            " 22  texture_worst            569 non-null    float64\n",
            " 23  perimeter_worst          569 non-null    float64\n",
            " 24  area_worst               569 non-null    float64\n",
            " 25  smoothness_worst         569 non-null    float64\n",
            " 26  compactness_worst        569 non-null    float64\n",
            " 27  concavity_worst          569 non-null    float64\n",
            " 28  concave points_worst     569 non-null    float64\n",
            " 29  symmetry_worst           569 non-null    float64\n",
            " 30  fractal_dimension_worst  569 non-null    float64\n",
            "dtypes: float64(31)\n",
            "memory usage: 137.9 KB\n"
          ],
          "name": "stdout"
        }
      ]
    },
    {
      "cell_type": "code",
      "metadata": {
        "colab": {
          "base_uri": "https://localhost:8080/",
          "height": 234
        },
        "id": "1_Cv_lcbqm4b",
        "outputId": "855c0c68-5778-4a71-f191-af6587eb6a1e"
      },
      "source": [
        "pd.set_option('display.max_columns', None)\n",
        "breast_df.head()"
      ],
      "execution_count": 89,
      "outputs": [
        {
          "output_type": "execute_result",
          "data": {
            "text/html": [
              "<div>\n",
              "<style scoped>\n",
              "    .dataframe tbody tr th:only-of-type {\n",
              "        vertical-align: middle;\n",
              "    }\n",
              "\n",
              "    .dataframe tbody tr th {\n",
              "        vertical-align: top;\n",
              "    }\n",
              "\n",
              "    .dataframe thead th {\n",
              "        text-align: right;\n",
              "    }\n",
              "</style>\n",
              "<table border=\"1\" class=\"dataframe\">\n",
              "  <thead>\n",
              "    <tr style=\"text-align: right;\">\n",
              "      <th></th>\n",
              "      <th>diagnosis</th>\n",
              "      <th>radius_mean</th>\n",
              "      <th>texture_mean</th>\n",
              "      <th>perimeter_mean</th>\n",
              "      <th>area_mean</th>\n",
              "      <th>smoothness_mean</th>\n",
              "      <th>compactness_mean</th>\n",
              "      <th>concavity_mean</th>\n",
              "      <th>concave points_mean</th>\n",
              "      <th>symmetry_mean</th>\n",
              "      <th>fractal_dimension_mean</th>\n",
              "      <th>radius_se</th>\n",
              "      <th>texture_se</th>\n",
              "      <th>perimeter_se</th>\n",
              "      <th>area_se</th>\n",
              "      <th>smoothness_se</th>\n",
              "      <th>compactness_se</th>\n",
              "      <th>concavity_se</th>\n",
              "      <th>concave points_se</th>\n",
              "      <th>symmetry_se</th>\n",
              "      <th>fractal_dimension_se</th>\n",
              "      <th>radius_worst</th>\n",
              "      <th>texture_worst</th>\n",
              "      <th>perimeter_worst</th>\n",
              "      <th>area_worst</th>\n",
              "      <th>smoothness_worst</th>\n",
              "      <th>compactness_worst</th>\n",
              "      <th>concavity_worst</th>\n",
              "      <th>concave points_worst</th>\n",
              "      <th>symmetry_worst</th>\n",
              "      <th>fractal_dimension_worst</th>\n",
              "    </tr>\n",
              "  </thead>\n",
              "  <tbody>\n",
              "    <tr>\n",
              "      <th>0</th>\n",
              "      <td>1.0</td>\n",
              "      <td>17.99</td>\n",
              "      <td>10.38</td>\n",
              "      <td>122.80</td>\n",
              "      <td>1001.0</td>\n",
              "      <td>0.11840</td>\n",
              "      <td>0.27760</td>\n",
              "      <td>0.3001</td>\n",
              "      <td>0.14710</td>\n",
              "      <td>0.2419</td>\n",
              "      <td>0.07871</td>\n",
              "      <td>1.0950</td>\n",
              "      <td>0.9053</td>\n",
              "      <td>8.589</td>\n",
              "      <td>153.40</td>\n",
              "      <td>0.006399</td>\n",
              "      <td>0.04904</td>\n",
              "      <td>0.05373</td>\n",
              "      <td>0.01587</td>\n",
              "      <td>0.03003</td>\n",
              "      <td>0.006193</td>\n",
              "      <td>25.38</td>\n",
              "      <td>17.33</td>\n",
              "      <td>184.60</td>\n",
              "      <td>2019.0</td>\n",
              "      <td>0.1622</td>\n",
              "      <td>0.6656</td>\n",
              "      <td>0.7119</td>\n",
              "      <td>0.2654</td>\n",
              "      <td>0.4601</td>\n",
              "      <td>0.11890</td>\n",
              "    </tr>\n",
              "    <tr>\n",
              "      <th>1</th>\n",
              "      <td>1.0</td>\n",
              "      <td>20.57</td>\n",
              "      <td>17.77</td>\n",
              "      <td>132.90</td>\n",
              "      <td>1326.0</td>\n",
              "      <td>0.08474</td>\n",
              "      <td>0.07864</td>\n",
              "      <td>0.0869</td>\n",
              "      <td>0.07017</td>\n",
              "      <td>0.1812</td>\n",
              "      <td>0.05667</td>\n",
              "      <td>0.5435</td>\n",
              "      <td>0.7339</td>\n",
              "      <td>3.398</td>\n",
              "      <td>74.08</td>\n",
              "      <td>0.005225</td>\n",
              "      <td>0.01308</td>\n",
              "      <td>0.01860</td>\n",
              "      <td>0.01340</td>\n",
              "      <td>0.01389</td>\n",
              "      <td>0.003532</td>\n",
              "      <td>24.99</td>\n",
              "      <td>23.41</td>\n",
              "      <td>158.80</td>\n",
              "      <td>1956.0</td>\n",
              "      <td>0.1238</td>\n",
              "      <td>0.1866</td>\n",
              "      <td>0.2416</td>\n",
              "      <td>0.1860</td>\n",
              "      <td>0.2750</td>\n",
              "      <td>0.08902</td>\n",
              "    </tr>\n",
              "    <tr>\n",
              "      <th>2</th>\n",
              "      <td>1.0</td>\n",
              "      <td>19.69</td>\n",
              "      <td>21.25</td>\n",
              "      <td>130.00</td>\n",
              "      <td>1203.0</td>\n",
              "      <td>0.10960</td>\n",
              "      <td>0.15990</td>\n",
              "      <td>0.1974</td>\n",
              "      <td>0.12790</td>\n",
              "      <td>0.2069</td>\n",
              "      <td>0.05999</td>\n",
              "      <td>0.7456</td>\n",
              "      <td>0.7869</td>\n",
              "      <td>4.585</td>\n",
              "      <td>94.03</td>\n",
              "      <td>0.006150</td>\n",
              "      <td>0.04006</td>\n",
              "      <td>0.03832</td>\n",
              "      <td>0.02058</td>\n",
              "      <td>0.02250</td>\n",
              "      <td>0.004571</td>\n",
              "      <td>23.57</td>\n",
              "      <td>25.53</td>\n",
              "      <td>152.50</td>\n",
              "      <td>1709.0</td>\n",
              "      <td>0.1444</td>\n",
              "      <td>0.4245</td>\n",
              "      <td>0.4504</td>\n",
              "      <td>0.2430</td>\n",
              "      <td>0.3613</td>\n",
              "      <td>0.08758</td>\n",
              "    </tr>\n",
              "    <tr>\n",
              "      <th>3</th>\n",
              "      <td>1.0</td>\n",
              "      <td>11.42</td>\n",
              "      <td>20.38</td>\n",
              "      <td>77.58</td>\n",
              "      <td>386.1</td>\n",
              "      <td>0.14250</td>\n",
              "      <td>0.28390</td>\n",
              "      <td>0.2414</td>\n",
              "      <td>0.10520</td>\n",
              "      <td>0.2597</td>\n",
              "      <td>0.09744</td>\n",
              "      <td>0.4956</td>\n",
              "      <td>1.1560</td>\n",
              "      <td>3.445</td>\n",
              "      <td>27.23</td>\n",
              "      <td>0.009110</td>\n",
              "      <td>0.07458</td>\n",
              "      <td>0.05661</td>\n",
              "      <td>0.01867</td>\n",
              "      <td>0.05963</td>\n",
              "      <td>0.009208</td>\n",
              "      <td>14.91</td>\n",
              "      <td>26.50</td>\n",
              "      <td>98.87</td>\n",
              "      <td>567.7</td>\n",
              "      <td>0.2098</td>\n",
              "      <td>0.8663</td>\n",
              "      <td>0.6869</td>\n",
              "      <td>0.2575</td>\n",
              "      <td>0.6638</td>\n",
              "      <td>0.17300</td>\n",
              "    </tr>\n",
              "    <tr>\n",
              "      <th>4</th>\n",
              "      <td>1.0</td>\n",
              "      <td>20.29</td>\n",
              "      <td>14.34</td>\n",
              "      <td>135.10</td>\n",
              "      <td>1297.0</td>\n",
              "      <td>0.10030</td>\n",
              "      <td>0.13280</td>\n",
              "      <td>0.1980</td>\n",
              "      <td>0.10430</td>\n",
              "      <td>0.1809</td>\n",
              "      <td>0.05883</td>\n",
              "      <td>0.7572</td>\n",
              "      <td>0.7813</td>\n",
              "      <td>5.438</td>\n",
              "      <td>94.44</td>\n",
              "      <td>0.011490</td>\n",
              "      <td>0.02461</td>\n",
              "      <td>0.05688</td>\n",
              "      <td>0.01885</td>\n",
              "      <td>0.01756</td>\n",
              "      <td>0.005115</td>\n",
              "      <td>22.54</td>\n",
              "      <td>16.67</td>\n",
              "      <td>152.20</td>\n",
              "      <td>1575.0</td>\n",
              "      <td>0.1374</td>\n",
              "      <td>0.2050</td>\n",
              "      <td>0.4000</td>\n",
              "      <td>0.1625</td>\n",
              "      <td>0.2364</td>\n",
              "      <td>0.07678</td>\n",
              "    </tr>\n",
              "  </tbody>\n",
              "</table>\n",
              "</div>"
            ],
            "text/plain": [
              "   diagnosis  radius_mean  texture_mean  perimeter_mean  area_mean  \\\n",
              "0        1.0        17.99         10.38          122.80     1001.0   \n",
              "1        1.0        20.57         17.77          132.90     1326.0   \n",
              "2        1.0        19.69         21.25          130.00     1203.0   \n",
              "3        1.0        11.42         20.38           77.58      386.1   \n",
              "4        1.0        20.29         14.34          135.10     1297.0   \n",
              "\n",
              "   smoothness_mean  compactness_mean  concavity_mean  concave points_mean  \\\n",
              "0          0.11840           0.27760          0.3001              0.14710   \n",
              "1          0.08474           0.07864          0.0869              0.07017   \n",
              "2          0.10960           0.15990          0.1974              0.12790   \n",
              "3          0.14250           0.28390          0.2414              0.10520   \n",
              "4          0.10030           0.13280          0.1980              0.10430   \n",
              "\n",
              "   symmetry_mean  fractal_dimension_mean  radius_se  texture_se  perimeter_se  \\\n",
              "0         0.2419                 0.07871     1.0950      0.9053         8.589   \n",
              "1         0.1812                 0.05667     0.5435      0.7339         3.398   \n",
              "2         0.2069                 0.05999     0.7456      0.7869         4.585   \n",
              "3         0.2597                 0.09744     0.4956      1.1560         3.445   \n",
              "4         0.1809                 0.05883     0.7572      0.7813         5.438   \n",
              "\n",
              "   area_se  smoothness_se  compactness_se  concavity_se  concave points_se  \\\n",
              "0   153.40       0.006399         0.04904       0.05373            0.01587   \n",
              "1    74.08       0.005225         0.01308       0.01860            0.01340   \n",
              "2    94.03       0.006150         0.04006       0.03832            0.02058   \n",
              "3    27.23       0.009110         0.07458       0.05661            0.01867   \n",
              "4    94.44       0.011490         0.02461       0.05688            0.01885   \n",
              "\n",
              "   symmetry_se  fractal_dimension_se  radius_worst  texture_worst  \\\n",
              "0      0.03003              0.006193         25.38          17.33   \n",
              "1      0.01389              0.003532         24.99          23.41   \n",
              "2      0.02250              0.004571         23.57          25.53   \n",
              "3      0.05963              0.009208         14.91          26.50   \n",
              "4      0.01756              0.005115         22.54          16.67   \n",
              "\n",
              "   perimeter_worst  area_worst  smoothness_worst  compactness_worst  \\\n",
              "0           184.60      2019.0            0.1622             0.6656   \n",
              "1           158.80      1956.0            0.1238             0.1866   \n",
              "2           152.50      1709.0            0.1444             0.4245   \n",
              "3            98.87       567.7            0.2098             0.8663   \n",
              "4           152.20      1575.0            0.1374             0.2050   \n",
              "\n",
              "   concavity_worst  concave points_worst  symmetry_worst  \\\n",
              "0           0.7119                0.2654          0.4601   \n",
              "1           0.2416                0.1860          0.2750   \n",
              "2           0.4504                0.2430          0.3613   \n",
              "3           0.6869                0.2575          0.6638   \n",
              "4           0.4000                0.1625          0.2364   \n",
              "\n",
              "   fractal_dimension_worst  \n",
              "0                  0.11890  \n",
              "1                  0.08902  \n",
              "2                  0.08758  \n",
              "3                  0.17300  \n",
              "4                  0.07678  "
            ]
          },
          "metadata": {
            "tags": []
          },
          "execution_count": 89
        }
      ]
    },
    {
      "cell_type": "markdown",
      "metadata": {
        "id": "24ussBVCqm4b"
      },
      "source": [
        "As we can see, we have **transformed diagnosis into a numerical discrete variable, although keeping in mind its categorical nature**."
      ]
    },
    {
      "cell_type": "markdown",
      "metadata": {
        "id": "RebJhNB-qm4c"
      },
      "source": [
        "<a id='descriptive'></a>\n",
        "### <span style=\"color:slateblue\"> 2.2 Descriptive statistics of the dataset</span>\n",
        "\n",
        "In order to summarize the main and most basic statistical characteristics of the dataset, we will use the method ***describe***."
      ]
    },
    {
      "cell_type": "code",
      "metadata": {
        "scrolled": true,
        "colab": {
          "base_uri": "https://localhost:8080/",
          "height": 0
        },
        "id": "-3rysixLqm4c",
        "outputId": "80d30660-71ab-43e5-f4fe-89ec9f9e46be"
      },
      "source": [
        "breast_df.describe()"
      ],
      "execution_count": 90,
      "outputs": [
        {
          "output_type": "execute_result",
          "data": {
            "text/html": [
              "<div>\n",
              "<style scoped>\n",
              "    .dataframe tbody tr th:only-of-type {\n",
              "        vertical-align: middle;\n",
              "    }\n",
              "\n",
              "    .dataframe tbody tr th {\n",
              "        vertical-align: top;\n",
              "    }\n",
              "\n",
              "    .dataframe thead th {\n",
              "        text-align: right;\n",
              "    }\n",
              "</style>\n",
              "<table border=\"1\" class=\"dataframe\">\n",
              "  <thead>\n",
              "    <tr style=\"text-align: right;\">\n",
              "      <th></th>\n",
              "      <th>diagnosis</th>\n",
              "      <th>radius_mean</th>\n",
              "      <th>texture_mean</th>\n",
              "      <th>perimeter_mean</th>\n",
              "      <th>area_mean</th>\n",
              "      <th>smoothness_mean</th>\n",
              "      <th>compactness_mean</th>\n",
              "      <th>concavity_mean</th>\n",
              "      <th>concave points_mean</th>\n",
              "      <th>symmetry_mean</th>\n",
              "      <th>fractal_dimension_mean</th>\n",
              "      <th>radius_se</th>\n",
              "      <th>texture_se</th>\n",
              "      <th>perimeter_se</th>\n",
              "      <th>area_se</th>\n",
              "      <th>smoothness_se</th>\n",
              "      <th>compactness_se</th>\n",
              "      <th>concavity_se</th>\n",
              "      <th>concave points_se</th>\n",
              "      <th>symmetry_se</th>\n",
              "      <th>fractal_dimension_se</th>\n",
              "      <th>radius_worst</th>\n",
              "      <th>texture_worst</th>\n",
              "      <th>perimeter_worst</th>\n",
              "      <th>area_worst</th>\n",
              "      <th>smoothness_worst</th>\n",
              "      <th>compactness_worst</th>\n",
              "      <th>concavity_worst</th>\n",
              "      <th>concave points_worst</th>\n",
              "      <th>symmetry_worst</th>\n",
              "      <th>fractal_dimension_worst</th>\n",
              "    </tr>\n",
              "  </thead>\n",
              "  <tbody>\n",
              "    <tr>\n",
              "      <th>count</th>\n",
              "      <td>569.000000</td>\n",
              "      <td>569.000000</td>\n",
              "      <td>569.000000</td>\n",
              "      <td>569.000000</td>\n",
              "      <td>569.000000</td>\n",
              "      <td>569.000000</td>\n",
              "      <td>569.000000</td>\n",
              "      <td>569.000000</td>\n",
              "      <td>569.000000</td>\n",
              "      <td>569.000000</td>\n",
              "      <td>569.000000</td>\n",
              "      <td>569.000000</td>\n",
              "      <td>569.000000</td>\n",
              "      <td>569.000000</td>\n",
              "      <td>569.000000</td>\n",
              "      <td>569.000000</td>\n",
              "      <td>569.000000</td>\n",
              "      <td>569.000000</td>\n",
              "      <td>569.000000</td>\n",
              "      <td>569.000000</td>\n",
              "      <td>569.000000</td>\n",
              "      <td>569.000000</td>\n",
              "      <td>569.000000</td>\n",
              "      <td>569.000000</td>\n",
              "      <td>569.000000</td>\n",
              "      <td>569.000000</td>\n",
              "      <td>569.000000</td>\n",
              "      <td>569.000000</td>\n",
              "      <td>569.000000</td>\n",
              "      <td>569.000000</td>\n",
              "      <td>569.000000</td>\n",
              "    </tr>\n",
              "    <tr>\n",
              "      <th>mean</th>\n",
              "      <td>0.372583</td>\n",
              "      <td>14.127292</td>\n",
              "      <td>19.289649</td>\n",
              "      <td>91.969033</td>\n",
              "      <td>654.889104</td>\n",
              "      <td>0.096360</td>\n",
              "      <td>0.104341</td>\n",
              "      <td>0.088799</td>\n",
              "      <td>0.048919</td>\n",
              "      <td>0.181162</td>\n",
              "      <td>0.062798</td>\n",
              "      <td>0.405172</td>\n",
              "      <td>1.216853</td>\n",
              "      <td>2.866059</td>\n",
              "      <td>40.337079</td>\n",
              "      <td>0.007041</td>\n",
              "      <td>0.025478</td>\n",
              "      <td>0.031894</td>\n",
              "      <td>0.011796</td>\n",
              "      <td>0.020542</td>\n",
              "      <td>0.003795</td>\n",
              "      <td>16.269190</td>\n",
              "      <td>25.677223</td>\n",
              "      <td>107.261213</td>\n",
              "      <td>880.583128</td>\n",
              "      <td>0.132369</td>\n",
              "      <td>0.254265</td>\n",
              "      <td>0.272188</td>\n",
              "      <td>0.114606</td>\n",
              "      <td>0.290076</td>\n",
              "      <td>0.083946</td>\n",
              "    </tr>\n",
              "    <tr>\n",
              "      <th>std</th>\n",
              "      <td>0.483918</td>\n",
              "      <td>3.524049</td>\n",
              "      <td>4.301036</td>\n",
              "      <td>24.298981</td>\n",
              "      <td>351.914129</td>\n",
              "      <td>0.014064</td>\n",
              "      <td>0.052813</td>\n",
              "      <td>0.079720</td>\n",
              "      <td>0.038803</td>\n",
              "      <td>0.027414</td>\n",
              "      <td>0.007060</td>\n",
              "      <td>0.277313</td>\n",
              "      <td>0.551648</td>\n",
              "      <td>2.021855</td>\n",
              "      <td>45.491006</td>\n",
              "      <td>0.003003</td>\n",
              "      <td>0.017908</td>\n",
              "      <td>0.030186</td>\n",
              "      <td>0.006170</td>\n",
              "      <td>0.008266</td>\n",
              "      <td>0.002646</td>\n",
              "      <td>4.833242</td>\n",
              "      <td>6.146258</td>\n",
              "      <td>33.602542</td>\n",
              "      <td>569.356993</td>\n",
              "      <td>0.022832</td>\n",
              "      <td>0.157336</td>\n",
              "      <td>0.208624</td>\n",
              "      <td>0.065732</td>\n",
              "      <td>0.061867</td>\n",
              "      <td>0.018061</td>\n",
              "    </tr>\n",
              "    <tr>\n",
              "      <th>min</th>\n",
              "      <td>0.000000</td>\n",
              "      <td>6.981000</td>\n",
              "      <td>9.710000</td>\n",
              "      <td>43.790000</td>\n",
              "      <td>143.500000</td>\n",
              "      <td>0.052630</td>\n",
              "      <td>0.019380</td>\n",
              "      <td>0.000000</td>\n",
              "      <td>0.000000</td>\n",
              "      <td>0.106000</td>\n",
              "      <td>0.049960</td>\n",
              "      <td>0.111500</td>\n",
              "      <td>0.360200</td>\n",
              "      <td>0.757000</td>\n",
              "      <td>6.802000</td>\n",
              "      <td>0.001713</td>\n",
              "      <td>0.002252</td>\n",
              "      <td>0.000000</td>\n",
              "      <td>0.000000</td>\n",
              "      <td>0.007882</td>\n",
              "      <td>0.000895</td>\n",
              "      <td>7.930000</td>\n",
              "      <td>12.020000</td>\n",
              "      <td>50.410000</td>\n",
              "      <td>185.200000</td>\n",
              "      <td>0.071170</td>\n",
              "      <td>0.027290</td>\n",
              "      <td>0.000000</td>\n",
              "      <td>0.000000</td>\n",
              "      <td>0.156500</td>\n",
              "      <td>0.055040</td>\n",
              "    </tr>\n",
              "    <tr>\n",
              "      <th>25%</th>\n",
              "      <td>0.000000</td>\n",
              "      <td>11.700000</td>\n",
              "      <td>16.170000</td>\n",
              "      <td>75.170000</td>\n",
              "      <td>420.300000</td>\n",
              "      <td>0.086370</td>\n",
              "      <td>0.064920</td>\n",
              "      <td>0.029560</td>\n",
              "      <td>0.020310</td>\n",
              "      <td>0.161900</td>\n",
              "      <td>0.057700</td>\n",
              "      <td>0.232400</td>\n",
              "      <td>0.833900</td>\n",
              "      <td>1.606000</td>\n",
              "      <td>17.850000</td>\n",
              "      <td>0.005169</td>\n",
              "      <td>0.013080</td>\n",
              "      <td>0.015090</td>\n",
              "      <td>0.007638</td>\n",
              "      <td>0.015160</td>\n",
              "      <td>0.002248</td>\n",
              "      <td>13.010000</td>\n",
              "      <td>21.080000</td>\n",
              "      <td>84.110000</td>\n",
              "      <td>515.300000</td>\n",
              "      <td>0.116600</td>\n",
              "      <td>0.147200</td>\n",
              "      <td>0.114500</td>\n",
              "      <td>0.064930</td>\n",
              "      <td>0.250400</td>\n",
              "      <td>0.071460</td>\n",
              "    </tr>\n",
              "    <tr>\n",
              "      <th>50%</th>\n",
              "      <td>0.000000</td>\n",
              "      <td>13.370000</td>\n",
              "      <td>18.840000</td>\n",
              "      <td>86.240000</td>\n",
              "      <td>551.100000</td>\n",
              "      <td>0.095870</td>\n",
              "      <td>0.092630</td>\n",
              "      <td>0.061540</td>\n",
              "      <td>0.033500</td>\n",
              "      <td>0.179200</td>\n",
              "      <td>0.061540</td>\n",
              "      <td>0.324200</td>\n",
              "      <td>1.108000</td>\n",
              "      <td>2.287000</td>\n",
              "      <td>24.530000</td>\n",
              "      <td>0.006380</td>\n",
              "      <td>0.020450</td>\n",
              "      <td>0.025890</td>\n",
              "      <td>0.010930</td>\n",
              "      <td>0.018730</td>\n",
              "      <td>0.003187</td>\n",
              "      <td>14.970000</td>\n",
              "      <td>25.410000</td>\n",
              "      <td>97.660000</td>\n",
              "      <td>686.500000</td>\n",
              "      <td>0.131300</td>\n",
              "      <td>0.211900</td>\n",
              "      <td>0.226700</td>\n",
              "      <td>0.099930</td>\n",
              "      <td>0.282200</td>\n",
              "      <td>0.080040</td>\n",
              "    </tr>\n",
              "    <tr>\n",
              "      <th>75%</th>\n",
              "      <td>1.000000</td>\n",
              "      <td>15.780000</td>\n",
              "      <td>21.800000</td>\n",
              "      <td>104.100000</td>\n",
              "      <td>782.700000</td>\n",
              "      <td>0.105300</td>\n",
              "      <td>0.130400</td>\n",
              "      <td>0.130700</td>\n",
              "      <td>0.074000</td>\n",
              "      <td>0.195700</td>\n",
              "      <td>0.066120</td>\n",
              "      <td>0.478900</td>\n",
              "      <td>1.474000</td>\n",
              "      <td>3.357000</td>\n",
              "      <td>45.190000</td>\n",
              "      <td>0.008146</td>\n",
              "      <td>0.032450</td>\n",
              "      <td>0.042050</td>\n",
              "      <td>0.014710</td>\n",
              "      <td>0.023480</td>\n",
              "      <td>0.004558</td>\n",
              "      <td>18.790000</td>\n",
              "      <td>29.720000</td>\n",
              "      <td>125.400000</td>\n",
              "      <td>1084.000000</td>\n",
              "      <td>0.146000</td>\n",
              "      <td>0.339100</td>\n",
              "      <td>0.382900</td>\n",
              "      <td>0.161400</td>\n",
              "      <td>0.317900</td>\n",
              "      <td>0.092080</td>\n",
              "    </tr>\n",
              "    <tr>\n",
              "      <th>max</th>\n",
              "      <td>1.000000</td>\n",
              "      <td>28.110000</td>\n",
              "      <td>39.280000</td>\n",
              "      <td>188.500000</td>\n",
              "      <td>2501.000000</td>\n",
              "      <td>0.163400</td>\n",
              "      <td>0.345400</td>\n",
              "      <td>0.426800</td>\n",
              "      <td>0.201200</td>\n",
              "      <td>0.304000</td>\n",
              "      <td>0.097440</td>\n",
              "      <td>2.873000</td>\n",
              "      <td>4.885000</td>\n",
              "      <td>21.980000</td>\n",
              "      <td>542.200000</td>\n",
              "      <td>0.031130</td>\n",
              "      <td>0.135400</td>\n",
              "      <td>0.396000</td>\n",
              "      <td>0.052790</td>\n",
              "      <td>0.078950</td>\n",
              "      <td>0.029840</td>\n",
              "      <td>36.040000</td>\n",
              "      <td>49.540000</td>\n",
              "      <td>251.200000</td>\n",
              "      <td>4254.000000</td>\n",
              "      <td>0.222600</td>\n",
              "      <td>1.058000</td>\n",
              "      <td>1.252000</td>\n",
              "      <td>0.291000</td>\n",
              "      <td>0.663800</td>\n",
              "      <td>0.207500</td>\n",
              "    </tr>\n",
              "  </tbody>\n",
              "</table>\n",
              "</div>"
            ],
            "text/plain": [
              "        diagnosis  radius_mean  texture_mean  perimeter_mean    area_mean  \\\n",
              "count  569.000000   569.000000    569.000000      569.000000   569.000000   \n",
              "mean     0.372583    14.127292     19.289649       91.969033   654.889104   \n",
              "std      0.483918     3.524049      4.301036       24.298981   351.914129   \n",
              "min      0.000000     6.981000      9.710000       43.790000   143.500000   \n",
              "25%      0.000000    11.700000     16.170000       75.170000   420.300000   \n",
              "50%      0.000000    13.370000     18.840000       86.240000   551.100000   \n",
              "75%      1.000000    15.780000     21.800000      104.100000   782.700000   \n",
              "max      1.000000    28.110000     39.280000      188.500000  2501.000000   \n",
              "\n",
              "       smoothness_mean  compactness_mean  concavity_mean  concave points_mean  \\\n",
              "count       569.000000        569.000000      569.000000           569.000000   \n",
              "mean          0.096360          0.104341        0.088799             0.048919   \n",
              "std           0.014064          0.052813        0.079720             0.038803   \n",
              "min           0.052630          0.019380        0.000000             0.000000   \n",
              "25%           0.086370          0.064920        0.029560             0.020310   \n",
              "50%           0.095870          0.092630        0.061540             0.033500   \n",
              "75%           0.105300          0.130400        0.130700             0.074000   \n",
              "max           0.163400          0.345400        0.426800             0.201200   \n",
              "\n",
              "       symmetry_mean  fractal_dimension_mean   radius_se  texture_se  \\\n",
              "count     569.000000              569.000000  569.000000  569.000000   \n",
              "mean        0.181162                0.062798    0.405172    1.216853   \n",
              "std         0.027414                0.007060    0.277313    0.551648   \n",
              "min         0.106000                0.049960    0.111500    0.360200   \n",
              "25%         0.161900                0.057700    0.232400    0.833900   \n",
              "50%         0.179200                0.061540    0.324200    1.108000   \n",
              "75%         0.195700                0.066120    0.478900    1.474000   \n",
              "max         0.304000                0.097440    2.873000    4.885000   \n",
              "\n",
              "       perimeter_se     area_se  smoothness_se  compactness_se  concavity_se  \\\n",
              "count    569.000000  569.000000     569.000000      569.000000    569.000000   \n",
              "mean       2.866059   40.337079       0.007041        0.025478      0.031894   \n",
              "std        2.021855   45.491006       0.003003        0.017908      0.030186   \n",
              "min        0.757000    6.802000       0.001713        0.002252      0.000000   \n",
              "25%        1.606000   17.850000       0.005169        0.013080      0.015090   \n",
              "50%        2.287000   24.530000       0.006380        0.020450      0.025890   \n",
              "75%        3.357000   45.190000       0.008146        0.032450      0.042050   \n",
              "max       21.980000  542.200000       0.031130        0.135400      0.396000   \n",
              "\n",
              "       concave points_se  symmetry_se  fractal_dimension_se  radius_worst  \\\n",
              "count         569.000000   569.000000            569.000000    569.000000   \n",
              "mean            0.011796     0.020542              0.003795     16.269190   \n",
              "std             0.006170     0.008266              0.002646      4.833242   \n",
              "min             0.000000     0.007882              0.000895      7.930000   \n",
              "25%             0.007638     0.015160              0.002248     13.010000   \n",
              "50%             0.010930     0.018730              0.003187     14.970000   \n",
              "75%             0.014710     0.023480              0.004558     18.790000   \n",
              "max             0.052790     0.078950              0.029840     36.040000   \n",
              "\n",
              "       texture_worst  perimeter_worst   area_worst  smoothness_worst  \\\n",
              "count     569.000000       569.000000   569.000000        569.000000   \n",
              "mean       25.677223       107.261213   880.583128          0.132369   \n",
              "std         6.146258        33.602542   569.356993          0.022832   \n",
              "min        12.020000        50.410000   185.200000          0.071170   \n",
              "25%        21.080000        84.110000   515.300000          0.116600   \n",
              "50%        25.410000        97.660000   686.500000          0.131300   \n",
              "75%        29.720000       125.400000  1084.000000          0.146000   \n",
              "max        49.540000       251.200000  4254.000000          0.222600   \n",
              "\n",
              "       compactness_worst  concavity_worst  concave points_worst  \\\n",
              "count         569.000000       569.000000            569.000000   \n",
              "mean            0.254265         0.272188              0.114606   \n",
              "std             0.157336         0.208624              0.065732   \n",
              "min             0.027290         0.000000              0.000000   \n",
              "25%             0.147200         0.114500              0.064930   \n",
              "50%             0.211900         0.226700              0.099930   \n",
              "75%             0.339100         0.382900              0.161400   \n",
              "max             1.058000         1.252000              0.291000   \n",
              "\n",
              "       symmetry_worst  fractal_dimension_worst  \n",
              "count      569.000000               569.000000  \n",
              "mean         0.290076                 0.083946  \n",
              "std          0.061867                 0.018061  \n",
              "min          0.156500                 0.055040  \n",
              "25%          0.250400                 0.071460  \n",
              "50%          0.282200                 0.080040  \n",
              "75%          0.317900                 0.092080  \n",
              "max          0.663800                 0.207500  "
            ]
          },
          "metadata": {
            "tags": []
          },
          "execution_count": 90
        }
      ]
    },
    {
      "cell_type": "markdown",
      "metadata": {
        "id": "Y5wYB9aRqm4c"
      },
      "source": [
        "Once statistical characteristics are displayed, we can deduce several things such as if the min/max values are rational with respect to the variables themselves. This, is, we can see if there may be outliers. By now, **we don't see clear abnormal values** that might tell us that data contain outliers. For example, if the min for radius_mean was 0, it would clearly indicate that this feature may contain outliers, since 0 cannot be a radius_mean value. Outliers will be identified in a further analysis \n",
        "\n",
        "Now we are going to see **how classes are distributed** across the dataset in order to determine if the dataset suffers from class imbalance. "
      ]
    },
    {
      "cell_type": "code",
      "metadata": {
        "id": "njKcUSetqm4d"
      },
      "source": [
        "#Function to plot percentages on sns.countplot bars\n",
        "#https://stackoverflow.com/questions/31749448/how-to-add-percentages-on-top-of-bars-in-seaborn\n",
        "\n",
        "def without_hue(plot, feature):\n",
        "    total = len(feature)\n",
        "    for p in plot.patches:\n",
        "        percentage = '{:.1f}%'.format(100 * p.get_height()/total)\n",
        "        x = p.get_x() + p.get_width() / 2 - 0.05\n",
        "        y = p.get_y() + p.get_height()\n",
        "        ax.annotate(percentage, (x, y), size = 12)\n",
        "    plt.show()"
      ],
      "execution_count": 91,
      "outputs": []
    },
    {
      "cell_type": "code",
      "metadata": {
        "colab": {
          "base_uri": "https://localhost:8080/",
          "height": 0
        },
        "id": "hCCk8YBOqm4d",
        "outputId": "8db8b5d2-635e-4ca0-a218-65257d6656bb"
      },
      "source": [
        "ax = sns.countplot(breast_df['diagnosis'],label=\"count\", palette=\"RdPu\")\n",
        "\n",
        "without_hue(ax, breast_df['diagnosis'])"
      ],
      "execution_count": 92,
      "outputs": [
        {
          "output_type": "display_data",
          "data": {
            "image/png": "[encoded data removed]",
            "text/plain": [
              "<Figure size 576x396 with 1 Axes>"
            ]
          },
          "metadata": {
            "tags": []
          }
        }
      ]
    },
    {
      "cell_type": "markdown",
      "metadata": {
        "id": "in2Xj7eZqm4e"
      },
      "source": [
        "The number of **beningant** samples is quite higher than the number of **malign** samples, reaching almost 60/40 percentage difference. This is, **our dataset is imbalanced**. The **majority class is Beningant (B/0)** and the **minority class is Malignant (M/1)**. \n",
        "\n",
        "Data imbalance may cause problems when predicting classes. If we have too many samples in one class when compared to the number of classes in the other class (e.g. 100:1), the model is more likely to predict most instances as belonging to the majority class, since, due to the lack of data, it fails to correctly predict the minority class. The ideal case would be that in which we have 1:1. **As our problem is not a case of severe class imbalance, we will not handle it**, since we may introduce bias in our analysis by artificially balance the dataset. If we see that the performance metrics are too low, we will reconsider it."
      ]
    },
    {
      "cell_type": "markdown",
      "metadata": {
        "id": "qponza5Iqm4f"
      },
      "source": [
        "<a id=\"univariate\"></a>\n",
        "### <span style=\"color:slateblue\"> 2.3 Univariate Analysis: Graphical</span>\n",
        "\n",
        "#### <span style=\"color:#DB8AC4\">M/B Frequency Distribution</span>\n",
        "\n",
        "We will first analyze how feature values are distributed when comparing benign and malignant cases. The way we will do it is by plotting the **frequency distribution** of each variable for each diagnosis by means of **histograms**. \n",
        "\n",
        "We will only plot the histograms for the **_mean** variables since these are the most interpretable ones for our purpose, which is to analyze differences in nuclei between malignant and benignant tissues and identify those variables that may be useful for our analysis. "
      ]
    },
    {
      "cell_type": "code",
      "metadata": {
        "colab": {
          "base_uri": "https://localhost:8080/",
          "height": 734
        },
        "id": "wlCdelmbqm4g",
        "outputId": "13ec1d36-d62b-469d-9653-3f853dd415df"
      },
      "source": [
        "features_mean=list(breast_df.columns[1:11])\n",
        "# split dataframe into two based on diagnosis\n",
        "dfM=breast_df[breast_df['diagnosis'] ==1]\n",
        "dfB=breast_df[breast_df['diagnosis'] ==0]\n",
        "\n",
        "#Stack the data\n",
        "plt.rcParams.update({'font.size': 8})\n",
        "fig, axes = plt.subplots(nrows=5, ncols=2, figsize=(8,10))\n",
        "axes = axes.ravel()\n",
        "for idx,ax in enumerate(axes):\n",
        "    ax.figure\n",
        "    binwidth= (max(breast_df[features_mean[idx]]) - min(breast_df[features_mean[idx]]))/50\n",
        "    ax.hist([dfM[features_mean[idx]],dfB[features_mean[idx]]], bins=np.arange(min(breast_df[features_mean[idx]]), max(breast_df[features_mean[idx]]) + binwidth, binwidth) , alpha=0.5,stacked=True, label=['M','B'],color=['#A9009A','#F47CA9'])\n",
        "    ax.legend(loc='upper right')\n",
        "    ax.set_title(features_mean[idx])\n",
        "plt.tight_layout()\n",
        "plt.show()"
      ],
      "execution_count": 93,
      "outputs": [
        {
          "output_type": "display_data",
          "data": {
            "image/png": "[encoded data removed]",
            "text/plain": [
              "<Figure size 576x720 with 10 Axes>"
            ]
          },
          "metadata": {
            "tags": []
          }
        }
      ]
    },
    {
      "cell_type": "markdown",
      "metadata": {
        "id": "_TyRVP76JBFi"
      },
      "source": [
        "#### Two Sample T-Test\n",
        "The two sample t-test compares the means of 2 groups with different subjects in a population. Each group is a sample from a distinct population. The responses in each group are independent of those in the other group. The distributions follows a normal curve."
      ]
    },
    {
      "cell_type": "code",
      "metadata": {
        "id": "_sUUuX1hRhwF"
      },
      "source": [
        "import numpy as np\n",
        "import pandas as pd\n",
        "import matplotlib.pyplot as plt\n",
        "%matplotlib inline\n",
        "import statsmodels.api as sm\n",
        "from scipy.stats import norm, uniform, expon, t\n",
        "from scipy.stats import kstest, shapiro\n",
        "from scipy.stats import wilcoxon, ttest_1samp, ttest_rel, mannwhitneyu\n"
      ],
      "execution_count": 97,
      "outputs": []
    },
    {
      "cell_type": "code",
      "metadata": {
        "id": "PGTFvwZdQcm6"
      },
      "source": [
        "# 1. Check if data is normaly distributed\n",
        "def visual_normality_test(x, bins = 20):\n",
        "\n",
        " mu = np.mean(x)\n",
        " sigma = np.std(x, ddof = 1) # unbiased std\n",
        " plt.figure(figsize = (20,4))\n",
        " ax1 = plt.subplot(1,3,1)\n",
        " ax1.hist(x,bins=bins, density = True)\n",
        " x_axis = np.linspace(mu - 4*sigma, mu + 4*sigma, 100)\n",
        " ax1.plot(x_axis,norm.pdf(x_axis, mu, sigma),'r',linewidth=2)\n",
        " ax1.set_title('Normalized histogram')\n",
        "\n",
        " ax2 = plt.subplot(1,3,2)\n",
        " ax2.boxplot(x)\n",
        " ax2.set_title('Boxplot')\n",
        "\n",
        " ax3 = plt.subplot(1,3,3)\n",
        " sm.qqplot(x, line='s', ax=ax3)\n",
        " ax3.set_title('QQ Plot')\n",
        " plt.show()\n",
        "\n",
        "def check_norm(x):\n",
        "  visual_normality_test(x, bins=10)\n",
        "  if x.shape[0] > 50:\n",
        "    _, p_value = kstest(x,'norm', args=(x.mean(), x.std()) )\n",
        "  else:\n",
        "    _, p_value = shapiro(x)\n",
        "\n",
        "  if p_value > 0.05:\n",
        "    print('Looks like a normal distribution, p-value:', p_value)\n",
        "  else:\n",
        "    print('Does not look like a normal distribution, p-value:', p_value)"
      ],
      "execution_count": 113,
      "outputs": []
    },
    {
      "cell_type": "code",
      "metadata": {
        "colab": {
          "base_uri": "https://localhost:8080/",
          "height": 1000
        },
        "id": "CrPFcbLoRTc5",
        "outputId": "f69a991d-6871-43bc-db7f-eef7dca8866c"
      },
      "source": [
        "check_norm(dfM['radius_mean'])\n",
        "check_norm(dfM['texture_mean'])\n",
        "check_norm(dfM['perimeter_mean'])\n",
        "check_norm(dfM['area_mean'])\n",
        "check_norm(dfM['smoothness_mean'])\n",
        "check_norm(dfM['concavity_mean'])\n",
        "check_norm(dfM['compactness_mean'])\n",
        "check_norm(dfM['concave points_mean'])\n",
        "check_norm(dfM['symmetry_mean'])\n",
        "check_norm(dfM['fractal_dimension_mean'])"
      ],
      "execution_count": 114,
      "outputs": [
        {
          "output_type": "display_data",
          "data": {
            "image/png": "[encoded data removed]",
            "text/plain": [
              "<Figure size 1440x288 with 3 Axes>"
            ]
          },
          "metadata": {
            "tags": [],
            "needs_background": "light"
          }
        },
        {
          "output_type": "stream",
          "text": [
            "Looks like a normal distribution, p-value: 0.41219311253864876\n"
          ],
          "name": "stdout"
        },
        {
          "output_type": "display_data",
          "data": {
            "image/png": "[encoded data removed]",
            "text/plain": [
              "<Figure size 1440x288 with 3 Axes>"
            ]
          },
          "metadata": {
            "tags": [],
            "needs_background": "light"
          }
        },
        {
          "output_type": "stream",
          "text": [
            "Looks like a normal distribution, p-value: 0.22385419997858585\n"
          ],
          "name": "stdout"
        },
        {
          "output_type": "display_data",
          "data": {
            "image/png": "[encoded data removed]",
            "text/plain": [
              "<Figure size 1440x288 with 3 Axes>"
            ]
          },
          "metadata": {
            "tags": [],
            "needs_background": "light"
          }
        },
        {
          "output_type": "stream",
          "text": [
            "Looks like a normal distribution, p-value: 0.5238838245238037\n"
          ],
          "name": "stdout"
        },
        {
          "output_type": "display_data",
          "data": {
            "image/png": "[encoded data removed]",
            "text/plain": [
              "<Figure size 1440x288 with 3 Axes>"
            ]
          },
          "metadata": {
            "tags": [],
            "needs_background": "light"
          }
        },
        {
          "output_type": "stream",
          "text": [
            "Looks like a normal distribution, p-value: 0.13252489882397148\n"
          ],
          "name": "stdout"
        },
        {
          "output_type": "display_data",
          "data": {
            "image/png": "[encoded data removed]",
            "text/plain": [
              "<Figure size 1440x288 with 3 Axes>"
            ]
          },
          "metadata": {
            "tags": [],
            "needs_background": "light"
          }
        },
        {
          "output_type": "stream",
          "text": [
            "Looks like a normal distribution, p-value: 0.907844035265984\n"
          ],
          "name": "stdout"
        },
        {
          "output_type": "display_data",
          "data": {
            "image/png": "[encoded data removed]",
            "text/plain": [
              "<Figure size 1440x288 with 3 Axes>"
            ]
          },
          "metadata": {
            "tags": [],
            "needs_background": "light"
          }
        },
        {
          "output_type": "stream",
          "text": [
            "Does not look like a normal distribution, p-value: 0.04951468172176465\n"
          ],
          "name": "stdout"
        },
        {
          "output_type": "display_data",
          "data": {
            "image/png": "[encoded data removed]",
            "text/plain": [
              "<Figure size 1440x288 with 3 Axes>"
            ]
          },
          "metadata": {
            "tags": [],
            "needs_background": "light"
          }
        },
        {
          "output_type": "stream",
          "text": [
            "Does not look like a normal distribution, p-value: 0.033959112218074364\n"
          ],
          "name": "stdout"
        },
        {
          "output_type": "display_data",
          "data": {
            "image/png": "[encoded data removed]",
            "text/plain": [
              "<Figure size 1440x288 with 3 Axes>"
            ]
          },
          "metadata": {
            "tags": [],
            "needs_background": "light"
          }
        },
        {
          "output_type": "stream",
          "text": [
            "Does not look like a normal distribution, p-value: 0.02993007343177154\n"
          ],
          "name": "stdout"
        },
        {
          "output_type": "display_data",
          "data": {
            "image/png": "[encoded data removed]",
            "text/plain": [
              "<Figure size 1440x288 with 3 Axes>"
            ]
          },
          "metadata": {
            "tags": [],
            "needs_background": "light"
          }
        },
        {
          "output_type": "stream",
          "text": [
            "Looks like a normal distribution, p-value: 0.1466564501834569\n"
          ],
          "name": "stdout"
        },
        {
          "output_type": "display_data",
          "data": {
            "image/png": "[encoded data removed]",
            "text/plain": [
              "<Figure size 1440x288 with 3 Axes>"
            ]
          },
          "metadata": {
            "tags": [],
            "needs_background": "light"
          }
        },
        {
          "output_type": "stream",
          "text": [
            "Does not look like a normal distribution, p-value: 0.0416084638974676\n"
          ],
          "name": "stdout"
        }
      ]
    },
    {
      "cell_type": "code",
      "metadata": {
        "id": "PFt066QgI85I"
      },
      "source": [
        "def two_sample_ttest(x,y,feature_name):\n",
        "  from scipy.stats import ttest_ind\n",
        "\n",
        "  # So, the hypothesis would be H0: mu_x = mu_y vs H1: mu_x != mu_y\n",
        "\n",
        "  #--- Approach 1: code the test\n",
        "  x_bar = x.mean()\n",
        "  y_bar = y.mean()\n",
        "\n",
        "  # Approach: use ttest_ind\n",
        "  t_s, p_value = ttest_ind(x, y, equal_var=False)\n",
        "  print(feature_name)\n",
        "  print('Statistic:',t_s)\n",
        "  print('P-value:',p_value)\n",
        "  if p_value<0.05:\n",
        "    print('Reject H_0: not equal, discriminative, relevant for classification')\n",
        "  else:\n",
        "    print('FAIL to reject H_0')    \n",
        "  print('_______\\n')\n",
        "\n",
        "\n",
        "def wilcoxon_test(x1,x2,name_dist):\n",
        "  x=x1-x2\n",
        "  statistic, p_value_3 = wilcoxon(x)\n",
        "  print('Wilcoxon test for', name_dist, 'has a p-value:\\t\\t', p_value_3)\n",
        "  if p_value_3 < 0.05:\n",
        "    print('\\n- We reject the null hypothesis H0: not equal, discriminative, relevant for classification')\n",
        "  else:\n",
        "    print('\\n- We fail to reject the null hypothesis H0.')\n",
        "  print('________\\n')"
      ],
      "execution_count": 124,
      "outputs": []
    },
    {
      "cell_type": "code",
      "metadata": {
        "colab": {
          "base_uri": "https://localhost:8080/"
        },
        "id": "PcVgupaVJfs5",
        "outputId": "449656ea-795d-4229-a37d-1686f20c4dc3"
      },
      "source": [
        "two_sample_ttest(dfM['radius_mean'],dfB['radius_mean'],'radius_mean') #normal\n",
        "two_sample_ttest(dfM['texture_mean'],dfB['texture_mean'],'texture_mean') #normal\n",
        "two_sample_ttest(dfM['perimeter_mean'],dfB['perimeter_mean'],'perimeter_mean') #normal\n",
        "two_sample_ttest(dfM['area_mean'],dfB['area_mean'],'area_mean') #normal\n",
        "two_sample_ttest(dfM['smoothness_mean'],dfB['smoothness_mean'],'smoothness_mean') #normal\n",
        "wilcoxon_test(dfM['concavity_mean'],dfB['concavity_mean'],'concavity_mean')\n",
        "wilcoxon_test(dfM['compactness_mean'],dfB['compactness_mean'],'compactness_mean')\n",
        "wilcoxon_test(dfM['concave points_mean'],dfB['concave points_mean'],'concave points_mean')\n",
        "two_sample_ttest(dfM['symmetry_mean'],dfB['symmetry_mean'],'symmetry_mean') #normal\n",
        "wilcoxon_test(dfM['fractal_dimension_mean'],dfB['fractal_dimension_mean'],'fractal_dimension_mean')"
      ],
      "execution_count": 125,
      "outputs": [
        {
          "output_type": "stream",
          "text": [
            "radius_mean\n",
            "Statistic: 22.208797758464524\n",
            "P-value: 1.6844591259582747e-64\n",
            "Reject H_0: not equal, discriminative, relevant for classification\n",
            "_______\n",
            "\n",
            "texture_mean\n",
            "Statistic: 11.022086546579432\n",
            "P-value: 3.019055292193917e-25\n",
            "Reject H_0: not equal, discriminative, relevant for classification\n",
            "_______\n",
            "\n",
            "perimeter_mean\n",
            "Statistic: 22.93531376570585\n",
            "P-value: 1.0231409970104587e-66\n",
            "Reject H_0: not equal, discriminative, relevant for classification\n",
            "_______\n",
            "\n",
            "area_mean\n",
            "Statistic: 19.640990165554268\n",
            "P-value: 3.284366459573323e-52\n",
            "Reject H_0: not equal, discriminative, relevant for classification\n",
            "_______\n",
            "\n",
            "smoothness_mean\n",
            "Statistic: 9.297355109660026\n",
            "P-value: 5.573331322107757e-19\n",
            "Reject H_0: not equal, discriminative, relevant for classification\n",
            "_______\n",
            "\n",
            "Wilcoxon test for concavity_mean has a p-value:\t\t 6.866066916496567e-95\n",
            "\n",
            "- We reject the null hypothesis H0: not equal, discriminative, relevant for classification\n",
            "________\n",
            "\n",
            "Wilcoxon test for compactness_mean has a p-value:\t\t 6.866066916496567e-95\n",
            "\n",
            "- We reject the null hypothesis H0: not equal, discriminative, relevant for classification\n",
            "________\n",
            "\n",
            "Wilcoxon test for concave points_mean has a p-value:\t\t 6.866066916496567e-95\n",
            "\n",
            "- We reject the null hypothesis H0: not equal, discriminative, relevant for classification\n",
            "________\n",
            "\n",
            "symmetry_mean\n",
            "Statistic: 8.112197650883767\n",
            "P-value: 5.957650760938452e-15\n",
            "Reject H_0: not equal, discriminative, relevant for classification\n",
            "_______\n",
            "\n",
            "Wilcoxon test for fractal_dimension_mean has a p-value:\t\t 6.866066916496567e-95\n",
            "\n",
            "- We reject the null hypothesis H0: not equal, discriminative, relevant for classification\n",
            "________\n",
            "\n"
          ],
          "name": "stdout"
        }
      ]
    },
    {
      "cell_type": "markdown",
      "metadata": {
        "id": "d45e_d7eqm4g"
      },
      "source": [
        "From the previous histograms, we can deduce several things:\n",
        "1. Mean values for **radius, texture, perimeter, area, compactness, concavity and concave points** seem to be larger in malignant tissue. Therefore, **these variables may be useful for our analysis**. \n",
        "2. Mean values for **smoothness and simmetry** do not seem to change significantly between benignant and malignant tumors. After performing hypothesis testing, we realize that, albeit not at first glance, they can be somehow used to discriminate malign from benign cases, although to a smaller extent than the aforementioned features. Therefore, **these variables may not be that powerful for our analysis, yet still useful**.\n",
        "3. The Mean value for **fractal dimension** does not seem to change significantly between benignant and malignant tumors. Besides, our statistical analysis conclude that the mean for malign and benign distributions for this feature are equal (H_0, which we failed to reject). Therefore, **this variable may not be that relevant, being our statement grounded on visualization, and statistical tools**.\n",
        "\n",
        "#### <span style=\"color:#DB8AC4\">Box Plots</span>\n",
        "We see in the plots that some feature values do not \"follow the pattern\" of the feature's distribution. **In order to further see how feature values are distributed , we will display boxplots**. Boxplots tell us  the distribution of values through quartiles. \n",
        "\n",
        "Scores are sorted. Then four equal sized groups are made from the ordered scores. This is, 25% of all scores are placed in each group. The lines dividing the groups are called *quartiles*, and the groups are referred to as *quartile groups*. We have different elements in our box plots:\n",
        "1. **Median**: the median (middle quartile) marks the mid-point of the data and is shown by the line that divides the box into two parts. Half the scores are greater than or equal to this value and half are less.\n",
        "\n",
        "2. **Inter-quartile range**: the middle “box” represents the middle 50% of scores for the group. The range of scores from lower to upper quartile is referred to as the inter-quartile range. The middle 50% of scores fall within the inter-quartile range.\n",
        "\n",
        "3. **Upper quartile**: seventy-five percent of the scores fall below the upper quartile.\n",
        "\n",
        "4. **Lower quartile**: twenty-five percent of scores fall below the lower quartile.\n",
        "\n",
        "5. **Whiskers**: the upper and lower whiskers represent scores outside the middle 50%. Whiskers often (but not always) stretch over a wider range of scores than the middle quartile groups.\n",
        "\n",
        "Since we have too many features, insead of having a grid of subplots, we will plot each one individually to improve viasualization. \n"
      ]
    },
    {
      "cell_type": "code",
      "metadata": {
        "scrolled": true,
        "id": "Fx81X0qNqm4h"
      },
      "source": [
        "for col in breast_df.loc[:, 'radius_mean':].columns:\n",
        "    breast_df[col].plot(kind='box',figsize=(5,5), colormap='tab20b')\n",
        "    plt.show()"
      ],
      "execution_count": null,
      "outputs": []
    },
    {
      "cell_type": "markdown",
      "metadata": {
        "id": "hA5I_4esqm4i"
      },
      "source": [
        "For most of the variables, there are values that may be considered as **outliers**. We can consider as outliers those values that lie outside the whiskers. In this case, and usually, outliers are identified as those values that are above 1.5 x IQR above the third quartile or below 1.5 x IQR the first quartile. \n",
        "\n",
        "We will handle this outliers soon, during data cleaning.\n",
        "\n",
        "By analizing box plots, we notice that variables are, in general, little dispersed. Boxes height is usually short, which means that feature values are not too dispersed. **The features that show the highest values for dispersion are concavity and concave points**. \n",
        "\n",
        "We can also see that some variables are skewed, this may be to the presence of some values that are more related to one diagnosis over another. If, as an example, concavity mean=0 is associated with diagnosis=B, then, since diagnosis=B is the majority class, the data distribution may be skewed. To solve this, both handling outliers and class balance may help. "
      ]
    },
    {
      "cell_type": "markdown",
      "metadata": {
        "id": "gbRu1tEJqm4i"
      },
      "source": [
        "### <span style=\"color:slateblue\"> 2.4 Multivariate Analysis</span>\n",
        "\n",
        "#### <span style=\"color:#DB8AC4\">Correlation</span>\n",
        "\n",
        "Now we are going to analyze the relationships between pairs of variables. Analyzing the correlation between variables can give us information about:\n",
        "1. **How to handle missing data**: if two variables are highly correlated, they can be used to predict missing values among themselves. \n",
        "2. **Collinearity between variables**: linear models rely on the independency of the variables. The interpretation of a regression coefficient is that it represents the mean change in the dependent variable for each 1 unit change in an independent variable when you hold all of the other independent variables constant. This way, if there exists a significant relationship between predictors, coefficient estimations and predictions can be less precisse and less reliable. It also causes **overfitting** in linear regression analysis models. In our case, we are dealing with a classification problem and we will mainly use non-parametric models, so we won't be significantly affected by multicollinearity. \n",
        "3. **Redundant variables**: features that show a very high correlation may suppose adding redundant data to our analysis, since two predictors may be providing the same information about the response variable. We will further confirm this when variables are scaled.\n",
        "4. **Find relevant relationships for interpretation of the analysis.**\n",
        "\n",
        "To show correlation between features we will both display a **correlation matrix**, a **heatmap** (Pearson's Correlation Coefficient) and a **scatter plot**. "
      ]
    },
    {
      "cell_type": "code",
      "metadata": {
        "id": "mh6t_C2qqm4i"
      },
      "source": [
        "breast_df.corr()"
      ],
      "execution_count": null,
      "outputs": []
    },
    {
      "cell_type": "markdown",
      "metadata": {
        "id": "AMH8jegTqm4j"
      },
      "source": [
        "We can see that **this enormous correlation coefficient is difficult to analyze**. In order to make easier the analysis of correlation, **we will plot a heatmap**. This way, we can visually see the strength of the linear relationship between variables."
      ]
    },
    {
      "cell_type": "code",
      "metadata": {
        "id": "ij3FnBqTqm4j"
      },
      "source": [
        "f,ax=plt.subplots(figsize = (18,18))\n",
        "sns.heatmap(breast_df.corr(),annot= True,linewidths=1,fmt = \".1f\",ax=ax, cmap='RdPu' )\n",
        "plt.xticks(rotation=90)\n",
        "plt.yticks(rotation=0)\n",
        "plt.title('Correlation Map')\n",
        "plt.show()"
      ],
      "execution_count": null,
      "outputs": []
    },
    {
      "cell_type": "markdown",
      "metadata": {
        "id": "nH7MRVZXqm4j"
      },
      "source": [
        "As we predicted with the analysis of the B/M histograms, there is a strong positive linear relationship between the target variable, **diagnosis**, and the mean and worst values for **radius, area, perimeter, concavity and concave points** (Pearson's Coefficient >0.7), being the coefficient with **concave points worst the highest**. Therefore, we could confirm that these variables are important for predicting the target variable. \n",
        "\n",
        "The features that show the lowest (absolute) correlation coefficients with the variable **diagnosis** are the mean and worst values of **fractal dimension, smoothness, simmetry and texture**, being the **mean value for fractal dimension the lowest**. Therefore, these features may be elegible for dropping for a linear model, such as logistic regression. We cannot confirm there are no relationships between these features and the target variable, we can only say that there are no **linear** relationships.\n",
        "\n",
        "In general, **standard deviation values show a low correlation with target variable**, except for that of radius, perimeter and area.\n",
        "\n",
        "We can also detect some relationships between predictors:\n",
        "1. **Radius, Perimeter and Area** mean and worst values show a correlation coefficient near to 1, which indicates that these variables show a positive relationship almost perfectly linear. Specially for linear models, this may be problematic because of the effects of colinearity on the estimations of the coefficients. It may also lead to overfitting and feature redundancy.\n",
        "2. **Concave points, concavity and compactness** also show a high correlation among them. \n",
        "\n",
        "\n",
        "#### <span style=\"color:#DB8AC4\">Scatter Plots</span>\n",
        "\n",
        "Now we will display a scatter plot for each of **the first 10 features against the target variable** to see their relationship. We will also plot the histograms for each variable to see their distribution. "
      ]
    },
    {
      "cell_type": "code",
      "metadata": {
        "id": "ZeNeeMvxqm4j"
      },
      "source": [
        "#We create a list with the columns of our DataFrame\n",
        "cols = list(breast_df.loc[:, :'fractal_dimension_mean'].columns)\n",
        "\n",
        "for col in cols:\n",
        "   \n",
        "    predictor = col\n",
        "    plt.figure(figsize=(22,5))\n",
        "    plt.subplot(1,3,1)\n",
        "    plt.scatter(breast_df[predictor],breast_df['diagnosis'],alpha=0.2, color='#BF5A96')\n",
        "    plt.xlabel(predictor)\n",
        "    plt.ylabel('diagnosis')\n",
        "\n",
        "    plt.subplot(1,3,2)\n",
        "    plt.hist(breast_df[predictor],bins=20, color='#FFCCCB')\n",
        "    plt.xlabel(predictor)\n",
        "\n",
        "    plt.subplot(1,3,3)\n",
        "    plt.hist(breast_df['diagnosis'],bins=20, color='#DB8AC4')\n",
        "    plt.xlabel('diagnosis')\n",
        "\n",
        "    plt.show()"
      ],
      "execution_count": null,
      "outputs": []
    },
    {
      "cell_type": "markdown",
      "metadata": {
        "id": "1AwFtAtuqm4k"
      },
      "source": [
        "As we can see, due to the distribution of the outcomes with respect to each of the variables, mean values for **radius, perimeter, area, compactness, concavity and concave points** may be suitable for **logistic regression**, since we can clearly see that samples are well distributed for the sigmoid function to be able to predict the desirable output. \n",
        "\n",
        "We can also notice that most of the variables show, approximately, a **normal distribution**. Hence, for future data transformation steps, we could take this into account to choose the correct transformation method (Standard Scaler/Min-Max Scaler/others). It is usually preferrable to use standardization on normally distributed data. Therefore, we will use this method for scaling. "
      ]
    },
    {
      "cell_type": "markdown",
      "metadata": {
        "id": "FB2ovOX6qm4k"
      },
      "source": [
        "#### <span style=\"color:#DB8AC4\">Graphical 2D</span>\n",
        "\n",
        "It's the time to analyze interaction between pairs of variables and data distribution with respect to diagnosis. This may be useful to choose a model that can fit the data in the best manner.\n",
        "\n",
        "We will plot a **scatter matrix** of the ten first features (representing mean values, since we have seen they are representative of the correlation values for the rest of the features, standard deviation and worst values), and also with the target variable."
      ]
    },
    {
      "cell_type": "code",
      "metadata": {
        "id": "Muzx-yrMqm4k"
      },
      "source": [
        "sns.set_context(\"paper\", rc={\"axes.labelsize\":15})\n",
        "sns.pairplot(breast_df.loc[:, :'fractal_dimension_mean'], palette=\"RdPu\", hue='diagnosis', diag_kind=\"hist\", corner=True)"
      ],
      "execution_count": null,
      "outputs": []
    },
    {
      "cell_type": "markdown",
      "metadata": {
        "id": "PW_zOK7fqm4k"
      },
      "source": [
        "In almost every plot, we can see that data show two clear clusters. This is, data is quite differentiates across variables with respect to the diagnosis. The features that do not show a strong behavior in this sense are **simmetry_mean** and **fractal_dimension_mean**. \n",
        "\n",
        "By looking at the plots, **we can see that only 2 features may be useful to predict variable diagnosis**, since data is well differentiated for classification algorithms. This is, we are interested in later peforming **feature selection** in order to reduce the dimensionality of our dataset and reduce overfitting. We may also be interested in performing **feature extraction** (e.g. PCA) to find independent components that explain most of the variability of the dataset, getting rid of redundant data and reducing dimensionality as well."
      ]
    },
    {
      "cell_type": "markdown",
      "metadata": {
        "id": "OuS4ziDWqm4l"
      },
      "source": [
        "<a id='Pre'></a>\n",
        "## <span style=\"color:darkslateblue\">3. Pre-processing of the Data Set</span>\n",
        "\n",
        "### <span style=\"color:slateblue\"> 3.1 Missing Values</span>\n",
        "\n",
        "As we saw in the previous section, **there are no explicit missing values**. By explicit missing values we mean those values that are actually **NaN** values. Non-explicit missing values are those missing values that must be found by analysis and inspection of the data. As an example, it is possible that some rows have zero values for some features. Then, we could deduce that the data has not been properly collected. It's also possible that these values are rational and consistent with our data. It's easier to identify them when feature domains are properly described in the dataset description by the source.\n",
        "\n",
        "Looking for zero values is the first approach. In our case, zero values only appear for **concavity and concave points** mean, standard deviation and worst values. By inspecting the dataset, we see that these values only appear for diagnosis=\"B\", which may mean that these values are actually related to this diagnosis and that may be consistent with the data, i.e values are correct."
      ]
    },
    {
      "cell_type": "code",
      "metadata": {
        "id": "F068_0L1qm4o"
      },
      "source": [
        "breast_df.loc[:, [\"diagnosis\", \"concavity_mean\", \"concave points_mean\"]][breast_df[\"concavity_mean\"]==0].head()"
      ],
      "execution_count": null,
      "outputs": []
    },
    {
      "cell_type": "markdown",
      "metadata": {
        "id": "KFcnt4wRqm4p"
      },
      "source": [
        "We don't see any other non-explicit missing values by data inspection, so we will move to analyze outliers.\n",
        "\n",
        "### <span style=\"color:slateblue\"> 3.2 Outliers</span>\n",
        "\n",
        "We have already displayed the box plot for each feature. Now, we will follow two steps:\n",
        "1. Find **number of outliers** for each variable.\n",
        "2. **Handle outliers**: once we determine the number of outliers that each feature presents, we will decide which methods we should follow in order to handle these values. \n",
        "\n",
        "First of all, we should analyze descriptive statistic metrics of our data (mean, std, min, max) in order to detect **non-explicit outliers**. This is, there may be some values for our data that are non-rational with respect to the feature nature. It may be possible that there is an error through the collection or integration of the data if values for a feature do not resemble the reality.\n",
        "\n",
        "As an example, if we suppose that mean value for radius is given in $\\mu$, we wouldn't identify any values as non-explicit outliers since min, max and mean correspond to the normal range of values for cell nucleus radius. \n",
        "\n",
        "**Since we have not been provided with the characteristics, magnitude and usual domain of our features, we are not able to look for non-explicit outliers**. Therefore, **we will proceed to the automatic analysis of outliers**, that will look for those values that lie outside the \"pattern\" of the data.\n",
        "\n",
        "Assuming a **gaussian distribution** of the data, we will detect outliers by computing the z-score for each column. Then, we will consider as outliers those values that lie further than 2.5 standard deviations from the mean, which is approximately equivalent to the outliers considered in the box plots of the previous section.\n",
        "\n",
        "<img src=https://miro.medium.com/max/1400/1*J5Xm0X-phCJJ-DKZMZ_88w.png width=600>\n",
        "\n",
        "Since variables show shifted distributions between target values (B/M), we are going to **identify and handle outliers independently for beningant and malignant outcomes**. This way, we won't loose data that may be important for our analysis, and outliers will be properly handled.\n",
        "\n",
        "Outliers may not be incorrect values but values that lie far from a population. They may be exceptional values, so we should consider this when handling outliers. **It is not acceptable to drop an observation just because it is an outlier**. They can be legitimate observations that can provide interesting information about our data. For this reason, **it's important to further analyze the nature of the outlier before deciding**."
      ]
    },
    {
      "cell_type": "code",
      "metadata": {
        "id": "3Ty-pAOuqm4q"
      },
      "source": [
        "#List of features\n",
        "cols = breast_df.loc[:, 'radius_mean':].columns\n",
        "\n",
        "#Diagnosis=B dataframe (indexes are conserved)\n",
        "B_df = breast_df[breast_df[\"diagnosis\"]==0]\n",
        "#Diagnosis=M dataframe\n",
        "M_df = breast_df[breast_df[\"diagnosis\"]==1]\n",
        "#Dictionary of dataframes\n",
        "df_dict = {0: B_df, 1:M_df}\n",
        "\n",
        "min_ci = []\n",
        "max_ci=[]\n",
        "number_outliers=[]\n",
        "percentage_outliers=[]\n",
        "\n",
        "#Possible diagnosis values\n",
        "diagnosis = breast_df['diagnosis'].unique()\n",
        "\n",
        "for df in range(len(df_dict)):\n",
        "    \n",
        "    min_ci_i = []\n",
        "    max_ci_i=[]\n",
        "    number_outliers_i=[]\n",
        "    percentage_outliers_i=[]\n",
        "    \n",
        "    label = str(df)\n",
        "    \n",
        "    df=df_dict[df]\n",
        "    \n",
        "    for col in cols:\n",
        "\n",
        "        #New items with z-score <= 2.5 will be included in this interval\n",
        "        confidence_interval = []\n",
        "\n",
        "        count_outliers = 0\n",
        "\n",
        "        col_zscore = col + '_zscore'\n",
        "\n",
        "        #Create a new column for each of the variables in which z-scores are stored\n",
        "        df[col_zscore] = (df[col] - df[col].mean())/df[col].std(ddof=1)\n",
        "\n",
        "        for x in range(len(df[col_zscore])):\n",
        "\n",
        "            #If z-score is less than 2.5, we will add this value to the confidence interval\n",
        "            if np.absolute(df[col_zscore].iat[x]) < 2.5:\n",
        "\n",
        "                confidence_interval.append(df[col].iat[x])\n",
        "\n",
        "            #If not, we will sum one unit to the number of outliers (values = NaN or with z-score > 2.5)\n",
        "            else:\n",
        "                  count_outliers += 1\n",
        "        \n",
        "        min_ci_i.append(min(confidence_interval))\n",
        "        max_ci_i.append(max(confidence_interval))\n",
        "        number_outliers_i.append(count_outliers)\n",
        "        percentage_outliers_i.append(count_outliers*100/len(breast_df[col]))\n",
        "        \n",
        "    min_ci.append(min_ci_i)\n",
        "    max_ci.append(max_ci_i)\n",
        "    number_outliers.append(number_outliers_i)\n",
        "    percentage_outliers.append(percentage_outliers_i)"
      ],
      "execution_count": null,
      "outputs": []
    },
    {
      "cell_type": "code",
      "metadata": {
        "id": "ZsDcL4lyqm4r"
      },
      "source": [
        "#Outliers for B samples\n",
        "B_outliers_df = pd.DataFrame(list(zip(min_ci[0], max_ci[0], number_outliers[0], percentage_outliers[0])), columns=[\"Min Confidence Interval\", \"Max Confidence Interval\", \"Number of Outliers\", \"Percentage of Outliers\"])\n",
        "B_outliers_df.index=cols\n",
        "B_outliers_df"
      ],
      "execution_count": null,
      "outputs": []
    },
    {
      "cell_type": "code",
      "metadata": {
        "scrolled": false,
        "id": "SF_p1XFwqm4r"
      },
      "source": [
        "#Outliers for M samples \n",
        "M_outliers_df = pd.DataFrame(list(zip(min_ci[1], max_ci[1], number_outliers[1], percentage_outliers[1])), columns=[\"Min Confidence Interval\", \"Max Confidence Interval\", \"Number of Outliers\", \"Percentage of Outliers\"])\n",
        "M_outliers_df.index=cols\n",
        "M_outliers_df"
      ],
      "execution_count": null,
      "outputs": []
    },
    {
      "cell_type": "markdown",
      "metadata": {
        "id": "wncbjxYkqm4s"
      },
      "source": [
        "As we can see, **the number of outliers for each variable is very little**. If the proportion of outliers was higher, we would consider to drop some features but, in this case, the percentage is minimum. The low number of outliers, **together with the the abscence of outlier management in previous literature for this dataset, leads us to think that these values may be actually correct values which lie exceptionally far from the mean**. If this is the case, we shouldn't then eliminate them since they could bring some important information about the data distribution and we could make wrong assumptions and obtain bad results in their abscence. \n",
        "\n",
        "We can also notice that **confidence intervals are swifted to the right for malignant samples**, as we also notice during data visualization. If we studied outliers for the whole data (B and M), we could lead to wrong conclusions when computing the confidence interval since, as it has been shown, in general, there is a relationship between diagnosis and mean values. \n",
        "\n",
        "When managing outliers, in order to implement methods such as **mean, median or random imputation**, then features are assumed to be independent. As we have seen during visualization, this assumption does not hold for our data, since features are highly correlated. Then, by using these methods we could introduce bias in our analysis. \n",
        "\n",
        "We should then need to **handle outliers in a tailored way**. Since features are highly correlated, then some features could predict others. In this sense, we could perform regression to predict values considered as outliers training a model with pairs of variables since there may be the case where an observation presents outliers for more than one feature. This method would definitely be the best one but it is **computationally expensive** and maybe, unnecessary since outliers may be just correct values that are not as frequent as others more close to the mean.\n",
        "\n",
        "Then, **in order to see if the presence of these outliers actually change data assumptions and results**, we are going to create a **dataset where all rows with null values are eliminated, train a model and compare results** with those from another model trained with the original data."
      ]
    },
    {
      "cell_type": "code",
      "metadata": {
        "id": "odMlxDy7qm4s"
      },
      "source": [
        "null_breast_df = breast_df.copy()\n",
        "\n",
        "indexes = []\n",
        "\n",
        "for df in range(len(df_dict)):\n",
        "    label=str(df)\n",
        "    df=df_dict[df]\n",
        "\n",
        "    for col in cols:\n",
        "\n",
        "        col_zscore = col + '_zscore'\n",
        "\n",
        "        for index, row in df.iterrows():\n",
        "\n",
        "            #If z-score is less than or equal to 2.5, we will transform this value into a NaN value\n",
        "            if np.absolute(row[col_zscore]) >= 2.5:\n",
        "                \n",
        "                null_breast_df[col].iat[index] = np.nan\n",
        "                \n",
        "                indexes.append(index)\n",
        "                "
      ],
      "execution_count": null,
      "outputs": []
    },
    {
      "cell_type": "code",
      "metadata": {
        "id": "HCMqGUSXqm4t"
      },
      "source": [
        "#Total number of outliers\n",
        "null_breast_df.isnull().sum().sum()"
      ],
      "execution_count": null,
      "outputs": []
    },
    {
      "cell_type": "code",
      "metadata": {
        "id": "343w9ze2qm4t"
      },
      "source": [
        "#Dataframe with dropped rows with, at least, one null value\n",
        "dropped_df=null_breast_df.copy().dropna()\n",
        "dropped_df.shape"
      ],
      "execution_count": null,
      "outputs": []
    },
    {
      "cell_type": "code",
      "metadata": {
        "id": "-4y4EIuXqm4u"
      },
      "source": [
        "sns.set_context(\"paper\", rc={\"axes.labelsize\":15})\n",
        "sns.pairplot(dropped_df.loc[:, :'fractal_dimension_mean'], palette=\"RdPu\", hue='diagnosis', diag_kind=\"hist\", corner=True)"
      ],
      "execution_count": null,
      "outputs": []
    },
    {
      "cell_type": "markdown",
      "metadata": {
        "id": "2mcyr9Dhqm4u"
      },
      "source": [
        "By now, we can see that **sample distribution has not changed a lot**. Clusters of data can be slightly better identified, but not with dramatic differences. Moreover, we have eliminated 117 observations, which accounts for **20.5% of the data**. We would eliminate a **huge** amount of data, which may not be desirable.\n",
        "\n",
        "Now we are going to test how the deletion of these outliers may affect performance of the model. To do that, we will train four different models, the ones that we will further use in our analysis, and see how performance metrics change for each one. \n",
        "\n",
        "First we will split data into train and test and scale sets."
      ]
    },
    {
      "cell_type": "code",
      "metadata": {
        "id": "hDK3HVRrqm4v"
      },
      "source": [
        "#X_d for dropped dataframe and X for original dataset\n",
        "X_d, X = dropped_df.loc[:, 'radius_mean':], breast_df.loc[:, 'radius_mean':]\n",
        "y_d, y = dropped_df['diagnosis'], breast_df['diagnosis']"
      ],
      "execution_count": null,
      "outputs": []
    },
    {
      "cell_type": "code",
      "metadata": {
        "id": "J8jkBn3Jqm4v"
      },
      "source": [
        "#Train, Test split\n",
        "X_train, X_test, y_train, y_test = train_test_split(X, y, random_state = 2)\n",
        "X_train_d, X_test_d, y_train_d, y_test_d = train_test_split(X_d, y_d, random_state = 2)\n",
        "\n",
        "#Scale data\n",
        "scaler = StandardScaler()\n",
        "X_train, X_train_d = scaler.fit_transform(X_train), scaler.fit_transform(X_train_d)\n",
        "X_test, X_test_d = scaler.fit_transform(X_test), scaler.fit_transform(X_test_d)"
      ],
      "execution_count": null,
      "outputs": []
    },
    {
      "cell_type": "code",
      "metadata": {
        "id": "Va0QfETEqm4v"
      },
      "source": [
        "lr = LogisticRegression(random_state=2, solver='liblinear')\n",
        "kn = KNeighborsClassifier()\n",
        "dt = DecisionTreeClassifier(random_state=2)\n",
        "nn = MLPClassifier(random_state=2)\n",
        "rf = RandomForestClassifier(random_state=2)\n",
        "\n",
        "models = [lr, kn, dt, nn, rf]\n",
        "models_names=['Logistic Regression', 'KNN Classifier', 'Decision Tree Classifier', \"Neural Network Classifier\", \"Random Forest Classifier\"]\n",
        "\n",
        "train_accuracy = []\n",
        "cv_accuracy=[]\n",
        "test_accuracy=[]\n",
        "\n",
        "data=[[X_train, X_test, y_train, y_test], [X_train_d, X_test_d, y_train_d, y_test_d]]\n",
        "\n",
        "for dataset in data:\n",
        "    \n",
        "    train_accuracy_i=[]\n",
        "    cv_accuracy_i=[]\n",
        "    test_accuracy_i=[]\n",
        "    \n",
        "    for model in range(len(models)):\n",
        "        model_ = clone(models[model])\n",
        "        model_.fit(dataset[0], dataset[2])\n",
        "        \n",
        "        #--Train scores\n",
        "        y_pred_train = model_.predict(dataset[0])\n",
        "        train_accuracy_i.append(accuracy_score(dataset[2], y_pred_train))\n",
        "        \n",
        "        #--Validation scores\n",
        "        cv_results = cross_validate(model_, dataset[0], dataset[2], scoring=[\"accuracy\"] , return_train_score=True)\n",
        "        cv_accuracy_i.append(abs(np.mean(cv_results['test_accuracy'])))\n",
        "                           \n",
        "        #--Test scores\n",
        "        y_pred_test = model_.predict(dataset[1])\n",
        "        test_accuracy_i.append(accuracy_score(dataset[3], y_pred_test))\n",
        "    \n",
        "    train_accuracy.append(train_accuracy_i)\n",
        "    cv_accuracy.append(cv_accuracy_i)\n",
        "    test_accuracy.append(test_accuracy_i)\n",
        "    \n",
        "original_outliers_df = pd.DataFrame(list(zip(train_accuracy[0], cv_accuracy[0], test_accuracy[0])), columns=[\"Train Accuracy\", \"Validation Accuracy\", \"Test Accuracy\"])\n",
        "original_outliers_df.index=models_names\n",
        "                             \n",
        "dropped_outliers_df = pd.DataFrame(list(zip(train_accuracy[1], cv_accuracy[1], test_accuracy[1])), columns=[\"Train Accuracy\", \"Validation Accuracy\", \"Test Accuracy\"])\n",
        "dropped_outliers_df.index=models_names\n"
      ],
      "execution_count": null,
      "outputs": []
    },
    {
      "cell_type": "code",
      "metadata": {
        "scrolled": false,
        "id": "RKcfBBLNqm4w"
      },
      "source": [
        "original_outliers_df.head()"
      ],
      "execution_count": null,
      "outputs": []
    },
    {
      "cell_type": "code",
      "metadata": {
        "scrolled": false,
        "id": "3zvihSgbqm4w"
      },
      "source": [
        "dropped_outliers_df.head()"
      ],
      "execution_count": null,
      "outputs": []
    },
    {
      "cell_type": "markdown",
      "metadata": {
        "id": "fdwmVaQrqm4w"
      },
      "source": [
        "We obtain very similar results for both datasets. We obtain, in general, slightly better results for the cleaned dataset. However, **we will rather choose the original dataset to not to lose important information** that may be relevant for future feature selection, extraction and final discussion. Removing such a high percentage of the data is not recommended. Moreover, in this case outliers do not seem to represent incorrect observations since there is not a significant effect on performance. We have also noticed that, in general, outliers have not been treated in other papers.\n",
        "\n",
        "It's important to note that these results indicate that this dataset may be suitable for **data reduction**, limiting the amount of observations by conserving relevant information. Since our dataset is not too big so computation times may result annoying for the analysis, we will rather mantain our original dataset for modelling."
      ]
    },
    {
      "cell_type": "code",
      "metadata": {
        "id": "gWRsmrzLqm4w"
      },
      "source": [
        "ax = sns.countplot(dropped_df['diagnosis'],label=\"count\", palette=\"RdPu\")\n",
        "\n",
        "without_hue(ax, dropped_df['diagnosis'])"
      ],
      "execution_count": null,
      "outputs": []
    },
    {
      "cell_type": "markdown",
      "metadata": {
        "id": "96nHBonHqm4x"
      },
      "source": [
        "**Dropping rows with outliers leads to a dataset with virtually the same class imbalance** and the same sample distribution (visually), so we can also conclude that **these \"outliers\" may just be correct values that are far from the population**, since their elimination do not substantially change neither performance metrics nor distribution of the data for modelling."
      ]
    },
    {
      "cell_type": "markdown",
      "metadata": {
        "id": "ssFxaX9aqm4x"
      },
      "source": [
        "### <span style=\"color:slateblue\"> 3.3 Class Balancing</span>\n",
        "We will check if class balancing provides better performance results, since we could introduce bias in our analysis. By undersampling, since we do not have a big dataset, we would loos a huge quantity of data. Therefore, we will use a methdod for class balancing called **SMOTE**. It is an oversampling method that synthetically adds new samples for the minority class. \n",
        "\n",
        "As an example in 2D, for each observation that belongs to the under-represented class, the algorithm gets its K-nearest-neighbors and synthesizes a new instance of the minority label at a random location in the line between the current observation and its nearest neighbor. \n"
      ]
    },
    {
      "cell_type": "code",
      "metadata": {
        "id": "mmKgw4H2qm4x"
      },
      "source": [
        "from imblearn.over_sampling import SMOTE\n",
        "sm = SMOTE(sampling_strategy='auto', k_neighbors=3, random_state=2)\n",
        "X_res, y_res = sm.fit_resample(X, y)"
      ],
      "execution_count": null,
      "outputs": []
    },
    {
      "cell_type": "code",
      "metadata": {
        "id": "90ez3nTNqm4y"
      },
      "source": [
        "X_train_res, X_test_res, y_train_res, y_test_res = train_test_split(X_res, y_res, random_state = 2)\n",
        "\n",
        "#Scale data\n",
        "X_train_res= scaler.fit_transform(X_train_res)\n",
        "X_test_res = scaler.fit_transform(X_test_res)"
      ],
      "execution_count": null,
      "outputs": []
    },
    {
      "cell_type": "code",
      "metadata": {
        "id": "mvMlldMfqm4y"
      },
      "source": [
        "lr = LogisticRegression(random_state=2, solver='liblinear')\n",
        "kn = KNeighborsClassifier()\n",
        "dt = DecisionTreeClassifier(random_state=2)\n",
        "nn = MLPClassifier(random_state=2)\n",
        "rf = RandomForestClassifier(random_state=2)\n",
        "\n",
        "models = [lr, kn, dt, nn, rf]\n",
        "models_names=['Logistic Regression', 'KNN Classifier', 'Decision Tree Classifier', \"Neural Network Classifier\", \"Random Forest Classifier\"]\n",
        "\n",
        "train_accuracy = []\n",
        "cv_accuracy=[]\n",
        "test_accuracy=[]\n",
        "\n",
        "data=[[X_train, X_test, y_train, y_test], [X_train_res, X_test_res, y_train_res, y_test_res]]\n",
        "\n",
        "for dataset in data:\n",
        "    \n",
        "    train_accuracy_i=[]\n",
        "    cv_accuracy_i=[]\n",
        "    test_accuracy_i=[]\n",
        "    \n",
        "    for model in range(len(models)):\n",
        "        model_ = clone(models[model])\n",
        "        model_.fit(dataset[0], dataset[2])\n",
        "        \n",
        "        #--Train scores\n",
        "        y_pred_train = model_.predict(dataset[0])\n",
        "        train_accuracy_i.append(accuracy_score(dataset[2], y_pred_train))\n",
        "        \n",
        "        #--Validation scores\n",
        "        cv_results = cross_validate(model_, dataset[0], dataset[2], scoring=[\"accuracy\"] , return_train_score=True)\n",
        "        cv_accuracy_i.append(abs(np.mean(cv_results['test_accuracy'])))\n",
        "                           \n",
        "        #--Test scores\n",
        "        y_pred_test = model_.predict(dataset[1])\n",
        "        test_accuracy_i.append(accuracy_score(dataset[3], y_pred_test))\n",
        "    \n",
        "    train_accuracy.append(train_accuracy_i)\n",
        "    cv_accuracy.append(cv_accuracy_i)\n",
        "    test_accuracy.append(test_accuracy_i)\n",
        "    \n",
        "original_df = pd.DataFrame(list(zip(train_accuracy[0], cv_accuracy[0], test_accuracy[0])), columns=[\"Train Accuracy\", \"Validation Accuracy\", \"Test Accuracy\"])\n",
        "original_df.index=models_names\n",
        "                             \n",
        "balanced_df = pd.DataFrame(list(zip(train_accuracy[1], cv_accuracy[1], test_accuracy[1])), columns=[\"Train Accuracy\", \"Validation Accuracy\", \"Test Accuracy\"])\n",
        "balanced_df.index=models_names\n"
      ],
      "execution_count": null,
      "outputs": []
    },
    {
      "cell_type": "code",
      "metadata": {
        "scrolled": false,
        "id": "hrzyJz4wqm4y"
      },
      "source": [
        "original_df.head()"
      ],
      "execution_count": null,
      "outputs": []
    },
    {
      "cell_type": "code",
      "metadata": {
        "scrolled": false,
        "id": "XrjZWyoyqm4y"
      },
      "source": [
        "balanced_df.head()"
      ],
      "execution_count": null,
      "outputs": []
    },
    {
      "cell_type": "markdown",
      "metadata": {
        "id": "vW-IHpfSqm4z"
      },
      "source": [
        "Since we **obtained better results after balancing data**, we will retain this new dataset for further analysis."
      ]
    },
    {
      "cell_type": "code",
      "metadata": {
        "id": "W1-RiPX5qm4z"
      },
      "source": [
        "X_train, X_test, y_train, y_test = X_train_res, X_test_res, y_train_res, y_test_res"
      ],
      "execution_count": null,
      "outputs": []
    },
    {
      "cell_type": "markdown",
      "metadata": {
        "id": "af2YQUjsqm4z"
      },
      "source": [
        "<a id='Modelling'></a>\n",
        "## <span style=\"color:darkslateblue\">4. **Supervised or Unsupervised Learning**</span>\n",
        "\n",
        "Since the purpose of the analysis of this dataset is to determine the presence of malignancy in a tisse based on the characteristics of the their nuclei given a set of observations with their corresponding labels, **we will primarily perfrom supervised learning**. This is, we will train a model with labelled observations which will learn the underlying pattern of the data useful to predict labels correctly by minimizing a cost function that takes into account both predicted and current labels. \n",
        "\n",
        "Unsupervised learning is used when data is unlabelled, or when we want to get some insight into the distribution of the data when performing exploratory analysis.\n",
        "\n",
        "We will train four different models corresponding to **Logistic Regression, KNN, Decision Tree and Neural Networks Classifier algorithms**. First, we will tune hyperparameters and analyze validation curves to avoid overfitting and get the best performance metrics. Then, we will train the models with the best parameters found and once obtained the results, we will interpret and discuss them.\n"
      ]
    },
    {
      "cell_type": "markdown",
      "metadata": {
        "id": "3iYjl5Rjqm4z"
      },
      "source": [
        "\n",
        "### <span style=\"color:slateblue\"> 4.1 Hyperparameter Tuning</span>\n",
        "\n",
        "**Hyperparameters** are by definition input parameters which are required by an algorithm to learn from data. They **help estimate model parameters** by controlling the learning process of the model and they must be set and tuned manually.\n",
        "\n",
        "Hyperparameter tuning refers to the process of finding the hyperparameters values for our model to optimally learn from the data. In order to find them, we will use the function **GridSearchCV**. This function helps to find the best hyperparameters by looking for the parameters that provide the best cv scores, according to a predefined score, such as accuracy. In fact, since we are dealing with a classification problem, we will use score **accuracy** to find the best hyperparameters.\n",
        "\n",
        "For some hyperparameters, such as the number of neighbors, we will have to introduce a range of values to the grid search. In order to avoid overfitting, we will **select ranges of grid params by analyzing validation curves**. Validation curves allow us to find those ranges that provide the best and closest scores for validation and train.\n",
        "\n",
        "The more the hyperparameters of an algorithm you introduce to the grid seach, the slower the tuning process, since GridSearchCV trains and test every combination of parameters. Therefore, it is desirable to choose a small subset of hyperparameters to search.\n",
        "\n",
        "#### <span style=\"color:#DB8AC4\">Logistic Regression</span>\n",
        "\n",
        "Parameters we will tune for Logistic Regression Classifier:\n",
        "- **Penalty**: norm used for regularization. We will choose between **L1** and **L2**.  <br>\n",
        "- **C**: this is the regularization parameter ($C=\\frac{1}{\\lambda}$). It controls the penalty strength ($\\text{regularization strength}= \\lambda=\\frac{1}{C}$). The larger the C value, the less penalty for the regularization norm L1 or L2. C must be greater than 0. Default is 1, so in this case we will select a range of C for search accorcding to the validation curve for this parameter. \n",
        "\n",
        "Solver: we will use ***liblinear*** as the model for Logistic Regression. This method is recommended for high dimensional datasets, as in our case. This solver uses **coordinate descent (CD)** algorithm that solves optimization problems by successively performing approximate minimization along coordinate directions or coordinate hyperplanes. It was the one used as default for LogisticRegression() before it was replaced by lbfgs. Furthermore, it can handle both L1 and L2 penalty, whereas lbfgs only handles L1."
      ]
    },
    {
      "cell_type": "code",
      "metadata": {
        "scrolled": true,
        "id": "PF2tmXEBqm40"
      },
      "source": [
        "#Validation curve for Logistic Regression parameter C\n",
        "param_range = np.arange(0.01, 0.4, 0.1)\n",
        "\n",
        "train_scores, test_scores = validation_curve(estimator=LogisticRegression(random_state=2), \n",
        "                                             X=X_train, y=y_train,\n",
        "                                             cv=10, \n",
        "param_name='C', param_range=param_range)\n",
        "\n",
        "#\n",
        "train_mean = np.mean(train_scores, axis=1)\n",
        "test_mean = np.mean(test_scores, axis=1)\n",
        "#\n",
        "# Plot the model scores (accuracy) against the paramater range\n",
        "#\n",
        "plt.plot(param_range, train_mean, \n",
        "         marker='o', markersize=5, \n",
        "         color='blue', label='Training Accuracy')\n",
        "plt.plot(param_range, test_mean, \n",
        "         marker='o', markersize=5, \n",
        "         color='green', label='Validation Accuracy')\n",
        "plt.xlabel('Parameter C')\n",
        "plt.ylabel('Accuracy')\n",
        "plt.grid()\n",
        "plt.show()"
      ],
      "execution_count": null,
      "outputs": []
    },
    {
      "cell_type": "markdown",
      "metadata": {
        "id": "SeeI4i1Yqm40"
      },
      "source": [
        "As we can see, approximately at 0.2, validation scores start decreasing, which means that the model may be overfitting, since we can see that scores for train continue increasing while validation scores continue decreasing. Then, we will select a **range of parameters for C such that np.arrange(0.01, 0.2, 0.01)**.\n",
        "\n",
        "#### <span style=\"color:#DB8AC4\">KNN Classificater</span>\n",
        "\n",
        "Parameters we will tune for KNN Classifier:\n",
        "- **Number of neighbors K**: the number f neighbors depends on the data. In order to select a range of K suitable for searching and avoid overfitting, we will look at the validation curve for this variable.\n",
        "- **Distance Metric**: it defines the way of calculating distances. We will choose beween **Euclidean or Manhattan Distances**. Euclidean distance is the shortest distance between two points, whereas manhattan distance is the sum of absolute differences between points across all the dimensions. \n",
        "- **Weights**: weights determine the way in which neighbors are relevant to the prediction. We will choose between **uniform** (all points in each neighborhood are weighted equally** and **distance** (weight points by the inverse of their distance in a way that closer neighbors have a greater influence than those further away)."
      ]
    },
    {
      "cell_type": "code",
      "metadata": {
        "id": "HO4zij6eqm40"
      },
      "source": [
        "#Validation curve for KNN Classifier parameter \"n_neighbors\"\n",
        "param_range = np.arange(1,20,1)\n",
        "train_scores, test_scores = validation_curve(estimator= kn, \n",
        "                                             X=X_train, y=y_train,\n",
        "                                             cv=10, \n",
        "param_name='n_neighbors', param_range=param_range)\n",
        "\n",
        "#\n",
        "train_mean = np.mean(train_scores, axis=1)\n",
        "test_mean = np.mean(test_scores, axis=1)\n",
        "#\n",
        "# Plot the model scores (accuracy) against the paramater range\n",
        "#\n",
        "plt.plot(param_range, train_mean, \n",
        "         marker='o', markersize=5, \n",
        "         color='blue', label='Training Accuracy')\n",
        "plt.plot(param_range, test_mean, \n",
        "         marker='o', markersize=5, \n",
        "         color='green', label='Validation Accuracy')\n",
        "plt.xlabel('Parameter Number of Neighbors')\n",
        "plt.ylabel('Accuracy')\n",
        "plt.xticks(param_range)\n",
        "plt.grid()\n",
        "plt.show()"
      ],
      "execution_count": null,
      "outputs": []
    },
    {
      "cell_type": "markdown",
      "metadata": {
        "id": "G99L2xkQqm40"
      },
      "source": [
        "As we can see, from k=5 on, scores both for train and validation vary accordingly and are similar. Then, we will choose a **k range np.arange(5, 10, 1)**. \n",
        "\n",
        "#### <span style=\"color:#DB8AC4\">Decision Tree Classifier</span>\n",
        "\n",
        "Parameters we will tune for Decision Tree Classifier:\n",
        "- **Criterion**: this determines the function that will be used to consider the quality of split. We will choose between **Gini** and **Entropy**, which correspond to Gini Index and Information Gain methods, respectively.\n",
        "- **Max Depth of the tree**: this parameter determines the maximum depth of the tree. \n",
        "- **Min Samples per split**: this parameter determines the minimum number of samples required to split an internal node.\n",
        "\n",
        "The last two parameters determine the complexity of the tree and they are usually tuned in order to avoid overfitting. To select the ranges we will search, we are going to visualize validation curves for both variables."
      ]
    },
    {
      "cell_type": "code",
      "metadata": {
        "id": "0S9Ms1-uqm41"
      },
      "source": [
        "#Validation curve for Decision Tree Classifier parameter \"max_depth\"\n",
        "param_range = np.arange(1,20,1)\n",
        "train_scores, test_scores = validation_curve(estimator= dt, \n",
        "                                             X=X_train, y=y_train,\n",
        "                                             cv=10, \n",
        "param_name='max_depth', param_range=param_range)\n",
        "\n",
        "#\n",
        "train_mean = np.mean(train_scores, axis=1)\n",
        "test_mean = np.mean(test_scores, axis=1)\n",
        "#\n",
        "# Plot the model scores (accuracy) against the paramater range\n",
        "#\n",
        "plt.plot(param_range, train_mean, \n",
        "         marker='o', markersize=5, \n",
        "         color='blue', label='Training Accuracy')\n",
        "plt.plot(param_range, test_mean, \n",
        "         marker='o', markersize=5, \n",
        "         color='green', label='Validation Accuracy')\n",
        "plt.xlabel('Parameter Maximum Depth')\n",
        "plt.ylabel('Accuracy')\n",
        "plt.xticks(param_range)\n",
        "plt.grid()\n",
        "plt.show()"
      ],
      "execution_count": null,
      "outputs": []
    },
    {
      "cell_type": "markdown",
      "metadata": {
        "id": "xBPnPclIqm41"
      },
      "source": [
        "As we can clearly see, train and validation scores increase from 0 until max_depth=2, where train continues slightly increasing whereas validation scores eventually decrease and remain stable, and scores for train and validation start distancing, concluding that from this value on, overfitting may occur.  Therefore, we will choose a **range for max_depth equal to np.arange(2,4,1)**."
      ]
    },
    {
      "cell_type": "code",
      "metadata": {
        "id": "Gz0mGzY-qm41"
      },
      "source": [
        "#Validation curve for Decision Tree Classifier parameter \"min_samples_leaf\"\n",
        "param_range = np.arange(1,30,1)\n",
        "train_scores, test_scores = validation_curve(estimator= DecisionTreeClassifier(random_state=2), \n",
        "                                             X=X_train, y=y_train,\n",
        "                                             cv=10, \n",
        "param_name='min_samples_leaf', param_range=param_range)\n",
        "\n",
        "#\n",
        "train_mean = np.mean(train_scores, axis=1)\n",
        "test_mean = np.mean(test_scores, axis=1)\n",
        "#\n",
        "# Plot the model scores (accuracy) against the paramater range\n",
        "#\n",
        "plt.plot(param_range, train_mean, \n",
        "         marker='o', markersize=5, \n",
        "         color='blue', label='Training Accuracy')\n",
        "plt.plot(param_range, test_mean, \n",
        "         marker='o', markersize=5, \n",
        "         color='green', label='Validation Accuracy')\n",
        "plt.xlabel('Parameter Min Samples per Leaf')\n",
        "plt.ylabel('Accuracy')\n",
        "plt.xticks(param_range)\n",
        "plt.grid()\n",
        "plt.show()"
      ],
      "execution_count": null,
      "outputs": []
    },
    {
      "cell_type": "markdown",
      "metadata": {
        "id": "ko8oD_8Dqm41"
      },
      "source": [
        "We see that train and validation reunit as min_samples_leaf increases. Then, we will select a small range of k's in order to search. We will select a **range for min_samples_leaf equal to np.arange(10,20,1)**.\n",
        "\n",
        "#### <span style=\"color:#DB8AC4\">Neural Network Classifier</span>\n",
        "\n",
        "Parameters we will tune for Neural Network Classifier are:\n",
        "- **Size of Hidden Layers**: this parameter determines the size of the ith layer, this is, the number of neurons in the ith layer. To determine the number of layers and we will use validation curves. Usually, there is a common rule-of-thumb that says that the optimal size of hidden layers is usually between the size of the input and the size of the output layers, in our case 30 and 2, respectively. Therefore, we will use a validation curve to select number of hidden layers with number of neurons 2/3 the size of the input layer, plus the size of the output layer (another rule-of-thumb). Then number of neurons will be equal to 22.\n",
        "- **Solver**: we will choose solver between **sgd** and **adam**. Sgd corresponds to stochastic gradient descent and adam corresponds to an optimized version of the stochastic gradient descent. \n",
        "- **Activation function**: this is the activation function for the last hidden layer. We will choose between **logistic, tanh and relu** functions. "
      ]
    },
    {
      "cell_type": "code",
      "metadata": {
        "id": "LIFl2xgbqm42"
      },
      "source": [
        "#Validation curve for MLP Classifier parameter \"hidden_layer_sizes\"\n",
        "\n",
        "#For two hidden layers, each with 22 neurons, it will be (22,22)\n",
        "\n",
        "param_range = [(22,)]\n",
        "\n",
        "for element in range(2,10,1):\n",
        "    param_range.append(param_range[0]*element)\n",
        "\n",
        "train_scores, test_scores = validation_curve(estimator= MLPClassifier(random_state=2), \n",
        "                                             X=X_train, y=y_train,\n",
        "                                             cv=10, \n",
        "param_name='hidden_layer_sizes', param_range=param_range)\n",
        "\n",
        "#\n",
        "train_mean = np.mean(train_scores, axis=1)\n",
        "test_mean = np.mean(test_scores, axis=1)\n",
        "#\n",
        "# Plot the model scores (accuracy) against the paramater range\n",
        "#\n",
        "\n",
        "x_range=range(len(param_range))\n",
        "x_range=[x+1 for x in x_range]\n",
        "\n",
        "plt.plot(x_range, train_mean, \n",
        "         marker='o', markersize=5, \n",
        "         color='blue', label='Training Accuracy')\n",
        "plt.plot(x_range, test_mean, \n",
        "         marker='o', markersize=5, \n",
        "         color='green', label='Validation Accuracy')\n",
        "plt.xlabel('Parameter Number of Hidden Layers')\n",
        "plt.ylabel('Accuracy')\n",
        "plt.xticks(x_range)\n",
        "plt.grid()\n",
        "plt.show()"
      ],
      "execution_count": null,
      "outputs": []
    },
    {
      "cell_type": "markdown",
      "metadata": {
        "id": "qcNVrrAtqm42"
      },
      "source": [
        "We can notice that scores for validation and train separate after number of hidden layers is equal to 1, when distances between train and validation accuracies become wider, which may mean that the model is overfitting.\n",
        "\n",
        "Therefore, **we will use a range for hidden_layer_sizes such as [(22,), (22,22)]**.\n",
        "\n",
        "\n",
        "#### <span style=\"color:#DB8AC4\">Random Forest Classifier</span>\n",
        "\n",
        "Parameters we will tune for Random Forest:\n",
        "1. **Criterion**: as we said with decision trees, we will choose between **gini and entropy**.\n",
        "2. **Maximum depth of the tree**\n",
        "3. **Min Samples per Split**"
      ]
    },
    {
      "cell_type": "code",
      "metadata": {
        "id": "VCVcH9fKqm44"
      },
      "source": [
        "#Validation curve for Random Forest Classifier parameter \"max_depth\"\n",
        "param_range = np.arange(1,20,1)\n",
        "train_scores, test_scores = validation_curve(estimator= RandomForestClassifier(random_state=2), \n",
        "                                             X=X_train, y=y_train,\n",
        "                                             cv=10, \n",
        "param_name='max_depth', param_range=param_range)\n",
        "\n",
        "#\n",
        "train_mean = np.mean(train_scores, axis=1)\n",
        "test_mean = np.mean(test_scores, axis=1)\n",
        "#\n",
        "# Plot the model scores (accuracy) against the paramater range\n",
        "#\n",
        "plt.plot(param_range, train_mean, \n",
        "         marker='o', markersize=5, \n",
        "         color='blue', label='Training Accuracy')\n",
        "plt.plot(param_range, test_mean, \n",
        "         marker='o', markersize=5, \n",
        "         color='green', label='Validation Accuracy')\n",
        "plt.xlabel('Parameter Maximum Depth')\n",
        "plt.ylabel('Accuracy')\n",
        "plt.xticks(param_range)\n",
        "plt.grid()\n",
        "plt.show()"
      ],
      "execution_count": null,
      "outputs": []
    },
    {
      "cell_type": "markdown",
      "metadata": {
        "id": "HhFv-9L2qm46"
      },
      "source": [
        "As we can clearly see, train and validation scores increase from 0 until max_depth=2, where train continues slightly increasing whereas validation scores start varying in a great extent, and scores for train and validation start distancing, concluding that from this value on, overfitting may occur.  Therefore, we will choose a **max_depth equal to np.arange(1,4,1)**."
      ]
    },
    {
      "cell_type": "code",
      "metadata": {
        "id": "4lwdSbKJqm47"
      },
      "source": [
        "#Validation curve for Random Forest Classifier parameter \"min_samples_leaf\"\n",
        "param_range = np.arange(1,50,1)\n",
        "train_scores, test_scores = validation_curve(estimator= RandomForestClassifier(random_state=2), \n",
        "                                             X=X_train, y=y_train,\n",
        "                                             cv=10, \n",
        "param_name='min_samples_leaf', param_range=param_range)\n",
        "\n",
        "#\n",
        "train_mean = np.mean(train_scores, axis=1)\n",
        "test_mean = np.mean(test_scores, axis=1)\n",
        "#\n",
        "# Plot the model scores (accuracy) against the paramater range\n",
        "#\n",
        "plt.plot(param_range, train_mean, \n",
        "         marker='o', markersize=5, \n",
        "         color='blue', label='Training Accuracy')\n",
        "plt.plot(param_range, test_mean, \n",
        "         marker='o', markersize=5, \n",
        "         color='green', label='Validation Accuracy')\n",
        "plt.xlabel('Parameter Min Samples per Leaf')\n",
        "plt.ylabel('Accuracy')\n",
        "plt.xticks(param_range)\n",
        "plt.grid()\n",
        "plt.show()"
      ],
      "execution_count": null,
      "outputs": []
    },
    {
      "cell_type": "markdown",
      "metadata": {
        "id": "RNJt9ELyqm47"
      },
      "source": [
        "We can see that the highest validation accuracy is obtained with min_samples_leaf=2, but the difference between train and validation accuracies is great as well. Therefore, we will rather choose a range of valies for which the difference between validation and train scores is lower, so we avoid overfitting. Then, we will choose a range of values for **min_samples_leaf** equal to **np.arange(3,10,1)** where sores are the highest and the most similar."
      ]
    },
    {
      "cell_type": "markdown",
      "metadata": {
        "id": "eHjrhvezqm48"
      },
      "source": [
        "Now we have determined all our hyperparameter ranges and possible values, we will proceed to find the best for each model.\n",
        "\n",
        "\n",
        "#### <span style=\"color:#DB8AC4\">Hyperparameter GridSearchCV</span>"
      ]
    },
    {
      "cell_type": "code",
      "metadata": {
        "id": "_WLZz8wfqm48"
      },
      "source": [
        "random_state=2\n",
        "\n",
        "models_names=['Logistic Regression', 'KNN Classifier', 'Decision Tree Classifier', \"Neural Network Classifier\", \"Random Forest Classifier\"]\n",
        "\n",
        "\n",
        "clfs= [LogisticRegression(solver='liblinear', random_state=random_state), KNeighborsClassifier(),\n",
        "       DecisionTreeClassifier(random_state=random_state),MLPClassifier(random_state=random_state), RandomForestClassifier(random_state=2)]\n",
        "\n",
        "params={0: {'penalty':['l1', 'l2'], 'C': np.arange(0.01, 0.2, 0.01)}, \n",
        "       1: {'n_neighbors':np.arange(5, 10, 1), 'metric':['euclidean','manhattan'], 'weights': ['uniform', 'distance']},\n",
        "       2: {'criterion':['gini', 'entropy'], 'max_depth':np.arange(2,4,1), 'min_samples_leaf': np.arange(10,20,1)}, \n",
        "       3: {'hidden_layer_sizes': [(22,), (22, 22)], 'solver':['sgd', 'adam'], 'activation':['logistic', 'tanh', 'relu']},\n",
        "       4: {'criterion':['gini', 'entropy'], 'max_depth':np.arange(1,4,1), \"min_samples_leaf\": np.arange(3,10,1)}}\n",
        "\n",
        "def Grid_Search_cv(model_index, X, y):\n",
        "    \n",
        "    grid = GridSearchCV(clfs[model_index], params[model_index], verbose = 0, cv = 5, n_jobs = -1, return_train_score = True)\n",
        "\n",
        "    grid_results = grid.fit(X, y)\n",
        "    \n",
        "    return grid_results.best_estimator_.get_params()"
      ],
      "execution_count": null,
      "outputs": []
    },
    {
      "cell_type": "code",
      "metadata": {
        "id": "Q6plUBG1qm49"
      },
      "source": [
        "best_params_lr = Grid_Search_cv(0, X_train, y_train)\n",
        "best_params_kn = Grid_Search_cv(1, X_train, y_train)\n",
        "best_params_dt = Grid_Search_cv(2, X_train, y_train)\n",
        "best_params_nn = Grid_Search_cv(3, X_train, y_train)\n",
        "best_params_rf = Grid_Search_cv(4, X_train, y_train)"
      ],
      "execution_count": null,
      "outputs": []
    },
    {
      "cell_type": "code",
      "metadata": {
        "scrolled": false,
        "id": "jLg0P8LFqm49"
      },
      "source": [
        "best_params_=[best_params_lr, best_params_kn, best_params_dt, best_params_nn, best_params_rf]\n",
        "\n",
        "for i in range(len(models_names)):\n",
        "    print(\" \")\n",
        "    print('\\033[1m' + 'Best parameter for ' + str(models_names[i]) +'\\033[0m')\n",
        "    print(best_params_[i])\n",
        "    "
      ],
      "execution_count": null,
      "outputs": []
    },
    {
      "cell_type": "markdown",
      "metadata": {
        "id": "oTIcKiG5qm4-"
      },
      "source": [
        "### <span style=\"color:slateblue\"> 4.2 Model Training</span>\n",
        "\n",
        "Now we have obtained the best hyperparameters, we will get the performance metrics of the optimized models, comparing the results with those from models without hyperparameter tuning. \n",
        "\n",
        "To compare both types of models we will use three metrics based on the **confusion matrix**:\n",
        "1. **Accuracy**: it's the most common evaluation metric for classification problems. It tells us how many predictions have been correctly done (TP+TN)/(TP+TN+FP+FN), where positive is considered malignant (diagnosis=1).\n",
        "2. **Recall**: it is the ratio of true positives to all positives predicted by the model. This is, it tell us how many malignant tissues are actually mallignant .\n",
        "3. **Precision**: it's the ratio of true positives to the number of true positives plus the number of false negatives. True negative valies are data points classified as positive by the model that are actually positive, and false negatives are data points that the model identifies as negative that are actually positive. It tells us how many malignant tissues are actually predicted as mallignant.\n",
        "4. **F1-score**: f1 score is calculated as a function of precision and recall. It allows us to consider a balance between precision and recall.\n",
        "<br>\n",
        "<img src=https://onlinehelp.explorance.com/blueml/Content/Resources/Images/ml/truefalsepositives.png width=600>"
      ]
    },
    {
      "cell_type": "code",
      "metadata": {
        "id": "0QCQDi3vqm5A"
      },
      "source": [
        "train_accuracy=[]\n",
        "train_recall=[]\n",
        "train_precision=[]\n",
        "train_f1=[]\n",
        "\n",
        "cv_accuracy=[]\n",
        "cv_precision=[]\n",
        "cv_recall=[]\n",
        "cv_f1=[]\n",
        "\n",
        "test_accuracy=[]\n",
        "test_precision=[]\n",
        "test_recall=[]\n",
        "test_f1=[]\n",
        "\n",
        "for ix in range(len(models_names)):\n",
        "    \n",
        "    original_model=clone(clfs[ix])\n",
        "    \n",
        "    optimized_model=clone(clfs[ix]).set_params(**best_params_[ix])\n",
        "    \n",
        "    models=[optimized_model, original_model]\n",
        "    \n",
        "    for model in models:\n",
        "        \n",
        "        model = clone(model)\n",
        "        \n",
        "        model.fit(X_train, y_train)\n",
        "        \n",
        "        #--Train scores\n",
        "        y_pred_train = model.predict(X_train)\n",
        "        train_accuracy.append(accuracy_score(y_train, y_pred_train))\n",
        "        train_recall.append(recall_score(y_train, y_pred_train))\n",
        "        train_precision.append(precision_score(y_train, y_pred_train))\n",
        "        train_f1.append(f1_score(y_train, y_pred_train))\n",
        "        \n",
        "        #--Validation scores\n",
        "        cv_results = cross_validate(model, X_train, y_train, scoring=[\"accuracy\", \"recall\", \"precision\", \"f1\"])\n",
        "        cv_accuracy.append(abs(np.mean(cv_results['test_accuracy'])))\n",
        "        cv_recall.append(abs(np.mean(cv_results['test_recall'])))\n",
        "        cv_precision.append(abs(np.mean(cv_results['test_precision'])))\n",
        "        cv_f1.append(abs(np.mean(cv_results['test_f1'])))\n",
        "        \n",
        "        #--Test scores\n",
        "        y_pred_test = model.predict(X_test)\n",
        "        test_accuracy.append(accuracy_score(y_test, y_pred_test))\n",
        "        test_recall.append(recall_score(y_test, y_pred_test))\n",
        "        test_precision.append(precision_score(y_test, y_pred_test))\n",
        "        test_f1.append(f1_score(y_test, y_pred_test))\n",
        "\n",
        "\n",
        "        "
      ],
      "execution_count": null,
      "outputs": []
    },
    {
      "cell_type": "code",
      "metadata": {
        "id": "CbCelQfPqm5B"
      },
      "source": [
        "index_names=['Logistic Regression Tuned', 'Logistic Regression', 'KNN Classifier Tuned', 'KNN Classifier', \n",
        "            'Decision Tree Classifier Tuned', 'Decision Tree Classifier', 'Neural Network Classifier Tuned', 'Neural Network Classifier',\n",
        "            'Random Forest Classifier Tuned', 'Random Forest Classifier'\n",
        "            ]\n",
        "\n",
        "ht_results = pd.DataFrame(list(zip(train_accuracy, train_recall, train_precision, train_f1, cv_accuracy, cv_recall,\n",
        "                                  cv_precision, cv_f1, test_accuracy, test_recall, test_precision, test_f1)), columns=[\"Train Accuracy\",\n",
        "                                                                                                       \"Train Recall\", \"Train Precision\", \"Train F1\", \n",
        "                                                                                                       \"Validation Accuracy\", \"Validation Recall\", \n",
        "                                                                                                       \"Validation Precision\",\"Validation F1\", \"Test Accuracy\", \n",
        "                                                                                                       \"Test Recall\", \"Test Precision\", \"Test F1\"])\n",
        "ht_results.index=index_names\n"
      ],
      "execution_count": null,
      "outputs": []
    },
    {
      "cell_type": "code",
      "metadata": {
        "id": "Ocvxx79Oqm5B"
      },
      "source": [
        "ht_results"
      ],
      "execution_count": null,
      "outputs": []
    },
    {
      "cell_type": "markdown",
      "metadata": {
        "id": "9ph-v-3kqm5C"
      },
      "source": [
        "**Results from models with hyperparameter tuning are very similar to those with no hyperparameter tuning.** In general, we obtain really good performance metrics for every model, which lead us to think that these variables are indeed useful to predict the malignancy or benignancy of a tissue based on the characteristics of its nuclei. Metrics show that, in general, all the models have a great ability to correctly label those samples which are actually malignant as malignant, and to identify malignant samples among all the observations. \n",
        "\n",
        "We can see that both accuracy and f1 scores seem to be slightly higher (really slightly) for models with hyperparameter tuning. **The models that perform the best for our data based on accuracy and F1 metrics are Logistic Regression and Neural Network Classifiers**. These two models, along with KN, provides perfect precision on test data. This is, all samples predicted as malignant are actually malignant. \n",
        "\n",
        "For clinical purposes, we would like to have perfect recall, this is, identify all malignant samples among observations. The results do not show a recall as good as the precision, but it's still quite good. **In general, all the models would find approximately 9/10 malignant samples.** This is good!\n",
        "\n",
        "We also see that **tuned Decision Tree and Random Forest models avoid overfitting that was happening with non-tuned models**. \n",
        "\n",
        "### <span style=\"color:slateblue\"> 4.3 Interpretability</span>\n",
        "\n",
        "Now we are going to analyze at which extent features contributed to the predictions. Explainable AI can be summed up as the process to **understand the predictions of an ML model**. The idea is to make the model as interpretable as possible which will essentially help in testing its reliability and causality of features. In the case of these models, we would like to know how predictions for life expectancy have been made. Some models will be more explainable than others, for example, neural networks vs logistic regression. \n",
        "\n",
        "In the case of **Logistic Regression and Decission Trees, it is easy to determine feature importance**. For Logistic Regression we just have to plot the coefficients for each feature and for decision trees, we just have to obtain the variables on which the splits were made through the decision tree.  \n",
        "\n",
        "There are specific libraries dedicated to this topic such as **SHAP** or **LIME**. SHAP is more reliable and accurate but LIME is faster, so LIME is sometimes preferrable. In fact, due to the size of our data, using SHAP would be prohibitibe. Hence, we will analize interpretability locally, by choosing a small set of samples and see how model predicted these values.\n",
        "\n",
        "With **LIME**, we will be able to see **how the model predicted the value** as a function of **weights** put on the values of different features (seen in a table) for an observation. For a given sample prediction LIME does the following: \n",
        "1. Generate a **perturbated dataset**. This is, it creates a new dataset by alterating the values of the original datast.\n",
        "2. Use a **ML classifier to predict classes of the new generated dataset**. This is, we use the ML trained on the original data to predict values of this new generated dataset.\n",
        "3. Compute **distances between the instance being explained from the original dataset and each one of the generated points using euclidean distance** (other distance metrics can also be used). Such distances are normalized and mapped to a value between 0 and 1. \n",
        "4. We **train an interpretable ML model with the weighted alterated samples** as X_train and the predictions obtained with the original ML model as y_train. Weight on samples will affect the optimization of the cost function in a way that closer points will have greater impact than more distant points. This is, wrong predictions of closer poijnts will have a higher penalty.\n",
        "5. We **obtain feature importance as a function of the coefficients (weights) for each feature in the interpretable fitted model**.\n",
        "\n",
        "It will allow us to see which features contribute the most to a specific output of the model **when the model acts as a black box**, such as in the case of Neural Networks. Moreover, LIME shows the ranges of values of each feature that characterize the decision of the algorithm.\n",
        "\n",
        "#### <span style=\"color:#DB8AC4\">Logistic Regression</span>\n",
        "\n",
        "We just plot the absolute values of the coefficients of the logistic regression model, being data previously scaled."
      ]
    },
    {
      "cell_type": "code",
      "metadata": {
        "scrolled": true,
        "id": "WdtQ9LFuqm5C"
      },
      "source": [
        "ex_lr = clone(clfs[0]).set_params(**best_params_[0])\n",
        "ex_lr.fit(X_train, y_train)\n",
        "\n",
        "coeff = np.abs(ex_lr.coef_)[0]\n",
        "ranking=list(coeff.argsort())[::-1]\n",
        "\n",
        "x = np.arange(1,31)\n",
        "\n",
        "ax = sns.barplot(x=x, y=coeff, color='#BF5A96')\n",
        "\n",
        "print(\"\\033[1m\\033[4mRanking (Descending Order)\\033[0m\\n\")\n",
        "for n, i in enumerate(ranking):\n",
        "    print(str(n+1)+'.' + X.columns[i])"
      ],
      "execution_count": null,
      "outputs": []
    },
    {
      "cell_type": "markdown",
      "metadata": {
        "id": "GnmVSr1Mqm5D"
      },
      "source": [
        "#### <span style=\"color:#DB8AC4\">Decision Tree Classifier</span>\n",
        "\n",
        "In this case, we will use yellowbrick method to plot feature importance of Decision Tree models quickly."
      ]
    },
    {
      "cell_type": "code",
      "metadata": {
        "id": "XK2jBHnkqm5D"
      },
      "source": [
        "viz = FeatureImportances(clone(clfs[2]).set_params(**best_params_[2]), labels=X.columns, colormap='PuRd')\n",
        "viz.fit(X_train, y_train)\n",
        "viz.show()"
      ],
      "execution_count": null,
      "outputs": []
    },
    {
      "cell_type": "markdown",
      "metadata": {
        "id": "2hL70g7aqm5D"
      },
      "source": [
        "#### <span style=\"color:#DB8AC4\">KNN Classifier</span>\n",
        "\n",
        "We will plot LIME results for a set of five random samples."
      ]
    },
    {
      "cell_type": "code",
      "metadata": {
        "id": "sCDEQebCqm5D"
      },
      "source": [
        "# LIME has one explainer for all models\n",
        "explainer = lime.lime_tabular.LimeTabularExplainer(X_train,\n",
        "feature_names=X.columns.values.tolist(),\n",
        "class_names=[0,1], random_state=2)"
      ],
      "execution_count": null,
      "outputs": []
    },
    {
      "cell_type": "code",
      "metadata": {
        "scrolled": true,
        "id": "TY7Ar0oIqm5D"
      },
      "source": [
        "ex_knn= clone(clfs[1]).set_params(**best_params_[1])\n",
        "ex_knn.fit(X_train, y_train)\n",
        "\n",
        "for n in np.arange(1,6):\n",
        "    sample_idx= random.randint(0,len(X_test))\n",
        "    exp = explainer.explain_instance(X_test[sample_idx], ex_knn.predict_proba, num_features=6)\n",
        "    exp.show_in_notebook(show_table=True)"
      ],
      "execution_count": null,
      "outputs": []
    },
    {
      "cell_type": "markdown",
      "metadata": {
        "id": "us7nSlpdqm5f"
      },
      "source": [
        "#### <span style=\"color:#DB8AC4\">Neural Network Classifier</span>\n",
        "\n",
        "We will plot LIME results for a set of five random samples."
      ]
    },
    {
      "cell_type": "code",
      "metadata": {
        "scrolled": true,
        "id": "sOS5o3kCqm5g"
      },
      "source": [
        "ex_nn= clone(clfs[3]).set_params(**best_params_[3])\n",
        "ex_nn.fit(X_train, y_train)\n",
        "\n",
        "for n in np.arange(1,6):\n",
        "    sample_idx= random.randint(0,len(X_test))\n",
        "    exp = explainer.explain_instance(X_test[sample_idx], ex_nn.predict_proba, num_features=6)\n",
        "    exp.show_in_notebook(show_table=True)"
      ],
      "execution_count": null,
      "outputs": []
    },
    {
      "cell_type": "markdown",
      "metadata": {
        "id": "eAnHMH2xqm52"
      },
      "source": [
        "#### <span style=\"color:#DB8AC4\">Random Forest Classifier</span>\n",
        "\n",
        "We will plot LIME results for a set of five random samples."
      ]
    },
    {
      "cell_type": "code",
      "metadata": {
        "scrolled": true,
        "id": "e1n7r5_Gqm53"
      },
      "source": [
        "ex_nn= clone(clfs[4]).set_params(**best_params_[4])\n",
        "ex_nn.fit(X_train, y_train)\n",
        "\n",
        "for n in np.arange(1,6):\n",
        "    sample_idx= random.randint(0,len(X_test)-1)\n",
        "    exp = explainer.explain_instance(X_test[sample_idx], ex_nn.predict_proba, num_features=6)\n",
        "    exp.show_in_notebook(show_table=True)"
      ],
      "execution_count": null,
      "outputs": []
    },
    {
      "cell_type": "markdown",
      "metadata": {
        "id": "iGU4K0MZqm6O"
      },
      "source": [
        "#### <span style=\"color:#DB8AC4\">Conclusion</span>\n",
        "\n",
        "By inspection, the **features that repeat the most among the most important features for each model are worst and mean values for texture, radius, perimeter, concave points and area**, given worst values more importance in general. **Fractal dimension and smoothness mean and worst values are also frequent as the main predictors**.\n",
        "\n",
        "These results lead us to think that worst values are very useful when determining if nuclei chatacteristics correspond to malignant cells in tissue samples. Mean values as well, whereas se values do not seem to contribute so much to the predictions except for those of area, radius and perimeter."
      ]
    },
    {
      "cell_type": "markdown",
      "metadata": {
        "id": "-64ivMhtqm6P"
      },
      "source": [
        "<a id='Feature'></a>\n",
        "## <span style=\"color:darkslateblue\">5. **Feature Selection and Extraction**</span>\n",
        "It's possible that **some features are irrelevant** for our analysis or they may even **introduce some bias**. By using so many features for modelling, we may **reduce our ability to generalize**. Moreover, a high dimensionality dataset is commonly **computationally expensive**. In order to avoid these issues, we will perform feature selection and extraction.\n",
        "\n",
        "We will first perform feature selection, train previous tuned models and compare metrics with those obtained for the non-reduced dataset.\n",
        "\n",
        "### <span style=\"color:slateblue\"> 5.1 Feature Selection</span>\n",
        "\n",
        "In this section we will compare performance metrics applying three types of feature selection methods:\n",
        "1. [**Filter Methods**: F1-Score](#F1)\n",
        "2. [**Filter Methods**: Mutual Information](#MI)\n",
        "3. [**Wrapper Methods**: Backward Selection](#BS)\n",
        "\n",
        "**Filter methods** evaluate the relevance of each variable by individually examining the intrinsic properties of the data. These are the type of methods where **individual features are ranked according to predefined relevance score**. The top N features are then selected. Statistical tests can be used to select those features that have the strongest relationship with the output variable. Selected variables constitute the input space of the ML algorithm.\n",
        "\n",
        "**Filter methods** are **easy and fast to implement**, but the downside of these methods is that **interactions among independent features are not considered**.\n",
        "\n",
        "**Wrapper methods** use combinations of variables to determine predictive power. This is, these methods use a ML algorithm of interest as a black box to score subsets of variables according to their predictive power. \n",
        "\n",
        "Unlike filter methods, wrapper methods look for **interactions and dependencies between features**. However, it is usually **computationally expensive** since, for each subset evaluation, a new model must be created and the algorithm must be trained and tested to obtain its performance. Moreover, it's usually **difficult to interpret** and is **prone to overfit**.\n",
        "\n",
        "This model follows a **greedy search** by the evaluation of all the possible combinations of features against the **evaluation criterion**. The evaluation criterion is simply the performance measure, which will depend on the type of the problem. \n",
        "\n",
        "\n",
        "We will **first find the number of features that provides the best accuracy** based on feature selection with each of the methods. To do that, We will see how k affects performance of both Logistic Regression and Neural Networks Classifiers, the ones that best performed in our data, and select the best k. .**Then, after comparing results for the three techiques, we will train original models with a specific number of selected features for each of the methods that will be selected based on results**.\n",
        "\n",
        "<font color='red'>**Note**: feature selection and extraction must be performed using training data only. Test data is actually used in order to measure the performance of our model with unseen data. This unseen data should not participate neither in the feature selection/extraction processes nor in the training of our model.</font>\n",
        "\n",
        "<a id='F1'></a>\n",
        "#### <span style=\"color:#DB8AC4\">5.1.1 Filter Methods: F1-Score</span>\n",
        "\n",
        "**Correlation** measures the strength of the linear relationship between two variables. The *Pearson Correlation Coefficient* is the coefficient used for this approach by *f_regression* to calculate the statistic by which features are ranked, **F-statistic**. When normalized, F-statistic ranges from 0 to 1 and tells us if the correlation coefficient for a given feature-target relationship is significantly different from zero. This method does not take into account labels.\n",
        "\n",
        "The downside of a filter method using Pearson's correlation coefficient is that it assumes that independent features have a linear relationship with the target variable and that variables are normally distributed. Furthermore, F-test assumes that variables are independent from one another. Therefore, it could provide wrong assumptions about feature relevance if there is a non-linear relationship between independent and dependent variables and if independent variables are correlated, as in our case. \n",
        "\n",
        "We will **first find the number of features that provides the best accuracy** based on feature selection with *f_regression*. To do that, We will see how k affects performance of both Logistic Regression and Neural Networks Classifiers, the ones that best performed in our data, and select the best k."
      ]
    },
    {
      "cell_type": "code",
      "metadata": {
        "id": "WE6idgKlqm6P"
      },
      "source": [
        "cv_accuracy=[]\n",
        "cv_f1=[]\n",
        "\n",
        "for model in [0,3]:\n",
        "    \n",
        "    cv_accuracy_i=[]\n",
        "    cv_f1_i=[]\n",
        "\n",
        "    for k in np.arange(1,len(X.columns)+1):\n",
        "\n",
        "        #Select K best features\n",
        "        selector = SelectKBest(score_func=f_regression, k=k)\n",
        "        #Fit selector with train data\n",
        "        new_data = selector.fit(X_train, y_train)\n",
        "\n",
        "        #Obtain most relevant column indices\n",
        "        cols_index = selector.get_support(indices = True)\n",
        "        cols = [i for i in X.columns[cols_index]]\n",
        "        #F-test scores\n",
        "        score = selector.scores_\n",
        "        score /= np.max(score)\n",
        "\n",
        "        lr_s = clone(clfs[model]).set_params()\n",
        "        lr_s.fit(X_train[:, cols_index], y_train)\n",
        "\n",
        "        #CV scores\n",
        "        cv_results = cross_validate(lr_s, X_train[:, cols_index], y_train, scoring=[\"f1\", \"accuracy\"])\n",
        "        cv_accuracy_i.append(abs(np.mean(cv_results['test_accuracy'])))\n",
        "        cv_f1_i.append(abs(np.mean(cv_results['test_f1'])))\n",
        "    \n",
        "    cv_accuracy.append(cv_accuracy_i)\n",
        "    cv_f1.append(cv_accuracy_i)\n",
        "\n",
        "fig,axes =plt.subplots(2,2, figsize=(20,10))\n",
        "\n",
        "a1 = sns.pointplot(x=x, y=cv_accuracy[0], color='#BF5A96', ax=axes[0,0] )\n",
        "a2 = sns.pointplot(x=x, y=cv_f1[0], color='#BF5A96', ax=axes[0,1])\n",
        "a3 = sns.pointplot(x=x, y=cv_accuracy[1], color='#BF5A96', ax=axes[1,0])\n",
        "a4 = sns.pointplot(x=x, y=cv_f1[1], color='#BF5A96', ax=axes[1,1])\n",
        "\n",
        "\n",
        "a1.set(xlabel='# features', ylabel='accuracy', title=\"Logistic Regression\")\n",
        "a2.set(xlabel='# features', ylabel='f1', title=\"Logistic Regression\")\n",
        "a3.set(xlabel='# features', ylabel='accuracy', title=\"Neural Network\")\n",
        "a4.set(xlabel='# features', ylabel='f1', title=\"Neural Network\")\n",
        "\n",
        "plt.xticks()\n",
        "#Print best result\n",
        "print(\"\\033[1m\\nThe number of features which provides the highest accuracy for Logistic Regression is:\\033[0m\", cv_accuracy[0].index(max(cv_accuracy[0])) + 1)\n",
        "print(\"\\033[1m\\nThe number of features which provides the highest F1 for Logistic Regression is:\\033[0m\", cv_f1[0].index(max(cv_f1[0])) + 1)\n",
        "\n",
        "#Print best result\n",
        "print(\"\\033[1m\\nThe number of features which provides the highest accuracy for Neural Networks is:\\033[0m\", cv_accuracy[1].index(max(cv_accuracy[1])) + 1)\n",
        "print(\"\\033[1m\\nThe number of features which provides the highest F1 for Neural Networks is:\\033[0m\", cv_f1[1].index(max(cv_f1[1])) + 1)"
      ],
      "execution_count": null,
      "outputs": []
    },
    {
      "cell_type": "markdown",
      "metadata": {
        "id": "X5LRTio9qm6Q"
      },
      "source": [
        "We can see that **performance is almost the same for both models** as number of features vary, but for **k=26** neural networks classifier reaches a higher accuracy and f1. **Just by selecting one feature, we can see that an accuracy of 0.92 is obtained**. By selecting **21 features**, we still get a higher accuracy score for neural networks, better than that obtained with 30 features, and by reducing dimensionality in 9 features. \n",
        "\n",
        "Obtaining such good results lead us to think that there is some **redundancy among features** and that, since we obtained better results for some k than with the original dataset, there are some other **features irrelevant for our analysis**."
      ]
    },
    {
      "cell_type": "code",
      "metadata": {
        "id": "b4Ai7-1Iqm6Q"
      },
      "source": [
        "#--Obtain transformed X_train, X_test\n",
        "\n",
        "#Select K best features\n",
        "selector = SelectKBest(score_func=f_regression, k=5)\n",
        "#Fit selector with train data\n",
        "new_data = selector.fit(X_train, y_train)\n",
        "\n",
        "#Obtain most relevant column indices\n",
        "cols_index = selector.get_support(indices = True)\n",
        "cols = [i for i in X.columns[cols_index]]\n",
        "non_relevant = [i for i in X.columns if i not in cols]\n",
        "\n",
        "#F-test scores\n",
        "score = selector.scores_\n",
        "score /= np.max(score)\n",
        "\n",
        "#Ranking\n",
        "ranking_fs=np.argsort(-score)\n",
        "ranking_fs=[i for i in X.columns[ranking_fs]]\n",
        "ranking_fs= pd.DataFrame([ranking_fs], columns=np.arange(1,31), index=['ranking']).T\n",
        "\n",
        "bag_names = []\n",
        "for name in X.columns:\n",
        "    if name not in cols:\n",
        "        bag_names.append('No')\n",
        "    else:\n",
        "        bag_names.append('Yes')\n",
        "        \n",
        "f_regression_features = pd.DataFrame([bag_names], columns=X.columns, index=['selected'])\n",
        "\n",
        "X_train_fs, X_test_fs = X_train[:, cols_index], X_test[:, cols_index]"
      ],
      "execution_count": null,
      "outputs": []
    },
    {
      "cell_type": "code",
      "metadata": {
        "id": "Nti2r5LYqm6R"
      },
      "source": [
        "f_regression_features"
      ],
      "execution_count": null,
      "outputs": []
    },
    {
      "cell_type": "code",
      "metadata": {
        "scrolled": true,
        "id": "SWTJ6oQfqm6R"
      },
      "source": [
        "ranking_fs"
      ],
      "execution_count": null,
      "outputs": []
    },
    {
      "cell_type": "markdown",
      "metadata": {
        "id": "atMlEHvfqm6S"
      },
      "source": [
        "Most relevant features coincide with those which show the highest correlation with the target variable. As we can see, **these features are very similar from those found during model interpretation**."
      ]
    },
    {
      "cell_type": "code",
      "metadata": {
        "id": "pKU4A1wkqm6S"
      },
      "source": [
        "train_accuracy=[]\n",
        "train_recall=[]\n",
        "train_precision=[]\n",
        "train_f1=[]\n",
        "\n",
        "cv_accuracy=[]\n",
        "cv_precision=[]\n",
        "cv_recall=[]\n",
        "cv_f1=[]\n",
        "\n",
        "test_accuracy=[]\n",
        "test_precision=[]\n",
        "test_recall=[]\n",
        "test_f1=[]\n",
        "\n",
        "datasets=[[X_train_fs, X_test_fs], [X_train, X_test]]\n",
        "\n",
        "for ix in range(len(models_names)):\n",
        "    \n",
        "    original_model=clone(clfs[ix])    \n",
        "    \n",
        "    for dataset in datasets:\n",
        "        \n",
        "        original_model.fit(dataset[0], y_train)\n",
        "        \n",
        "        #--Train scores\n",
        "        y_pred_train = original_model.predict(dataset[0])\n",
        "        train_accuracy.append(accuracy_score(y_train, y_pred_train))\n",
        "        train_recall.append(recall_score(y_train, y_pred_train))\n",
        "        train_precision.append(precision_score(y_train, y_pred_train))\n",
        "        train_f1.append(f1_score(y_train, y_pred_train))\n",
        "        \n",
        "        #--Validation scores\n",
        "        cv_results = cross_validate(original_model, dataset[0], y_train, scoring=[\"accuracy\", \"recall\", \"precision\", \"f1\"] , return_train_score=True)\n",
        "        cv_accuracy.append(abs(np.mean(cv_results['test_accuracy'])))\n",
        "        cv_recall.append(abs(np.mean(cv_results['test_recall'])))\n",
        "        cv_precision.append(abs(np.mean(cv_results['test_precision'])))\n",
        "        cv_f1.append(abs(np.mean(cv_results['test_f1'])))\n",
        "        \n",
        "        #--Test scores\n",
        "        y_pred_test = original_model.predict(dataset[1])\n",
        "        test_accuracy.append(accuracy_score(y_test, y_pred_test))\n",
        "        test_recall.append(recall_score(y_test, y_pred_test))\n",
        "        test_precision.append(precision_score(y_test, y_pred_test))\n",
        "        test_f1.append(f1_score(y_test, y_pred_test))\n"
      ],
      "execution_count": null,
      "outputs": []
    },
    {
      "cell_type": "code",
      "metadata": {
        "id": "bS2tNEGzqm6T"
      },
      "source": [
        "index_names=['Logistic Regression FS', 'Logistic Regression', 'KNN Classifier FS', 'KNN Classifier', \n",
        "            'Decision Tree Classifier FS', 'Decision Tree Classifier', 'Neural Network Classifier FS', 'Neural Network Classifier',\n",
        "             'Random Forest Classifier FS', 'Random Forest Classifier'\n",
        "            ]\n",
        "\n",
        "fs_results = pd.DataFrame(list(zip(train_accuracy, train_recall, train_precision, train_f1, cv_accuracy, cv_recall,\n",
        "                                  cv_precision, cv_f1, test_accuracy, test_recall, test_precision, test_f1)), columns=[\"Train Accuracy\",\n",
        "                                                                                                       \"Train Recall\", \"Train Precision\", \"Train F1\", \n",
        "                                                                                                       \"Validation Accuracy\", \"Validation Recall\", \n",
        "                                                                                                       \"Validation Precision\",\"Validation F1\", \"Test Accuracy\", \n",
        "                                                                                                       \"Test Recall\", \"Test Precision\", \"Test F1\"])\n",
        "fs_results.index=index_names\n",
        "\n",
        "fs_results"
      ],
      "execution_count": null,
      "outputs": []
    },
    {
      "cell_type": "markdown",
      "metadata": {
        "id": "V4ugfxAaqm6T"
      },
      "source": [
        "\n",
        "<a id='MI'></a>\n",
        "#### <span style=\"color:#DB8AC4\">5.1.2 Filter Methods: Mutual Information</span>\n",
        "\n",
        "**Mutual information** methods capture any kind of statistical dependency between random variables. It can be thought as the reduction in uncertainty about one random variable given knowledge about another. In machine learning, mutual information measures how much information the presence/absence of a feature contributes to making the correct prediction on Y.\n",
        "\n",
        "It ranges from 0 to 1. High mutual information indicated a large reduction in uncertainty; low mutual information indicates a small reduction; and zero mutual information between two random variables indicates that the variables are independent.\n"
      ]
    },
    {
      "cell_type": "code",
      "metadata": {
        "id": "Z4_FO8dOqm6U"
      },
      "source": [
        "cv_accuracy=[]\n",
        "cv_f1=[]\n",
        "\n",
        "for model in [0,3]:\n",
        "    \n",
        "    cv_accuracy_i=[]\n",
        "    cv_f1_i=[]\n",
        "\n",
        "    for k in np.arange(1,len(X.columns)+1):\n",
        "\n",
        "        #Select K best features\n",
        "        selector = SelectKBest(score_func=mutual_info_regression, k=k)\n",
        "        #Fit selector with train data\n",
        "        new_data = selector.fit(X_train, y_train)\n",
        "\n",
        "        #Obtain 10 most relevant column indices\n",
        "        cols_index = selector.get_support(indices = True)\n",
        "        cols = [i for i in X.columns[cols_index]]\n",
        "        #F-test scores\n",
        "        score = selector.scores_\n",
        "        score /= np.max(score)\n",
        "\n",
        "        lr_s = clone(clfs[model])\n",
        "        lr_s.fit(X_train[:, cols_index], y_train)\n",
        "\n",
        "        #CV scores\n",
        "        cv_results = cross_validate(lr_s, X_train[:, cols_index], y_train, scoring=[\"f1\", \"accuracy\"])\n",
        "        cv_accuracy_i.append(abs(np.mean(cv_results['test_accuracy'])))\n",
        "        cv_f1_i.append(abs(np.mean(cv_results['test_f1'])))\n",
        "    \n",
        "    cv_accuracy.append(cv_accuracy_i)\n",
        "    cv_f1.append(cv_accuracy_i)\n",
        "\n",
        "fig,axes =plt.subplots(2,2, figsize=(20,10))\n",
        "\n",
        "a1 = sns.pointplot(x=x, y=cv_accuracy[0], color='#BF5A96', ax=axes[0,0] )\n",
        "a2 = sns.pointplot(x=x, y=cv_f1[0], color='#BF5A96', ax=axes[0,1])\n",
        "a3 = sns.pointplot(x=x, y=cv_accuracy[1], color='#BF5A96', ax=axes[1,0])\n",
        "a4 = sns.pointplot(x=x, y=cv_f1[1], color='#BF5A96', ax=axes[1,1])\n",
        "\n",
        "\n",
        "a1.set(xlabel='# features', ylabel='accuracy', title=\"Logistic Regression\")\n",
        "a2.set(xlabel='# features', ylabel='f1', title=\"Logistic Regression\")\n",
        "a3.set(xlabel='# features', ylabel='accuracy', title=\"Neural Network\")\n",
        "a4.set(xlabel='# features', ylabel='f1', title=\"Neural Network\")\n",
        "\n",
        "plt.xticks()\n",
        "#Print best result\n",
        "print(\"\\033[1m\\nThe number of features which provides the highest accuracy for Logistic Regression is:\\033[0m\", cv_accuracy[0].index(max(cv_accuracy[0])) + 1)\n",
        "print(\"\\033[1m\\nThe number of features which provides the highest F1 for Logistic Regression is:\\033[0m\", cv_f1[0].index(max(cv_f1[0])) + 1)\n",
        "\n",
        "#Print best result\n",
        "print(\"\\033[1m\\nThe number of features which provides the highest accuracy for Neural Networks is:\\033[0m\", cv_accuracy[1].index(max(cv_accuracy[1])) + 1)\n",
        "print(\"\\033[1m\\nThe number of features which provides the highest F1 for Neural Networks is:\\033[0m\", cv_f1[1].index(max(cv_f1[1])) + 1)"
      ],
      "execution_count": null,
      "outputs": []
    },
    {
      "cell_type": "markdown",
      "metadata": {
        "id": "PNh3MOdfqm6U"
      },
      "source": [
        "For k>16 we see that scores are virtually the same for both models. For **k=27**, Neural Networks achieve the best accuracy, better than that od the model with 30 features. Therefore, we may think that some features are irrelevant for our analysis.\n",
        "\n",
        "As in the case of filter methods, we also obtained that for one single feature selected, accuracy and f1 scores were approximately 0.9, which are still good values. "
      ]
    },
    {
      "cell_type": "code",
      "metadata": {
        "scrolled": true,
        "id": "4Ohd07U8qm6V"
      },
      "source": [
        "#--Obtain transformed X_train, X_test\n",
        "\n",
        "#Select K best features\n",
        "selector = SelectKBest(score_func=mutual_info_regression, k=5)\n",
        "#Fit selector with train data\n",
        "new_data = selector.fit(X_train, y_train)\n",
        "\n",
        "#Obtain 10 most relevant column indices\n",
        "cols_index = selector.get_support(indices = True)\n",
        "cols = [i for i in X.columns[cols_index]]\n",
        "non_relevant = [i for i in X.columns if i not in cols]\n",
        "\n",
        "#F-test scores\n",
        "score = selector.scores_\n",
        "score /= np.max(score)\n",
        "\n",
        "#Ranking\n",
        "ranking_mi=np.argsort(-score)\n",
        "ranking_mi=[i for i in X.columns[ranking_mi]]\n",
        "ranking_mi= pd.DataFrame([ranking_mi], columns=np.arange(1,31), index=['ranking']).T\n",
        "\n",
        "bag_names = []\n",
        "for name in X.columns:\n",
        "    if name not in cols:\n",
        "        bag_names.append('No')\n",
        "    else:\n",
        "        bag_names.append('Yes')\n",
        "        \n",
        "mutual_info_features = pd.DataFrame([bag_names], columns=X.columns, index=['selected'])\n",
        "\n",
        "X_train_mi, X_test_mi = X_train[:, cols_index], X_test[:, cols_index]"
      ],
      "execution_count": null,
      "outputs": []
    },
    {
      "cell_type": "code",
      "metadata": {
        "id": "-fOUOb1Mqm6V"
      },
      "source": [
        "mutual_info_features"
      ],
      "execution_count": null,
      "outputs": []
    },
    {
      "cell_type": "code",
      "metadata": {
        "scrolled": true,
        "id": "vICBxHd1qm6V"
      },
      "source": [
        "ranking_mi"
      ],
      "execution_count": null,
      "outputs": []
    },
    {
      "cell_type": "markdown",
      "metadata": {
        "id": "YvLzXjzPqm6W"
      },
      "source": [
        "Results are **very similar to those from f_regression and include those obtained during model interpretation**."
      ]
    },
    {
      "cell_type": "code",
      "metadata": {
        "id": "9wN4GKRSqm6W"
      },
      "source": [
        "train_accuracy=[]\n",
        "train_recall=[]\n",
        "train_precision=[]\n",
        "train_f1=[]\n",
        "\n",
        "cv_accuracy=[]\n",
        "cv_precision=[]\n",
        "cv_recall=[]\n",
        "cv_f1=[]\n",
        "\n",
        "test_accuracy=[]\n",
        "test_precision=[]\n",
        "test_recall=[]\n",
        "test_f1=[]\n",
        "\n",
        "datasets=[[X_train_mi, X_test_mi], [X_train, X_test]]\n",
        "\n",
        "for ix in range(len(models_names)):\n",
        "    \n",
        "    original_model=clone(clfs[ix])\n",
        "        \n",
        "    \n",
        "    for dataset in datasets:\n",
        "        \n",
        "        original_model.fit(dataset[0], y_train)\n",
        "        \n",
        "        #--Train scores\n",
        "        y_pred_train = original_model.predict(dataset[0])\n",
        "        train_accuracy.append(accuracy_score(y_train, y_pred_train))\n",
        "        train_recall.append(recall_score(y_train, y_pred_train))\n",
        "        train_precision.append(precision_score(y_train, y_pred_train))\n",
        "        train_f1.append(f1_score(y_train, y_pred_train))\n",
        "        \n",
        "        #--Validation scores\n",
        "        cv_results = cross_validate(original_model, dataset[0], y_train, scoring=[\"accuracy\", \"recall\", \"precision\", \"f1\"] , return_train_score=True)\n",
        "        cv_accuracy.append(abs(np.mean(cv_results['test_accuracy'])))\n",
        "        cv_recall.append(abs(np.mean(cv_results['test_recall'])))\n",
        "        cv_precision.append(abs(np.mean(cv_results['test_precision'])))\n",
        "        cv_f1.append(abs(np.mean(cv_results['test_f1'])))\n",
        "        \n",
        "        #--Test scores\n",
        "        y_pred_test = original_model.predict(dataset[1])\n",
        "        test_accuracy.append(accuracy_score(y_test, y_pred_test))\n",
        "        test_recall.append(recall_score(y_test, y_pred_test))\n",
        "        test_precision.append(precision_score(y_test, y_pred_test))\n",
        "        test_f1.append(f1_score(y_test, y_pred_test))\n",
        "\n"
      ],
      "execution_count": null,
      "outputs": []
    },
    {
      "cell_type": "code",
      "metadata": {
        "id": "6A2YKno8qm6W"
      },
      "source": [
        "index_names=['Logistic Regression MI', 'Logistic Regression', 'KNN Classifier MI', 'KNN Classifier', \n",
        "            'Decision Tree Classifier MI', 'Decision Tree Classifier', 'Neural Network Classifier MI', 'Neural Network Classifier',\n",
        "             'Random Forest Classifier MI', 'Random Forest Classifier'\n",
        "            ]\n",
        "\n",
        "mi_results = pd.DataFrame(list(zip(train_accuracy, train_recall, train_precision, train_f1, cv_accuracy, cv_recall,\n",
        "                                  cv_precision, cv_f1, test_accuracy, test_recall, test_precision, test_f1)), columns=[\"Train Accuracy\",\n",
        "                                                                                                       \"Train Recall\", \"Train Precision\", \"Train F1\", \n",
        "                                                                                                       \"Validation Accuracy\", \"Validation Recall\", \n",
        "                                                                                                       \"Validation Precision\",\"Validation F1\", \"Test Accuracy\", \n",
        "                                                                                                       \"Test Recall\", \"Test Precision\", \"Test F1\"])\n",
        "mi_results.index=index_names\n",
        "\n",
        "mi_results"
      ],
      "execution_count": null,
      "outputs": []
    },
    {
      "cell_type": "markdown",
      "metadata": {
        "id": "zNBQVKUwqm6X"
      },
      "source": [
        "<a id='BS'></a>\n",
        "#### <span style=\"color:#DB8AC4\">5.1.3 Wrapper Methods: Backward Selection</span>\n",
        "\n",
        "In ***backward elimination***, we start with the full model (including all the independent variables). In the first step, one feature is removed from the feature set in a round-robin (in turns) fashion and the performance of the algorithm is measured. The feature set that yields the best performance is retained. In the next step, a new feature is eliminated in a round-robin fashion and all combinations of features except the 2 eliminated are measured. The process continues until a **stop criteria** is accomplished. \n",
        "\n",
        "The algorithm works as follows:\n",
        "\n",
        "1. Define the **variable D** with the **number of features**.\n",
        "2. Define the **algorithm with which you will measure performance**: we know that Neuran Networks Classifier works well on our data,so we will choose it to check performance metrics.  In order to measure the performance of the model we will use accuracy score.\n",
        "3. Define a **feature selection method**: in a loop that consists in n iterations where n is the number of features and it goes from the maximum to the desired number of features we want to retain, a decision tree classifier is initially trained with all the features and provides a feature importance ranking. We select n-1 features (if we are in the first iteration, since n=30, we will select the first 29) and retain them, eliminating the remaining one. We update the columns variable with n-1 best features and go to the next iteration, repeating the process until it reaches the stop criteria. \n",
        "\n",
        "First, we are going to find which number of features provides the best performance metrics. Again, we will check on both Logistic Regression Classifier and Neural Network Classifier to confirm our selection."
      ]
    },
    {
      "cell_type": "code",
      "metadata": {
        "scrolled": true,
        "id": "oYRCoyKJqm6X"
      },
      "source": [
        "N, D = X_train.shape\n",
        "\n",
        "dt = DecisionTreeClassifier(random_state=2)\n",
        "\n",
        "cv_accuracy = []\n",
        "\n",
        "for i in [0,3]:\n",
        "    \n",
        "    X_train_dt = pd.DataFrame(X_train.copy(), columns=X.columns)\n",
        "    \n",
        "    model = clone(clfs[i])\n",
        "    cv_accuracy_i=[]\n",
        "    \n",
        "    #For n in descendent order from the highest dimension possible in our dataset\n",
        "    for n in range(D,1,-1):\n",
        "        \n",
        "        dt.fit(X_train_dt, y_train)\n",
        "        \n",
        "        feat_imp_= dt.feature_importances_\n",
        "        \n",
        "        ranking = (-feat_imp_).argsort()\n",
        "        \n",
        "        eliminated=ranking[-1]\n",
        "        \n",
        "        #Retain first n features and leave D-n+1 out\n",
        "        X_train_dt = X_train_dt.drop(X_train_dt.columns[eliminated], axis=1)\n",
        "\n",
        "        #-- fit on selected features\n",
        "        model.fit(X_train_dt,y_train)\n",
        "        #CV scores\n",
        "        cv_results = cross_validate(model, X_train_dt, y_train, scoring=[\"accuracy\"])\n",
        "        cv_accuracy_i.append(abs(np.mean(cv_results['test_accuracy'])))\n",
        "        \n",
        "    cv_accuracy.append(cv_accuracy_i)\n",
        "\n",
        "cv_accuracy[0].reverse()\n",
        "cv_accuracy[1].reverse()\n",
        "\n",
        "#Print best result\n",
        "print(\"\\033[1m\\nThe number of features which provides the highest cv accuracy for Logistic Regression is:\\033[0m\", cv_accuracy[0].index(max(cv_accuracy[0])) + 1)\n",
        "print(\"\\033[1m\\nThe number of features which provides the highest cv accuracy for Neural Networks is:\\033[0m\", cv_accuracy[1].index(max(cv_accuracy[1])) + 1)\n",
        "\n",
        "fig,axes =plt.subplots(1,2, figsize=(20,10))\n",
        "\n",
        "a1 = sns.pointplot(x=np.arange(1,30,1), y=cv_accuracy[0], color='#BF5A96', ax=axes[0] )\n",
        "a3 = sns.pointplot(x=np.arange(1,30,1), y=cv_accuracy[1], color='#BF5A96', ax=axes[1])\n",
        "\n",
        "a1.set(xlabel='# features', ylabel='accuracy', title=\"Logistic Regression\")\n",
        "a3.set(xlabel='# features', ylabel='accuracy', title=\"Neural Network\")\n",
        "\n",
        "plt.show()"
      ],
      "execution_count": null,
      "outputs": []
    },
    {
      "cell_type": "markdown",
      "metadata": {
        "id": "4VNUL6L0qm6Y"
      },
      "source": [
        "As we see, **validation scores increase for a number of features lower than the original one**. In the case of Logistic Regression, by means of this method it is possible to obtain better performance metrics for number of features equal to 6 than for number of features equal to 30. In the case of Neural Networks, this number elevates to 15."
      ]
    },
    {
      "cell_type": "code",
      "metadata": {
        "id": "xB5pBKWEqm6Y"
      },
      "source": [
        "N, D = X_train.shape\n",
        "\n",
        "columns=np.arange(0, X.shape[1])\n",
        "\n",
        "X_train_dt = pd.DataFrame(X_train.copy(), columns=X.columns)\n",
        "\n",
        "#From 30 to a given number, we remove features iteratively, one at each step\n",
        "for n in range(D,5, -1):\n",
        "    dt.fit(X_train_dt, y_train)\n",
        "    feat_imp_= dt.feature_importances_\n",
        "    ranking = (-feat_imp_).argsort()\n",
        "    eliminated=ranking[-1]\n",
        "    #Retain first n features and leave D-n+1 out\n",
        "    X_train_dt = X_train_dt.drop(X_train_dt.columns[eliminated], axis=1)\n",
        "\n",
        "chosen_dt=[]\n",
        "for i in range(len(X.columns)):\n",
        "    if X.columns[i] in X_train_dt.columns:\n",
        "        chosen_dt.append(i)\n",
        "    \n",
        "X_train_bs, X_test_bs = X_train[:, chosen_dt], X_test[:, chosen_dt]"
      ],
      "execution_count": null,
      "outputs": []
    },
    {
      "cell_type": "code",
      "metadata": {
        "id": "GxNLS3svqm6Z"
      },
      "source": [
        "bag_names = []\n",
        "for name in range(0,30):\n",
        "    if name not in chosen_dt:\n",
        "        bag_names.append('No')\n",
        "    else:\n",
        "        bag_names.append('Yes')\n",
        "        \n",
        "bs_features = pd.DataFrame([bag_names], columns=X.columns, index=['selected'])\n",
        "bs_features"
      ],
      "execution_count": null,
      "outputs": []
    },
    {
      "cell_type": "code",
      "metadata": {
        "id": "Sl4TSeDKqm6Z"
      },
      "source": [
        "train_accuracy=[]\n",
        "train_recall=[]\n",
        "train_precision=[]\n",
        "train_f1=[]\n",
        "\n",
        "cv_accuracy=[]\n",
        "cv_precision=[]\n",
        "cv_recall=[]\n",
        "cv_f1=[]\n",
        "\n",
        "test_accuracy=[]\n",
        "test_precision=[]\n",
        "test_recall=[]\n",
        "test_f1=[]\n",
        "\n",
        "datasets=[[X_train_bs, X_test_bs], [X_train, X_test]]\n",
        "\n",
        "for ix in range(len(models_names)):\n",
        "    \n",
        "    original_model=clone(clfs[ix])\n",
        "        \n",
        "    \n",
        "    for dataset in datasets:\n",
        "        \n",
        "        original_model.fit(dataset[0], y_train)\n",
        "        \n",
        "        #--Train scores\n",
        "        y_pred_train = original_model.predict(dataset[0])\n",
        "        train_accuracy.append(accuracy_score(y_train, y_pred_train))\n",
        "        train_recall.append(recall_score(y_train, y_pred_train))\n",
        "        train_precision.append(precision_score(y_train, y_pred_train))\n",
        "        train_f1.append(f1_score(y_train, y_pred_train))\n",
        "        \n",
        "        #--Validation scores\n",
        "        cv_results = cross_validate(original_model, dataset[0], y_train, scoring=[\"accuracy\", \"recall\", \"precision\", \"f1\"] , return_train_score=True)\n",
        "        cv_accuracy.append(abs(np.mean(cv_results['test_accuracy'])))\n",
        "        cv_recall.append(abs(np.mean(cv_results['test_recall'])))\n",
        "        cv_precision.append(abs(np.mean(cv_results['test_precision'])))\n",
        "        cv_f1.append(abs(np.mean(cv_results['test_f1'])))\n",
        "        \n",
        "        #--Test scores\n",
        "        y_pred_test = original_model.predict(dataset[1])\n",
        "        test_accuracy.append(accuracy_score(y_test, y_pred_test))\n",
        "        test_recall.append(recall_score(y_test, y_pred_test))\n",
        "        test_precision.append(precision_score(y_test, y_pred_test))\n",
        "        test_f1.append(f1_score(y_test, y_pred_test))\n",
        "\n"
      ],
      "execution_count": null,
      "outputs": []
    },
    {
      "cell_type": "code",
      "metadata": {
        "id": "DUgJdfD7qm6a"
      },
      "source": [
        "index_names=['Logistic Regression BS', 'Logistic Regression', 'KNN Classifier BS', 'KNN Classifier', \n",
        "            'Decision Tree Classifier BS', 'Decision Tree Classifier', 'Neural Network Classifier BS', 'Neural Network Classifier' \n",
        "            , 'Random Forest Classifier BS', 'Random Forest Classifier']\n",
        "\n",
        "bs_results = pd.DataFrame(list(zip(train_accuracy, train_recall, train_precision, train_f1, cv_accuracy, cv_recall,\n",
        "                                  cv_precision, cv_f1, test_accuracy, test_recall, test_precision, test_f1)), columns=[\"Train Accuracy\",\n",
        "                                                                                                       \"Train Recall\", \"Train Precision\", \"Train F1\", \n",
        "                                                                                                       \"Validation Accuracy\", \"Validation Recall\", \n",
        "                                                                                                       \"Validation Precision\",\"Validation F1\", \"Test Accuracy\", \n",
        "                                                                                                       \"Test Recall\", \"Test Precision\", \"Test F1\"])\n",
        "bs_results.index=index_names\n",
        "\n",
        "bs_results"
      ],
      "execution_count": null,
      "outputs": []
    },
    {
      "cell_type": "markdown",
      "metadata": {
        "id": "6-eDOU9Dqm6b"
      },
      "source": [
        "#### <span style=\"color:#DB8AC4\">Conclusions on Feature Selection Methods</span>\n",
        "Results for Neural Networks Classifier:\n",
        "\n",
        "|      |   K for max cv accuracy |   Max cv accuracy obtained |   CV accuracy for k=1 | Feature Selected     | Features Selected for k=5                                                               |   CV accuracy for k=5 |\n",
        "|:-------------------|---------------------:|------------------------:|-------------------:|:---------------------|:----------------------------------------------------------------------------------------|-------------------:|\n",
        "| F-score            |                   26 |                0.986916 |           0.921495 | Concave_points_worst | Concave_points_worst, concave_points_mean, perimeter_worst, radius_worst_perimeter_mean |           0.953271 |\n",
        "| Mutual Information |                   27 |                0.985047 |           0.91028  | Perimeter_worst      | Perimter_worst, area_worst, concave_points_worst, radius_worst, concave_points_meean    |           0.953271 |\n",
        "| Backward Selection |                   15 |                0.979439 |           0.930841 | Concave_points_meean | Concave_points_mean, radius_worst, texture_worst, area_worst, concaviry_worst           |           0.971963 |\n",
        "\n",
        "Results for Logistic Regression Classifier:\n",
        "\n",
        "|       |   K for max cv accuracy |   Max cv accuracy obtained |   CV accuracy for k=1 | Feature Selected for k=1   | Features Selected for k=5                                                               |   CV accuracy for k=5 |\n",
        "|:-------------------|---------------------:|------------------------:|-------------------:|:---------------------------|:----------------------------------------------------------------------------------------|-------------------:|\n",
        "| F-score            |                   27 |                0.985047 |           0.919626 | Concave_points_worst       | Concave_points_worst, concave_points_mean, perimeter_worst, radius_worst_perimeter_mean |           0.953271 |\n",
        "| Mutual Information |                   24 |                0.981308 |           0.915888 | Perimeter_worst            | Perimter_worst, area_worst, concave_points_worst, radius_worst, concave_points_meean    |           0.951402 |\n",
        "| Backward Selection |                    6 |                0.981308 |           0.928972 | Concave_points_meean       | Concave_points_mean, radius_worst, texture_worst, area_worst, concaviry_worst           |           0.973832 |\n",
        "\n",
        "From these tables and the results of each of the three techniques on each of the models, we can conclude that:\n",
        "- Accuracy for just 1 feature selected was, approximately 0.9. among all models.\n",
        "\n",
        "- Models with reduced number of features can be able to perform better than that with all the original features.\n",
        "\n",
        "- The highest accuracy score with the highest reduction in #features  was achieved by Backward Feature Selection. With only five features, cv accuracy score was 0.97 for both Neural Network and Logistic Regression Classifiers, and 0.93/0.92 for #features=1, respectively. In general, we obtained very similar performance metrics to those of the original model with just 5 features.\n",
        "\n",
        "- Backward Feature Selection seems to work better on our data.\n",
        "\n",
        "Based on results, features concave_points_mean, concave_points_worst and worst values for area, radius and perimeter seem to be relevant for our analysis. \n",
        "\n",
        "\n",
        "<a id='FE'></a>\n",
        "### <span style=\"color:slateblue\"> 5.2 Feature Extraction</span>\n",
        "\n",
        "First of all, we will start explaining some of the basics of **feature extraction** and **dimensionality reduction**. Feature extraction aims to reduce the number of features in the dataset by creating new features from the existing ones (and then discarding the original features). This new reduced set of features should be able to summarize most of the information contained in the original set of features. \n",
        "\n",
        "The difference between feature selection and feature extraction is that feature selection aims to rank the importance of the existing features in the dataset and discard less important ones. No features are created and it takes into account labels. On the other hand, feature extraction methods do not use labels but only independent features and aims to create new features by combining existing ones.\n",
        "\n",
        "Dimensionality reduction techniques allow to transform data from a high-dimensional space into a low-dimensional space so the low-dimensional space retains some meaningful properties of the original data. It allows to eliminate redundant information and therefore avoid some of the issues caused by the **curse of dimensionality**. \n",
        "\n",
        "**PCA (Principal Component Analysis)** is an unsupervised orthogonal linear transformation technique that aims to find the directions of maximum variance or minimum projection error in high-dimensional data and projects it onto a new subspace with equal or fewer dimensions than the original one. \n",
        "\n",
        "As an example, if we had three features, we could obtain three principal components, PC1, PC2 and PC3. If PC3 is the principal component that contributes the least to the total variance (lowest explained variance), it could be rejected and data would be projected onto a two-dimensional dataset where PC1 and PC2 are the new features. **The maximum number components is equal to the number of variables in the original dataset**. \n",
        "\n",
        "PCA is really sensitive to scaling. It measures variance depending on distances of features to a center. If variables have different scales, it will be difficult for the algorithm to calculate distances properly. For that reason, we will scale our data using **standardization**, so all the variables to have zero mean and unit standard deviation.\n",
        "\n",
        "In order to obtain the most relevant PCAs, the algorithm should follow the next steps:\n",
        "1. **Scale data**: if data is not scaled, distances could be wrongly calculated and therefore, variances wrongly obtained as well. \n",
        "2. Obtain the **Covariance Matrix**.\n",
        "3. Obtain the **eigenvectors** (the principal components) **and** the corresponding **eigenvalues** (the magnitude of the principal component). Eigenvectors represent the directions of maximum variance. \n",
        "4. **Sort eigenvalues** in descending order and **choose the k eigenvectors** that correspond with the **k largest eigenvalues** where k is the number of dimensions of the new feature subspace (k<=d).\n",
        "5. **Project data into the new k-dimensional feature subspace**. \n",
        "\n",
        "In order to select the optimal number of components we will follow the next steps:\n",
        "\n",
        "1. For each iteration n in a range (1,n) where n is equal to the maximum number of features, we will perform PCA with k=n+1 (since range only gets to n-1) principal components selected. \n",
        "2. We will train a model and obtain performance metric **accuracy** through by  cross validation for each number k. In this case, as we did before, we will choose Logistic Regression and Neural Networks classifiers. \n",
        "3. Finally, once performance metrics of all models have been obtained, we will then plot the results and compare them. \n",
        "\n",
        "The **objective of PCA** is **not only to improve the model performance but to obtain similar results with a lower dimension**, which will help the model to not to overfit and also to reduce computation time. Hence, we will look at PCA from the perspective of improving or providing similar results."
      ]
    },
    {
      "cell_type": "code",
      "metadata": {
        "scrolled": true,
        "id": "f8VU8yubqm6c"
      },
      "source": [
        "from sklearn.decomposition import PCA\n",
        "\n",
        "cv_accuracy = [] \n",
        "cv_ev=[]\n",
        "\n",
        "n_components_max = X.shape[1]\n",
        "\n",
        "for n in [0,3]:\n",
        "    \n",
        "    print(\"\")\n",
        "    print(\"==\"+str(models_names[n]+\"===\"))\n",
        "    \n",
        "    cv_accuracy_i=[]\n",
        "    model=clone(clfs[n])\n",
        "    ev_i=[]\n",
        "    \n",
        "    for i in range(1, n_components_max + 1):\n",
        "    \n",
        "        #Obtain PCA components for this split and apply dimensionality reduction\n",
        "        pca = PCA(n_components=i, random_state = 2).fit(X_train)\n",
        "        ev_i.append(np.sum(pca.explained_variance_ratio_))\n",
        "        X_train_pca = pca.transform(X_train)\n",
        "        \n",
        "        #Train the model\n",
        "        model.fit(X_train_pca, y_train)\n",
        "        \n",
        "        #CV scores\n",
        "        cv_results = cross_validate(model, X_train_pca, y_train, scoring=[\"accuracy\"])\n",
        "        cv_accuracy_i.append(abs(np.mean(cv_results['test_accuracy'])))\n",
        "    \n",
        "        print('# PCA '+ str(i)+ ' accuracy ' + str(cv_accuracy_i[i-1]) +', and explained variance is ' +\n",
        "         str(ev_i[i-1]))\n",
        "    print(\"\")\n",
        "    cv_accuracy.append(cv_accuracy_i)\n",
        "    cv_ev.append(ev_i)\n",
        "\n",
        "#Print best result\n",
        "print(\"\\033[1m\\nThe number of PC which provides the highest cv accuracy for Logistic Regression is:\\033[0m\", cv_accuracy[0].index(max(cv_accuracy[0])) + 1)\n",
        "print(\"\\033[1m\\nThe number of PC which provides the highest cv accuracy for Neural Networks is:\\033[0m\", cv_accuracy[1].index(max(cv_accuracy[1])) + 1)\n",
        "    \n",
        "plt.bar([i for i in range(1,D+1,1)], cv_ev[0], alpha=0.5,\n",
        "        align='center', label='explained variance', color='#BF5A96')\n",
        "plt.plot([i for i in range(1,D+1,1)],cv_accuracy[0],'-o', label = 'accuracy')\n",
        "plt.xlabel('# features')\n",
        "plt.xticks(range(1,31))\n",
        "plt.ylabel('r2')\n",
        "plt.legend(bbox_to_anchor=(1.05, 1),loc='upper_right')\n",
        "plt.show()\n",
        "\n",
        "plt.bar([i for i in range(1,D+1,1)], cv_ev[1], alpha=0.5,\n",
        "        align='center', label='explained variance', color='#BF5A96')\n",
        "plt.plot([i for i in range(1,D+1,1)],cv_accuracy[1],'-o', label = 'accuracy')\n",
        "plt.xlabel('# features')\n",
        "plt.xticks(range(1,31))\n",
        "plt.legend(bbox_to_anchor=(1.05, 1),loc='upper_right')\n",
        "plt.show()"
      ],
      "execution_count": null,
      "outputs": []
    },
    {
      "cell_type": "markdown",
      "metadata": {
        "id": "F9RibJhSqm6d"
      },
      "source": [
        "For **#PC=9** we got the best accuracy scores for Logistic Regression and **#PC=14** for Neural Network Classifiers. Furthermore,#PC=9 explains **94,17% of the total variance** of the data. This can be equivalent to saying that you still know 94,17% of your data with these first 9 principal components. \n",
        "\n",
        "This is a great result. It is telling us that, **by reducing the number of features from 30 to 9 principal components**, we get a **high accuracy score**, we **barely lose information** about our data, we **reduce computation times and storage**, and we obtain **independent features (no collinearity)**, but at the cost of **remove multicollinearity**. With principal components is harder to identify how features contribute to the prediction of our model. The most common option is to get the principal components that most affect the prediction and the corresponding eigenvectors to see how features contribute to these eigenvectors.\n",
        "\n",
        "Now we will proceed to see how PCA affects the overall performance of our models, comparing it with that of the original model."
      ]
    },
    {
      "cell_type": "code",
      "metadata": {
        "id": "ZiSCJxWtqm6d"
      },
      "source": [
        "#Obtain PCA transformation figures in order to transform X_train and X_test\n",
        "pca = PCA(n_components=8, random_state = 2).fit(X_train)\n",
        "X_train_pca = pca.transform(X_train)\n",
        "X_test_pca = pca.transform(X_test)"
      ],
      "execution_count": null,
      "outputs": []
    },
    {
      "cell_type": "code",
      "metadata": {
        "id": "fBov4eaTqm6d"
      },
      "source": [
        "train_accuracy=[]\n",
        "train_recall=[]\n",
        "train_precision=[]\n",
        "train_f1=[]\n",
        "\n",
        "cv_accuracy=[]\n",
        "cv_precision=[]\n",
        "cv_recall=[]\n",
        "cv_f1=[]\n",
        "\n",
        "test_accuracy=[]\n",
        "test_precision=[]\n",
        "test_recall=[]\n",
        "test_f1=[]\n",
        "\n",
        "datasets=[[X_train_pca, X_test_pca], [X_train, X_test]]\n",
        "\n",
        "for ix in range(len(models_names)):\n",
        "    \n",
        "    original_model=clone(clfs[ix])\n",
        "        \n",
        "    \n",
        "    for dataset in datasets:\n",
        "        \n",
        "        original_model.fit(dataset[0], y_train)\n",
        "        \n",
        "        #--Train scores\n",
        "        y_pred_train = original_model.predict(dataset[0])\n",
        "        train_accuracy.append(accuracy_score(y_train, y_pred_train))\n",
        "        train_recall.append(recall_score(y_train, y_pred_train))\n",
        "        train_precision.append(precision_score(y_train, y_pred_train))\n",
        "        train_f1.append(f1_score(y_train, y_pred_train))\n",
        "        \n",
        "        #--Validation scores\n",
        "        cv_results = cross_validate(original_model, dataset[0], y_train, scoring=[\"accuracy\", \"recall\", \"precision\", \"f1\"] , return_train_score=True)\n",
        "        cv_accuracy.append(abs(np.mean(cv_results['test_accuracy'])))\n",
        "        cv_recall.append(abs(np.mean(cv_results['test_recall'])))\n",
        "        cv_precision.append(abs(np.mean(cv_results['test_precision'])))\n",
        "        cv_f1.append(abs(np.mean(cv_results['test_f1'])))\n",
        "        \n",
        "        #--Test scores\n",
        "        y_pred_test = original_model.predict(dataset[1])\n",
        "        test_accuracy.append(accuracy_score(y_test, y_pred_test))\n",
        "        test_recall.append(recall_score(y_test, y_pred_test))\n",
        "        test_precision.append(precision_score(y_test, y_pred_test))\n",
        "        test_f1.append(f1_score(y_test, y_pred_test))\n",
        "\n"
      ],
      "execution_count": null,
      "outputs": []
    },
    {
      "cell_type": "code",
      "metadata": {
        "scrolled": true,
        "id": "TTqv_8Tzqm6e"
      },
      "source": [
        "index_names=['Logistic Regression PCA', 'Logistic Regression', 'KNN Classifier PCA', 'KNN Classifier', \n",
        "            'Decision Tree Classifier PCA', 'Decision Tree Classifier', 'Neural Network Classifier PCA', 'Neural Network Classifier',\n",
        "             'Random Forest Classifier PCA', 'Random Forest Classifier'\n",
        "            ]\n",
        "\n",
        "PCA_results = pd.DataFrame(list(zip(train_accuracy, train_recall, train_precision, train_f1, cv_accuracy, cv_recall,\n",
        "                                  cv_precision, cv_f1, test_accuracy, test_recall, test_precision, test_f1)), columns=[\"Train Accuracy\",\n",
        "                                                                                                       \"Train Recall\", \"Train Precision\", \"Train F1\", \n",
        "                                                                                                       \"Validation Accuracy\", \"Validation Recall\", \n",
        "                                                                                                       \"Validation Precision\",\"Validation F1\", \"Test Accuracy\", \n",
        "                                                                                                       \"Test Recall\", \"Test Precision\", \"Test F1\"])\n",
        "PCA_results.index=index_names\n",
        "\n",
        "PCA_results"
      ],
      "execution_count": null,
      "outputs": []
    },
    {
      "cell_type": "markdown",
      "metadata": {
        "id": "bLjBj-7pqm6e"
      },
      "source": [
        "**PCA allows to obtain virtually the same results as the original model** by reducing the dimensionality of the dataset form 30 to 8, being 8 the principal components and 30 the original features. In the case of Neural Networks, it provides better validation scores, which mean that, in general, the model performs better on unseen data with PCA.\n",
        "\n",
        "**Best cv performance metrics are obtained for Neural Network Classifier**.\n",
        "\n",
        "Now we will see the contribution of each feature for each of the principal components. To see this, we will obtain the **absolute values of the eigenvectors for each PC corresponding to each of the features**, and rank them in descending order to see feature importance."
      ]
    },
    {
      "cell_type": "code",
      "metadata": {
        "scrolled": true,
        "id": "TLGgu1C1qm6e"
      },
      "source": [
        "features =[i for i in X.columns] \n",
        "\n",
        "ranking = []\n",
        "\n",
        "for element in abs(pca.components_):\n",
        "    sorted_index=np.argsort(-element)\n",
        "    ranking_i=[]\n",
        "    for i in sorted_index:\n",
        "        ranking_i.append(features[i])\n",
        "    ranking.append(ranking_i)  \n",
        "    \n",
        "for i in range(0,8):\n",
        "    print(\"\\033[1mRanking of feature importance for PC\" + str(i+1)+ \" is: \\033[0m\"+ str(ranking[i]))\n",
        "    print(\" \")"
      ],
      "execution_count": null,
      "outputs": []
    },
    {
      "cell_type": "code",
      "metadata": {
        "id": "6vfFKZdcqm6f"
      },
      "source": [
        "pca_eigenvectors = pd.DataFrame(pca.components_[:8], columns=X.columns, index=np.arange(1,9)).abs()\n",
        "plt.figure(figsize=(12, 9))\n",
        "ax = sns.heatmap(pca_eigenvectors, linewidths=.6, cmap='RdPu')"
      ],
      "execution_count": null,
      "outputs": []
    },
    {
      "cell_type": "markdown",
      "metadata": {
        "id": "aGESbj3Zqm6f"
      },
      "source": [
        "First principal component points in the direction of maximum variance. As we can see, and consistently with previous conclusions from feature importance, **mean and worst values for concavity and concave points contribute the most to this component, so we could say that these features contribute to the most to the maximum variance of the data.**\n",
        "\n",
        "PC2 is highly determined by **fractal dimension mean, se and worst values**. For both principal components, mean and worst values for **area, perimeter and radius** are also among the highest contributors.\n",
        "\n",
        "**Standard Deviation values for texture, concavity and smoothness** tend to be among the most contributors for principal components."
      ]
    },
    {
      "cell_type": "markdown",
      "metadata": {
        "id": "VCVjVooxqm6f"
      },
      "source": [
        "<a id='final'></a>\n",
        "## <span style=\"color:darkslateblue\">6. Final Model Selection </span>\n",
        "\n",
        "Now we have obtained metrics for each of the **feature selection methods** and for **feature extraction PCA technique**, we are going to compare results obtained to see which works the best for our results.\n",
        "\n",
        "Throughout the analysis, we have seen that **Neural Network and Logistic Regression Classifiers** lead to **better performance metrics** than the rest of the models, being neural networks the one with the best cv scores. This is, this model works slightly better than the others on unseen data. Therefore, we will compare performance metrics for this model."
      ]
    },
    {
      "cell_type": "code",
      "metadata": {
        "id": "ZNIR6i1tqm6g"
      },
      "source": [
        "neural_networks_results = pd.concat([ht_results.iloc[7],\n",
        "                                    ht_results.iloc[6],  \n",
        "                                    fs_results.iloc[6],\n",
        "                                    mi_results.iloc[6],\n",
        "                                    bs_results.iloc[6],\n",
        "                                    PCA_results.iloc[6]\n",
        "                                    ], axis=1)"
      ],
      "execution_count": null,
      "outputs": []
    },
    {
      "cell_type": "code",
      "metadata": {
        "id": "G_8tezu2qm6g"
      },
      "source": [
        "neural_networks_results"
      ],
      "execution_count": null,
      "outputs": []
    },
    {
      "cell_type": "markdown",
      "metadata": {
        "id": "HcuyP03iqm6h"
      },
      "source": [
        "**Feature selection methods for #features=5 and PCA with 8 PCs*\n",
        "\n",
        "We see that **scores are approximately the same among different techniques applied to neural networks algorithm**. With hyperparameter tuning, without reducing the dimensionality of the dataset, we obtained the best validation scores. If we looked for the model that provides the best accuracy, we would choose this model.  \n",
        "\n",
        "On the other hand, if we wanted to reduce the number of features, we would rather choose one of the feature selection methods or feature extraction with PCA. We have seen that all techniques work well, but the ones which allow to reduce the maximum number of features by obtaining high scores are **Backward Selection and PCA**. If we desired to maintain interpretability of the model, we would choose Backward Selection. If we wanted to reduce dimensionality of the dataset so that we could visualize it/reduce storage/reduce effects of collinearity, we could use PCA. "
      ]
    },
    {
      "cell_type": "markdown",
      "metadata": {
        "id": "HgF5Jhg6qm6h"
      },
      "source": [
        "<br>\n",
        "\n",
        "<a id='Conclusionf'></a>\n",
        "## <span style=\"color:darkslateblue\">7. **Conclusion**</span>\n",
        "\n",
        "Based on the results obtained throughout the analysis of the data, we could assert that the **Breast Cancer Wisconsin (Diagnostic) Dataset has an excellent quality for its purpose**:\n",
        "1. Data has **no missing values**: neither explicit (NaN) nor implicit (values that seem to be missing values) missing values were present in the dataset.\n",
        "2. It apparently **does not have outliers**: the elimination of those values firstly considered as outliers for being far from the population didn't change neither the results nor the distribution of the data. Moreover, by consulting available literature, we didn't find almost any paper where outliers were handled.\n",
        "3. With **only two features** we are able to obtain a **validation accuracy and f1 of approximately 0.9**. By scatter plotting pairs of variables, we could clearly distinguish two groups of observations corresponding to their respective diagnosis value. \n",
        "4. From analysis and visualization, we could crearly see that **values for malignant samples are higher than those from benignant ones**. This provides us very useful information with respect to the behavior of data between these two types of tissues, and for further analysis and interpretation of the results. By simply plotting histograms for both diagnostics, we can see how differents their distributions are. \n",
        "\n",
        "There is **one downside to point out and is the fact that features are highly correlated with each other**. This may be a problem for linear models to adjust coefficients properly. Even with high correlation among features, we still obtained pretty good results for our models.\n",
        "\n",
        "Among models Logistic Regression, KNN Classifier, Decision Tree Classifier, Neural Networks Classifier and Random Forest Classifier, all the models obtained, at least, **validation accuracy score 0.9**, being **Neural Networks Classifier** the model that showed a slightly better cv scores over the rest of the models. This is a great accuracy score, taking into account that basic pre-processing of the data was needed, and that this value is also for non-tuned models. Therefore, **data must have been correctly collected and integrated so that we can obtain these results**.\n",
        "\n",
        "<br>\n",
        "<br>\n",
        "\n",
        "|                                 |   Train Accuracy |   Train Recall |   Train Precision |   Train F1 |   Validation Accuracy |   Validation Recall |   Validation Precision |   Validation F1 |   Test Accuracy |   Test Recall |   Test Precision |   Test F1 |\n",
        "|:--------------------------------|-----------------:|---------------:|------------------:|-----------:|----------------------:|--------------------:|-----------------------:|----------------:|----------------:|--------------:|-----------------:|----------:|\n",
        "| Logistic Regression Tuned       |         0.983178 |       0.974074 |          0.992453 |   0.983178 |              0.981308 |            0.974074 |               0.988954 |        0.981376 |        0.972067 |      0.954023 |         0.988095 |  0.97076  |\n",
        "| Logistic Regression             |         0.988785 |       0.985185 |          0.992537 |   0.988848 |              0.979439 |            0.974074 |               0.985582 |        0.979607 |        0.972067 |      0.965517 |         0.976744 |  0.971098 |\n",
        "| KNN Classifier Tuned            |         0.979439 |       0.985185 |          0.974359 |   0.979742 |              0.97757  |            0.985185 |               0.971457 |        0.978041 |        0.938547 |      0.965517 |         0.913043 |  0.938547 |\n",
        "| KNN Classifier                  |         0.985047 |       0.988889 |          0.981618 |   0.98524  |              0.973832 |            0.985185 |               0.964381 |        0.974473 |        0.949721 |      0.954023 |         0.943182 |  0.948571 |\n",
        "| Decision Tree Classifier Tuned  |         0.960748 |       0.966667 |          0.956044 |   0.961326 |              0.940187 |            0.966667 |               0.920372 |        0.942373 |        0.927374 |      0.965517 |         0.893617 |  0.928177 |\n",
        "| Decision Tree Classifier        |         1        |       1        |          1        |   1        |              0.940187 |            0.955556 |               0.928992 |        0.941653 |        0.938547 |      0.954023 |         0.922222 |  0.937853 |\n",
        "| Neural Network Classifier Tuned |         0.986916 |       0.981481 |          0.992509 |   0.986965 |              0.985047 |            0.981481 |               0.988889 |        0.985115 |        0.977654 |      0.977011 |         0.977011 |  0.977011 |\n",
        "| Neural Network Classifier       |         0.998131 |       0.996296 |          1        |   0.998145 |              0.981308 |            0.981481 |               0.981878 |        0.981546 |        0.98324  |      0.977011 |         0.988372 |  0.982659 |\n",
        "| Random Forest Classifier Tuned  |         0.986916 |       0.985185 |          0.988848 |   0.987013 |              0.960748 |            0.966667 |               0.957361 |        0.961414 |        0.944134 |      0.965517 |         0.923077 |  0.94382  |\n",
        "| Random Forest Classifier        |         1        |       1        |          1        |   1        |              0.964486 |            0.962963 |               0.967318 |        0.964786 |        0.955307 |      0.977011 |         0.934066 |  0.955056 |\n",
        "\n",
        "\n",
        "<br>\n",
        "<br>\n",
        "\n",
        "As we can also see, **hyperparameter tuning didn't showed a dramatic improvement in performance metrics**. In fact, train scores didn't overcame original model scores. It's possible that tuning process could be improved in order to show a greater effect. Nonetheless, validation scores were improved for all the models.\n",
        "\n",
        "When applying **feature selection techniques**, we found out that we could obtain slightly improved validation scores by **reducing the number of features**. This is, there are **some features** that **were irrelevant and probably introducing bias in our model**. We also saw that with just 1 feature we were able to get about 90% validation accuracy. \n",
        "\n",
        "Among the three techniques, Backward Feature selection allowed to get higher scores by reducing the number of features by a greater extent.\n",
        "\n",
        "Based on the results obtained by each model, we can say that features **concave_points_mean, concave_points_worst and worst values for area, radius and perimeter seem to be relevant for our analysis**, since they were present among the first five features selected by each model. \n",
        "\n",
        "With only five features, cv accuracy score was 0.97 for both Neural Network and Logistic Regression Classifiers. This improves the results for the [**most voted feature selection notebook on Breast Cancer Wisconsin (Diagnostic) Dataset**](https://www.kaggle.com/kanncaa1/feature-selection-and-data-visualization), in which a feature selection was performed with different methods: **selection between correlated features to eliminate multicolinerity, chi2, recursive feature elimination (RFE), tree based feature selection.** With these methods, it has obtained a maximum accuracy of 95% with Random Forest Classifier and 5 features selected. Some of the features that frequently repeated among the selected were: **area_mean, concavity_mean, concavity_worst, and area_se**. \n",
        "\n",
        "It seems that **worst and mean values** predominate over se values, so these values **may be of special importance when determining a diagnosis**. We can also notice that mean and worst values for concavity and concave points seem to be frequent among the features selected, therefore these features may be of special importance for the analysis.\n",
        "\n",
        "When performing **PCA**, cv scores remained high by reducing drastically the number of components. Therefore, PCA is a good technique for reducing dimensionality of the dataset by maintaining performance of the model similar to the original one with all features. PCA may also be interesting to **reduce computation times** and **storage**. The downside of this method is that we reduce interpretability of the model.\n",
        "\n",
        "We obtained very similar results to those of [**this notebook, again among the most voted**](https://www.kaggle.com/mirichoi0218/ann-making-model-for-binary-classification), with respect of Neural Networks Classifier. In this notebook, first 10 PCs were selected, obtaining a cv accuracy score of 0.98995 and test score 0.953216, while we got a cv accuracy score of 0.979 and test score of 0.983. \n",
        "\n",
        "Therefore, we can conclude that, by significantly reducing dimensionality of the dataset, we can obtain pretty good results, even better than those of the original dataset. This way, it can be induced that the dataset contains some irrelevant/redundant features, and that **PCA and Feature Selection Methods such as those based on F-score, Mutual Information and Backward Selection work well on our data.**"
      ]
    }
  ]
}